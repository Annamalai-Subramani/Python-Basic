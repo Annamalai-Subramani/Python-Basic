{
 "cells": [
  {
   "cell_type": "markdown",
   "id": "b53c60d1",
   "metadata": {},
   "source": [
    "# variables"
   ]
  },
  {
   "cell_type": "code",
   "execution_count": null,
   "id": "c1e95374",
   "metadata": {},
   "outputs": [],
   "source": [
    "car=23\n",
    "print(car)"
   ]
  },
  {
   "cell_type": "code",
   "execution_count": null,
   "id": "4a23e9c1",
   "metadata": {},
   "outputs": [],
   "source": [
    "2+5"
   ]
  },
  {
   "cell_type": "code",
   "execution_count": 1,
   "id": "b70ce17f",
   "metadata": {},
   "outputs": [
    {
     "ename": "SyntaxError",
     "evalue": "invalid syntax (262324141.py, line 1)",
     "output_type": "error",
     "traceback": [
      "\u001b[1;36m  Cell \u001b[1;32mIn[1], line 1\u001b[1;36m\u001b[0m\n\u001b[1;33m    *= 5\u001b[0m\n\u001b[1;37m    ^\u001b[0m\n\u001b[1;31mSyntaxError\u001b[0m\u001b[1;31m:\u001b[0m invalid syntax\n"
     ]
    }
   ],
   "source": [
    "*= 5\n",
    "print(*)\n",
    "# variable we cannot store symbol,starting with number,no gaps but we use _"
   ]
  },
  {
   "cell_type": "code",
   "execution_count": null,
   "id": "024f5fe6",
   "metadata": {},
   "outputs": [],
   "source": [
    "you_tube=67\n",
    "print(you_tube)"
   ]
  },
  {
   "cell_type": "code",
   "execution_count": null,
   "id": "4b929228",
   "metadata": {},
   "outputs": [],
   "source": [
    "car=65\n",
    "CAR=89\n",
    "print(car)"
   ]
  },
  {
   "cell_type": "code",
   "execution_count": null,
   "id": "c2ff5d7a",
   "metadata": {},
   "outputs": [],
   "source": [
    "print(CAR)\n",
    "# python is a case sensitive"
   ]
  },
  {
   "cell_type": "code",
   "execution_count": null,
   "id": "dd20b11f",
   "metadata": {},
   "outputs": [],
   "source": [
    "xcar$=56\n",
    "print(xcar$)"
   ]
  },
  {
   "cell_type": "markdown",
   "id": "91e97247",
   "metadata": {},
   "source": [
    "# keyword"
   ]
  },
  {
   "cell_type": "code",
   "execution_count": null,
   "id": "a18626f3",
   "metadata": {},
   "outputs": [],
   "source": [
    "import keyword\n",
    "keyword.kwlist\n",
    "# this keywords cannot be usrd as variable name\n",
    "# keyword is a library"
   ]
  },
  {
   "cell_type": "markdown",
   "id": "60c0f60a",
   "metadata": {},
   "source": [
    "# identifiers\n",
    "\n",
    "identifiers used to variable,functions,class, structure,union\n",
    "it is not a keyword"
   ]
  },
  {
   "cell_type": "markdown",
   "id": "dfd94182",
   "metadata": {},
   "source": [
    "# operators\n",
    "\n",
    "2+3=5\n",
    "2 and 3 are operands and = is a operator"
   ]
  },
  {
   "cell_type": "markdown",
   "id": "27981281",
   "metadata": {},
   "source": [
    "# Arithmemtic operator\n",
    "\n"
   ]
  },
  {
   "cell_type": "code",
   "execution_count": 3,
   "id": "df93909e",
   "metadata": {},
   "outputs": [
    {
     "data": {
      "text/plain": [
       "(10, 20)"
      ]
     },
     "execution_count": 3,
     "metadata": {},
     "output_type": "execute_result"
    }
   ],
   "source": [
    "a= 10\n",
    "b= 20\n",
    "a, b"
   ]
  },
  {
   "cell_type": "code",
   "execution_count": null,
   "id": "15475424",
   "metadata": {},
   "outputs": [],
   "source": [
    "a+b"
   ]
  },
  {
   "cell_type": "code",
   "execution_count": null,
   "id": "ccd1c0f6",
   "metadata": {},
   "outputs": [],
   "source": [
    "a-b"
   ]
  },
  {
   "cell_type": "code",
   "execution_count": null,
   "id": "38a95587",
   "metadata": {},
   "outputs": [],
   "source": [
    "a*b"
   ]
  },
  {
   "cell_type": "code",
   "execution_count": 4,
   "id": "25962e0c",
   "metadata": {},
   "outputs": [
    {
     "data": {
      "text/plain": [
       "0.5"
      ]
     },
     "execution_count": 4,
     "metadata": {},
     "output_type": "execute_result"
    }
   ],
   "source": [
    "a/b"
   ]
  },
  {
   "cell_type": "code",
   "execution_count": 5,
   "id": "fecfcc09",
   "metadata": {},
   "outputs": [
    {
     "data": {
      "text/plain": [
       "0"
      ]
     },
     "execution_count": 5,
     "metadata": {},
     "output_type": "execute_result"
    }
   ],
   "source": [
    "# floor division\n",
    "a//b\n",
    "#0.5 it take lowest integer (round value)"
   ]
  },
  {
   "cell_type": "code",
   "execution_count": 6,
   "id": "51930a11",
   "metadata": {},
   "outputs": [
    {
     "data": {
      "text/plain": [
       "20"
      ]
     },
     "execution_count": 6,
     "metadata": {},
     "output_type": "execute_result"
    }
   ],
   "source": [
    "a= 100\n",
    "b = 5\n",
    "\n",
    "a//b"
   ]
  },
  {
   "cell_type": "code",
   "execution_count": null,
   "id": "f0102a42",
   "metadata": {},
   "outputs": [],
   "source": [
    "b % a\n",
    "# remainder"
   ]
  },
  {
   "cell_type": "code",
   "execution_count": null,
   "id": "ea48f868",
   "metadata": {},
   "outputs": [],
   "source": [
    "a**b\n",
    "# 10 power 20"
   ]
  },
  {
   "cell_type": "markdown",
   "id": "1a4a6657",
   "metadata": {},
   "source": [
    "# comparison operator\n"
   ]
  },
  {
   "cell_type": "code",
   "execution_count": null,
   "id": "ea7acb1d",
   "metadata": {},
   "outputs": [],
   "source": [
    "a==b, a!=b, a>b\n",
    "\n",
    "# = assign operator\n",
    "# == comparison operator"
   ]
  },
  {
   "cell_type": "code",
   "execution_count": null,
   "id": "353124af",
   "metadata": {},
   "outputs": [],
   "source": [
    "a<b, a>=b, a<=b, a!=b"
   ]
  },
  {
   "cell_type": "markdown",
   "id": "78b7f8fe",
   "metadata": {},
   "source": [
    "# assignment operator\n"
   ]
  },
  {
   "cell_type": "code",
   "execution_count": null,
   "id": "fbe41420",
   "metadata": {},
   "outputs": [],
   "source": [
    "a = 10\n",
    "b = 20\n",
    "\n",
    "c= a + b\n",
    "print(c)\n",
    "\n",
    "c += b # c=c+b\n",
    "c"
   ]
  },
  {
   "cell_type": "code",
   "execution_count": null,
   "id": "38a75967",
   "metadata": {},
   "outputs": [],
   "source": [
    "c -= b\n",
    "c"
   ]
  },
  {
   "cell_type": "code",
   "execution_count": null,
   "id": "6f45fd80",
   "metadata": {},
   "outputs": [],
   "source": [
    "c *= b\n",
    "c"
   ]
  },
  {
   "cell_type": "code",
   "execution_count": null,
   "id": "0917a621",
   "metadata": {},
   "outputs": [],
   "source": [
    "c /= b\n",
    "c"
   ]
  },
  {
   "cell_type": "code",
   "execution_count": null,
   "id": "9e116b63",
   "metadata": {},
   "outputs": [],
   "source": [
    "c %= b\n",
    "c"
   ]
  },
  {
   "cell_type": "code",
   "execution_count": null,
   "id": "f088e597",
   "metadata": {},
   "outputs": [],
   "source": [
    "c **= b\n",
    "c"
   ]
  },
  {
   "cell_type": "code",
   "execution_count": null,
   "id": "966fd9d9",
   "metadata": {},
   "outputs": [],
   "source": [
    "c //= b\n",
    "c"
   ]
  },
  {
   "cell_type": "code",
   "execution_count": null,
   "id": "e4358331",
   "metadata": {},
   "outputs": [],
   "source": [
    "a, b, c = 1, 3, 5 # sequential order \n",
    "print(a, b, c)\n",
    "a, b, c"
   ]
  },
  {
   "cell_type": "markdown",
   "id": "4b78c5f1",
   "metadata": {},
   "source": [
    "# logical operator\n"
   ]
  },
  {
   "cell_type": "code",
   "execution_count": null,
   "id": "57fa6761",
   "metadata": {},
   "outputs": [],
   "source": [
    "a = 3; b = 2; c = 0\n",
    "\n",
    "a and b, b and c, c and a\n",
    "\n",
    "# left side value non zero assign right value"
   ]
  },
  {
   "cell_type": "code",
   "execution_count": 1,
   "id": "0f23a9f6",
   "metadata": {},
   "outputs": [
    {
     "name": "stdout",
     "output_type": "stream",
     "text": [
      "9\n",
      "0\n",
      "0\n",
      "apple\n",
      "apple\n"
     ]
    }
   ],
   "source": [
    "a=4\n",
    "b=9\n",
    "c=0\n",
    "\n",
    "print(a and b)\n",
    "print(b and c)\n",
    "print(c and a)\n",
    "print('orange' and 'apple')\n",
    "print(' ' and 'apple')"
   ]
  },
  {
   "cell_type": "code",
   "execution_count": 7,
   "id": "a2de5b3b",
   "metadata": {},
   "outputs": [
    {
     "name": "stdout",
     "output_type": "stream",
     "text": [
      "3\n"
     ]
    }
   ],
   "source": [
    "# or operator(a left side value is non zero then return non zero or right side value)\n",
    "a = 3; b=2;c =0\n",
    "c or b, a or c, c or a, a or b, \n",
    "print((0 and 5)or 3)\n"
   ]
  },
  {
   "cell_type": "code",
   "execution_count": 10,
   "id": "c8008895",
   "metadata": {},
   "outputs": [
    {
     "data": {
      "text/plain": [
       "1"
      ]
     },
     "execution_count": 10,
     "metadata": {},
     "output_type": "execute_result"
    }
   ],
   "source": [
    "c = 0 \n",
    "b = 1\n",
    "\n",
    "c or b"
   ]
  },
  {
   "cell_type": "markdown",
   "id": "7bcfb0fa",
   "metadata": {},
   "source": [
    "# identity operator\n"
   ]
  },
  {
   "cell_type": "code",
   "execution_count": 11,
   "id": "ca4eda63",
   "metadata": {},
   "outputs": [
    {
     "name": "stderr",
     "output_type": "stream",
     "text": [
      "<>:1: SyntaxWarning: \"is\" with a literal. Did you mean \"==\"?\n",
      "<>:1: SyntaxWarning: \"is\" with a literal. Did you mean \"==\"?\n",
      "<>:1: SyntaxWarning: \"is\" with a literal. Did you mean \"==\"?\n",
      "<>:1: SyntaxWarning: \"is\" with a literal. Did you mean \"==\"?\n",
      "<>:1: SyntaxWarning: \"is\" with a literal. Did you mean \"==\"?\n",
      "<>:1: SyntaxWarning: \"is\" with a literal. Did you mean \"==\"?\n",
      "C:\\Users\\annam\\AppData\\Local\\Temp\\ipykernel_16116\\3143187422.py:1: SyntaxWarning: \"is\" with a literal. Did you mean \"==\"?\n",
      "  'y' is 'python', 1 is 1, 0 is 1 # identity operator (is,not is)\n",
      "C:\\Users\\annam\\AppData\\Local\\Temp\\ipykernel_16116\\3143187422.py:1: SyntaxWarning: \"is\" with a literal. Did you mean \"==\"?\n",
      "  'y' is 'python', 1 is 1, 0 is 1 # identity operator (is,not is)\n",
      "C:\\Users\\annam\\AppData\\Local\\Temp\\ipykernel_16116\\3143187422.py:1: SyntaxWarning: \"is\" with a literal. Did you mean \"==\"?\n",
      "  'y' is 'python', 1 is 1, 0 is 1 # identity operator (is,not is)\n"
     ]
    },
    {
     "data": {
      "text/plain": [
       "(False, True, False)"
      ]
     },
     "execution_count": 11,
     "metadata": {},
     "output_type": "execute_result"
    }
   ],
   "source": [
    "'y' is 'python', 1 is 1, 0 is 1 # identity operator (is,not is)"
   ]
  },
  {
   "cell_type": "code",
   "execution_count": null,
   "id": "d93b6534",
   "metadata": {},
   "outputs": [],
   "source": [
    "'python' is 'Python', 1 is 0"
   ]
  },
  {
   "cell_type": "code",
   "execution_count": null,
   "id": "f65e240b",
   "metadata": {},
   "outputs": [],
   "source": [
    "1 is not 1, \"hi hello\" is not \"hello hi\""
   ]
  },
  {
   "cell_type": "code",
   "execution_count": null,
   "id": "a888fee3",
   "metadata": {},
   "outputs": [],
   "source": [
    "c = (2 + 4j)\n",
    "print(c)\n",
    "type(c)"
   ]
  },
  {
   "cell_type": "code",
   "execution_count": null,
   "id": "3123a698",
   "metadata": {},
   "outputs": [],
   "source": [
    "type(True), type(False)"
   ]
  },
  {
   "cell_type": "markdown",
   "id": "bde7b82d",
   "metadata": {},
   "source": [
    "# membership operator\n",
    "\n"
   ]
  },
  {
   "cell_type": "code",
   "execution_count": null,
   "id": "6560ec6f",
   "metadata": {},
   "outputs": [],
   "source": [
    "# membership operator (in, not in)\n",
    "\n",
    "\"y\" in \"Python\", \"l\" in \"Python\""
   ]
  },
  {
   "cell_type": "code",
   "execution_count": null,
   "id": "00a46de7",
   "metadata": {},
   "outputs": [],
   "source": [
    "\"p\" in \"Python\" , \"P\" not in \"python\" # case sensitive"
   ]
  },
  {
   "cell_type": "markdown",
   "id": "df776b53",
   "metadata": {},
   "source": [
    "# python data types"
   ]
  },
  {
   "cell_type": "code",
   "execution_count": null,
   "id": "6c5faa28",
   "metadata": {},
   "outputs": [],
   "source": [
    "# operator should be pemdas(paranthesis,exanpanantion,multiply,division,add,sub)\n",
    "# python 5 data types 1 number 2 boolean 3 sets{2,4,6} 4 dict{1;'a', 2;'b'} 5 sequence, \n",
    "# in sequence there is 3 type string,list,tuple\n"
   ]
  },
  {
   "cell_type": "code",
   "execution_count": null,
   "id": "02dddf80",
   "metadata": {},
   "outputs": [],
   "source": [
    "# integer\n",
    "\n",
    "print(1)\n",
    "print(5 + 8)\n",
    "print(12 * 8)\n",
    "a = 1\n",
    "type(a)"
   ]
  },
  {
   "cell_type": "code",
   "execution_count": null,
   "id": "0e7c3282",
   "metadata": {},
   "outputs": [],
   "source": [
    "#  float\n",
    "print(6.88)\n",
    "print(6.43 + 3.34)\n",
    "t= 99.87\n",
    "type(t)"
   ]
  },
  {
   "cell_type": "code",
   "execution_count": null,
   "id": "86382e55",
   "metadata": {},
   "outputs": [],
   "source": [
    "# boolean\n",
    "# true = 1 , False = 0\n",
    "\n",
    "True + False"
   ]
  },
  {
   "cell_type": "code",
   "execution_count": null,
   "id": "d99879ab",
   "metadata": {},
   "outputs": [],
   "source": [
    "False + False"
   ]
  },
  {
   "cell_type": "code",
   "execution_count": null,
   "id": "c8056bff",
   "metadata": {},
   "outputs": [],
   "source": [
    "True + False + True + True"
   ]
  },
  {
   "cell_type": "code",
   "execution_count": null,
   "id": "86f5d473",
   "metadata": {},
   "outputs": [],
   "source": [
    "print (type(True))\n",
    "type(False)"
   ]
  },
  {
   "cell_type": "code",
   "execution_count": null,
   "id": "c90aec26",
   "metadata": {},
   "outputs": [],
   "source": [
    "# list\n",
    "# is a sequence of items\n",
    "# it denoted []\n",
    "# it contain different data types\n",
    "# values are mutable(it changed)"
   ]
  },
  {
   "cell_type": "code",
   "execution_count": 21,
   "id": "94e38174",
   "metadata": {},
   "outputs": [
    {
     "name": "stdout",
     "output_type": "stream",
     "text": [
      "['annamalai', 'gopi24', 2022, 2023]\n",
      "4\n",
      "['annamalai', 'usha', 2022, 2023]\n",
      "['annamalai', 'nilani', 'usha', 2022, 2023]\n",
      "['annamalai', 'nilani', 'usha', 2023]\n"
     ]
    },
    {
     "data": {
      "text/plain": [
       "['annamalai', 'nilani', 'usha', 2023, 'a', 'p', 'p', 'a']"
      ]
     },
     "execution_count": 21,
     "metadata": {},
     "output_type": "execute_result"
    }
   ],
   "source": [
    "list1 = [\"annamalai\", \"gopi24\", 2022, 2023]\n",
    "print(list1)\n",
    "print(len(list1))\n",
    "list1[1] = 'usha'\n",
    "print(list1)\n",
    "list1.insert(1, 'nilani')\n",
    "print(list1)\n",
    "list1.remove(2022)\n",
    "print(list1)\n",
    "list1.extend('appa')\n",
    "list1"
   ]
  },
  {
   "cell_type": "code",
   "execution_count": null,
   "id": "557bad03",
   "metadata": {},
   "outputs": [],
   "source": [
    "# by using index number\n",
    "print(list1[0])\n",
    "print(list1[3])\n",
    "print(list1[:3])\n",
    "print(list1[0:])"
   ]
  },
  {
   "cell_type": "code",
   "execution_count": null,
   "id": "be4c69de",
   "metadata": {},
   "outputs": [],
   "source": [
    "# reversing list\n",
    "print(list1[::-1])\n"
   ]
  },
  {
   "cell_type": "code",
   "execution_count": null,
   "id": "0ee8053b",
   "metadata": {},
   "outputs": [],
   "source": [
    "# function in list data types\n",
    "\n",
    "#append- add new elements in the list\n",
    "\n",
    "list1.append(\"amma\")\n",
    "print(list1)"
   ]
  },
  {
   "cell_type": "code",
   "execution_count": null,
   "id": "1390140b",
   "metadata": {},
   "outputs": [],
   "source": [
    "list1.remove(alist)\n",
    "print(list1)"
   ]
  },
  {
   "cell_type": "code",
   "execution_count": 23,
   "id": "0d004d51",
   "metadata": {},
   "outputs": [
    {
     "name": "stdout",
     "output_type": "stream",
     "text": [
      "rayadu\n",
      "['dhoni', 'jaddu', 'conway', 'dube']\n",
      "jaddu\n",
      "['dhoni', 'conway', 'dube']\n"
     ]
    }
   ],
   "source": [
    "# pop- remove the last element\n",
    "\n",
    "csk=['dhoni', 'jaddu', \"conway\", 'dube', 'rayadu']\n",
    "print(csk.pop())\n",
    "print(csk)\n",
    "\n",
    "print(csk.pop(1))\n",
    "print(csk)"
   ]
  },
  {
   "cell_type": "code",
   "execution_count": 24,
   "id": "70445398",
   "metadata": {},
   "outputs": [
    {
     "name": "stdout",
     "output_type": "stream",
     "text": [
      "['dhoni', 'ruttu', 'conway', 'dube']\n",
      "['dhoni', 'ruttu', 'conway', 'dube', 'santener']\n"
     ]
    }
   ],
   "source": [
    "# insert- a value from index number\n",
    "\n",
    "csk.insert(1, \"ruttu\")\n",
    "print(csk)\n",
    "\n",
    "csk.append(\"santener\")\n",
    "print(csk)"
   ]
  },
  {
   "cell_type": "code",
   "execution_count": 25,
   "id": "ed825f0f",
   "metadata": {},
   "outputs": [
    {
     "name": "stdout",
     "output_type": "stream",
     "text": [
      "['dhoni', 'ruttu', 'conway', 'dube', 'santener', 'dhoni', 'ruttu', 'conway', 'dube', 'santener']\n",
      "['dhoni', 'ruttu', 'conway', 'dube', 'santener', 'duplesis', 'kohli', 'maxwell', 'siraj']\n",
      "['dhoni', 'ruttu', 'conway', 'dube', 'santener', 'duplesis', 'kohli', 'maxwell', 'siraj']\n"
     ]
    }
   ],
   "source": [
    "#extend- extend the two list one after another\n",
    "\n",
    "rcb = [\"duplesis\", \"kohli\", \"maxwell\", \"siraj\"]\n",
    "\n",
    "print(csk * 2)\n",
    "print(csk + rcb)\n",
    "csk.extend(rcb)\n",
    "print(csk)"
   ]
  },
  {
   "cell_type": "code",
   "execution_count": null,
   "id": "4cabb16a",
   "metadata": {},
   "outputs": [],
   "source": [
    "mi=[\"rohit\", \"ishan\", \"surya\"]\n",
    "print(csk.append(mi))"
   ]
  },
  {
   "cell_type": "code",
   "execution_count": 26,
   "id": "d066b188",
   "metadata": {},
   "outputs": [
    {
     "ename": "ValueError",
     "evalue": "list.remove(x): x not in list",
     "output_type": "error",
     "traceback": [
      "\u001b[1;31m---------------------------------------------------------------------------\u001b[0m",
      "\u001b[1;31mValueError\u001b[0m                                Traceback (most recent call last)",
      "Cell \u001b[1;32mIn[26], line 1\u001b[0m\n\u001b[1;32m----> 1\u001b[0m \u001b[43mcsk\u001b[49m\u001b[38;5;241;43m.\u001b[39;49m\u001b[43mremove\u001b[49m\u001b[43m(\u001b[49m\u001b[43mrcb\u001b[49m\u001b[43m)\u001b[49m\n\u001b[0;32m      2\u001b[0m \u001b[38;5;28mprint\u001b[39m(csk)\n",
      "\u001b[1;31mValueError\u001b[0m: list.remove(x): x not in list"
     ]
    }
   ],
   "source": [
    "csk.remove(rcb)\n",
    "print(csk)"
   ]
  },
  {
   "cell_type": "code",
   "execution_count": 32,
   "id": "911d8b76",
   "metadata": {},
   "outputs": [
    {
     "name": "stdout",
     "output_type": "stream",
     "text": [
      "['dhoni', 'jaddu', 'conway', 'dube', 'rayadu', 'rohit', 'ishan', 'surya']\n",
      "['dhoni', 'jaddu', 'conway', 'dube', 'rayadu', 'ishan', 'surya']\n"
     ]
    }
   ],
   "source": [
    "csk=['dhoni', 'jaddu', \"conway\", 'dube', 'rayadu']\n",
    "mi = [\"rohit\", \"ishan\", \"surya\"]\n",
    "ipl = csk + mi\n",
    "print(ipl)\n",
    "ipl.remove('rohit')\n",
    "print(ipl)"
   ]
  },
  {
   "cell_type": "code",
   "execution_count": null,
   "id": "98329891",
   "metadata": {},
   "outputs": [],
   "source": [
    "csk"
   ]
  },
  {
   "cell_type": "code",
   "execution_count": 38,
   "id": "05db6cb2",
   "metadata": {},
   "outputs": [
    {
     "name": "stdout",
     "output_type": "stream",
     "text": [
      "['appa', 'amma', 'anna', 'akka']\n"
     ]
    },
    {
     "data": {
      "text/plain": [
       "['usa', 'uk', 'goa', 'appa', 'anna', 'amma', 'akka']"
      ]
     },
     "execution_count": 38,
     "metadata": {},
     "output_type": "execute_result"
    }
   ],
   "source": [
    "family = [\"appa\", \"amma\", \"anna\", \"akka\"]\n",
    "tour = [\"usa\", 'goa', \"uk\"]\n",
    "tour.extend(family)\n",
    "print(family)\n",
    "tour.sort(reverse = True)\n",
    "tour"
   ]
  },
  {
   "cell_type": "code",
   "execution_count": null,
   "id": "a6219f91",
   "metadata": {},
   "outputs": [],
   "source": [
    "tour = [\"usa\", 'goa', \"uk\"]\n",
    "print(tour)\n",
    "tour.append('india')\n",
    "print(tour)\n",
    "tour.remove('uk')\n",
    "print(tour)"
   ]
  },
  {
   "cell_type": "code",
   "execution_count": null,
   "id": "5e2148a6",
   "metadata": {},
   "outputs": [],
   "source": [
    "tour.reverse()\n",
    "print(tour)"
   ]
  },
  {
   "cell_type": "code",
   "execution_count": 61,
   "id": "95bd77af",
   "metadata": {},
   "outputs": [
    {
     "name": "stdout",
     "output_type": "stream",
     "text": [
      "[1, 4, 5, 6, 67, 54, 56, 78]\n"
     ]
    },
    {
     "data": {
      "text/plain": [
       "[]"
      ]
     },
     "execution_count": 61,
     "metadata": {},
     "output_type": "execute_result"
    }
   ],
   "source": [
    "a=[1, 4, 5, 6]\n",
    "b = [67, 54, 56, 78]\n",
    "print(a + b)\n",
    "\n",
    "del b[0:2]\n",
    "b\n",
    "\n",
    "a.clear()\n",
    "a\n"
   ]
  },
  {
   "cell_type": "code",
   "execution_count": 40,
   "id": "0bad7860",
   "metadata": {},
   "outputs": [
    {
     "name": "stdout",
     "output_type": "stream",
     "text": [
      "None\n",
      "[11, 23, 34, 45, 45, 56, 67]\n",
      "[67, 56, 45, 45, 34, 23, 11]\n"
     ]
    }
   ],
   "source": [
    "# sort- ascending or desceding\n",
    "\n",
    "alist = [23, 34, 45, 56, 67, 11, 45]\n",
    "print(alist.sort())\n",
    "print(alist)\n",
    "\n",
    "alist.sort(reverse = True)\n",
    "print(alist)"
   ]
  },
  {
   "cell_type": "code",
   "execution_count": 43,
   "id": "03b2d0f6",
   "metadata": {},
   "outputs": [
    {
     "data": {
      "text/plain": [
       "[11, 12, 23, 45, 67, 78]"
      ]
     },
     "execution_count": 43,
     "metadata": {},
     "output_type": "execute_result"
    }
   ],
   "source": [
    "a = [11, 23, 45, 67, 78, 12]\n",
    "a.sort(reverse = False)\n",
    "a"
   ]
  },
  {
   "cell_type": "code",
   "execution_count": 41,
   "id": "f50a7b1e",
   "metadata": {},
   "outputs": [
    {
     "name": "stdout",
     "output_type": "stream",
     "text": [
      "[11, 45, 56, 98]\n",
      "[98, 56, 45, 11]\n"
     ]
    }
   ],
   "source": [
    "# another way sorted list\n",
    "blist = [11, 56, 98, 45]\n",
    "sorted_list= sorted(blist)\n",
    "print(sorted_list)\n",
    "sorted_list.reverse()\n",
    "print(sorted_list)"
   ]
  },
  {
   "cell_type": "code",
   "execution_count": 44,
   "id": "c48d4c5c",
   "metadata": {},
   "outputs": [
    {
     "name": "stdout",
     "output_type": "stream",
     "text": [
      "1\n",
      "2\n"
     ]
    }
   ],
   "source": [
    "# count the value iin he list\n",
    "csk = ['dhoni', 'conway', 'jaddu', 8, 7, 8, 98]\n",
    "print(csk.count('jaddu'))\n",
    "print(csk.count(8))"
   ]
  },
  {
   "cell_type": "code",
   "execution_count": 45,
   "id": "0c99c35a",
   "metadata": {},
   "outputs": [
    {
     "name": "stdout",
     "output_type": "stream",
     "text": [
      "2\n"
     ]
    }
   ],
   "source": [
    "# find the value in the list\n",
    "print(csk.index('jaddu'))"
   ]
  },
  {
   "cell_type": "code",
   "execution_count": null,
   "id": "4fb5bb55",
   "metadata": {},
   "outputs": [],
   "source": [
    "# concatinate list\n",
    "\n",
    "new_list = csk + blist\n",
    "print(new_list)"
   ]
  },
  {
   "cell_type": "code",
   "execution_count": null,
   "id": "e83f9678",
   "metadata": {},
   "outputs": [],
   "source": [
    "type(new_list)"
   ]
  },
  {
   "cell_type": "code",
   "execution_count": null,
   "id": "5a681a5f",
   "metadata": {},
   "outputs": [],
   "source": [
    "# to get detailed info about list\n",
    "help(list)"
   ]
  },
  {
   "cell_type": "code",
   "execution_count": null,
   "id": "6c69b950",
   "metadata": {},
   "outputs": [],
   "source": [
    "# SORTING\n",
    "\n",
    "numberlist = [1, 3, 4, 6, 8, 99, 78, 65, 45, 34, 54, 1, 32, 31, 54,]\n",
    "numberlist.sort()\n",
    "print(numberlist)\n",
    "print(len(numberlist))\n",
    "print(max(numberlist))\n",
    "print(min(numberlist))"
   ]
  },
  {
   "cell_type": "code",
   "execution_count": 47,
   "id": "95ccd3dd",
   "metadata": {},
   "outputs": [
    {
     "name": "stdout",
     "output_type": "stream",
     "text": [
      "['abcg', 'hijd', 'effg', 'lmi']\n",
      "['lmi', 'abcg', 'hijd', 'effg']\n"
     ]
    }
   ],
   "source": [
    "# sorting in length\n",
    "\n",
    "string = ['abcg', 'hijd', 'effg', 'lmi']\n",
    "sorted(string)\n",
    "print(string)\n",
    "print(sorted(string, key=len))"
   ]
  },
  {
   "cell_type": "code",
   "execution_count": 48,
   "id": "b7bb5bcb",
   "metadata": {},
   "outputs": [
    {
     "name": "stdout",
     "output_type": "stream",
     "text": [
      "['abcg', 'effg', 'hijd', 'lmi']\n"
     ]
    }
   ],
   "source": [
    "print(sorted(string))"
   ]
  },
  {
   "cell_type": "code",
   "execution_count": 51,
   "id": "6db15f67",
   "metadata": {},
   "outputs": [
    {
     "data": {
      "text/plain": [
       "'a'"
      ]
     },
     "execution_count": 51,
     "metadata": {},
     "output_type": "execute_result"
    }
   ],
   "source": [
    "# create our own function\n",
    "def funct(l):\n",
    "    return l[-1]\n",
    "funct('anna')"
   ]
  },
  {
   "cell_type": "code",
   "execution_count": null,
   "id": "dfeb9f80",
   "metadata": {},
   "outputs": [],
   "source": [
    "def func(k):\n",
    "    return k[-2]\n",
    "func(string)"
   ]
  },
  {
   "cell_type": "code",
   "execution_count": null,
   "id": "05c97269",
   "metadata": {},
   "outputs": [],
   "source": [
    "print(funct('abcde',))"
   ]
  },
  {
   "cell_type": "code",
   "execution_count": null,
   "id": "55aeb01b",
   "metadata": {},
   "outputs": [],
   "source": [
    "print(funct('fgh'))"
   ]
  },
  {
   "cell_type": "code",
   "execution_count": 52,
   "id": "4ba66177",
   "metadata": {},
   "outputs": [
    {
     "name": "stdout",
     "output_type": "stream",
     "text": [
      "['hijd', 'abcg', 'effg', 'lmi']\n"
     ]
    }
   ],
   "source": [
    "print(sorted(string, key=funct)) # -1= d,f,g,i"
   ]
  },
  {
   "cell_type": "code",
   "execution_count": null,
   "id": "bfe31dc2",
   "metadata": {},
   "outputs": [],
   "source": [
    "# tuples ()\n",
    "# immutable- we can't edit or write\n",
    "# faster than list\n",
    "# tuple can used key in dictioneries"
   ]
  },
  {
   "cell_type": "code",
   "execution_count": null,
   "id": "3abc33af",
   "metadata": {},
   "outputs": [],
   "source": [
    "# create a tuple\n",
    "tup1 = ('amma', 'appa', 'anna', 'akka', 'me')\n",
    "tup2 = (1975, 1970, 1995, 1993)\n",
    "print(tup1)\n",
    "print(tup2)"
   ]
  },
  {
   "cell_type": "code",
   "execution_count": null,
   "id": "c144e52c",
   "metadata": {},
   "outputs": [],
   "source": [
    "id(tup1)"
   ]
  },
  {
   "cell_type": "code",
   "execution_count": null,
   "id": "aa747075",
   "metadata": {},
   "outputs": [],
   "source": [
    "# create empty tuple\n",
    "\n",
    "tup = ()\n",
    "print(tup)"
   ]
  },
  {
   "cell_type": "code",
   "execution_count": null,
   "id": "f00cb922",
   "metadata": {},
   "outputs": [],
   "source": [
    " id(tup)\n",
    "    # tuple stores different location"
   ]
  },
  {
   "cell_type": "code",
   "execution_count": null,
   "id": "16b09f3a",
   "metadata": {},
   "outputs": [],
   "source": [
    "tup1 = (50,)\n",
    "print(tup1)\n",
    "type(tup1)"
   ]
  },
  {
   "cell_type": "code",
   "execution_count": 54,
   "id": "53d2dbde",
   "metadata": {},
   "outputs": [
    {
     "name": "stdout",
     "output_type": "stream",
     "text": [
      "amma\n",
      "(1975, 1970, 1995)\n"
     ]
    },
    {
     "ename": "NameError",
     "evalue": "name 'tup' is not defined",
     "output_type": "error",
     "traceback": [
      "\u001b[1;31m---------------------------------------------------------------------------\u001b[0m",
      "\u001b[1;31mNameError\u001b[0m                                 Traceback (most recent call last)",
      "Cell \u001b[1;32mIn[54], line 5\u001b[0m\n\u001b[0;32m      3\u001b[0m \u001b[38;5;28mprint\u001b[39m(tup1[\u001b[38;5;241m0\u001b[39m])\n\u001b[0;32m      4\u001b[0m \u001b[38;5;28mprint\u001b[39m(tup2[\u001b[38;5;241m0\u001b[39m:\u001b[38;5;241m3\u001b[39m])\n\u001b[1;32m----> 5\u001b[0m \u001b[43mtup\u001b[49m\u001b[38;5;241m.\u001b[39mappend(\u001b[38;5;241m1998\u001b[39m)\n",
      "\u001b[1;31mNameError\u001b[0m: name 'tup' is not defined"
     ]
    }
   ],
   "source": [
    "tup1 = ('amma', 'appa', 'anna', 'akka', 'me')\n",
    "tup2 = (1975, 1970, 1995, 1993)\n",
    "print(tup1[0])\n",
    "print(tup2[0:3])\n",
    "tup.append(1998)"
   ]
  },
  {
   "cell_type": "code",
   "execution_count": 55,
   "id": "ae6c3619",
   "metadata": {},
   "outputs": [
    {
     "name": "stdout",
     "output_type": "stream",
     "text": [
      "('amma', 'appa', 'anna', 'akka', 'me', 1975, 1970, 1995, 1993)\n"
     ]
    }
   ],
   "source": [
    "tup1 = tup1 + tup2\n",
    "print(tup1)"
   ]
  },
  {
   "cell_type": "code",
   "execution_count": null,
   "id": "13d249d7",
   "metadata": {},
   "outputs": [],
   "source": [
    "tup1.remove()\n",
    "print(tup1)\n",
    "\n",
    "# in tupple we did not delete it is immutable"
   ]
  },
  {
   "cell_type": "code",
   "execution_count": 58,
   "id": "49648a2d",
   "metadata": {},
   "outputs": [
    {
     "ename": "SyntaxError",
     "evalue": "invalid syntax (4001136527.py, line 2)",
     "output_type": "error",
     "traceback": [
      "\u001b[1;36m  Cell \u001b[1;32mIn[58], line 2\u001b[1;36m\u001b[0m\n\u001b[1;33m    tup.del()\u001b[0m\n\u001b[1;37m        ^\u001b[0m\n\u001b[1;31mSyntaxError\u001b[0m\u001b[1;31m:\u001b[0m invalid syntax\n"
     ]
    }
   ],
   "source": [
    "tup = (1,3,4,6)\n",
    "tup.clear()\n"
   ]
  },
  {
   "cell_type": "code",
   "execution_count": null,
   "id": "d64a0cc6",
   "metadata": {},
   "outputs": [],
   "source": [
    "help (tuple)"
   ]
  },
  {
   "cell_type": "markdown",
   "id": "9355c58f",
   "metadata": {},
   "source": [
    "# sets"
   ]
  },
  {
   "cell_type": "code",
   "execution_count": null,
   "id": "5c05e83f",
   "metadata": {},
   "outputs": [],
   "source": [
    "# in sets we can store multiple variables\n",
    "# sets are unindexed,unordered,mutable\n",
    "# did not allow duplicates\n",
    "# frozen sets are immmutable"
   ]
  },
  {
   "cell_type": "code",
   "execution_count": 103,
   "id": "434db549",
   "metadata": {},
   "outputs": [
    {
     "name": "stdout",
     "output_type": "stream",
     "text": [
      "{1, 2, 3}\n"
     ]
    },
    {
     "data": {
      "text/plain": [
       "set()"
      ]
     },
     "execution_count": 103,
     "metadata": {},
     "output_type": "execute_result"
    }
   ],
   "source": [
    "# normal set\n",
    "\n",
    "normal_set = set ([1, 2, 3])\n",
    "print(normal_set)\n",
    "normal_set.clear()\n",
    "normal_set"
   ]
  },
  {
   "cell_type": "code",
   "execution_count": 63,
   "id": "7b8720ff",
   "metadata": {},
   "outputs": [
    {
     "name": "stdout",
     "output_type": "stream",
     "text": [
      "{1, 2, 3, 4}\n"
     ]
    }
   ],
   "source": [
    "#add the elements\n",
    "\n",
    "normal_set.add(4)\n",
    "print(normal_set)"
   ]
  },
  {
   "cell_type": "code",
   "execution_count": null,
   "id": "cf0e26f7",
   "metadata": {},
   "outputs": [],
   "source": [
    "# frozen set\n",
    "# it's unordered\n",
    "\n",
    "frozen_set = frozenset(['a', 'b', 'c'])\n",
    "print(frozen_set)"
   ]
  },
  {
   "cell_type": "code",
   "execution_count": null,
   "id": "15a8d9aa",
   "metadata": {},
   "outputs": [],
   "source": [
    " frozen_set.add('d')\n",
    "    # frozen set are immutable\n",
    "    "
   ]
  },
  {
   "cell_type": "code",
   "execution_count": 105,
   "id": "19536c88",
   "metadata": {},
   "outputs": [
    {
     "name": "stdout",
     "output_type": "stream",
     "text": [
      "set() set()\n"
     ]
    },
    {
     "data": {
      "text/plain": [
       "{1, 2, 3, 4, 5, 6, 7, 8, 9}"
      ]
     },
     "execution_count": 105,
     "metadata": {},
     "output_type": "execute_result"
    }
   ],
   "source": [
    "set1 = set()\n",
    "set2 = set()\n",
    "print(set1, set2)\n",
    "\n",
    "# add the elements in set1\n",
    "\n",
    "for i in range(1,10):\n",
    "    set1.add(i)\n",
    "set1    "
   ]
  },
  {
   "cell_type": "code",
   "execution_count": 106,
   "id": "e3412e22",
   "metadata": {},
   "outputs": [
    {
     "data": {
      "text/plain": [
       "{3, 4, 5, 6, 7, 8, 9}"
      ]
     },
     "execution_count": 106,
     "metadata": {},
     "output_type": "execute_result"
    }
   ],
   "source": [
    "for j in range(3,10):\n",
    "    set2.add(j)\n",
    "set2    "
   ]
  },
  {
   "cell_type": "code",
   "execution_count": 107,
   "id": "b352503b",
   "metadata": {},
   "outputs": [
    {
     "name": "stdout",
     "output_type": "stream",
     "text": [
      "union of set1 and set2 =  {1, 2, 3, 4, 5, 6, 7, 8, 9}\n"
     ]
    }
   ],
   "source": [
    "#union\n",
    "set3 = set1 | set2\n",
    "print(\"union of set1 and set2 = \", set3)"
   ]
  },
  {
   "cell_type": "code",
   "execution_count": 108,
   "id": "c11882f1",
   "metadata": {},
   "outputs": [
    {
     "name": "stdout",
     "output_type": "stream",
     "text": [
      "intersection of set1 and set2 =  {3, 4, 5, 6, 7, 8, 9}\n"
     ]
    }
   ],
   "source": [
    "# intersection\n",
    "\n",
    "set4 = set1 & set2\n",
    "print(\"intersection of set1 and set2 = \", set4)"
   ]
  },
  {
   "cell_type": "code",
   "execution_count": 109,
   "id": "6fbbeded",
   "metadata": {},
   "outputs": [
    {
     "name": "stdout",
     "output_type": "stream",
     "text": [
      "set3 is superset of set4\n"
     ]
    }
   ],
   "source": [
    "if set3 > set4:\n",
    "    print(\"set3 is superset of set4\")\n",
    "elif set3 < set4:\n",
    "    print(\"set3 is subset of set4\")\n",
    "else:\n",
    "    print(\"set3 is same as set4\")"
   ]
  },
  {
   "cell_type": "code",
   "execution_count": null,
   "id": "f5c4b436",
   "metadata": {},
   "outputs": [],
   "source": [
    "a=[\"abcd\", \"efgh\", 'ijkl', 'monp']\n",
    "def new_fun(b):\n",
    "    return b[0]\n",
    "new_fun(a)\n",
    "\n",
    "a.clear()\n",
    "print(a)\n",
    "    "
   ]
  },
  {
   "cell_type": "code",
   "execution_count": 110,
   "id": "1061a50f",
   "metadata": {},
   "outputs": [
    {
     "name": "stdout",
     "output_type": "stream",
     "text": [
      "\n",
      "\n",
      "dhoni\n"
     ]
    }
   ],
   "source": [
    "if set4 < set3:\n",
    "    print('\\n')\n",
    "    if set4 > set3:\n",
    "        print('annamalai')\n",
    "    elif set4 < set3:\n",
    "        print(\"dhoni\")\n",
    "    else:\n",
    "        print('alone')"
   ]
  },
  {
   "cell_type": "code",
   "execution_count": 111,
   "id": "f0fcab39",
   "metadata": {},
   "outputs": [
    {
     "name": "stdout",
     "output_type": "stream",
     "text": [
      "set5 is =  {1, 2}\n",
      "\n",
      "\n"
     ]
    }
   ],
   "source": [
    "set5 = set3 - set4\n",
    "print(\"set5 is = \", set5)\n",
    "print(\"\\n\") # new line"
   ]
  },
  {
   "cell_type": "code",
   "execution_count": 112,
   "id": "5e31579d",
   "metadata": {},
   "outputs": [
    {
     "name": "stdout",
     "output_type": "stream",
     "text": [
      "set5 =  set()\n"
     ]
    },
    {
     "data": {
      "text/plain": [
       "set()"
      ]
     },
     "execution_count": 112,
     "metadata": {},
     "output_type": "execute_result"
    }
   ],
   "source": [
    "# removing all the values\n",
    "\n",
    "set5.clear()\n",
    "print('set5 = ', set5)\n",
    "set5"
   ]
  },
  {
   "cell_type": "code",
   "execution_count": 113,
   "id": "2a4466fd",
   "metadata": {},
   "outputs": [
    {
     "name": "stdout",
     "output_type": "stream",
     "text": [
      "set4 and set5 have nothing comman\n",
      "\n"
     ]
    }
   ],
   "source": [
    "# check if set4 and set5 are disjoint sets\n",
    "if set4.isdisjoint(set5):\n",
    "    print(\"set4 and set5 have nothing comman\\n\")\n",
    "\n",
    "set8 = set([1, 3, 5])\n",
    "set9 = set([1, 3, 5])\n",
    "\n",
    "if set8.isdisjoint(set9):\n",
    "    print('annamalai')\n",
    "\n"
   ]
  },
  {
   "cell_type": "code",
   "execution_count": null,
   "id": "84dd6639",
   "metadata": {},
   "outputs": [],
   "source": [
    "help(set)"
   ]
  },
  {
   "cell_type": "code",
   "execution_count": null,
   "id": "36121123",
   "metadata": {},
   "outputs": [],
   "source": [
    "# dictioneries{}\n",
    "\n",
    "# dictioneries are unordered\n",
    "# keys are immutable and values are mutable\n",
    "# dict suport any data types and sequence does not support"
   ]
  },
  {
   "cell_type": "code",
   "execution_count": null,
   "id": "c65aa9aa",
   "metadata": {},
   "outputs": [],
   "source": [
    "# accessing the values in the dictionery\n",
    "\n",
    "dict1 = {'name': 'annamalai', 'age': 25, \"bike\": \"ray\"}\n",
    "print(dict1)\n",
    "print(type(dict1))\n",
    "print(dict1['name'])\n",
    "\n"
   ]
  },
  {
   "cell_type": "code",
   "execution_count": null,
   "id": "0b248764",
   "metadata": {},
   "outputs": [],
   "source": [
    "# updating the values\n",
    "\n",
    "dict1[\"height\"] = 6.12\n",
    "dict1['age'] = 25\n",
    "dict1[\"school\"] = 'govt school'\n",
    "print(dict1)"
   ]
  },
  {
   "cell_type": "code",
   "execution_count": null,
   "id": "a90e52ce",
   "metadata": {},
   "outputs": [],
   "source": [
    "# delete the elemnts\n",
    "\n",
    "del(dict1['bike'])\n",
    "dict1"
   ]
  },
  {
   "cell_type": "code",
   "execution_count": null,
   "id": "4f9905a4",
   "metadata": {},
   "outputs": [],
   "source": [
    "# remove all enteries\n",
    "\n",
    "dict1.clear()\n",
    "dict1"
   ]
  },
  {
   "cell_type": "code",
   "execution_count": null,
   "id": "286f6f4e",
   "metadata": {},
   "outputs": [],
   "source": [
    "# delete entire dictioneries\n",
    "dict1 = {'name': 'annamalai', 'age': 25, \"bike\": \"ray\"}\n",
    "dict1\n",
    "del(dict1)\n",
    "dict1"
   ]
  },
  {
   "cell_type": "code",
   "execution_count": null,
   "id": "773cf4c4",
   "metadata": {},
   "outputs": [],
   "source": [
    "# to get all items\n",
    "dict1 = {'name': 'annamalai', 'age': 25, \"bike\": \"ray\"}\n",
    "dict1.items()"
   ]
  },
  {
   "cell_type": "code",
   "execution_count": null,
   "id": "1ba2f752",
   "metadata": {},
   "outputs": [],
   "source": [
    "# to get all key\n",
    "dict1.keys()"
   ]
  },
  {
   "cell_type": "code",
   "execution_count": null,
   "id": "9cbe963c",
   "metadata": {},
   "outputs": [],
   "source": [
    "# to get values\n",
    "dict1.values()\n"
   ]
  },
  {
   "cell_type": "code",
   "execution_count": null,
   "id": "0f9338fc",
   "metadata": {},
   "outputs": [],
   "source": [
    "y= dict1.items()\n",
    "print(type(y))"
   ]
  },
  {
   "cell_type": "code",
   "execution_count": null,
   "id": "c641fd12",
   "metadata": {},
   "outputs": [],
   "source": [
    "help(dict)"
   ]
  },
  {
   "cell_type": "code",
   "execution_count": null,
   "id": "3d42d3c8",
   "metadata": {},
   "outputs": [],
   "source": [
    "a=[1, 3, 5, 6, 6, 98]\n",
    "a.remove(5)\n",
    "print(a)\n",
    "a.insert(3,45)\n",
    "print(a)\n",
    "del a[3]\n",
    "print(len(a))\n",
    "sorted(a)\n",
    "a.reverse()\n",
    "print(a)\n",
    "a\n",
    "a.clear()\n",
    "a"
   ]
  },
  {
   "cell_type": "markdown",
   "id": "be389d0e",
   "metadata": {},
   "source": [
    "# non-numeric"
   ]
  },
  {
   "cell_type": "code",
   "execution_count": null,
   "id": "dbccde2e",
   "metadata": {},
   "outputs": [],
   "source": [
    "# strings(character,number,letters,special character)\n",
    "# strings are immutable\n",
    "# strings accessed index and slicing"
   ]
  },
  {
   "cell_type": "code",
   "execution_count": 1,
   "id": "0f44e15d",
   "metadata": {},
   "outputs": [
    {
     "name": "stdout",
     "output_type": "stream",
     "text": [
      "p\n",
      "t\n",
      "python\n",
      "nohtyp\n",
      "n\n",
      "ho\n"
     ]
    }
   ],
   "source": [
    "name = \"python\"\n",
    "print(name[0])\n",
    "print(name[2])\n",
    "print(name[0:6])\n",
    "print(name[::-1])\n",
    "print(name[-1])\n",
    "print(name[-3:-1])"
   ]
  },
  {
   "cell_type": "code",
   "execution_count": 2,
   "id": "602dbe3b",
   "metadata": {},
   "outputs": [
    {
     "name": "stdout",
     "output_type": "stream",
     "text": [
      "pythonpythonpythonpython\n"
     ]
    }
   ],
   "source": [
    "print(name * 4)"
   ]
  },
  {
   "cell_type": "code",
   "execution_count": 3,
   "id": "07226251",
   "metadata": {},
   "outputs": [
    {
     "name": "stdout",
     "output_type": "stream",
     "text": [
      "python  Test\n"
     ]
    }
   ],
   "source": [
    "print(name +\"  \"+ \"Test\")"
   ]
  },
  {
   "cell_type": "code",
   "execution_count": 4,
   "id": "fca0feb0",
   "metadata": {},
   "outputs": [
    {
     "data": {
      "text/plain": [
       "6"
      ]
     },
     "execution_count": 4,
     "metadata": {},
     "output_type": "execute_result"
    }
   ],
   "source": [
    "len(name)"
   ]
  },
  {
   "cell_type": "code",
   "execution_count": null,
   "id": "84285918",
   "metadata": {},
   "outputs": [],
   "source": [
    "# string slicing--> (start:stop:step)\n",
    "\n",
    "title = \"the best language\"\n",
    "print(title[::1])\n",
    "print(title[::2])\n",
    "print(title[::3])\n",
    "print(title[5::3])\n",
    "print(title[1:10:2])\n",
    "print(title[1])\n",
    "print(title[:5])\n",
    "print(title[1:6])"
   ]
  },
  {
   "cell_type": "code",
   "execution_count": 5,
   "id": "5f28ced6",
   "metadata": {},
   "outputs": [
    {
     "name": "stdout",
     "output_type": "stream",
     "text": [
      "updated string : hello world!python\n",
      "updated string:  hello python\n"
     ]
    }
   ],
   "source": [
    "# update strings\n",
    "\n",
    "var = \"hello world!\"\n",
    "print(\"updated string :\", var + \"python\")\n",
    "print(\"updated string: \",var[:6] + \"python\")"
   ]
  },
  {
   "cell_type": "code",
   "execution_count": null,
   "id": "a35a22cd",
   "metadata": {},
   "outputs": [],
   "source": [
    "string = \"this is python\"\n",
    "strlist = list(string)\n",
    "print(strlist)"
   ]
  },
  {
   "cell_type": "code",
   "execution_count": 6,
   "id": "ad08dee7",
   "metadata": {},
   "outputs": [
    {
     "data": {
      "text/plain": [
       "'2.346 anna is $34'"
      ]
     },
     "execution_count": 6,
     "metadata": {},
     "output_type": "execute_result"
    }
   ],
   "source": [
    "# string formatting\n",
    "format = '%.3f %s is $%d'\n",
    "format %(2.3456,\"anna\",34)"
   ]
  },
  {
   "cell_type": "code",
   "execution_count": 7,
   "id": "cfad0ea6",
   "metadata": {},
   "outputs": [
    {
     "name": "stdout",
     "output_type": "stream",
     "text": [
      "this is \"annamalai\" and iam \"vip\".\n"
     ]
    },
    {
     "data": {
      "text/plain": [
       "str"
      ]
     },
     "execution_count": 7,
     "metadata": {},
     "output_type": "execute_result"
    }
   ],
   "source": [
    "# triple quotes\n",
    "\n",
    "statement = \"\"\"this is \"annamalai\" and iam \"vip\".\"\"\"\n",
    "print(statement)\n",
    "type(statement)"
   ]
  },
  {
   "cell_type": "code",
   "execution_count": 8,
   "id": "5ee7a135",
   "metadata": {},
   "outputs": [
    {
     "name": "stdout",
     "output_type": "stream",
     "text": [
      "Python\n",
      "PYTHON\n",
      "python\n",
      "PyThOn\n"
     ]
    }
   ],
   "source": [
    "name = \"pYtHoN\"\n",
    "\n",
    "print(name.capitalize()) #first letter capital\n",
    "print(name.upper())\n",
    "print(name.lower())\n",
    "print(name.swapcase())"
   ]
  },
  {
   "cell_type": "code",
   "execution_count": 9,
   "id": "53e9dc0f",
   "metadata": {},
   "outputs": [
    {
     "data": {
      "text/plain": [
       "'                      pYtHoN                      '"
      ]
     },
     "execution_count": 9,
     "metadata": {},
     "output_type": "execute_result"
    }
   ],
   "source": [
    "# make a string at center\n",
    "name = \"pYtHoN\"\n",
    "name.center(50)"
   ]
  },
  {
   "cell_type": "code",
   "execution_count": 10,
   "id": "8f766715",
   "metadata": {},
   "outputs": [
    {
     "data": {
      "text/plain": [
       "'pYtHoN'"
      ]
     },
     "execution_count": 10,
     "metadata": {},
     "output_type": "execute_result"
    }
   ],
   "source": [
    "# to remove unwanted sapce\n",
    "Name = '                      pYtHoN                      '\n",
    "Name.strip()"
   ]
  },
  {
   "cell_type": "code",
   "execution_count": 11,
   "id": "21d73bcf",
   "metadata": {},
   "outputs": [
    {
     "data": {
      "text/plain": [
       "'pYtHoN                      '"
      ]
     },
     "execution_count": 11,
     "metadata": {},
     "output_type": "execute_result"
    }
   ],
   "source": [
    "Name = '                      pYtHoN                      '# left strip left sapce remove\n",
    "Name.lstrip()"
   ]
  },
  {
   "cell_type": "code",
   "execution_count": null,
   "id": "98aaa563",
   "metadata": {},
   "outputs": [],
   "source": [
    "name = '                      pYtHoN                      '\n",
    "name.rstrip()"
   ]
  },
  {
   "cell_type": "code",
   "execution_count": 3,
   "id": "9938182a",
   "metadata": {},
   "outputs": [
    {
     "name": "stdout",
     "output_type": "stream",
     "text": [
      "the count is =  4\n"
     ]
    }
   ],
   "source": [
    "# count he number of given occurancve of sa given sub string using start and end\n",
    "string = \"annamalai is vip\"\n",
    "substring = \"a\"\n",
    "count = string.count(substring)\n",
    "print(\"the count is = \",count)"
   ]
  },
  {
   "cell_type": "code",
   "execution_count": null,
   "id": "420d638d",
   "metadata": {},
   "outputs": [],
   "source": [
    "# count the range between 0 to 7\n",
    "count = string.count(substring,0,7)\n",
    "print(\"the count is = \",count)"
   ]
  },
  {
   "cell_type": "code",
   "execution_count": 12,
   "id": "2fcfd41d",
   "metadata": {},
   "outputs": [
    {
     "name": "stdout",
     "output_type": "stream",
     "text": [
      "<class 'str'>\n",
      "True\n"
     ]
    },
    {
     "data": {
      "text/plain": [
       "False"
      ]
     },
     "execution_count": 12,
     "metadata": {},
     "output_type": "execute_result"
    }
   ],
   "source": [
    "# return true or false if the string contain alpha numeric\n",
    "\n",
    "num = \"annamalai08\"\n",
    "print(type(num))\n",
    "print(num.isalnum())\n",
    "\n",
    "num1 = \"this is a string!!!\"\n",
    "num1.isalnum()"
   ]
  },
  {
   "cell_type": "code",
   "execution_count": 13,
   "id": "b48a9af1",
   "metadata": {},
   "outputs": [
    {
     "name": "stdout",
     "output_type": "stream",
     "text": [
      "True\n"
     ]
    },
    {
     "data": {
      "text/plain": [
       "False"
      ]
     },
     "execution_count": 13,
     "metadata": {},
     "output_type": "execute_result"
    }
   ],
   "source": [
    "# return true or false if the string contain alphabet\n",
    "num = \"annamalai\"\n",
    "print(num.isalpha())\n",
    "\n",
    "num = \"annamalai08\"\n",
    "num.isalpha()"
   ]
  },
  {
   "cell_type": "code",
   "execution_count": null,
   "id": "14fac9af",
   "metadata": {},
   "outputs": [],
   "source": [
    "# return true or false if the string contain digit\n",
    "num = \"12345\"\n",
    "print(num.isdigit())\n",
    "\n",
    "num = \"dhoni\"\n",
    "print(num.isdigit())\n"
   ]
  },
  {
   "cell_type": "code",
   "execution_count": 7,
   "id": "3305a1c7",
   "metadata": {},
   "outputs": [
    {
     "name": "stdout",
     "output_type": "stream",
     "text": [
      "it was a string example!! was really stringwas parwas was was was\n",
      "it was a string example!! was really stringwas paris is is is\n"
     ]
    }
   ],
   "source": [
    "# the following examply show that replace()\n",
    "\n",
    "reply = \"it is a string example!! is really stringis paris is is is\"\n",
    "print(reply.replace(\"is\", 'was'))\n",
    "print(reply.replace(\"is\", 'was', 3)) # first 3 it is replace"
   ]
  },
  {
   "cell_type": "code",
   "execution_count": 8,
   "id": "f6ab21bd",
   "metadata": {},
   "outputs": [
    {
     "name": "stdout",
     "output_type": "stream",
     "text": [
      "i:t: :i:s: :a: :s:t:r:i:n:g: :e:x:a:m:p:l:e:!:!: :i:s: :r:e:a:l:l:y: :s:t:r:i:n:g:i:s: :p:a:r:i:s: :i:s: :i:s: :i:s\n"
     ]
    }
   ],
   "source": [
    "# joining\n",
    "print(\":\".join(reply))"
   ]
  },
  {
   "cell_type": "code",
   "execution_count": null,
   "id": "af3c9734",
   "metadata": {},
   "outputs": [],
   "source": [
    "#the following example shows that split()\n",
    "split1 = \"line1-abcdef \\nline2-avfd \\nline3dfwjhjwsj\"\n",
    "print(split1.split())\n",
    "print(split1.split(\" \", 1)) # 1 time split"
   ]
  },
  {
   "cell_type": "code",
   "execution_count": 5,
   "id": "e25cf82e",
   "metadata": {},
   "outputs": [
    {
     "name": "stdout",
     "output_type": "stream",
     "text": [
      "19\n",
      "1.646834836 <class 'float'>\n"
     ]
    }
   ],
   "source": [
    "x = \"a-dspam_coincidence: 1.646834836\"\n",
    "y = x.find(\":\")\n",
    "print(y)\n",
    "\n",
    "num = float(x[y+1:])\n",
    "print(num, type(num))"
   ]
  },
  {
   "cell_type": "markdown",
   "id": "eb1df13c",
   "metadata": {},
   "source": [
    "# tuple asssignment\n"
   ]
  },
  {
   "cell_type": "code",
   "execution_count": null,
   "id": "7a170ec9",
   "metadata": {},
   "outputs": [],
   "source": [
    "# multiple variable packeed in tuple can assigned in a single statement (ex;(a,b,c) = (10, 20, 30))\n",
    "# variable and values should be same"
   ]
  },
  {
   "cell_type": "code",
   "execution_count": null,
   "id": "fe7db3fa",
   "metadata": {},
   "outputs": [],
   "source": [
    "# swap the values of two variables\n",
    "x = 2; y =3\n",
    "print(x,y)\n",
    "\n",
    "temp = x\n",
    "x = y\n",
    "y = temp\n",
    "print(x,y)"
   ]
  },
  {
   "cell_type": "code",
   "execution_count": null,
   "id": "5083d6e3",
   "metadata": {},
   "outputs": [],
   "source": [
    "# tuple assignment solve the problem neatly\n",
    "\n",
    "x = 2; y =3\n",
    "print(x,y)\n",
    "\n",
    "(x, y) = (y, x)\n",
    "print(x, y)"
   ]
  },
  {
   "cell_type": "code",
   "execution_count": null,
   "id": "51c5eb67",
   "metadata": {},
   "outputs": [],
   "source": [
    "# circulate the values of n variable\n",
    "\n",
    "#ex= n = 1 thrn re-arrange the number starting index as \"1\". index 0 will move at the end\n",
    "#ex= n = 2 thrn re-arrange the number starting index as \"2\". index 0 and 1 will move at the end"
   ]
  },
  {
   "cell_type": "code",
   "execution_count": 2,
   "id": "bd95a3ec",
   "metadata": {},
   "outputs": [
    {
     "name": "stdout",
     "output_type": "stream",
     "text": [
      "enter the list = 12345\n",
      "['1', '2', '3', '4', '5']\n"
     ]
    },
    {
     "data": {
      "text/plain": [
       "5"
      ]
     },
     "execution_count": 2,
     "metadata": {},
     "output_type": "execute_result"
    }
   ],
   "source": [
    "a = list (input(\"enter the list = \"))\n",
    "print(a)\n",
    "\n",
    "len(a)\n",
    "\n"
   ]
  },
  {
   "cell_type": "code",
   "execution_count": 3,
   "id": "46742e62",
   "metadata": {},
   "outputs": [
    {
     "name": "stdout",
     "output_type": "stream",
     "text": [
      "['2', '3', '4', '5', '1']\n",
      "['3', '4', '5', '1', '2']\n",
      "['4', '5', '1', '2', '3']\n",
      "['5', '1', '2', '3', '4']\n"
     ]
    }
   ],
   "source": [
    "# arrange the order based on the numbers\n",
    "\n",
    "for i in range(1, len(a), 1):\n",
    "    print(a[i:] + a[:i]) # shift location"
   ]
  },
  {
   "cell_type": "code",
   "execution_count": null,
   "id": "4d6e00ec",
   "metadata": {},
   "outputs": [],
   "source": [
    "for i in range (2, 30, 3):\n",
    "    print(i)"
   ]
  },
  {
   "cell_type": "markdown",
   "id": "991424e0",
   "metadata": {},
   "source": [
    "# distance betwwn two points\n"
   ]
  },
  {
   "cell_type": "code",
   "execution_count": null,
   "id": "8e577cc2",
   "metadata": {},
   "outputs": [],
   "source": [
    "# distance between two points otherwise called as eucledian distance\n",
    "# distance can never been negative\n",
    "# distance between the same point is zero\n",
    "# distance between i to j = j to i\n",
    "# distance between the two sides is greater than or equal to one side in traingle"
   ]
  },
  {
   "cell_type": "code",
   "execution_count": null,
   "id": "f08b0867",
   "metadata": {},
   "outputs": [],
   "source": [
    "# library- collection of code - programmer are done in past and we can reuse"
   ]
  },
  {
   "cell_type": "code",
   "execution_count": null,
   "id": "26846cdb",
   "metadata": {},
   "outputs": [],
   "source": [
    "import math # library\n",
    "\n",
    "x1 = int(input(\"enter the x1 = \"))\n",
    "y1 = int(input(\"enter the y1 = \"))\n",
    "\n",
    "print(x1,y1)"
   ]
  },
  {
   "cell_type": "code",
   "execution_count": null,
   "id": "f3fb2a46",
   "metadata": {},
   "outputs": [],
   "source": [
    "x2 = int(input(\"enter the x2 = \"))\n",
    "y2 = int(input(\"enter the y2 = \"))\n",
    "\n",
    "print(x2, y2)"
   ]
  },
  {
   "cell_type": "code",
   "execution_count": null,
   "id": "286c1ed6",
   "metadata": {},
   "outputs": [],
   "source": [
    "# distance between the two points in xy plain\n",
    "# euclidean distance method\n",
    "\n",
    "distance = math.sqrt(((x2 - x1)**2) + ((y2 - y1)**2))\n",
    "print(distance)"
   ]
  },
  {
   "cell_type": "markdown",
   "id": "ec9d3c72",
   "metadata": {},
   "source": [
    "# conditional statement"
   ]
  },
  {
   "cell_type": "code",
   "execution_count": null,
   "id": "68f4695b",
   "metadata": {},
   "outputs": [],
   "source": [
    "# if condition\n",
    "\n",
    "a = 29\n",
    "\n",
    "if a >= 22:\n",
    "    print(\"if\")\n",
    "    "
   ]
  },
  {
   "cell_type": "code",
   "execution_count": null,
   "id": "f3c9d2bd",
   "metadata": {},
   "outputs": [],
   "source": [
    "x = 2\n",
    "\n",
    "if x < 5:\n",
    "    print(x)\n",
    "print(5)    "
   ]
  },
  {
   "cell_type": "code",
   "execution_count": null,
   "id": "0b94f5be",
   "metadata": {},
   "outputs": [],
   "source": [
    "x = 2\n",
    "y = 25\n",
    "print(x)\n",
    "\n",
    "if x < y:\n",
    "    print(x)\n",
    "print(y)    "
   ]
  },
  {
   "cell_type": "code",
   "execution_count": 4,
   "id": "73f4c1dd",
   "metadata": {},
   "outputs": [
    {
     "name": "stdout",
     "output_type": "stream",
     "text": [
      "you are female\n"
     ]
    }
   ],
   "source": [
    "# if and else condition\n",
    "\n",
    "is_male = False\n",
    "\n",
    "if is_male: # true\n",
    "    print(\"you are male\")\n",
    "else: # false\n",
    "    print(\"you are female\")"
   ]
  },
  {
   "cell_type": "code",
   "execution_count": null,
   "id": "0d2f5994",
   "metadata": {},
   "outputs": [],
   "source": [
    "is_male = True\n",
    "\n",
    "if is_male:\n",
    "    print(\"you are male\")\n",
    "else:\n",
    "    print(\"you are female\")"
   ]
  },
  {
   "cell_type": "code",
   "execution_count": null,
   "id": "ddde5fa0",
   "metadata": {},
   "outputs": [],
   "source": [
    "a = 24\n",
    "\n",
    "if a >= 22:\n",
    "    print(\"if\")\n",
    "    print(\"once again\")\n",
    "elif a >= 21:\n",
    "    print('elif')\n",
    "else:\n",
    "    print('else')"
   ]
  },
  {
   "cell_type": "code",
   "execution_count": null,
   "id": "1a31ee4c",
   "metadata": {},
   "outputs": [],
   "source": [
    "is_male = False\n",
    "is_tall = False\n",
    "\n",
    "if is_male and is_tall:\n",
    "    print(\"you are tall male\")\n",
    "elif is_male and not(is_tall):\n",
    "    print(\"you are short male\")\n",
    "elif not(is_male) and is_tall:\n",
    "    print(\"you are not male\")\n",
    "else:\n",
    "    print(\"you are not male and not tall\")"
   ]
  },
  {
   "cell_type": "code",
   "execution_count": null,
   "id": "bef17370",
   "metadata": {},
   "outputs": [],
   "source": [
    "# nested if - condition inside a conditional statement\n",
    "\n",
    "score = 500\n",
    "money = 6000\n",
    "age = 55\n",
    "\n",
    "if score > 100:\n",
    "    print('you got good points')\n",
    "    if money >= 5000:\n",
    "        print('you win')\n",
    "        if age >= 30:\n",
    "            print(\"you are older age\")\n",
    "        else:\n",
    "            print(\"you are young age\")\n",
    "    else:\n",
    "        print(\"you lose\")\n",
    "else:\n",
    "    print('you got bad points')"
   ]
  },
  {
   "cell_type": "code",
   "execution_count": null,
   "id": "74ed01a8",
   "metadata": {},
   "outputs": [],
   "source": [
    "# testing for an element in the list\n",
    "\n",
    "list = ['annamalai', \"gopi\", 'bakiya', 'usha']\n",
    "\n",
    "if 'bakiya' in list:\n",
    "    print('found bakiya')\n",
    "    \n",
    "if \"usha\"  not in list:\n",
    "    print(\"usha not found\")"
   ]
  },
  {
   "cell_type": "markdown",
   "id": "a674cf67",
   "metadata": {},
   "source": [
    "# loops"
   ]
  },
  {
   "cell_type": "markdown",
   "id": "f4961ebc",
   "metadata": {},
   "source": [
    "we use loops because of we need instruction multiple times then we need to repeat the code again and again with the help of loop we can perform in fewer lines.\n",
    "\n",
    "ex: \"hello world\" print 1000 times then we neeed to write print 1000 times by using loop we can easily do few lines.\n",
    " \n",
    " types of loop: for, while, nested\n",
    " \n",
    " statement: continus,break, pass\n",
    " \n",
    " for: repeat the set of instruction until condition is false.it check condition before executing the body of the loop\n",
    " while: execute the set of instruction until the condition is satisfied\n",
    " nested: use loop inside the 'for' or 'while' loop\n",
    " \n",
    " continue: continue specific part of loop till the condition is true and leave the remaining part of the loop\n",
    " break: break the loop when the condition is met\n",
    " pass: when we don't want to run the condition, we use pass statement"
   ]
  },
  {
   "cell_type": "code",
   "execution_count": null,
   "id": "e03bc868",
   "metadata": {},
   "outputs": [],
   "source": [
    "# for loop\n",
    "# we use \"for\" keyword with the variable range,or pre_defined data types(list,set,dict,tuple,string) the looops end with colan\n",
    "\n"
   ]
  },
  {
   "cell_type": "code",
   "execution_count": null,
   "id": "6a9ab10f",
   "metadata": {},
   "outputs": [],
   "source": [
    "# example for for loop\n",
    "\n",
    "snacks = [\"pizza\", \"kalan\", 'burger', 'samosa', \"bajji\"]\n",
    "\n",
    "for snack in snacks:\n",
    "    print(\"current snacks : \", snack)\n",
    "print(\"good day\")    "
   ]
  },
  {
   "cell_type": "code",
   "execution_count": null,
   "id": "7396846e",
   "metadata": {},
   "outputs": [],
   "source": [
    "for i in range(1,23):\n",
    "    print(i)"
   ]
  },
  {
   "cell_type": "code",
   "execution_count": 15,
   "id": "f9273058",
   "metadata": {},
   "outputs": [
    {
     "name": "stdout",
     "output_type": "stream",
     "text": [
      "range(0, 10)\n"
     ]
    }
   ],
   "source": [
    "# range function will not return values\n",
    "\n",
    "numbers = range(10)\n",
    "print(numbers)"
   ]
  },
  {
   "cell_type": "code",
   "execution_count": null,
   "id": "ad552536",
   "metadata": {},
   "outputs": [],
   "source": [
    "a = list(range(0, 12))    # type error;list object is not callable\n",
    "a "
   ]
  },
  {
   "cell_type": "code",
   "execution_count": null,
   "id": "a67af664",
   "metadata": {},
   "outputs": [],
   "source": [
    "range(1, 5, 1)"
   ]
  },
  {
   "cell_type": "code",
   "execution_count": null,
   "id": "e0908814",
   "metadata": {},
   "outputs": [],
   "source": [
    "# range function using loop\n",
    "\n",
    "for i in range(1, 10, 2):\n",
    "    print(i)"
   ]
  },
  {
   "cell_type": "code",
   "execution_count": null,
   "id": "7fadb0ea",
   "metadata": {},
   "outputs": [],
   "source": [
    "for i in range(1,10):\n",
    "    print(\"20 hours class of day \", i)"
   ]
  },
  {
   "cell_type": "code",
   "execution_count": null,
   "id": "19b2a5ed",
   "metadata": {},
   "outputs": [],
   "source": [
    "# return the even numbers without applying any condition\n",
    "\n",
    "for i in range(0,20,2):\n",
    "    print(\"the even number is \", i)\n"
   ]
  },
  {
   "cell_type": "code",
   "execution_count": null,
   "id": "a2c2b322",
   "metadata": {},
   "outputs": [],
   "source": [
    "#Traversing list\n",
    "\n",
    "numbers = [2, 3, 5]\n",
    "sum = 0\n",
    "\n",
    "for num in numbers:\n",
    "    sum += num # sum = sum + num\n",
    "print(sum)    "
   ]
  },
  {
   "cell_type": "code",
   "execution_count": 5,
   "id": "3ed5d33d",
   "metadata": {},
   "outputs": [
    {
     "name": "stdout",
     "output_type": "stream",
     "text": [
      "[4, 5, 7]\n",
      "4\n",
      "5\n",
      "7\n"
     ]
    }
   ],
   "source": [
    "numbers = [2, 3, 5]\n",
    "\n",
    "getsum = [i + 2 for i in numbers]\n",
    "print(getsum)\n",
    "\n",
    "for i in numbers:\n",
    "    getsum = i + 2\n",
    "    print(getsum)    \n",
    "    \n",
    "    "
   ]
  },
  {
   "cell_type": "code",
   "execution_count": null,
   "id": "e70a0d51",
   "metadata": {},
   "outputs": [],
   "source": [
    "numbers = [2, 3, 5]\n",
    "\n",
    "getsum = [i +2 for i in numbers if i < 5]\n",
    "print(getsum)\n",
    "\n",
    "for i in numbers:\n",
    "    getsum = i + 2\n",
    "    if i < 5:\n",
    "        print(getsum) "
   ]
  },
  {
   "cell_type": "code",
   "execution_count": 7,
   "id": "f911b6b2",
   "metadata": {},
   "outputs": [
    {
     "name": "stdout",
     "output_type": "stream",
     "text": [
      "enter the number = 5\n",
      "1\n",
      "2\n",
      "6\n",
      "24\n",
      "120\n"
     ]
    }
   ],
   "source": [
    "# Nested 'for loop'\n",
    "# factorial\n",
    "\n",
    "num = int(input(\"enter the number = \"))\n",
    "factorial = 1\n",
    "\n",
    "if num < 0:\n",
    "    print(\"must be positive\")\n",
    "elif num == 0:\n",
    "    print(\"factorial is 0\")\n",
    "else:\n",
    "    for i in range(1, num + 1):\n",
    "        factorial = factorial * i\n",
    "        print(factorial)   \n"
   ]
  },
  {
   "cell_type": "code",
   "execution_count": null,
   "id": "f80f72d8",
   "metadata": {},
   "outputs": [],
   "source": [
    "list = [24, 56, 78, 97,31]\n",
    "\n",
    "for i in list:\n",
    "    if i % 2 == 0:\n",
    "        print(i,\"even number\")\n",
    "    else:\n",
    "        print(i, \"odd number\")"
   ]
  },
  {
   "cell_type": "code",
   "execution_count": 8,
   "id": "11f0b433",
   "metadata": {},
   "outputs": [
    {
     "name": "stdout",
     "output_type": "stream",
     "text": [
      "enter the number = 5\n",
      "120\n"
     ]
    }
   ],
   "source": [
    "num = int(input(\"enter the number = \"))\n",
    "factorial = 1\n",
    "\n",
    "for i in range(1, num + 1):\n",
    "    factorial = factorial * i\n",
    "print(factorial) "
   ]
  },
  {
   "cell_type": "code",
   "execution_count": null,
   "id": "da3c7205",
   "metadata": {},
   "outputs": [],
   "source": [
    "list = [ 34, 45, 56, 78, 99, 999]\n",
    "sum = 0\n",
    "\n",
    "for i in list:\n",
    "    sum += i\n",
    "print(sum)"
   ]
  },
  {
   "cell_type": "code",
   "execution_count": 10,
   "id": "f87dafa6",
   "metadata": {},
   "outputs": [],
   "source": [
    "# pass statement\n",
    "\n",
    "names = ['annamalai', 'amma', 'dad', 'anna', 'akka']\n",
    "\n",
    "for i in names:\n",
    "    pass\n",
    "        "
   ]
  },
  {
   "cell_type": "code",
   "execution_count": 11,
   "id": "0150ea17",
   "metadata": {},
   "outputs": [
    {
     "name": "stdout",
     "output_type": "stream",
     "text": [
      "my name is  annamalai\n",
      "my name is  amma\n",
      "my name is  anna\n",
      "my name is  akka\n",
      "dad\n"
     ]
    }
   ],
   "source": [
    "# continue\n",
    "\n",
    "for i in names:\n",
    "    if len(i) == 3:\n",
    "        continue\n",
    "    print(\"my name is \", i)\n",
    "    \n",
    "for i in names:\n",
    "    if len(i) == 3:\n",
    "        print(i)\n",
    "    "
   ]
  },
  {
   "cell_type": "code",
   "execution_count": null,
   "id": "e266fc1e",
   "metadata": {},
   "outputs": [],
   "source": [
    "for i in names:\n",
    "    if len(i) == 3:\n",
    "        break\n",
    "    print(\"name = \", i)    "
   ]
  },
  {
   "cell_type": "code",
   "execution_count": null,
   "id": "f2b53a08",
   "metadata": {},
   "outputs": [],
   "source": [
    "for i in range(1, 10):\n",
    "    if i == 5:\n",
    "        break\n",
    "    print(i)\n",
    "print('done')    "
   ]
  },
  {
   "cell_type": "code",
   "execution_count": 37,
   "id": "cc075585",
   "metadata": {},
   "outputs": [
    {
     "name": "stdout",
     "output_type": "stream",
     "text": [
      "        * \r\n",
      "       * * \r\n",
      "      * * * \r\n",
      "     * * * * \r\n",
      "    * * * * * \r\n",
      "   * * * * * * \r\n",
      "  * * * * * * * \r\n"
     ]
    }
   ],
   "source": [
    "n = 7\n",
    "k = n + 1\n",
    "\n",
    "for i in range(0, n):\n",
    "    for j in range(0, k):\n",
    "        print(\" \", end = \"\")\n",
    "    k = k - 1\n",
    "    for j in range(0, i+1):\n",
    "        print(\"* \", end = \"\")\n",
    "    print(\"\\r\")    \n",
    "        \n"
   ]
  },
  {
   "cell_type": "code",
   "execution_count": 101,
   "id": "7d4df9f0",
   "metadata": {},
   "outputs": [
    {
     "name": "stdout",
     "output_type": "stream",
     "text": [
      " * * * * * * * *\n",
      " * * * * * * *\n",
      " * * * * * *\n",
      " * * * * *\n",
      " * * * *\n",
      " * * *\n",
      " * *\n"
     ]
    }
   ],
   "source": [
    "n = 7\n",
    "k = n + 1\n",
    "\n",
    "for i in range(0, n):\n",
    "    for j in range(0, k):\n",
    "        print(\" \", end = \"\")\n",
    "    print()\n",
    "    k = k - 1"
   ]
  },
  {
   "cell_type": "code",
   "execution_count": null,
   "id": "9844be22",
   "metadata": {},
   "outputs": [],
   "source": [
    "# for else\n",
    "\n",
    "# if the else statement is used for loop, the else block is executed only if \"for\" loop terminates normally"
   ]
  },
  {
   "cell_type": "code",
   "execution_count": null,
   "id": "7c69ab63",
   "metadata": {},
   "outputs": [],
   "source": [
    "numbers = [11, 33, 55, 67, 97,43, 31, 39, 89, 21]\n",
    "\n",
    "for num in numbers:\n",
    "    if num % 2 == 0:\n",
    "        print(\"the list contain even number\")\n",
    "        break\n",
    "else:\n",
    "    print(\"the list does not contain even mumber\")"
   ]
  },
  {
   "cell_type": "code",
   "execution_count": 12,
   "id": "6e99d543",
   "metadata": {},
   "outputs": [
    {
     "name": "stdout",
     "output_type": "stream",
     "text": [
      "[(0, 'annamalai'), (1, 'amma'), (2, 'dad'), (3, 'anna'), (4, 'akka')]\n"
     ]
    },
    {
     "data": {
      "text/plain": [
       "<enumerate at 0x275df813440>"
      ]
     },
     "execution_count": 12,
     "metadata": {},
     "output_type": "execute_result"
    }
   ],
   "source": [
    "# enumerating the object of the list with sequential num\n",
    "\n",
    "names = ['annamalai', 'amma', 'dad', 'anna', 'akka']\n",
    "\n",
    "print(list(enumerate(names)))\n",
    "enumerate(names)"
   ]
  },
  {
   "cell_type": "code",
   "execution_count": null,
   "id": "33230c68",
   "metadata": {},
   "outputs": [],
   "source": [
    "for i,j in enumerate(names):\n",
    "    print('index is {0} and value of index {1}'.format(i,j))"
   ]
  },
  {
   "cell_type": "code",
   "execution_count": null,
   "id": "5f0c9a6f",
   "metadata": {},
   "outputs": [],
   "source": [
    "# while loop\n",
    "\n",
    "# the loop is used to iterate over a block code as long as the test expression\n",
    "\n",
    "i = 0\n",
    "\n",
    "while i < 10:\n",
    "    print(\"the number is \", i)\n",
    "    i = i + 1\n",
    "    \n",
    "    \n",
    "    "
   ]
  },
  {
   "cell_type": "code",
   "execution_count": null,
   "id": "d66eb62d",
   "metadata": {},
   "outputs": [],
   "source": [
    "i = 0\n",
    "while i < 10:\n",
    "    pass\n",
    "    i = i + 1"
   ]
  },
  {
   "cell_type": "code",
   "execution_count": null,
   "id": "df5f957d",
   "metadata": {},
   "outputs": [],
   "source": [
    "i = 0\n",
    "while i < 10:\n",
    "    i = i  + 1\n",
    "    if i == 5:\n",
    "        continue\n",
    "    print(\"the number is \", i)    "
   ]
  },
  {
   "cell_type": "code",
   "execution_count": null,
   "id": "fd8579be",
   "metadata": {},
   "outputs": [],
   "source": [
    "i = 0\n",
    "while i < 10:\n",
    "    i = i  + 1\n",
    "    if i == 5:\n",
    "        break\n",
    "    print(\"the number is \", i) "
   ]
  },
  {
   "cell_type": "code",
   "execution_count": null,
   "id": "0c4c81c3",
   "metadata": {},
   "outputs": [],
   "source": [
    "i = 0\n",
    "while i < 10:\n",
    "    print(\"number is\", i)\n",
    "    i = i + 1\n",
    "else:\n",
    "    print(\"the loop end\")"
   ]
  },
  {
   "cell_type": "code",
   "execution_count": 36,
   "id": "5268f8ec",
   "metadata": {},
   "outputs": [
    {
     "name": "stdout",
     "output_type": "stream",
     "text": [
      "[[1, 2, 3, 4], [5, 6, 7, 8]] \n",
      "\n",
      "square of 1 is 1\n",
      "square of 2 is 4\n",
      "square of 3 is 9\n",
      "square of 4 is 16\n",
      "\n",
      "\n",
      "square of 5 is 25\n",
      "square of 6 is 36\n",
      "square of 7 is 49\n",
      "square of 8 is 64\n",
      "\n",
      "\n"
     ]
    }
   ],
   "source": [
    "# nested loop: we can use loop inside the loopo or than one times\n",
    "\n",
    "list = [[1, 2, 3, 4], [5, 6, 7, 8]]\n",
    "print(list, '\\n')\n",
    "\n",
    "for i in list:\n",
    "    for j in i:\n",
    "        print(f'square of {j} is', j ** 2)\n",
    "    print('\\n')    \n",
    "        "
   ]
  },
  {
   "cell_type": "code",
   "execution_count": null,
   "id": "ad796727",
   "metadata": {},
   "outputs": [],
   "source": [
    "# define function\n",
    "\n",
    "# imagine ther e are 1000 of codes created based on the requirements without using function\n",
    "# if the reuirement repeated in the same code we can use function\n",
    "\n",
    "print(\"hello world\")\n",
    "print(\"hello world\")\n",
    "print(\"hello world\")\n",
    "print(\"hello world\")\n",
    "\n",
    "def hello():\n",
    "    print(\"hello worst world\")\n",
    "    \n",
    "hello()   \n",
    "\n"
   ]
  },
  {
   "cell_type": "code",
   "execution_count": null,
   "id": "080f7f93",
   "metadata": {},
   "outputs": [],
   "source": [
    "# not defined any value but just defined function\n",
    "\n",
    "def hello_fun():\n",
    "    pass"
   ]
  },
  {
   "cell_type": "code",
   "execution_count": 18,
   "id": "2ae73712",
   "metadata": {},
   "outputs": [
    {
     "name": "stdout",
     "output_type": "stream",
     "text": [
      "my name is  annamalai my age is  24 my salry around  220000\n"
     ]
    }
   ],
   "source": [
    "def sayhello(name, age, salary):\n",
    "    print(\"my name is \", name, \"my age is \", age, \"my salry around \", salary)\n",
    "\n",
    "sayhello(\"annamalai\",24,220000)    \n"
   ]
  },
  {
   "cell_type": "code",
   "execution_count": null,
   "id": "e6835164",
   "metadata": {},
   "outputs": [],
   "source": [
    "# formal and actual arguments\n",
    "\n",
    "# fun definition\n",
    "def add(a,b):\n",
    "    return a * b\n",
    "add(3,4) # fun call"
   ]
  },
  {
   "cell_type": "code",
   "execution_count": null,
   "id": "d1ff7743",
   "metadata": {},
   "outputs": [],
   "source": [
    "# positional arguments\n",
    "\n",
    "def rectangular_area(length,breadth):\n",
    "    return length * breadth\n",
    "rectangular_area(length = 3, breadth = 6)"
   ]
  },
  {
   "cell_type": "code",
   "execution_count": null,
   "id": "e2ce34fa",
   "metadata": {},
   "outputs": [],
   "source": [
    "def print_max(a,b):\n",
    "    if a > b:\n",
    "        print(a, 'is maximum')\n",
    "    elif a ==b:\n",
    "        print(a, \"equal to\", b)\n",
    "    else:\n",
    "        print(b, 'is maximum')\n",
    "        \n",
    "print_max(3,8)        "
   ]
  },
  {
   "cell_type": "code",
   "execution_count": null,
   "id": "0ef93a69",
   "metadata": {},
   "outputs": [],
   "source": [
    "def say(message, times=1):\n",
    "    print(message * times)\n",
    "    \n",
    "say(\"hello\")\n",
    "say('hello',5)\n"
   ]
  },
  {
   "cell_type": "code",
   "execution_count": 13,
   "id": "925a2ebf",
   "metadata": {},
   "outputs": [
    {
     "name": "stdout",
     "output_type": "stream",
     "text": [
      "a is 78 b is 89 c is 8\n",
      "a is 65 b is 100 c is 8\n",
      "a is 23 b is 5 c is 98\n"
     ]
    }
   ],
   "source": [
    "def func(a , b = 5, c = 8):\n",
    "    print('a is', a, 'b is', b, \"c is\", c)\n",
    "func(78,89)\n",
    "func(b=100, a=65)\n",
    "func(23, c=98)"
   ]
  },
  {
   "cell_type": "code",
   "execution_count": 8,
   "id": "18dbd9ea",
   "metadata": {},
   "outputs": [
    {
     "name": "stdout",
     "output_type": "stream",
     "text": [
      "x is still 50\n",
      "x is 50\n",
      "change local x to 2\n"
     ]
    }
   ],
   "source": [
    "x = 50\n",
    "\n",
    "def fun(x):\n",
    "    print('x is', x)\n",
    "    x = 2\n",
    "    print('change local x to', x)\n",
    "print('x is still', x)\n",
    "\n",
    "fun(x)"
   ]
  },
  {
   "cell_type": "code",
   "execution_count": 14,
   "id": "44252eaf",
   "metadata": {},
   "outputs": [
    {
     "name": "stdout",
     "output_type": "stream",
     "text": [
      "hello\n",
      "welcome\n",
      "to\n",
      "my room\n"
     ]
    }
   ],
   "source": [
    "# VARIABLE ARGUMENTS\n",
    "# *ARGS foe variable number of arguments\n",
    "\n",
    "def myfun(*argu):\n",
    "    for arg in argu:\n",
    "        print(arg)\n",
    "        \n",
    "myfun('hello', 'welcome', 'to', 'my room')        "
   ]
  },
  {
   "cell_type": "code",
   "execution_count": null,
   "id": "c279813f",
   "metadata": {},
   "outputs": [],
   "source": [
    "# using **kwargs to pass the variable keyword arguments to the function\n",
    "\n",
    "def intro(**data):\n",
    "    print(\"\\ndata type of arguments :\", type(data))\n",
    "    \n",
    "    for key, value in data.items():\n",
    "        print('{} is {}'.format(key,value))\n",
    "    \n",
    "intro(first_name = \"annamalai\", age = 24, status = \"vip\")    \n",
    "\n"
   ]
  },
  {
   "cell_type": "code",
   "execution_count": null,
   "id": "86e922ae",
   "metadata": {},
   "outputs": [],
   "source": [
    "def tot(initial, *numbers, **keywords):\n",
    "    count = initial\n",
    "    for number in numbers:\n",
    "        count += number\n",
    "    for key in keywords:\n",
    "        count += keywords[key]\n",
    "    return count\n",
    "\n",
    "print(tot(10, 12, 13, 14, vegetables = 50, fruits = 10))"
   ]
  },
  {
   "cell_type": "code",
   "execution_count": 15,
   "id": "0900a126",
   "metadata": {},
   "outputs": [
    {
     "name": "stdout",
     "output_type": "stream",
     "text": [
      "enter the number = 5\n",
      "enter the number = 4\n",
      "enter the symbol = +\n",
      "+++\n",
      "+++\n",
      "+++\n",
      "+++\n"
     ]
    }
   ],
   "source": [
    "rows = int(input('enter the number = '))\n",
    "column = int(input('enter the number = '))\n",
    "symbol = input('enter the symbol = ')\n",
    "\n",
    "for i in range(1, rows):\n",
    "    for j in range(1, column):\n",
    "        print(symbol, end = \"\")\n",
    "    print(\"\")    "
   ]
  },
  {
   "cell_type": "code",
   "execution_count": 9,
   "id": "f8a0e0b9",
   "metadata": {},
   "outputs": [
    {
     "name": "stdout",
     "output_type": "stream",
     "text": [
      "5\n",
      "number is 5\n"
     ]
    }
   ],
   "source": [
    "# fun call stack\n",
    "# locals(), global()\n",
    "\n",
    "x = 5 # global variable\n",
    "\n",
    "def new():\n",
    "    print('number is', x)\n",
    "print(x)    \n",
    "\n",
    "new()    "
   ]
  },
  {
   "cell_type": "code",
   "execution_count": 13,
   "id": "b978ded4",
   "metadata": {},
   "outputs": [
    {
     "name": "stdout",
     "output_type": "stream",
     "text": [
      "10\n",
      "the number is 1\n"
     ]
    }
   ],
   "source": [
    "x = 10\n",
    "def new():\n",
    "    x = 1 # local variable\n",
    "    print(\"the number is\", x)\n",
    "    \n",
    "print(x) \n",
    "\n",
    "new()"
   ]
  },
  {
   "cell_type": "code",
   "execution_count": 19,
   "id": "bb36c11c",
   "metadata": {},
   "outputs": [
    {
     "name": "stdout",
     "output_type": "stream",
     "text": [
      "%%%%%%%%\n",
      "annamalai is 24 years and lives in kundrathur.\n",
      "dhoni is 25 years and lives in chennai.\n"
     ]
    }
   ],
   "source": [
    "age = 24\n",
    "name = \"annamalai\"\n",
    "place = [\"chennai\", \"kundrathur\", \"redhills\"] # this are global variable\n",
    "\n",
    "def local():\n",
    "    age = 25 \n",
    "    name = \"dhoni\" # this are local variable\n",
    "    print(\"%s is %i years and lives in %s.\" % (name,age,place[0]))\n",
    "    return\n",
    "    \n",
    "print(\"%%%%%%%%\")\n",
    "print(\"%s is %i years and lives in %s.\" % (name,age,place[1]))\n",
    "\n",
    "local()"
   ]
  },
  {
   "cell_type": "code",
   "execution_count": 21,
   "id": "94c34f7d",
   "metadata": {},
   "outputs": [
    {
     "name": "stdout",
     "output_type": "stream",
     "text": [
      "* * * * * * * * \n"
     ]
    }
   ],
   "source": [
    "print(\"* \"* 8)"
   ]
  },
  {
   "cell_type": "code",
   "execution_count": 80,
   "id": "cd5a5bff",
   "metadata": {},
   "outputs": [
    {
     "name": "stdout",
     "output_type": "stream",
     "text": [
      "* \n",
      "* * \n",
      "* * * \n",
      "* * * * \n",
      "* * * * * \n"
     ]
    }
   ],
   "source": [
    "row = 5\n",
    "\n",
    "for i in range(5):\n",
    "    for j in range(i + 1):\n",
    "        print(\"*\", end = ' ')\n",
    "    print()    \n",
    "    "
   ]
  },
  {
   "cell_type": "code",
   "execution_count": 98,
   "id": "71d154bb",
   "metadata": {},
   "outputs": [
    {
     "name": "stdout",
     "output_type": "stream",
     "text": [
      "* * * * * \n",
      "* * * * * \n",
      "* * * * * \n"
     ]
    }
   ],
   "source": [
    "row = 3\n",
    "\n",
    "for i in range(row):\n",
    "    for j in range(5):\n",
    "        print('*', end = ' ')\n",
    "    print()\n",
    "        "
   ]
  },
  {
   "cell_type": "code",
   "execution_count": 92,
   "id": "1e6cd441",
   "metadata": {},
   "outputs": [
    {
     "name": "stdout",
     "output_type": "stream",
     "text": [
      "27 \n"
     ]
    }
   ],
   "source": [
    "a = 3\n",
    "print(a * 9, end = ' ')\n",
    "print()"
   ]
  },
  {
   "cell_type": "code",
   "execution_count": 29,
   "id": "d00d32d3",
   "metadata": {},
   "outputs": [
    {
     "name": "stdout",
     "output_type": "stream",
     "text": [
      "number is 9\n",
      "9\n"
     ]
    }
   ],
   "source": [
    "# decline global variable with in the function\n",
    "\n",
    "x = 8\n",
    "\n",
    "def new():\n",
    "    global x\n",
    "    x = 9\n",
    "    print('number is', x)\n",
    "    \n",
    "new()\n",
    "print(x)"
   ]
  },
  {
   "cell_type": "code",
   "execution_count": 32,
   "id": "98567d29",
   "metadata": {},
   "outputs": [
    {
     "name": "stdout",
     "output_type": "stream",
     "text": [
      "factorial of 6! is 720\n"
     ]
    }
   ],
   "source": [
    "# recursion (using conditions and loops)\n",
    "# without recursion declaring the function\n",
    "\n",
    "def fact(n):\n",
    "    if n < 0:\n",
    "        print('number should be positive')\n",
    "    elif n == 0:\n",
    "        print(f\"factorial of {n}! is {1}\")\n",
    "    else:\n",
    "        fact = 1\n",
    "        for i in range(1, n+1):\n",
    "            fact *= i\n",
    "        print(f\"factorial of {n}! is {fact}\")  \n",
    "        \n",
    "fact(6)        "
   ]
  },
  {
   "cell_type": "code",
   "execution_count": 34,
   "id": "f1bfc971",
   "metadata": {},
   "outputs": [
    {
     "data": {
      "text/plain": [
       "720"
      ]
     },
     "execution_count": 34,
     "metadata": {},
     "output_type": "execute_result"
    }
   ],
   "source": [
    "def fact(n):\n",
    "    if n < 0:\n",
    "        print('number should be positive')\n",
    "    elif n == 0:\n",
    "        print(f\"factorial of {n}! is {1}\")\n",
    "    elif n == 1:\n",
    "        return 1\n",
    "    else:\n",
    "        return (n * fact(n-1))\n",
    "fact(6)    "
   ]
  },
  {
   "cell_type": "code",
   "execution_count": 39,
   "id": "101c0b41",
   "metadata": {},
   "outputs": [
    {
     "name": "stdout",
     "output_type": "stream",
     "text": [
      "[1, 3, 5, 7, 9, 11]\n"
     ]
    }
   ],
   "source": [
    "new_list = [i for i in range(12) if i % 2 == 1]\n",
    "print(new_list)"
   ]
  },
  {
   "cell_type": "code",
   "execution_count": 1,
   "id": "9fb7d51e",
   "metadata": {},
   "outputs": [
    {
     "data": {
      "text/plain": [
       "[36, 164, 163, 165, 162]"
      ]
     },
     "execution_count": 1,
     "metadata": {},
     "output_type": "execute_result"
    }
   ],
   "source": [
    "# list comprehension and readability (comprehension means single line of code)\n",
    "\n",
    "# built a list of unicode codepoints from string in a ordinary way\n",
    "\n",
    "symbols = '$¤£¥¢'\n",
    "codes = []\n",
    "\n",
    "for symbol in symbols:\n",
    "    codes.append(ord(symbol))\n",
    "\n",
    "codes\n"
   ]
  },
  {
   "cell_type": "code",
   "execution_count": 12,
   "id": "d5974f4e",
   "metadata": {},
   "outputs": [
    {
     "data": {
      "text/plain": [
       "[165, 164, 163, 162, 36]"
      ]
     },
     "execution_count": 12,
     "metadata": {},
     "output_type": "execute_result"
    }
   ],
   "source": [
    "# alternative way to perform the above unicode using list comprehension\n",
    "\n",
    "codes = [ord(symbol) for symbol in symbols]\n",
    "codes.sort()\n",
    "codes.reverse()\n",
    "codes"
   ]
  },
  {
   "cell_type": "code",
   "execution_count": 3,
   "id": "fe9a80de",
   "metadata": {},
   "outputs": [
    {
     "name": "stdout",
     "output_type": "stream",
     "text": [
      "range(0, 10)\n",
      "{0: 0, 2: 4, 4: 16, 6: 36, 8: 64}\n"
     ]
    }
   ],
   "source": [
    "# dictionery comprehension\n",
    "\n",
    "numbers = range(10)\n",
    "print(numbers)\n",
    "\n",
    "new_dict = {}\n",
    "\n",
    "for n in numbers:\n",
    "    if n % 2 == 0:\n",
    "        new_dict[n] = n ** 2\n",
    "    \n",
    "print(new_dict)    "
   ]
  },
  {
   "cell_type": "code",
   "execution_count": 7,
   "id": "ef366883",
   "metadata": {},
   "outputs": [
    {
     "name": "stdout",
     "output_type": "stream",
     "text": [
      "{0: 0, 2: 4, 4: 16, 6: 36, 8: 64}\n"
     ]
    }
   ],
   "source": [
    "dictionery = {n: n**2 for n in numbers if n % 2 == 0}\n",
    "\n",
    "print(dictionery)"
   ]
  },
  {
   "cell_type": "code",
   "execution_count": 14,
   "id": "944dc39e",
   "metadata": {},
   "outputs": [
    {
     "name": "stdout",
     "output_type": "stream",
     "text": [
      "{'aa': 2, 'bb': 4, 'cc': 6, 'dd': 8, 'ee': 10}\n"
     ]
    }
   ],
   "source": [
    "dict1 = {'a': 1, 'b': 2, 'c' : 3, 'd' : 4, 'e' : 5}\n",
    "dict1_keys = {k*2 : v*2 for (k,v) in dict1.items()}\n",
    "print(dict1_keys)"
   ]
  },
  {
   "cell_type": "code",
   "execution_count": 16,
   "id": "bd6a6447",
   "metadata": {},
   "outputs": [
    {
     "name": "stdout",
     "output_type": "stream",
     "text": [
      "the zipped result is \n",
      "{('annamalai', 3, 70), ('nilani', 1, 100), ('sri', 2, 99), ('gopi', 4, 90)}\n"
     ]
    }
   ],
   "source": [
    "# zip and unzip\n",
    "\n",
    "name = ['annamalai', 'gopi', 'nilani', 'sri']\n",
    "roll_no = [ 3, 4, 1, 2]\n",
    "marks = [ 70, 90, 100, 99]\n",
    "\n",
    "mapped = zip(name,roll_no,marks) # using zip to map values\n",
    "\n",
    "mapped = set(mapped) # converting values to print as set\n",
    "\n",
    "print(\"the zipped result is \")\n",
    "print(mapped)"
   ]
  },
  {
   "cell_type": "code",
   "execution_count": 17,
   "id": "8ae49042",
   "metadata": {},
   "outputs": [
    {
     "name": "stdout",
     "output_type": "stream",
     "text": [
      "[('annamalai', 'nilani', 'sri', 'gopi'), (3, 1, 2, 4), (70, 100, 99, 90)]\n"
     ]
    }
   ],
   "source": [
    "unzip = zip(*mapped)\n",
    "\n",
    "unzip = list(unzip)\n",
    "\n",
    "print(unzip)"
   ]
  },
  {
   "cell_type": "code",
   "execution_count": 25,
   "id": "76a87a66",
   "metadata": {},
   "outputs": [
    {
     "name": "stdout",
     "output_type": "stream",
     "text": [
      "the unzipped result is : \n",
      "the name list is : ('annamalai', 'nilani', 'sri', 'gopi')\n",
      "the roll_noz list is : (3, 1, 2, 4)\n",
      "the markz list is : (70, 100, 99, 90)\n"
     ]
    }
   ],
   "source": [
    "namz, roll_noz , marksz = zip(*mapped)\n",
    "\n",
    "print(\"the unzipped result is : \\n\", end = \"\")\n",
    "print(\"the name list is : \", end = '')\n",
    "print(namz)\n",
    "print(\"the roll_noz list is : \", end = '')\n",
    "print(roll_noz)\n",
    "print(\"the markz list is : \", end = '')\n",
    "print(marksz)"
   ]
  },
  {
   "cell_type": "code",
   "execution_count": 35,
   "id": "3e6a6ca7",
   "metadata": {},
   "outputs": [
    {
     "name": "stdout",
     "output_type": "stream",
     "text": [
      "annamalai\n",
      "nilani\n"
     ]
    }
   ],
   "source": [
    "a = 'annamalai'\n",
    "b = 'nilani'\n",
    "\n",
    "print(a)\n",
    "\"\\n\"\n",
    "print(b)"
   ]
  },
  {
   "cell_type": "code",
   "execution_count": 38,
   "id": "21043564",
   "metadata": {},
   "outputs": [
    {
     "data": {
      "text/plain": [
       "['cat', 'cockroach', 'dog', 'elephant', 'monkey', 'snake', 'zebra']"
      ]
     },
     "execution_count": 38,
     "metadata": {},
     "output_type": "execute_result"
    }
   ],
   "source": [
    "# built in sort function\n",
    "\n",
    "animals = ['dog', 'elephant', 'cat', 'zebra', 'monkey', 'snake', 'cockroach']\n",
    "sorted(animals)"
   ]
  },
  {
   "cell_type": "code",
   "execution_count": 47,
   "id": "afd59043",
   "metadata": {},
   "outputs": [
    {
     "data": {
      "text/plain": [
       "['zebra', 'snake', 'monkey', 'elephant', 'dog', 'cockroach', 'cat']"
      ]
     },
     "execution_count": 47,
     "metadata": {},
     "output_type": "execute_result"
    }
   ],
   "source": [
    "# descending\n",
    "sorted(animals, reverse = True)"
   ]
  },
  {
   "cell_type": "code",
   "execution_count": 48,
   "id": "d6081f7c",
   "metadata": {},
   "outputs": [
    {
     "data": {
      "text/plain": [
       "['cat', 'dog', 'snake', 'zebra', 'monkey', 'elephant', 'cockroach']"
      ]
     },
     "execution_count": 48,
     "metadata": {},
     "output_type": "execute_result"
    }
   ],
   "source": [
    "#ascending order with respect to character\n",
    "sorted(animals, key = len)"
   ]
  },
  {
   "cell_type": "code",
   "execution_count": 49,
   "id": "ab9cf28d",
   "metadata": {},
   "outputs": [
    {
     "data": {
      "text/plain": [
       "['cockroach', 'elephant', 'monkey', 'snake', 'zebra', 'cat', 'dog']"
      ]
     },
     "execution_count": 49,
     "metadata": {},
     "output_type": "execute_result"
    }
   ],
   "source": [
    "# descending ordwe with respect to character\n",
    "sorted(animals, key = len, reverse = True) # if the len is same it comes to left to right"
   ]
  },
  {
   "cell_type": "code",
   "execution_count": 50,
   "id": "b6e58ac3",
   "metadata": {},
   "outputs": [
    {
     "data": {
      "text/plain": [
       "['cat', 'cockroach', 'dog', 'elephant', 'monkey', 'snake', 'zebra']"
      ]
     },
     "execution_count": 50,
     "metadata": {},
     "output_type": "execute_result"
    }
   ],
   "source": [
    "# built in function\n",
    "\n",
    "animals.sort()\n",
    "animals"
   ]
  },
  {
   "cell_type": "markdown",
   "id": "ef113f09",
   "metadata": {},
   "source": [
    "# augumented assignment with sequence\n"
   ]
  },
  {
   "cell_type": "code",
   "execution_count": 55,
   "id": "82083e3f",
   "metadata": {},
   "outputs": [
    {
     "name": "stdout",
     "output_type": "stream",
     "text": [
      "2227391760576 [1, 2, 3]\n",
      "2227391760576 [1, 2, 3, 1, 2, 3]\n"
     ]
    }
   ],
   "source": [
    "l = [1, 2, 3]\n",
    "\n",
    "print(id(l), l)\n",
    "\n",
    "# ID of list will not change just append the values in the same id(list is mutable)\n",
    "\n",
    "l *= 2\n",
    "print(id(l), l)"
   ]
  },
  {
   "cell_type": "code",
   "execution_count": 58,
   "id": "d1b119bd",
   "metadata": {},
   "outputs": [
    {
     "name": "stdout",
     "output_type": "stream",
     "text": [
      "2227390747968 (1, 2, 3)\n",
      "2227391999008 (1, 2, 3, 1, 2, 3)\n"
     ]
    }
   ],
   "source": [
    "t = (1,2,3)\n",
    "print(id(t), t)\n",
    "\n",
    "t *= 2 # it can't replace create a new value or location(it is immutable)\n",
    "print(id(t), t)"
   ]
  },
  {
   "cell_type": "code",
   "execution_count": 59,
   "id": "437a05d7",
   "metadata": {},
   "outputs": [],
   "source": [
    "# list is mutable - same memory location is getting updated\n",
    "# set is immutable - creating diffferent memory location"
   ]
  },
  {
   "cell_type": "markdown",
   "id": "1f719b82",
   "metadata": {},
   "source": [
    "# Handling missing values"
   ]
  },
  {
   "cell_type": "code",
   "execution_count": 61,
   "id": "f84da0f9",
   "metadata": {},
   "outputs": [
    {
     "ename": "KeyError",
     "evalue": "'c'",
     "output_type": "error",
     "traceback": [
      "\u001b[1;31m---------------------------------------------------------------------------\u001b[0m",
      "\u001b[1;31mKeyError\u001b[0m                                  Traceback (most recent call last)",
      "Cell \u001b[1;32mIn[61], line 3\u001b[0m\n\u001b[0;32m      1\u001b[0m d \u001b[38;5;241m=\u001b[39m {\u001b[38;5;124m'\u001b[39m\u001b[38;5;124ma\u001b[39m\u001b[38;5;124m'\u001b[39m : \u001b[38;5;241m1\u001b[39m, \u001b[38;5;124m'\u001b[39m\u001b[38;5;124mb\u001b[39m\u001b[38;5;124m'\u001b[39m : \u001b[38;5;241m2\u001b[39m}\n\u001b[1;32m----> 3\u001b[0m \u001b[38;5;28mprint\u001b[39m(\u001b[43md\u001b[49m\u001b[43m[\u001b[49m\u001b[38;5;124;43m'\u001b[39;49m\u001b[38;5;124;43mc\u001b[39;49m\u001b[38;5;124;43m'\u001b[39;49m\u001b[43m]\u001b[49m)\n",
      "\u001b[1;31mKeyError\u001b[0m: 'c'"
     ]
    }
   ],
   "source": [
    "d = {'a' : 1, 'b' : 2}\n",
    "\n",
    "print(d['c'])"
   ]
  },
  {
   "cell_type": "code",
   "execution_count": 24,
   "id": "026761dc",
   "metadata": {},
   "outputs": [
    {
     "name": "stdout",
     "output_type": "stream",
     "text": [
      "1\n",
      "there is no error\n"
     ]
    }
   ],
   "source": [
    "d = {'a' : 1, 'b' : 2}\n",
    "print(d['a'])\n",
    "\n",
    "try:\n",
    "    print(d['c'])\n",
    "    \n",
    "except:KeyError\n",
    "print(\"there is no error\")"
   ]
  },
  {
   "cell_type": "code",
   "execution_count": 67,
   "id": "38568381",
   "metadata": {},
   "outputs": [
    {
     "name": "stdout",
     "output_type": "stream",
     "text": [
      "the values of a is 1\n",
      "the values of c is key not available\n"
     ]
    }
   ],
   "source": [
    "# we can handle these kind of errors\n",
    "# importing collect for default dictionery, collection is a library\n",
    "# lambda = nameless function\n",
    "\n",
    "import collections as cl\n",
    "\n",
    "defd = cl.defaultdict(lambda : 'key not available')\n",
    "\n",
    "defd['a'] = 1\n",
    "defd['b'] = 2\n",
    "\n",
    "\n",
    "print('the values of a is ', end = '')\n",
    "print(defd['a'])\n",
    "\n",
    "print('the values of c is ', end = '')\n",
    "print(defd['c'])\n"
   ]
  },
  {
   "cell_type": "code",
   "execution_count": 8,
   "id": "b4d3366d",
   "metadata": {},
   "outputs": [
    {
     "data": {
      "text/plain": [
       "144"
      ]
     },
     "execution_count": 8,
     "metadata": {},
     "output_type": "execute_result"
    }
   ],
   "source": [
    "# lambda function\n",
    "\n",
    "s = lambda x : x * x\n",
    "s(12)"
   ]
  },
  {
   "cell_type": "code",
   "execution_count": 9,
   "id": "a4fa5106",
   "metadata": {},
   "outputs": [
    {
     "data": {
      "text/plain": [
       "[2, 4, 6, 8, 10]"
      ]
     },
     "execution_count": 9,
     "metadata": {},
     "output_type": "execute_result"
    }
   ],
   "source": [
    "# map function\n",
    "\n",
    "val = [1, 2, 3, 4, 5]\n",
    "\n",
    "list(map(lambda x: x*2, val)) # filter(function,iterable)"
   ]
  },
  {
   "cell_type": "code",
   "execution_count": 10,
   "id": "fe50d85b",
   "metadata": {},
   "outputs": [
    {
     "data": {
      "text/plain": [
       "['1', '2', '3', '4', '5']"
      ]
     },
     "execution_count": 10,
     "metadata": {},
     "output_type": "execute_result"
    }
   ],
   "source": [
    "list(map(str,val))"
   ]
  },
  {
   "cell_type": "code",
   "execution_count": 13,
   "id": "15c82b39",
   "metadata": {},
   "outputs": [
    {
     "data": {
      "text/plain": [
       "[2, 4]"
      ]
     },
     "execution_count": 13,
     "metadata": {},
     "output_type": "execute_result"
    }
   ],
   "source": [
    "# filter function (function return true false)\n",
    "\n",
    "list(filter(lambda x : x%2 == 0, val))"
   ]
  },
  {
   "cell_type": "code",
   "execution_count": 15,
   "id": "0cce3824",
   "metadata": {},
   "outputs": [
    {
     "data": {
      "text/plain": [
       "[1,\n",
       " 2,\n",
       " 3,\n",
       " 4,\n",
       " 5,\n",
       " 6,\n",
       " 7,\n",
       " 8,\n",
       " 9,\n",
       " 10,\n",
       " 11,\n",
       " 12,\n",
       " 13,\n",
       " 14,\n",
       " 15,\n",
       " 16,\n",
       " 17,\n",
       " 18,\n",
       " 19,\n",
       " 20,\n",
       " 21,\n",
       " 22,\n",
       " 23,\n",
       " 24,\n",
       " 25,\n",
       " 26,\n",
       " 27,\n",
       " 28,\n",
       " 29,\n",
       " 30,\n",
       " 31,\n",
       " 32,\n",
       " 33,\n",
       " 34,\n",
       " 35,\n",
       " 36,\n",
       " 37,\n",
       " 38,\n",
       " 39,\n",
       " 40,\n",
       " 41,\n",
       " 42,\n",
       " 43,\n",
       " 44,\n",
       " 45,\n",
       " 46,\n",
       " 47,\n",
       " 48,\n",
       " 49]"
      ]
     },
     "execution_count": 15,
     "metadata": {},
     "output_type": "execute_result"
    }
   ],
   "source": [
    "list(filter(lambda x : x < 50, range(1,100)))"
   ]
  },
  {
   "cell_type": "code",
   "execution_count": 24,
   "id": "93ec78b8",
   "metadata": {},
   "outputs": [
    {
     "data": {
      "text/plain": [
       "720"
      ]
     },
     "execution_count": 24,
     "metadata": {},
     "output_type": "execute_result"
    }
   ],
   "source": [
    "# reduce fumnction\n",
    "\n",
    "from functools import reduce\n",
    "\n",
    "val = [1, 2, 3, 4, 5, 6]\n",
    "\n",
    "reduce(lambda x,y : x * y, val)"
   ]
  },
  {
   "cell_type": "code",
   "execution_count": 25,
   "id": "a45bc6a7",
   "metadata": {},
   "outputs": [
    {
     "name": "stdout",
     "output_type": "stream",
     "text": [
      "4950\n"
     ]
    }
   ],
   "source": [
    "import functools\n",
    "\n",
    "lis = range(1,100)\n",
    "\n",
    "sum = functools.reduce(lambda x,y : x + y, lis)\n",
    "print(sum)"
   ]
  },
  {
   "cell_type": "code",
   "execution_count": 27,
   "id": "60ecd37e",
   "metadata": {},
   "outputs": [
    {
     "name": "stdout",
     "output_type": "stream",
     "text": [
      "Help on built-in function reduce in module _functools:\n",
      "\n",
      "reduce(...)\n",
      "    reduce(function, iterable[, initial]) -> value\n",
      "    \n",
      "    Apply a function of two arguments cumulatively to the items of a sequence\n",
      "    or iterable, from left to right, so as to reduce the iterable to a single\n",
      "    value.  For example, reduce(lambda x, y: x+y, [1, 2, 3, 4, 5]) calculates\n",
      "    ((((1+2)+3)+4)+5).  If initial is present, it is placed before the items\n",
      "    of the iterable in the calculation, and serves as a default when the\n",
      "    iterable is empty.\n",
      "\n"
     ]
    }
   ],
   "source": [
    "help(reduce)"
   ]
  },
  {
   "cell_type": "code",
   "execution_count": 45,
   "id": "c8e55659",
   "metadata": {},
   "outputs": [
    {
     "data": {
      "text/plain": [
       "([1, 4, 9, 16, 25], [1, 4, 9, 16, 25], [1, 4, 9, 16, 25])"
      ]
     },
     "execution_count": 45,
     "metadata": {},
     "output_type": "execute_result"
    }
   ],
   "source": [
    " # loop vs comprehension vs map\n",
    "    \n",
    "list1 = [1, 2, 3, 4, 5]\n",
    "square1 = []\n",
    "\n",
    "for i in list1:\n",
    "    square1.append(i**2)\n",
    "    \n",
    "square2 = [i ** 2 for i in list1]\n",
    "\n",
    "square3 = list(map(lambda x : x**2, list1))\n",
    "\n",
    "square1, square2, square3\n",
    "    \n"
   ]
  },
  {
   "cell_type": "code",
   "execution_count": 48,
   "id": "91b6c922",
   "metadata": {},
   "outputs": [
    {
     "name": "stdout",
     "output_type": "stream",
     "text": [
      "['annamalai', 'gopi', 'nilani', 'sri']\n",
      "<list_iterator object at 0x0000013C3C08E6E0>\n"
     ]
    }
   ],
   "source": [
    "# iterators is the process run again and again (use __iter__, __next__)\n",
    "# iterator is an object which programmertraverse through all the elements of collection regardless, specfic function\n",
    "\n",
    "names = [\"annamalai\", 'gopi', 'nilani', 'sri']\n",
    "print(names)\n",
    "\n",
    "my_list = names.__iter__()\n",
    "print(my_list)"
   ]
  },
  {
   "cell_type": "code",
   "execution_count": 50,
   "id": "3cd14902",
   "metadata": {},
   "outputs": [
    {
     "name": "stdout",
     "output_type": "stream",
     "text": [
      "Help on built-in function iter in module builtins:\n",
      "\n",
      "iter(...)\n",
      "    iter(iterable) -> iterator\n",
      "    iter(callable, sentinel) -> iterator\n",
      "    \n",
      "    Get an iterator from an object.  In the first form, the argument must\n",
      "    supply its own iterator, or be a sequence.\n",
      "    In the second form, the callable is called until it returns the sentinel.\n",
      "\n"
     ]
    }
   ],
   "source": [
    "help(iter)"
   ]
  },
  {
   "cell_type": "code",
   "execution_count": 51,
   "id": "cded755b",
   "metadata": {},
   "outputs": [
    {
     "name": "stdout",
     "output_type": "stream",
     "text": [
      "annamalai\n",
      "gopi\n",
      "nilani\n",
      "sri\n"
     ]
    }
   ],
   "source": [
    "for i in names:\n",
    "    print(i)"
   ]
  },
  {
   "cell_type": "code",
   "execution_count": 57,
   "id": "36ef2666",
   "metadata": {},
   "outputs": [
    {
     "name": "stdout",
     "output_type": "stream",
     "text": [
      "annamalai\n"
     ]
    }
   ],
   "source": [
    "# another way of converting iterator\n",
    "names = [\"annamalai\", 'gopi', 'nilani', 'sri']\n",
    "my_list= iter(names)\n",
    "\n",
    "print(next(my_list))\n"
   ]
  },
  {
   "cell_type": "code",
   "execution_count": 58,
   "id": "59d9eed9",
   "metadata": {},
   "outputs": [
    {
     "name": "stdout",
     "output_type": "stream",
     "text": [
      "gopi\n",
      "nilani\n"
     ]
    }
   ],
   "source": [
    "print(next(my_list))\n",
    "print(next(my_list))"
   ]
  },
  {
   "cell_type": "code",
   "execution_count": 59,
   "id": "9448a2c7",
   "metadata": {},
   "outputs": [
    {
     "name": "stdout",
     "output_type": "stream",
     "text": [
      "1\n",
      "2\n",
      "3\n",
      "4\n",
      "5\n",
      "6\n",
      "7\n",
      "8\n",
      "9\n",
      "10\n",
      "11\n",
      "12\n",
      "13\n",
      "14\n",
      "15\n",
      "16\n",
      "17\n",
      "18\n",
      "19\n",
      "20\n",
      "21\n",
      "22\n",
      "23\n",
      "24\n",
      "25\n",
      "26\n",
      "27\n",
      "28\n",
      "29\n",
      "30\n",
      "31\n",
      "32\n",
      "33\n",
      "34\n",
      "35\n",
      "36\n",
      "37\n",
      "38\n",
      "39\n",
      "40\n",
      "41\n",
      "42\n",
      "43\n",
      "44\n",
      "45\n",
      "46\n",
      "47\n",
      "48\n",
      "49\n",
      "50\n",
      "51\n",
      "52\n",
      "53\n",
      "54\n",
      "55\n",
      "56\n",
      "57\n",
      "58\n",
      "59\n",
      "60\n",
      "61\n",
      "62\n",
      "63\n",
      "64\n",
      "65\n",
      "66\n",
      "67\n",
      "68\n",
      "69\n",
      "70\n",
      "71\n",
      "72\n",
      "73\n",
      "74\n",
      "75\n",
      "76\n",
      "77\n",
      "78\n",
      "79\n",
      "80\n",
      "81\n",
      "82\n",
      "83\n",
      "84\n",
      "85\n",
      "86\n",
      "87\n",
      "88\n",
      "89\n",
      "90\n",
      "91\n",
      "92\n",
      "93\n",
      "94\n",
      "95\n",
      "96\n",
      "97\n",
      "98\n",
      "99\n",
      "100\n",
      "101\n",
      "102\n",
      "103\n",
      "104\n",
      "105\n",
      "106\n",
      "107\n",
      "108\n",
      "109\n",
      "110\n",
      "111\n",
      "112\n",
      "113\n",
      "114\n",
      "115\n",
      "116\n",
      "117\n",
      "118\n",
      "119\n",
      "120\n",
      "121\n",
      "122\n",
      "123\n",
      "124\n",
      "125\n",
      "126\n",
      "127\n",
      "128\n",
      "129\n",
      "130\n",
      "131\n",
      "132\n",
      "133\n",
      "134\n",
      "135\n",
      "136\n",
      "137\n",
      "138\n",
      "139\n",
      "140\n",
      "141\n",
      "142\n",
      "143\n",
      "144\n",
      "145\n",
      "146\n",
      "147\n",
      "148\n",
      "149\n"
     ]
    }
   ],
   "source": [
    "names = range(1,150)\n",
    "for obj in names:\n",
    "    print(obj)"
   ]
  },
  {
   "cell_type": "code",
   "execution_count": 62,
   "id": "512f4767",
   "metadata": {},
   "outputs": [
    {
     "name": "stdout",
     "output_type": "stream",
     "text": [
      "1\n",
      "2\n",
      "3\n",
      "4\n",
      "5\n",
      "6\n",
      "7\n",
      "8\n",
      "9\n",
      "10\n",
      "11\n",
      "12\n",
      "13\n",
      "14\n",
      "15\n",
      "16\n",
      "17\n",
      "18\n",
      "19\n",
      "20\n",
      "21\n",
      "22\n",
      "23\n",
      "24\n",
      "25\n",
      "26\n",
      "27\n",
      "28\n",
      "29\n",
      "30\n",
      "31\n",
      "32\n",
      "33\n",
      "34\n",
      "35\n",
      "36\n",
      "37\n",
      "38\n",
      "39\n",
      "40\n",
      "41\n",
      "42\n",
      "43\n",
      "44\n",
      "45\n",
      "46\n",
      "47\n",
      "48\n",
      "49\n",
      "50\n",
      "51\n",
      "52\n",
      "53\n",
      "54\n",
      "55\n",
      "56\n",
      "57\n",
      "58\n",
      "59\n",
      "60\n",
      "61\n",
      "62\n",
      "63\n",
      "64\n",
      "65\n",
      "66\n",
      "67\n",
      "68\n",
      "69\n",
      "70\n",
      "71\n",
      "72\n",
      "73\n",
      "74\n",
      "75\n",
      "76\n",
      "77\n",
      "78\n",
      "79\n",
      "80\n",
      "81\n",
      "82\n",
      "83\n",
      "84\n",
      "85\n",
      "86\n",
      "87\n",
      "88\n",
      "89\n",
      "90\n",
      "91\n",
      "92\n",
      "93\n",
      "94\n",
      "95\n",
      "96\n",
      "97\n",
      "98\n",
      "99\n",
      "100\n",
      "101\n",
      "102\n",
      "103\n",
      "104\n",
      "105\n",
      "106\n",
      "107\n",
      "108\n",
      "109\n",
      "110\n",
      "111\n",
      "112\n",
      "113\n",
      "114\n",
      "115\n",
      "116\n",
      "117\n",
      "118\n",
      "119\n",
      "120\n",
      "121\n",
      "122\n",
      "123\n",
      "124\n",
      "125\n",
      "126\n",
      "127\n",
      "128\n",
      "129\n",
      "130\n",
      "131\n",
      "132\n",
      "133\n",
      "134\n",
      "135\n",
      "136\n",
      "137\n",
      "138\n",
      "139\n",
      "140\n",
      "141\n",
      "142\n",
      "143\n",
      "144\n",
      "145\n",
      "146\n",
      "147\n",
      "148\n",
      "149\n"
     ]
    }
   ],
   "source": [
    "new_list = iter(names)\n",
    "for obj in new_list:\n",
    "    print(obj)"
   ]
  },
  {
   "cell_type": "code",
   "execution_count": 65,
   "id": "a1fdb1c3",
   "metadata": {},
   "outputs": [
    {
     "name": "stdout",
     "output_type": "stream",
     "text": [
      "size of the variable names is 48bytes\n",
      "size of the variable names is 32bytes\n"
     ]
    }
   ],
   "source": [
    "import sys\n",
    "print(f'size of the variable names is {sys.getsizeof(names)}bytes')\n",
    "print(f'size of the variable names is {sys.getsizeof(new_list)}bytes')"
   ]
  },
  {
   "cell_type": "code",
   "execution_count": 73,
   "id": "cfb96012",
   "metadata": {},
   "outputs": [
    {
     "name": "stdout",
     "output_type": "stream",
     "text": [
      "m\n",
      "a\n",
      "c\n",
      "h\n",
      "i\n",
      "n\n",
      "e\n",
      " \n",
      "l\n",
      "e\n",
      "a\n",
      "r\n",
      "n\n",
      "i\n",
      "n\n",
      "g\n"
     ]
    },
    {
     "ename": "NameError",
     "evalue": "name 'stopiteration' is not defined",
     "output_type": "error",
     "traceback": [
      "\u001b[1;31m---------------------------------------------------------------------------\u001b[0m",
      "\u001b[1;31mStopIteration\u001b[0m                             Traceback (most recent call last)",
      "Cell \u001b[1;32mIn[73], line 6\u001b[0m\n\u001b[0;32m      5\u001b[0m \u001b[38;5;28;01mtry\u001b[39;00m:\n\u001b[1;32m----> 6\u001b[0m     items\u001b[38;5;241m=\u001b[39m \u001b[38;5;28;43mnext\u001b[39;49m\u001b[43m(\u001b[49m\u001b[43miterable_obj\u001b[49m\u001b[43m)\u001b[49m\n\u001b[0;32m      7\u001b[0m     \u001b[38;5;28mprint\u001b[39m(items)\n",
      "\u001b[1;31mStopIteration\u001b[0m: ",
      "\nDuring handling of the above exception, another exception occurred:\n",
      "\u001b[1;31mNameError\u001b[0m                                 Traceback (most recent call last)",
      "Cell \u001b[1;32mIn[73], line 8\u001b[0m\n\u001b[0;32m      6\u001b[0m     items\u001b[38;5;241m=\u001b[39m \u001b[38;5;28mnext\u001b[39m(iterable_obj)\n\u001b[0;32m      7\u001b[0m     \u001b[38;5;28mprint\u001b[39m(items)\n\u001b[1;32m----> 8\u001b[0m \u001b[38;5;28;01mexcept\u001b[39;00m \u001b[43mstopiteration\u001b[49m:\n\u001b[0;32m      9\u001b[0m     \u001b[38;5;28;01mbreak\u001b[39;00m\n",
      "\u001b[1;31mNameError\u001b[0m: name 'stopiteration' is not defined"
     ]
    }
   ],
   "source": [
    "iterable_name = 'machine learning'\n",
    "iterable_obj = iter(iterable_name)\n",
    "\n",
    "while True:\n",
    "    try:\n",
    "        items= next(iterable_obj)\n",
    "        print(items)\n",
    "    except stopiteration:\n",
    "        break\n",
    "        "
   ]
  },
  {
   "cell_type": "markdown",
   "id": "d8c064f6",
   "metadata": {},
   "source": [
    "# generator\n",
    "\n",
    "generator are built in function in python. generates sequence of value over time.\n",
    "it consumes less space and memory.\n",
    "it gives the iterate of value.\n"
   ]
  },
  {
   "cell_type": "code",
   "execution_count": 1,
   "id": "e2874490",
   "metadata": {},
   "outputs": [],
   "source": [
    "def generator(token_count):\n",
    "    for i in range(token_count):\n",
    "        yield i   "
   ]
  },
  {
   "cell_type": "code",
   "execution_count": 2,
   "id": "c5267975",
   "metadata": {},
   "outputs": [
    {
     "name": "stdout",
     "output_type": "stream",
     "text": [
      "<generator object generator at 0x000001B13B9929D0>\n"
     ]
    }
   ],
   "source": [
    "a = generator(10)\n",
    "print(a)"
   ]
  },
  {
   "cell_type": "code",
   "execution_count": 3,
   "id": "0d4cb1e4",
   "metadata": {},
   "outputs": [
    {
     "name": "stdout",
     "output_type": "stream",
     "text": [
      "0\n",
      "1\n",
      "2\n",
      "3\n",
      "4\n",
      "5\n",
      "6\n",
      "7\n",
      "8\n",
      "9\n"
     ]
    }
   ],
   "source": [
    "for i in a:\n",
    "    print(i)"
   ]
  },
  {
   "cell_type": "code",
   "execution_count": 4,
   "id": "54c850db",
   "metadata": {},
   "outputs": [],
   "source": [
    "def sequence(n):\n",
    "    x=[]\n",
    "    for i in range(n):\n",
    "        x.append(i)\n",
    "    return x    "
   ]
  },
  {
   "cell_type": "code",
   "execution_count": 5,
   "id": "899f64f4",
   "metadata": {},
   "outputs": [
    {
     "name": "stdout",
     "output_type": "stream",
     "text": [
      "[0, 1, 2, 3, 4, 5, 6, 7, 8, 9, 10, 11, 12, 13, 14, 15, 16, 17, 18, 19, 20, 21, 22, 23, 24, 25, 26, 27, 28, 29, 30, 31, 32, 33, 34, 35, 36, 37, 38, 39, 40, 41, 42, 43, 44, 45, 46, 47, 48, 49]\n"
     ]
    }
   ],
   "source": [
    "alist = sequence(50)\n",
    "print(alist)"
   ]
  },
  {
   "cell_type": "code",
   "execution_count": 6,
   "id": "471708f8",
   "metadata": {},
   "outputs": [],
   "source": [
    "def sequence(n):\n",
    "    for i in range(n):\n",
    "        yield i"
   ]
  },
  {
   "cell_type": "code",
   "execution_count": 7,
   "id": "03d50fa2",
   "metadata": {},
   "outputs": [
    {
     "name": "stdout",
     "output_type": "stream",
     "text": [
      "<generator object sequence at 0x000001B13B993060>\n"
     ]
    }
   ],
   "source": [
    "blist = sequence(50)\n",
    "print(blist)"
   ]
  },
  {
   "cell_type": "code",
   "execution_count": 8,
   "id": "bf750db3",
   "metadata": {},
   "outputs": [
    {
     "name": "stdout",
     "output_type": "stream",
     "text": [
      "size of the variable names is 472bytes\n",
      "size of the variable names is 104bytes\n"
     ]
    }
   ],
   "source": [
    "import sys\n",
    "print(f'size of the variable names is {sys.getsizeof(alist)}bytes')\n",
    "print(f'size of the variable names is {sys.getsizeof(blist)}bytes')"
   ]
  },
  {
   "cell_type": "code",
   "execution_count": 9,
   "id": "cb022353",
   "metadata": {},
   "outputs": [],
   "source": [
    "def fib(limit):\n",
    "    a, b = 0, 1\n",
    "    while a < limit:\n",
    "        yield a\n",
    "        a, b = b, a+b\n",
    "        \n",
    "x = fib(5)    # creating the generating object    "
   ]
  },
  {
   "cell_type": "code",
   "execution_count": 11,
   "id": "b79bcd1c",
   "metadata": {},
   "outputs": [
    {
     "name": "stdout",
     "output_type": "stream",
     "text": [
      "0\n",
      "1\n",
      "1\n",
      "2\n",
      "3\n"
     ]
    },
    {
     "ename": "NameError",
     "evalue": "name 'stopiteration' is not defined",
     "output_type": "error",
     "traceback": [
      "\u001b[1;31m---------------------------------------------------------------------------\u001b[0m",
      "\u001b[1;31mStopIteration\u001b[0m                             Traceback (most recent call last)",
      "Cell \u001b[1;32mIn[11], line 5\u001b[0m\n\u001b[0;32m      4\u001b[0m \u001b[38;5;28;01mtry\u001b[39;00m:\n\u001b[1;32m----> 5\u001b[0m     \u001b[38;5;28mprint\u001b[39m(\u001b[38;5;28;43mnext\u001b[39;49m\u001b[43m(\u001b[49m\u001b[43mx\u001b[49m\u001b[43m)\u001b[49m, end \u001b[38;5;241m=\u001b[39m \u001b[38;5;124m'\u001b[39m\u001b[38;5;130;01m\\n\u001b[39;00m\u001b[38;5;124m'\u001b[39m)\n\u001b[0;32m      6\u001b[0m \u001b[38;5;28;01mexcept\u001b[39;00m stopiteration:\n",
      "\u001b[1;31mStopIteration\u001b[0m: ",
      "\nDuring handling of the above exception, another exception occurred:\n",
      "\u001b[1;31mNameError\u001b[0m                                 Traceback (most recent call last)",
      "Cell \u001b[1;32mIn[11], line 6\u001b[0m\n\u001b[0;32m      4\u001b[0m \u001b[38;5;28;01mtry\u001b[39;00m:\n\u001b[0;32m      5\u001b[0m     \u001b[38;5;28mprint\u001b[39m(\u001b[38;5;28mnext\u001b[39m(x), end \u001b[38;5;241m=\u001b[39m \u001b[38;5;124m'\u001b[39m\u001b[38;5;130;01m\\n\u001b[39;00m\u001b[38;5;124m'\u001b[39m)\n\u001b[1;32m----> 6\u001b[0m \u001b[38;5;28;01mexcept\u001b[39;00m \u001b[43mstopiteration\u001b[49m:\n\u001b[0;32m      7\u001b[0m     \u001b[38;5;28;01mbreak\u001b[39;00m\n",
      "\u001b[1;31mNameError\u001b[0m: name 'stopiteration' is not defined"
     ]
    }
   ],
   "source": [
    "# iterating over generator object using next\n",
    "\n",
    "while True:\n",
    "    try:\n",
    "        print(next(x), end = '\\n')\n",
    "    except stopiteration:\n",
    "        break\n",
    "    "
   ]
  },
  {
   "cell_type": "markdown",
   "id": "a23d6625",
   "metadata": {},
   "source": [
    "# FILE HANDLING\n"
   ]
  },
  {
   "cell_type": "code",
   "execution_count": 1,
   "id": "4d12db45",
   "metadata": {},
   "outputs": [],
   "source": [
    "# the open function has two parameters - filename and mode #\n",
    "# there are 4 methods for opening file\n",
    "# 'r'- read the dwefault value\n",
    "# 'a'- open the file for append and craete a file does not exist\n",
    "# 'w'- write open a file for writing\n",
    "# 'x'- create a file\n",
    "\n",
    "# syntax- variable = open(filename,mode)\n",
    "# variable.close()"
   ]
  },
  {
   "cell_type": "code",
   "execution_count": 2,
   "id": "5f031523",
   "metadata": {},
   "outputs": [
    {
     "name": "stdout",
     "output_type": "stream",
     "text": [
      "C:\\Users\\annam\n"
     ]
    }
   ],
   "source": [
    "import os\n",
    "print(os.getcwd())"
   ]
  },
  {
   "cell_type": "code",
   "execution_count": 21,
   "id": "2a53b4fb",
   "metadata": {},
   "outputs": [
    {
     "name": "stdout",
     "output_type": "stream",
     "text": [
      "<_io.TextIOWrapper name='demo_file.txt' mode='r' encoding='cp1252'>\n",
      "Hello! welcome to python programming\n",
      "this file is testing purpose\n",
      "good luck!\n"
     ]
    }
   ],
   "source": [
    "file = open('demo_file.txt')\n",
    "print(file)\n",
    "print(file.read())"
   ]
  },
  {
   "cell_type": "code",
   "execution_count": 9,
   "id": "a0bc61ab",
   "metadata": {},
   "outputs": [],
   "source": [
    "# another way to open a file\n",
    "\n",
    "with open('demo_file.txt') as file:\n",
    "    x = file.read()"
   ]
  },
  {
   "cell_type": "code",
   "execution_count": 10,
   "id": "fcf180fc",
   "metadata": {},
   "outputs": [
    {
     "data": {
      "text/plain": [
       "'Hello! welcome to python programming\\nthis file is testing purpose\\ngood luck!'"
      ]
     },
     "execution_count": 10,
     "metadata": {},
     "output_type": "execute_result"
    }
   ],
   "source": [
    "x"
   ]
  },
  {
   "cell_type": "code",
   "execution_count": 11,
   "id": "40e341ae",
   "metadata": {},
   "outputs": [
    {
     "data": {
      "text/plain": [
       "'Hello! welcome to python programming\\n'"
      ]
     },
     "execution_count": 11,
     "metadata": {},
     "output_type": "execute_result"
    }
   ],
   "source": [
    "f = open('demo_file.txt')\n",
    "f.readline()"
   ]
  },
  {
   "cell_type": "code",
   "execution_count": 17,
   "id": "585bd67b",
   "metadata": {},
   "outputs": [
    {
     "data": {
      "text/plain": [
       "['Hello! welcome to python programming\\n',\n",
       " 'this file is testing purpose\\n',\n",
       " 'good luck!']"
      ]
     },
     "execution_count": 17,
     "metadata": {},
     "output_type": "execute_result"
    }
   ],
   "source": [
    "f = open('demo_file.txt', mode = 'r')\n",
    "f.readlines()"
   ]
  },
  {
   "cell_type": "code",
   "execution_count": 20,
   "id": "3f18d5d9",
   "metadata": {},
   "outputs": [
    {
     "data": {
      "text/plain": [
       "'Hello! welcome to python programming\\nthis file is testing purpose\\ngood luck!'"
      ]
     },
     "execution_count": 20,
     "metadata": {},
     "output_type": "execute_result"
    }
   ],
   "source": [
    "f = open('demo_file.txt', 'r')\n",
    "f.read()"
   ]
  },
  {
   "cell_type": "code",
   "execution_count": 23,
   "id": "7e5734b8",
   "metadata": {},
   "outputs": [
    {
     "data": {
      "text/plain": [
       "'Hello! we'"
      ]
     },
     "execution_count": 23,
     "metadata": {},
     "output_type": "execute_result"
    }
   ],
   "source": [
    "f = open('demo_file.txt', 'r')\n",
    "f.read(9)"
   ]
  },
  {
   "cell_type": "code",
   "execution_count": 25,
   "id": "bdb644f7",
   "metadata": {},
   "outputs": [],
   "source": [
    "# write to an existing file\n",
    "f = open('demo_file.txt', 'a') # create or append\n",
    "f.write(\"now the file has more content\")\n",
    "f.close()"
   ]
  },
  {
   "cell_type": "code",
   "execution_count": 27,
   "id": "02559e76",
   "metadata": {},
   "outputs": [
    {
     "data": {
      "text/plain": [
       "'Hello! welcome to python programming\\nthis file is testing purpose\\ngood luck!now the file has more contentnow the file has more content'"
      ]
     },
     "execution_count": 27,
     "metadata": {},
     "output_type": "execute_result"
    }
   ],
   "source": [
    "f = open('demo_file.txt', 'r')\n",
    "f.read()"
   ]
  },
  {
   "cell_type": "code",
   "execution_count": 28,
   "id": "059e345c",
   "metadata": {},
   "outputs": [],
   "source": [
    "# creating a new file\n",
    "\n",
    "f = open('demo2_file.txt', 'x') # create\n",
    "f.write('new file')\n",
    "f.close()"
   ]
  },
  {
   "cell_type": "code",
   "execution_count": 29,
   "id": "954e3236",
   "metadata": {},
   "outputs": [
    {
     "data": {
      "text/plain": [
       "'new file'"
      ]
     },
     "execution_count": 29,
     "metadata": {},
     "output_type": "execute_result"
    }
   ],
   "source": [
    "f = open('demo2_file.txt', 'r')\n",
    "f.read()"
   ]
  },
  {
   "cell_type": "code",
   "execution_count": 34,
   "id": "e188f417",
   "metadata": {},
   "outputs": [
    {
     "ename": "FileNotFoundError",
     "evalue": "[WinError 2] The system cannot find the file specified: 'winzip'",
     "output_type": "error",
     "traceback": [
      "\u001b[1;31m---------------------------------------------------------------------------\u001b[0m",
      "\u001b[1;31mFileNotFoundError\u001b[0m                         Traceback (most recent call last)",
      "Cell \u001b[1;32mIn[34], line 3\u001b[0m\n\u001b[0;32m      1\u001b[0m \u001b[38;5;66;03m# deleting a file\u001b[39;00m\n\u001b[0;32m      2\u001b[0m \u001b[38;5;28;01mimport\u001b[39;00m \u001b[38;5;21;01mos\u001b[39;00m\n\u001b[1;32m----> 3\u001b[0m \u001b[43mos\u001b[49m\u001b[38;5;241;43m.\u001b[39;49m\u001b[43mremove\u001b[49m\u001b[43m(\u001b[49m\u001b[38;5;124;43m'\u001b[39;49m\u001b[38;5;124;43mwinzip\u001b[39;49m\u001b[38;5;124;43m'\u001b[39;49m\u001b[43m)\u001b[49m\n",
      "\u001b[1;31mFileNotFoundError\u001b[0m: [WinError 2] The system cannot find the file specified: 'winzip'"
     ]
    }
   ],
   "source": [
    "# deleting a file\n",
    "import os\n",
    "os.remove('winzip')"
   ]
  },
  {
   "cell_type": "markdown",
   "id": "dd23457f",
   "metadata": {},
   "source": [
    "# exception handling\n",
    "\n"
   ]
  },
  {
   "cell_type": "code",
   "execution_count": 36,
   "id": "ba65dd9f",
   "metadata": {},
   "outputs": [
    {
     "name": "stdout",
     "output_type": "stream",
     "text": [
      "enter the number1 = 1\n",
      "enter the number2 = a\n",
      "please enter valid number\n"
     ]
    }
   ],
   "source": [
    "# try and except are keywords for exceptional handling , try - provide the code ; except- except the error with proper statement\n",
    "\n",
    "try:\n",
    "    x = eval(input('enter the number1 = '))\n",
    "    y = eval(input('enter the number2 = '))\n",
    "    z = x+y\n",
    "    print(z)\n",
    "except:\n",
    "    print('please enter valid number')\n",
    "    "
   ]
  },
  {
   "cell_type": "code",
   "execution_count": 38,
   "id": "2904e5ef",
   "metadata": {},
   "outputs": [
    {
     "name": "stdout",
     "output_type": "stream",
     "text": [
      "enter the number1 = abc\n"
     ]
    },
    {
     "ename": "NameError",
     "evalue": "name 'abc' is not defined",
     "output_type": "error",
     "traceback": [
      "\u001b[1;31m---------------------------------------------------------------------------\u001b[0m",
      "\u001b[1;31mNameError\u001b[0m                                 Traceback (most recent call last)",
      "Cell \u001b[1;32mIn[38], line 1\u001b[0m\n\u001b[1;32m----> 1\u001b[0m x \u001b[38;5;241m=\u001b[39m \u001b[38;5;28;43meval\u001b[39;49m\u001b[43m(\u001b[49m\u001b[38;5;28;43minput\u001b[39;49m\u001b[43m(\u001b[49m\u001b[38;5;124;43m'\u001b[39;49m\u001b[38;5;124;43menter the number1 = \u001b[39;49m\u001b[38;5;124;43m'\u001b[39;49m\u001b[43m)\u001b[49m\u001b[43m)\u001b[49m\n",
      "File \u001b[1;32m<string>:1\u001b[0m\n",
      "\u001b[1;31mNameError\u001b[0m: name 'abc' is not defined"
     ]
    }
   ],
   "source": [
    "x = eval(input('enter the number1 = '))"
   ]
  },
  {
   "cell_type": "code",
   "execution_count": 44,
   "id": "5ff113b0",
   "metadata": {},
   "outputs": [
    {
     "name": "stdout",
     "output_type": "stream",
     "text": [
      "enter the number1 = 1\n",
      "enter the number2 = 'a'\n",
      "please enter both are same type\n"
     ]
    }
   ],
   "source": [
    "try:\n",
    "    x = eval(input('enter the number1 = '))\n",
    "    y = eval(input('enter the number2 = '))\n",
    "    z = x/y\n",
    "    print(z)\n",
    "except(ZeroDivisionError): # divide by zero\n",
    "    print(\"please enter a non zero value for a division\")\n",
    "except(NameError): # use interger\n",
    "    print(\"please enter valid number\")\n",
    "except(TypeError): # use (integer or string)\n",
    "    print(\"please enter both are same type\")\n",
    "    \n",
    "    "
   ]
  },
  {
   "cell_type": "code",
   "execution_count": 45,
   "id": "b384fa4e",
   "metadata": {},
   "outputs": [
    {
     "ename": "ZeroDivisionError",
     "evalue": "division by zero",
     "output_type": "error",
     "traceback": [
      "\u001b[1;31m---------------------------------------------------------------------------\u001b[0m",
      "\u001b[1;31mZeroDivisionError\u001b[0m                         Traceback (most recent call last)",
      "Cell \u001b[1;32mIn[45], line 1\u001b[0m\n\u001b[1;32m----> 1\u001b[0m \u001b[38;5;241;43m6\u001b[39;49m\u001b[38;5;241;43m/\u001b[39;49m\u001b[38;5;241;43m0\u001b[39;49m\n",
      "\u001b[1;31mZeroDivisionError\u001b[0m: division by zero"
     ]
    }
   ],
   "source": [
    "6/0"
   ]
  },
  {
   "cell_type": "code",
   "execution_count": 46,
   "id": "513fa8c3",
   "metadata": {},
   "outputs": [
    {
     "ename": "NameError",
     "evalue": "name 'a' is not defined",
     "output_type": "error",
     "traceback": [
      "\u001b[1;31m---------------------------------------------------------------------------\u001b[0m",
      "\u001b[1;31mNameError\u001b[0m                                 Traceback (most recent call last)",
      "Cell \u001b[1;32mIn[46], line 1\u001b[0m\n\u001b[1;32m----> 1\u001b[0m \u001b[38;5;241m5\u001b[39m\u001b[38;5;241m/\u001b[39m\u001b[43ma\u001b[49m\n",
      "\u001b[1;31mNameError\u001b[0m: name 'a' is not defined"
     ]
    }
   ],
   "source": [
    "5/a"
   ]
  },
  {
   "cell_type": "code",
   "execution_count": 47,
   "id": "21298017",
   "metadata": {},
   "outputs": [
    {
     "ename": "TypeError",
     "evalue": "unsupported operand type(s) for /: 'int' and 'str'",
     "output_type": "error",
     "traceback": [
      "\u001b[1;31m---------------------------------------------------------------------------\u001b[0m",
      "\u001b[1;31mTypeError\u001b[0m                                 Traceback (most recent call last)",
      "Cell \u001b[1;32mIn[47], line 1\u001b[0m\n\u001b[1;32m----> 1\u001b[0m \u001b[38;5;241;43m5\u001b[39;49m\u001b[38;5;241;43m/\u001b[39;49m\u001b[38;5;124;43m'\u001b[39;49m\u001b[38;5;124;43ma\u001b[39;49m\u001b[38;5;124;43m'\u001b[39;49m\n",
      "\u001b[1;31mTypeError\u001b[0m: unsupported operand type(s) for /: 'int' and 'str'"
     ]
    }
   ],
   "source": [
    "5/'a'"
   ]
  },
  {
   "cell_type": "code",
   "execution_count": 51,
   "id": "e16ccd40",
   "metadata": {},
   "outputs": [
    {
     "name": "stdout",
     "output_type": "stream",
     "text": [
      "enter the number1 = 1\n",
      "enter the number2 = 2.0\n",
      "finally block\n"
     ]
    },
    {
     "ename": "ValueError",
     "evalue": "invalid literal for int() with base 10: '2.0'",
     "output_type": "error",
     "traceback": [
      "\u001b[1;31m---------------------------------------------------------------------------\u001b[0m",
      "\u001b[1;31mValueError\u001b[0m                                Traceback (most recent call last)",
      "Cell \u001b[1;32mIn[51], line 6\u001b[0m\n\u001b[0;32m      4\u001b[0m \u001b[38;5;28;01mtry\u001b[39;00m:\n\u001b[0;32m      5\u001b[0m     x \u001b[38;5;241m=\u001b[39m \u001b[38;5;28mint\u001b[39m(\u001b[38;5;28minput\u001b[39m(\u001b[38;5;124m'\u001b[39m\u001b[38;5;124menter the number1 = \u001b[39m\u001b[38;5;124m'\u001b[39m))\n\u001b[1;32m----> 6\u001b[0m     y \u001b[38;5;241m=\u001b[39m \u001b[38;5;28;43mint\u001b[39;49m\u001b[43m(\u001b[49m\u001b[38;5;28;43minput\u001b[39;49m\u001b[43m(\u001b[49m\u001b[38;5;124;43m'\u001b[39;49m\u001b[38;5;124;43menter the number2 = \u001b[39;49m\u001b[38;5;124;43m'\u001b[39;49m\u001b[43m)\u001b[49m\u001b[43m)\u001b[49m\n\u001b[0;32m      7\u001b[0m     z \u001b[38;5;241m=\u001b[39m x\u001b[38;5;241m/\u001b[39my\n\u001b[0;32m      8\u001b[0m     \u001b[38;5;28mprint\u001b[39m(z)\n",
      "\u001b[1;31mValueError\u001b[0m: invalid literal for int() with base 10: '2.0'"
     ]
    }
   ],
   "source": [
    "# in python,keywords and else and finally, can be used along with try and except clause.while the except block is executed\n",
    "# if the exception occurs inside the \"try\" block, the 'else' block get proceed if the 'try' block is found to be exception free\n",
    "\n",
    "try:\n",
    "    x = int(input('enter the number1 = '))\n",
    "    y = int(input('enter the number2 = '))\n",
    "    z = x/y\n",
    "    print(z)\n",
    "except(ZeroDivisionError): # divide by zero\n",
    "    print(\"except zerodivision error block\")\n",
    "    print(\"division by zero not accepted\")\n",
    "else:\n",
    "    print(\"else block\")\n",
    "    print('division = ', z)\n",
    "finally:\n",
    "    print('finally block')\n",
    "    x = 0\n",
    "    y = 0\n",
    "print(\"out of try,except,else and finally blocks.\") \n"
   ]
  },
  {
   "cell_type": "markdown",
   "id": "ef938d2c",
   "metadata": {},
   "source": [
    "# built in exceptions\n"
   ]
  },
  {
   "cell_type": "code",
   "execution_count": 52,
   "id": "94bc6d23",
   "metadata": {},
   "outputs": [
    {
     "name": "stdout",
     "output_type": "stream",
     "text": [
      "['ArithmeticError', 'AssertionError', 'AttributeError', 'BaseException', 'BlockingIOError', 'BrokenPipeError', 'BufferError', 'BytesWarning', 'ChildProcessError', 'ConnectionAbortedError', 'ConnectionError', 'ConnectionRefusedError', 'ConnectionResetError', 'DeprecationWarning', 'EOFError', 'Ellipsis', 'EncodingWarning', 'EnvironmentError', 'Exception', 'False', 'FileExistsError', 'FileNotFoundError', 'FloatingPointError', 'FutureWarning', 'GeneratorExit', 'IOError', 'ImportError', 'ImportWarning', 'IndentationError', 'IndexError', 'InterruptedError', 'IsADirectoryError', 'KeyError', 'KeyboardInterrupt', 'LookupError', 'MemoryError', 'ModuleNotFoundError', 'NameError', 'None', 'NotADirectoryError', 'NotImplemented', 'NotImplementedError', 'OSError', 'OverflowError', 'PendingDeprecationWarning', 'PermissionError', 'ProcessLookupError', 'RecursionError', 'ReferenceError', 'ResourceWarning', 'RuntimeError', 'RuntimeWarning', 'StopAsyncIteration', 'StopIteration', 'SyntaxError', 'SyntaxWarning', 'SystemError', 'SystemExit', 'TabError', 'TimeoutError', 'True', 'TypeError', 'UnboundLocalError', 'UnicodeDecodeError', 'UnicodeEncodeError', 'UnicodeError', 'UnicodeTranslateError', 'UnicodeWarning', 'UserWarning', 'ValueError', 'Warning', 'WindowsError', 'ZeroDivisionError', '__IPYTHON__', '__build_class__', '__debug__', '__doc__', '__import__', '__loader__', '__name__', '__package__', '__spec__', 'abs', 'aiter', 'all', 'anext', 'any', 'ascii', 'bin', 'bool', 'breakpoint', 'bytearray', 'bytes', 'callable', 'chr', 'classmethod', 'compile', 'complex', 'copyright', 'credits', 'delattr', 'dict', 'dir', 'display', 'divmod', 'enumerate', 'eval', 'exec', 'execfile', 'filter', 'float', 'format', 'frozenset', 'get_ipython', 'getattr', 'globals', 'hasattr', 'hash', 'help', 'hex', 'id', 'input', 'int', 'isinstance', 'issubclass', 'iter', 'len', 'license', 'list', 'locals', 'map', 'max', 'memoryview', 'min', 'next', 'object', 'oct', 'open', 'ord', 'pow', 'print', 'property', 'range', 'repr', 'reversed', 'round', 'runfile', 'set', 'setattr', 'slice', 'sorted', 'staticmethod', 'str', 'sum', 'super', 'tuple', 'type', 'vars', 'zip']\n"
     ]
    }
   ],
   "source": [
    "# there are plenty of built-in-exceptions in python that are raised corresponding error occur:\n",
    "# we can view all the built-in exceptions using built in local() functions as allows\n",
    "\n",
    "print(dir(locals()['__builtins__']))"
   ]
  },
  {
   "cell_type": "code",
   "execution_count": 54,
   "id": "a9505992",
   "metadata": {},
   "outputs": [
    {
     "name": "stdout",
     "output_type": "stream",
     "text": [
      "enter the number = 23\n",
      "you entered =  23\n"
     ]
    }
   ],
   "source": [
    "# user defined function\n",
    "x = int(input('enter the number = '))\n",
    "if x < 18:\n",
    "    raise Exception('sorry, you are not eligible for voting , register once you became 18 years old')\n",
    "else:\n",
    "    print(\"you entered = \", x)"
   ]
  },
  {
   "cell_type": "markdown",
   "id": "449bd8b1",
   "metadata": {},
   "source": [
    "# class and objects\n"
   ]
  },
  {
   "cell_type": "code",
   "execution_count": 10,
   "id": "e6eec120",
   "metadata": {},
   "outputs": [],
   "source": [
    "# In class there is an multiple object in a class and multiple function\n",
    "# x = 10 here x is an object\n",
    "\n",
    "class bike:\n",
    "    \n",
    "    def __init__(self, mpg, speed, length, b):\n",
    "        self.mpg = mpg\n",
    "        self.speed = speed\n",
    "        self.length = length\n",
    "        self.b = b\n",
    "    \n",
    "    def get_mpg(self):\n",
    "        print(self.mpg)\n",
    "        \n",
    "    def area(self):\n",
    "        print(self.length*self.b)\n",
    "        \n",
    "    def config(self):\n",
    "        print(\"1000cc, abs\")\n",
    "        \n",
    "    def speed(self):\n",
    "        print(\"top speed is 250\")\n",
    "        \n",
    "comp1 = bike(55, 200, 2, 8)   # once we create class we have to save in the cojnstructor so comp1 is a constructor     "
   ]
  },
  {
   "cell_type": "code",
   "execution_count": 4,
   "id": "e4686616",
   "metadata": {},
   "outputs": [
    {
     "name": "stdout",
     "output_type": "stream",
     "text": [
      "55\n"
     ]
    }
   ],
   "source": [
    "comp1.get_mpg()"
   ]
  },
  {
   "cell_type": "code",
   "execution_count": 12,
   "id": "c04a675f",
   "metadata": {},
   "outputs": [
    {
     "name": "stdout",
     "output_type": "stream",
     "text": [
      "1000cc, abs\n"
     ]
    }
   ],
   "source": [
    "comp1.config()"
   ]
  },
  {
   "cell_type": "code",
   "execution_count": 18,
   "id": "f0623956",
   "metadata": {},
   "outputs": [
    {
     "name": "stdout",
     "output_type": "stream",
     "text": [
      "16\n"
     ]
    }
   ],
   "source": [
    "comp1.area()"
   ]
  },
  {
   "cell_type": "markdown",
   "id": "6ed409df",
   "metadata": {},
   "source": [
    "# Inheritance\n"
   ]
  },
  {
   "cell_type": "code",
   "execution_count": 68,
   "id": "57ea67e7",
   "metadata": {},
   "outputs": [],
   "source": [
    "# inheritance is a power ful feature in object oriented programming.\n",
    "# single level, multilevel, multiple inheritance\n",
    "# inherit the properties of single class or multiple class\n",
    "\n",
    "class A:\n",
    "    def product1(self):\n",
    "        print('print product name1: ')\n",
    "        \n",
    "    def product2(self):\n",
    "        print('print product name2: ')\n",
    "        "
   ]
  },
  {
   "cell_type": "code",
   "execution_count": 71,
   "id": "0a76ac41",
   "metadata": {},
   "outputs": [
    {
     "name": "stdout",
     "output_type": "stream",
     "text": [
      "1428594951888\n",
      "print product name1: \n"
     ]
    }
   ],
   "source": [
    "name_a = A()\n",
    "\n",
    "print(id(name_a))\n",
    "name_a.product1()"
   ]
  },
  {
   "cell_type": "code",
   "execution_count": 3,
   "id": "d9ee4f68",
   "metadata": {},
   "outputs": [],
   "source": [
    "# inheritance. A is a super class and b is a sub class\n",
    "\n",
    "class B(A):\n",
    "    def product3(self):\n",
    "        print('print product name3: ')\n",
    "        \n",
    "    def product4(self):\n",
    "        print('print product name4: ')    "
   ]
  },
  {
   "cell_type": "code",
   "execution_count": 4,
   "id": "d50b08b5",
   "metadata": {},
   "outputs": [
    {
     "name": "stdout",
     "output_type": "stream",
     "text": [
      "2627708645776\n",
      "print product name3: \n"
     ]
    }
   ],
   "source": [
    "name_b = B() # constructor\n",
    "\n",
    "print(id(name_b))\n",
    "name_b.product3() # function is sub class"
   ]
  },
  {
   "cell_type": "code",
   "execution_count": 5,
   "id": "44678372",
   "metadata": {},
   "outputs": [
    {
     "name": "stdout",
     "output_type": "stream",
     "text": [
      "print product name2: \n"
     ]
    }
   ],
   "source": [
    "name_b.product2() # function is superclasss and accessed by sub class\n",
    "# all of in A which inherited by B"
   ]
  },
  {
   "cell_type": "code",
   "execution_count": 6,
   "id": "ee55432c",
   "metadata": {},
   "outputs": [],
   "source": [
    "class C:\n",
    "    \n",
    "    def product5(self):\n",
    "        print('print product name5: ')\n",
    "        \n",
    "    def product6(self):\n",
    "        print('print product name6: ')    "
   ]
  },
  {
   "cell_type": "code",
   "execution_count": 7,
   "id": "a2126868",
   "metadata": {},
   "outputs": [],
   "source": [
    "name_c = C()"
   ]
  },
  {
   "cell_type": "code",
   "execution_count": 8,
   "id": "f20cb249",
   "metadata": {},
   "outputs": [],
   "source": [
    "# multiple inheritance\n",
    "class D(A, C):\n",
    "    def product7(self):\n",
    "        print('print product name7: ')\n",
    "        \n",
    "    def product8(self):\n",
    "        print('print product name8: ')    "
   ]
  },
  {
   "cell_type": "code",
   "execution_count": 9,
   "id": "211a3ff3",
   "metadata": {},
   "outputs": [
    {
     "name": "stdout",
     "output_type": "stream",
     "text": [
      "print product name1: \n"
     ]
    }
   ],
   "source": [
    "name_d = D()\n",
    "\n",
    "name_d.product1()"
   ]
  },
  {
   "cell_type": "markdown",
   "id": "213a1af4",
   "metadata": {},
   "source": [
    "# polymorphism"
   ]
  },
  {
   "cell_type": "code",
   "execution_count": 72,
   "id": "90f62289",
   "metadata": {},
   "outputs": [],
   "source": [
    "# polymorphism means different ttpes of class and respond to the same functiom.polymorphism is very useful it makes\n",
    "# programmimg more initiative and more easier\n",
    "\n",
    "class Bird:\n",
    "    def intro(self):\n",
    "        print('there are many types of birds')\n",
    "        \n",
    "    def flight(self):\n",
    "        print('most of the birds can fly and some cannot')\n",
    "        \n",
    "        "
   ]
  },
  {
   "cell_type": "code",
   "execution_count": 73,
   "id": "e876d84a",
   "metadata": {},
   "outputs": [],
   "source": [
    "class sparrow(Bird):\n",
    "    def flight(self):\n",
    "        print('sparrow can fly')\n",
    "        \n",
    "class ostrich(Bird):\n",
    "    def flight(self):\n",
    "        print('ostrich cannot fly') # different calsses implementing same method"
   ]
  },
  {
   "cell_type": "code",
   "execution_count": 74,
   "id": "d5235b45",
   "metadata": {},
   "outputs": [],
   "source": [
    "# creative instances of respective classes\n",
    "obj_Bird = Bird()\n",
    "obj_sparrow = sparrow()\n",
    "obj_ostrich = ostrich()"
   ]
  },
  {
   "cell_type": "code",
   "execution_count": 75,
   "id": "a6bfddb4",
   "metadata": {},
   "outputs": [
    {
     "name": "stdout",
     "output_type": "stream",
     "text": [
      "sparrow can fly\n"
     ]
    }
   ],
   "source": [
    "obj_sparrow.flight()"
   ]
  },
  {
   "cell_type": "code",
   "execution_count": 32,
   "id": "716281da",
   "metadata": {},
   "outputs": [
    {
     "name": "stdout",
     "output_type": "stream",
     "text": [
      "most of the birds can fly and some cannot\n"
     ]
    }
   ],
   "source": [
    "obj_Bird.flight()"
   ]
  },
  {
   "cell_type": "code",
   "execution_count": 37,
   "id": "b3c926fd",
   "metadata": {},
   "outputs": [
    {
     "name": "stdout",
     "output_type": "stream",
     "text": [
      "ostrich cannot fly\n"
     ]
    }
   ],
   "source": [
    "obj_ostrich.flight()"
   ]
  },
  {
   "cell_type": "markdown",
   "id": "45659883",
   "metadata": {},
   "source": [
    "# multi-threading\n"
   ]
  },
  {
   "cell_type": "code",
   "execution_count": 25,
   "id": "7fb5c2d9",
   "metadata": {},
   "outputs": [],
   "source": [
    "# it's used for faster processing\n",
    "\n",
    "import time\n",
    "\n",
    "def calc_square(numbers):\n",
    "    print(\"calculate the square numbers\")\n",
    "    for n in numbers:\n",
    "        time.sleep(0.3) # next line of code executed in 0.3 sec\n",
    "        print('square: ', n*n)\n",
    "        \n",
    "def calc_cube(numbers):\n",
    "    print(\"calculate the cube numbers\")\n",
    "    for n in numbers:\n",
    "        time.sleep(0.1)\n",
    "        print('cube: ', n*n*n)        "
   ]
  },
  {
   "cell_type": "code",
   "execution_count": 26,
   "id": "f95fd05e",
   "metadata": {},
   "outputs": [
    {
     "name": "stdout",
     "output_type": "stream",
     "text": [
      "1687328086.2708457\n",
      "calculate the square numbers\n",
      "square:  4\n",
      "square:  25\n",
      "square:  49\n",
      "square:  81\n"
     ]
    }
   ],
   "source": [
    "arr = [2, 5, 7, 9]\n",
    "\n",
    "t = time.time() # it's calculated 1st jan 1970 to current time in sec\n",
    "print(t)\n",
    "\n",
    "calc_square(arr)"
   ]
  },
  {
   "cell_type": "code",
   "execution_count": 27,
   "id": "a92d225c",
   "metadata": {},
   "outputs": [
    {
     "name": "stdout",
     "output_type": "stream",
     "text": [
      "calculate the cube numbers\n",
      "cube:  8\n",
      "cube:  125\n",
      "cube:  343\n",
      "cube:  729\n"
     ]
    }
   ],
   "source": [
    "calc_cube(arr)"
   ]
  },
  {
   "cell_type": "code",
   "execution_count": 28,
   "id": "ae7ce4ba",
   "metadata": {},
   "outputs": [
    {
     "name": "stdout",
     "output_type": "stream",
     "text": [
      "done in:  10.411209106445312\n",
      "completed my work\n"
     ]
    }
   ],
   "source": [
    "print('done in: ', time.time()- t ) # currrent time - executed time\n",
    "print(\"completed my work\")"
   ]
  },
  {
   "cell_type": "code",
   "execution_count": 29,
   "id": "4d1f8b7f",
   "metadata": {},
   "outputs": [
    {
     "name": "stdout",
     "output_type": "stream",
     "text": [
      "calculate the square numberscalculate the cube numbers\n",
      "\n",
      "cube:  8\n",
      "cube:  125\n",
      "square:  4\n",
      "cube:  343\n",
      "cube:  729\n",
      "square:  25\n",
      "square:  49\n",
      "square:  81\n",
      "done in:  1.3090105056762695\n",
      "completed my work\n"
     ]
    }
   ],
   "source": [
    "# context switching- during the wait time lag it will execute another line of program\n",
    "\n",
    "# in serial processsing it will executed line by line by time but in parallel processing it run at a time \n",
    "\n",
    "import threading\n",
    "\n",
    "t1 = threading.Thread(target=calc_square, args=(arr, ))\n",
    "t2 = threading.Thread(target=calc_cube, args=(arr, ))\n",
    "\n",
    "t = time.time()\n",
    "\n",
    "t1.start()\n",
    "t2.start()\n",
    "\n",
    "t1.join()\n",
    "t2.join()\n",
    "\n",
    "print('done in: ', time.time()- t ) # currrent time - executed time\n",
    "print(\"completed my work\")\n",
    "\n"
   ]
  },
  {
   "cell_type": "markdown",
   "id": "33420653",
   "metadata": {},
   "source": [
    "# module"
   ]
  },
  {
   "cell_type": "code",
   "execution_count": 64,
   "id": "74099d60",
   "metadata": {},
   "outputs": [
    {
     "name": "stdout",
     "output_type": "stream",
     "text": [
      "4.0\n"
     ]
    },
    {
     "data": {
      "text/plain": [
       "243.0"
      ]
     },
     "execution_count": 64,
     "metadata": {},
     "output_type": "execute_result"
    }
   ],
   "source": [
    "# module are also called as packages or libraries\n",
    "# how to call package is : Import package_name\n",
    "\n",
    "import math\n",
    "\n",
    "print(math.sqrt(16))\n",
    "\n",
    "math.pow(3,5)"
   ]
  },
  {
   "cell_type": "code",
   "execution_count": 65,
   "id": "64ca9cac",
   "metadata": {},
   "outputs": [
    {
     "data": {
      "text/plain": [
       "['__doc__',\n",
       " '__loader__',\n",
       " '__name__',\n",
       " '__package__',\n",
       " '__spec__',\n",
       " 'acos',\n",
       " 'acosh',\n",
       " 'asin',\n",
       " 'asinh',\n",
       " 'atan',\n",
       " 'atan2',\n",
       " 'atanh',\n",
       " 'ceil',\n",
       " 'comb',\n",
       " 'copysign',\n",
       " 'cos',\n",
       " 'cosh',\n",
       " 'degrees',\n",
       " 'dist',\n",
       " 'e',\n",
       " 'erf',\n",
       " 'erfc',\n",
       " 'exp',\n",
       " 'expm1',\n",
       " 'fabs',\n",
       " 'factorial',\n",
       " 'floor',\n",
       " 'fmod',\n",
       " 'frexp',\n",
       " 'fsum',\n",
       " 'gamma',\n",
       " 'gcd',\n",
       " 'hypot',\n",
       " 'inf',\n",
       " 'isclose',\n",
       " 'isfinite',\n",
       " 'isinf',\n",
       " 'isnan',\n",
       " 'isqrt',\n",
       " 'lcm',\n",
       " 'ldexp',\n",
       " 'lgamma',\n",
       " 'log',\n",
       " 'log10',\n",
       " 'log1p',\n",
       " 'log2',\n",
       " 'modf',\n",
       " 'nan',\n",
       " 'nextafter',\n",
       " 'perm',\n",
       " 'pi',\n",
       " 'pow',\n",
       " 'prod',\n",
       " 'radians',\n",
       " 'remainder',\n",
       " 'sin',\n",
       " 'sinh',\n",
       " 'sqrt',\n",
       " 'tan',\n",
       " 'tanh',\n",
       " 'tau',\n",
       " 'trunc',\n",
       " 'ulp']"
      ]
     },
     "execution_count": 65,
     "metadata": {},
     "output_type": "execute_result"
    }
   ],
   "source": [
    "dir(math)"
   ]
  },
  {
   "cell_type": "code",
   "execution_count": 71,
   "id": "f44bda01",
   "metadata": {},
   "outputs": [
    {
     "name": "stdout",
     "output_type": "stream",
     "text": [
      "     June 2023\n",
      "Mo Tu We Th Fr Sa Su\n",
      "          1  2  3  4\n",
      " 5  6  7  8  9 10 11\n",
      "12 13 14 15 16 17 18\n",
      "19 20 21 22 23 24 25\n",
      "26 27 28 29 30\n",
      "\n"
     ]
    }
   ],
   "source": [
    "import calendar\n",
    "\n",
    "cal = calendar.month(2023, 6)\n",
    "print(cal)"
   ]
  },
  {
   "cell_type": "code",
   "execution_count": 72,
   "id": "384cdd16",
   "metadata": {},
   "outputs": [
    {
     "name": "stdout",
     "output_type": "stream",
     "text": [
      "False\n",
      "True\n"
     ]
    }
   ],
   "source": [
    "print(calendar.isleap(2018))\n",
    "print(calendar.isleap(2020))"
   ]
  },
  {
   "cell_type": "markdown",
   "id": "e426b794",
   "metadata": {},
   "source": [
    "# how to create a own module"
   ]
  },
  {
   "cell_type": "code",
   "execution_count": 1,
   "id": "016642fa",
   "metadata": {},
   "outputs": [],
   "source": [
    "# create a new python file 'find_area.py' with different function as given below\n",
    "\n",
    "# def cal_area_triangle(length,height):\n",
    "#    return 1/2*length*height\n",
    "\n",
    "# def cal_area_sqr(length):\n",
    "#    return length*length\n",
    "\n",
    "# def cal_area_rec(length,breadth):\n",
    "#    return length*breadth\n",
    "\n",
    "# def cal_area_cir(r):\n",
    "#    return 3.14*r*r\n",
    "\n",
    "# end of the code"
   ]
  },
  {
   "cell_type": "markdown",
   "id": "6307cfde",
   "metadata": {},
   "source": [
    "# importing function from another file"
   ]
  },
  {
   "cell_type": "code",
   "execution_count": 1,
   "id": "48357cc2",
   "metadata": {},
   "outputs": [],
   "source": [
    "# give path for the module\n",
    "\n",
    "import sys\n",
    "\n",
    "sys.path.append('find_area.txt')\n",
    "\n",
    "# sys.path"
   ]
  },
  {
   "cell_type": "code",
   "execution_count": 5,
   "id": "9c477c9e",
   "metadata": {},
   "outputs": [
    {
     "data": {
      "text/plain": [
       "4"
      ]
     },
     "execution_count": 5,
     "metadata": {},
     "output_type": "execute_result"
    }
   ],
   "source": [
    "2+2"
   ]
  },
  {
   "cell_type": "code",
   "execution_count": 6,
   "id": "9b569ae1",
   "metadata": {},
   "outputs": [],
   "source": [
    "# import math\n",
    "\n",
    "# from math import cos\n",
    "\n",
    "# import math.cos\n",
    "\n",
    "# import math as m\n",
    "\n",
    "# from math import* or import math"
   ]
  },
  {
   "cell_type": "code",
   "execution_count": 7,
   "id": "6d9b4fea",
   "metadata": {},
   "outputs": [
    {
     "name": "stdout",
     "output_type": "stream",
     "text": [
      "False\n",
      "True\n",
      "False\n"
     ]
    }
   ],
   "source": [
    "# all() function when all entries are true return true otherwise false\n",
    "\n",
    "s = {0 : False, 1 : True}\n",
    "print(all(s))\n",
    "\n",
    "s = {1 : True, 2 : True}\n",
    "print(all(s))\n",
    "\n",
    "s = {0 : False, 1 : True}\n",
    "print(all(s))\n"
   ]
  },
  {
   "cell_type": "markdown",
   "id": "30445b8f",
   "metadata": {},
   "source": [
    "# Regular expression"
   ]
  },
  {
   "cell_type": "code",
   "execution_count": 19,
   "id": "bac47782",
   "metadata": {},
   "outputs": [
    {
     "name": "stdout",
     "output_type": "stream",
     "text": [
      "x is match\n"
     ]
    }
   ],
   "source": [
    "import re\n",
    "\n",
    "txt = \"The rain in Hydrabad\"\n",
    "\n",
    "x = re.search(\"^The.*Hydrabad$\", txt)\n",
    "if x:\n",
    "    print(\"x is match\")\n",
    "    \n",
    "else:\n",
    "    print('not match')"
   ]
  },
  {
   "cell_type": "code",
   "execution_count": 10,
   "id": "5dba611c",
   "metadata": {},
   "outputs": [
    {
     "name": "stdout",
     "output_type": "stream",
     "text": [
      "['ai']\n"
     ]
    }
   ],
   "source": [
    "import re\n",
    "\n",
    "txt = \"The rain in Hydrabad\"\n",
    "\n",
    "x = re.findall('ai', txt)\n",
    "\n",
    "print(x)"
   ]
  },
  {
   "cell_type": "code",
   "execution_count": 24,
   "id": "a40f5a74",
   "metadata": {},
   "outputs": [
    {
     "name": "stdout",
     "output_type": "stream",
     "text": [
      "['24', '27', '29', '1', '50', '123', '45']\n",
      "['Annamalai', 'Gopi', 'Bakiya', 'Nilani', 'Mom', 'Dad']\n",
      "{'Annamalai': '24', 'Gopi': '27', 'Bakiya': '29', 'Nilani': '1', 'Mom': '50', 'Dad': '123'}\n"
     ]
    }
   ],
   "source": [
    "import re\n",
    "\n",
    "nameage = '''Annamalai is 24 and Gopi is 27 and Bakiya is 29 and Nilani is 1 and Mom is 50 and Dad is 12345'''\n",
    "\n",
    "age = re.findall(r'\\d{1,3}', nameage ) # \\ means string digit\n",
    "names = re.findall(r'[A-Z][a-z]*',  nameage)\n",
    "\n",
    "print(age)\n",
    "print(names)\n",
    "\n",
    "agedict = {}\n",
    "\n",
    "x = 0\n",
    "\n",
    "for eachname in names:\n",
    "    agedict[eachname] = age[x]\n",
    "    x += 1\n",
    "    \n",
    "print(agedict)    "
   ]
  },
  {
   "cell_type": "code",
   "execution_count": 29,
   "id": "9c22cc49",
   "metadata": {},
   "outputs": [
    {
     "name": "stdout",
     "output_type": "stream",
     "text": [
      "['The', 'rain', 'in', 'Hydrabad']\n"
     ]
    }
   ],
   "source": [
    "import re\n",
    "\n",
    "txt = \"The rain in Hydrabad\"\n",
    "\n",
    "x = re.split('\\s', txt)\n",
    "print(x)"
   ]
  },
  {
   "cell_type": "code",
   "execution_count": 30,
   "id": "bf04d7b5",
   "metadata": {},
   "outputs": [
    {
     "name": "stdout",
     "output_type": "stream",
     "text": [
      "['Twelve:', ' Eighty one:', '.']\n"
     ]
    }
   ],
   "source": [
    "string = 'Twelve:12 Eighty one:81.'\n",
    "pattern = '\\d+'\n",
    "\n",
    "print(re.split(pattern,string))"
   ]
  },
  {
   "cell_type": "code",
   "execution_count": 34,
   "id": "fcb33e25",
   "metadata": {},
   "outputs": [
    {
     "name": "stdout",
     "output_type": "stream",
     "text": [
      "249-939-9063 \n",
      "2499399063\n"
     ]
    }
   ],
   "source": [
    "import re\n",
    "\n",
    "phone = \"249-939-9063 # This is phone number\"\n",
    "\n",
    "# deleting python style comments\n",
    "num = re.sub(r'#.*$',\"\",phone)\n",
    "print(num)\n",
    "\n",
    "# delete other than digvits\n",
    "num= re.sub('\\D', '', phone)\n",
    "print(num)\n",
    "\n"
   ]
  },
  {
   "cell_type": "code",
   "execution_count": 36,
   "id": "96f12508",
   "metadata": {},
   "outputs": [
    {
     "name": "stdout",
     "output_type": "stream",
     "text": [
      "['name', 'name']\n",
      "name\n",
      "name\n"
     ]
    }
   ],
   "source": [
    "import re\n",
    "\n",
    "allname = re.findall('name', 'my name is annamalai and what is your name')\n",
    "print(allname)\n",
    "\n",
    "for name in allname:\n",
    "    print(name)"
   ]
  },
  {
   "cell_type": "code",
   "execution_count": 11,
   "id": "6294a349",
   "metadata": {},
   "outputs": [
    {
     "name": "stdout",
     "output_type": "stream",
     "text": [
      "(3, 7)\n",
      "(38, 42)\n"
     ]
    }
   ],
   "source": [
    "import re\n",
    "\n",
    "allname = \"my name is annamalai and what is your name\"\n",
    "\n",
    "for i in re.finditer(\"name\", allname):\n",
    "    loctup = i.span() # return a tuple containing start and end position of the match\n",
    "    print(loctup) # span - index location\n",
    "    \n",
    "    \n",
    "    "
   ]
  },
  {
   "cell_type": "code",
   "execution_count": 38,
   "id": "30fe0928",
   "metadata": {},
   "outputs": [
    {
     "name": "stdout",
     "output_type": "stream",
     "text": [
      "['Aam', 'Bam', 'Mam', 'Lam']\n",
      "Aam\n",
      "Bam\n",
      "Mam\n",
      "Lam\n"
     ]
    }
   ],
   "source": [
    "import re\n",
    "\n",
    "name = 'Aam, Bam, Sam, Mam, Yam, Lam'\n",
    "\n",
    "allnames = re.findall('[A-M]am', name)\n",
    "print(allnames)\n",
    "\n",
    "for i in allnames:\n",
    "    print(i)"
   ]
  },
  {
   "cell_type": "code",
   "execution_count": 3,
   "id": "45661d7b",
   "metadata": {},
   "outputs": [
    {
     "name": "stdout",
     "output_type": "stream",
     "text": [
      "sama Ram Dom kane\n"
     ]
    }
   ],
   "source": [
    "# replace string\n",
    "import re\n",
    "\n",
    "names = \"Sam Ram Dom kane\"\n",
    "regex = re.compile(\"[S]am\")\n",
    "x = regex.sub('sama', names)\n",
    "print(x)"
   ]
  },
  {
   "cell_type": "code",
   "execution_count": 1,
   "id": "9e79e7bb",
   "metadata": {},
   "outputs": [
    {
     "name": "stdout",
     "output_type": "stream",
     "text": [
      "The9rain9in Hydrabad\n"
     ]
    }
   ],
   "source": [
    "# replace a first two occurance of space character with a digit 9\n",
    "\n",
    "import re\n",
    "\n",
    "txt = \"The rain in Hydrabad\"\n",
    "\n",
    "x = re.sub('\\s','9', txt, 2)\n",
    "print(x)"
   ]
  },
  {
   "cell_type": "code",
   "execution_count": 2,
   "id": "515675d2",
   "metadata": {},
   "outputs": [
    {
     "data": {
      "text/plain": [
       "'***1231***** #$%&@****678'"
      ]
     },
     "execution_count": 2,
     "metadata": {},
     "output_type": "execute_result"
    }
   ],
   "source": [
    "# dividing number, alpha, spec character\n",
    "\n",
    "import re\n",
    "\n",
    "re.sub('[A-Za-z]','*', 'ada1231xytes #$%&@zhga678')"
   ]
  },
  {
   "cell_type": "code",
   "execution_count": 5,
   "id": "61523e83",
   "metadata": {},
   "outputs": [
    {
     "data": {
      "text/plain": [
       "'ada&&&&xytes&&&&&&zhga&&&'"
      ]
     },
     "execution_count": 5,
     "metadata": {},
     "output_type": "execute_result"
    }
   ],
   "source": [
    "import re\n",
    "\n",
    "re.sub('[^A-Za-z]','&', 'ada1231xytes #$%&@zhga678') # ^ - not"
   ]
  },
  {
   "cell_type": "code",
   "execution_count": 2,
   "id": "af8cca4f",
   "metadata": {},
   "outputs": [
    {
     "name": "stdout",
     "output_type": "stream",
     "text": [
      "\n",
      "my\n",
      "name\n",
      "is\n",
      "annamalai\n",
      "\n",
      "\n",
      "my\n",
      "name\n",
      "is\n",
      "annamalai\n",
      " "
     ]
    }
   ],
   "source": [
    "# remove white space\n",
    "\n",
    "randstr = '''\n",
    "my\n",
    "name\n",
    "is\n",
    "annamalai\n",
    "'''\n",
    "print(randstr)\n",
    "\n",
    "print(randstr, end=' ')"
   ]
  },
  {
   "cell_type": "code",
   "execution_count": 9,
   "id": "32a69b75",
   "metadata": {},
   "outputs": [
    {
     "name": "stdout",
     "output_type": "stream",
     "text": [
      "mynameisannamalai\n"
     ]
    }
   ],
   "source": [
    "regex = re.compile('\\n')\n",
    "\n",
    "randstr = regex.sub(\" \", randstr)\n",
    "print(randstr)"
   ]
  },
  {
   "cell_type": "code",
   "execution_count": 15,
   "id": "7d92fc8d",
   "metadata": {},
   "outputs": [
    {
     "name": "stdout",
     "output_type": "stream",
     "text": [
      "5\n",
      "<re.Match object; span=(1, 3), match='12'>\n"
     ]
    }
   ],
   "source": [
    "randstr = 'a12345'\n",
    "\n",
    "print(len(re.findall('\\d', randstr)))\n",
    "\n",
    "print(re.search(r'\\d{2}', randstr))"
   ]
  },
  {
   "cell_type": "code",
   "execution_count": 16,
   "id": "d400dc38",
   "metadata": {},
   "outputs": [
    {
     "name": "stdout",
     "output_type": "stream",
     "text": [
      "it is a pan number\n"
     ]
    }
   ],
   "source": [
    "# pan number verfication\n",
    "\n",
    "# \\d -[0-9]- digits\n",
    "# \\w - [a_zA-Z0-9] - alphanum\n",
    "\n",
    "pan = '1234-5678-AA123476bagfN78'\n",
    "\n",
    "if re.search('\\d{4}-\\d{4}-\\w{15}', pan):\n",
    "    print('it is a pan number')\n",
    "    \n",
    "else:\n",
    "    print(\"not pan number\")"
   ]
  },
  {
   "cell_type": "code",
   "execution_count": 19,
   "id": "e8ad2c38",
   "metadata": {},
   "outputs": [
    {
     "data": {
      "text/plain": [
       "['my', 'name', 'is', 'annamalai', 'and', 'right', 'now', 'iam', 'vip']"
      ]
     },
     "execution_count": 19,
     "metadata": {},
     "output_type": "execute_result"
    }
   ],
   "source": [
    "name = 'my name is annamalai and right now iam vip'\n",
    "\n",
    "re.split(' ', name)"
   ]
  },
  {
   "cell_type": "code",
   "execution_count": 21,
   "id": "ca22b31a",
   "metadata": {},
   "outputs": [
    {
     "name": "stdout",
     "output_type": "stream",
     "text": [
      "pattern found inside the string\n"
     ]
    }
   ],
   "source": [
    "string = 'python programming is very fun'\n",
    "\n",
    "match = re.search('\\Apython', string) # \\A - return a match character beginning of the string\n",
    "\n",
    "if match:                                 # \\B - beginning or end\n",
    "    print('pattern found inside the string')\n",
    "    \n",
    "else:\n",
    "    print('not found')"
   ]
  },
  {
   "cell_type": "markdown",
   "id": "b04fcc41",
   "metadata": {},
   "source": [
    "# Python packages of data analysis\n",
    "\n",
    "# numpy\n"
   ]
  },
  {
   "cell_type": "code",
   "execution_count": 4,
   "id": "1ec9f37f",
   "metadata": {},
   "outputs": [
    {
     "data": {
      "text/plain": [
       "[12, 34, 56, 98, 1, 5, 6, 12, 34, 56, 98, 1, 5, 6]"
      ]
     },
     "execution_count": 4,
     "metadata": {},
     "output_type": "execute_result"
    }
   ],
   "source": [
    "import numpy as np\n",
    "\n",
    "x = [12, 34, 56, 98, 1, 5, 6]\n",
    "\n",
    "# the list values into 2\n",
    "\n",
    "x * 2"
   ]
  },
  {
   "cell_type": "code",
   "execution_count": 7,
   "id": "f2f58af1",
   "metadata": {},
   "outputs": [
    {
     "name": "stdout",
     "output_type": "stream",
     "text": [
      "[12 34 56 98  1  5  6]\n",
      "<class 'numpy.ndarray'>\n",
      "[ 24  68 112 196   2  10  12]\n"
     ]
    }
   ],
   "source": [
    "# numpy array will help access the value\n",
    "\n",
    "y = np.array(x)\n",
    "print(y)\n",
    "print(type(y))\n",
    "print(y * 2)"
   ]
  },
  {
   "cell_type": "code",
   "execution_count": 8,
   "id": "1f577863",
   "metadata": {},
   "outputs": [
    {
     "data": {
      "text/plain": [
       "array([ True,  True,  True,  True, False, False, False])"
      ]
     },
     "execution_count": 8,
     "metadata": {},
     "output_type": "execute_result"
    }
   ],
   "source": [
    "y > 10"
   ]
  },
  {
   "cell_type": "code",
   "execution_count": 9,
   "id": "fea86ac7",
   "metadata": {},
   "outputs": [
    {
     "data": {
      "text/plain": [
       "array([12, 34, 56, 98])"
      ]
     },
     "execution_count": 9,
     "metadata": {},
     "output_type": "execute_result"
    }
   ],
   "source": [
    "y[y > 10] # index of y it shows the true value"
   ]
  },
  {
   "cell_type": "code",
   "execution_count": 13,
   "id": "9a81649e",
   "metadata": {},
   "outputs": [
    {
     "name": "stdout",
     "output_type": "stream",
     "text": [
      "20\n"
     ]
    }
   ],
   "source": [
    "from numpy import random\n",
    "\n",
    "x = random.randint(12, 78)\n",
    "print(x)"
   ]
  },
  {
   "cell_type": "code",
   "execution_count": 19,
   "id": "616eaf29",
   "metadata": {},
   "outputs": [
    {
     "name": "stdout",
     "output_type": "stream",
     "text": [
      "[0 1 2 3 4 5 6 7 8 9]\n",
      "[0 2 4 6 8]\n",
      "True\n"
     ]
    },
    {
     "data": {
      "text/plain": [
       "(array([0, 1, 2, 3, 4, 5, 6, 7, 8, 9]), array([0, 2, 4, 6, 8]))"
      ]
     },
     "execution_count": 19,
     "metadata": {},
     "output_type": "execute_result"
    }
   ],
   "source": [
    "# numpy array share the memory instead of allocate seperate memory\n",
    "a = np.arange(10)\n",
    "print(a)\n",
    "\n",
    "b = a[::2]\n",
    "print(b)\n",
    "\n",
    "print(np.shares_memory(a, b)) # check wheather a nad b are share memory\n",
    "\n",
    "a, b\n",
    "\n"
   ]
  },
  {
   "cell_type": "code",
   "execution_count": 24,
   "id": "b010d728",
   "metadata": {},
   "outputs": [
    {
     "name": "stdout",
     "output_type": "stream",
     "text": [
      "[[ 1  4  5  8  9]\n",
      " [12 13 16 18 20]]\n",
      "5\n",
      "1\n",
      "12\n",
      "18\n"
     ]
    }
   ],
   "source": [
    "arr = np.array([[1, 4, 5, 8, 9],[12, 13, 16, 18, 20]]) # index value 0 and 1\n",
    "print(arr)\n",
    "\n",
    "print(arr[0, 2])\n",
    "print(arr[0, 0])\n",
    "print(arr[1, 0])\n",
    "print(arr[1, 3])"
   ]
  },
  {
   "cell_type": "code",
   "execution_count": 27,
   "id": "a1c5aac3",
   "metadata": {},
   "outputs": [
    {
     "data": {
      "text/plain": [
       "array([4, 5, 8])"
      ]
     },
     "execution_count": 27,
     "metadata": {},
     "output_type": "execute_result"
    }
   ],
   "source": [
    "arr = np.array([1, 4, 5, 8, 9, 12, 14, 16, 18])\n",
    "arr[1:4]"
   ]
  },
  {
   "cell_type": "code",
   "execution_count": 29,
   "id": "044f0a1d",
   "metadata": {},
   "outputs": [
    {
     "data": {
      "text/plain": [
       "array([ 4,  8, 12])"
      ]
     },
     "execution_count": 29,
     "metadata": {},
     "output_type": "execute_result"
    }
   ],
   "source": [
    "arr[1:7:2]"
   ]
  },
  {
   "cell_type": "markdown",
   "id": "9462038d",
   "metadata": {},
   "source": [
    "# masking arrays"
   ]
  },
  {
   "cell_type": "code",
   "execution_count": 3,
   "id": "38a20e53",
   "metadata": {},
   "outputs": [
    {
     "name": "stdout",
     "output_type": "stream",
     "text": [
      "[ True False  True False  True False  True False  True False]\n"
     ]
    },
    {
     "data": {
      "text/plain": [
       "array([0, 2, 4, 6, 8])"
      ]
     },
     "execution_count": 3,
     "metadata": {},
     "output_type": "execute_result"
    }
   ],
   "source": [
    "import numpy as  np\n",
    "a = np.arange(10)\n",
    "\n",
    "mask = (a % 2 == 0)\n",
    "print(mask)\n",
    "a[mask]"
   ]
  },
  {
   "cell_type": "code",
   "execution_count": 35,
   "id": "c4abeadd",
   "metadata": {},
   "outputs": [
    {
     "data": {
      "text/plain": [
       "array([0, 1, 0, 1, 0, 1, 0, 1, 0, 1], dtype=int32)"
      ]
     },
     "execution_count": 35,
     "metadata": {},
     "output_type": "execute_result"
    }
   ],
   "source": [
    "a % 2 "
   ]
  },
  {
   "cell_type": "markdown",
   "id": "e2a869c9",
   "metadata": {},
   "source": [
    "# numpy matrix"
   ]
  },
  {
   "cell_type": "code",
   "execution_count": 38,
   "id": "0afe24f1",
   "metadata": {},
   "outputs": [
    {
     "name": "stdout",
     "output_type": "stream",
     "text": [
      "[[1 2]\n",
      " [3 4]]\n",
      "[[1 2]\n",
      " [3 4]]\n"
     ]
    }
   ],
   "source": [
    "# ex:1\n",
    "\n",
    "a = np.matrix('1 2 ; 3 4')\n",
    "print(a)\n",
    "\n",
    "b = np.matrix([[1, 2],[3, 4]]) # ex;2\n",
    "print(b)\n",
    "\n"
   ]
  },
  {
   "cell_type": "code",
   "execution_count": 39,
   "id": "d1677f61",
   "metadata": {},
   "outputs": [
    {
     "name": "stdout",
     "output_type": "stream",
     "text": [
      "[[1 2 3]\n",
      " [3 4 5]\n",
      " [5 6 7]]\n"
     ]
    }
   ],
   "source": [
    "c = np.matrix('1 2 3 ; 3 4 5 ; 5 6 7')\n",
    "print(c)"
   ]
  },
  {
   "cell_type": "markdown",
   "id": "8c68b3f8",
   "metadata": {},
   "source": [
    "# numpy broadcasting"
   ]
  },
  {
   "cell_type": "code",
   "execution_count": 12,
   "id": "e6fe0d3a",
   "metadata": {},
   "outputs": [
    {
     "name": "stdout",
     "output_type": "stream",
     "text": [
      "[ 0 10 20 30]\n",
      "[ 1  4 15]\n"
     ]
    },
    {
     "data": {
      "text/plain": [
       "((4,), array([ 0, 10, 20, 30]), (3,), array([ 1,  4, 15]))"
      ]
     },
     "execution_count": 12,
     "metadata": {},
     "output_type": "execute_result"
    }
   ],
   "source": [
    "# it works on different sized of array\n",
    "\n",
    "import numpy as np\n",
    "\n",
    "a = np.arange(0, 40, 10)\n",
    "print(a)\n",
    "\n",
    "b = np.array([1, 4, 15,])\n",
    "print(b)\n",
    "\n",
    "a.shape, a, b.shape, b"
   ]
  },
  {
   "cell_type": "code",
   "execution_count": 24,
   "id": "12be410b",
   "metadata": {},
   "outputs": [
    {
     "data": {
      "text/plain": [
       "(4, 1, 1)"
      ]
     },
     "execution_count": 24,
     "metadata": {},
     "output_type": "execute_result"
    }
   ],
   "source": [
    "a= a[:, np.newaxis] # add one extra axis\n",
    "a.shape"
   ]
  },
  {
   "cell_type": "code",
   "execution_count": 25,
   "id": "ce3fcdb9",
   "metadata": {},
   "outputs": [
    {
     "name": "stdout",
     "output_type": "stream",
     "text": [
      "[[[ 0]]\n",
      "\n",
      " [[10]]\n",
      "\n",
      " [[20]]\n",
      "\n",
      " [[30]]]\n",
      "*********\n",
      "[ 1  4 15]\n",
      "********\n"
     ]
    },
    {
     "data": {
      "text/plain": [
       "array([[[ 1,  4, 15]],\n",
       "\n",
       "       [[11, 14, 25]],\n",
       "\n",
       "       [[21, 24, 35]],\n",
       "\n",
       "       [[31, 34, 45]]])"
      ]
     },
     "execution_count": 25,
     "metadata": {},
     "output_type": "execute_result"
    }
   ],
   "source": [
    "print(a)\n",
    "print('*********')\n",
    "print(b)\n",
    "print('********')\n",
    "a + b"
   ]
  },
  {
   "cell_type": "markdown",
   "id": "2b75cd41",
   "metadata": {},
   "source": [
    "# data structure\n",
    "# arrays/vectors"
   ]
  },
  {
   "cell_type": "code",
   "execution_count": 33,
   "id": "99d50c3f",
   "metadata": {},
   "outputs": [
    {
     "name": "stdout",
     "output_type": "stream",
     "text": [
      "array('i', [10, 20, 30, 40, 50])\n",
      "10\n",
      "20\n",
      "30\n",
      "40\n",
      "50\n"
     ]
    }
   ],
   "source": [
    "# creating an array\n",
    "# array is created in python by importing arraymodule to the python programmimg\n",
    "\n",
    "from array import *\n",
    "\n",
    "arr1 = array('i',[10, 20, 30, 40, 50])\n",
    "print(arr1)\n",
    "\n",
    "for x in arr1:\n",
    "    print(x)"
   ]
  },
  {
   "cell_type": "code",
   "execution_count": 34,
   "id": "a46e4f8c",
   "metadata": {},
   "outputs": [
    {
     "name": "stdout",
     "output_type": "stream",
     "text": [
      "Help on class array in module array:\n",
      "\n",
      "class array(builtins.object)\n",
      " |  array(typecode [, initializer]) -> array\n",
      " |  \n",
      " |  Return a new array whose items are restricted by typecode, and\n",
      " |  initialized from the optional initializer value, which must be a list,\n",
      " |  string or iterable over elements of the appropriate type.\n",
      " |  \n",
      " |  Arrays represent basic values and behave very much like lists, except\n",
      " |  the type of objects stored in them is constrained. The type is specified\n",
      " |  at object creation time by using a type code, which is a single character.\n",
      " |  The following type codes are defined:\n",
      " |  \n",
      " |      Type code   C Type             Minimum size in bytes\n",
      " |      'b'         signed integer     1\n",
      " |      'B'         unsigned integer   1\n",
      " |      'u'         Unicode character  2 (see note)\n",
      " |      'h'         signed integer     2\n",
      " |      'H'         unsigned integer   2\n",
      " |      'i'         signed integer     2\n",
      " |      'I'         unsigned integer   2\n",
      " |      'l'         signed integer     4\n",
      " |      'L'         unsigned integer   4\n",
      " |      'q'         signed integer     8 (see note)\n",
      " |      'Q'         unsigned integer   8 (see note)\n",
      " |      'f'         floating point     4\n",
      " |      'd'         floating point     8\n",
      " |  \n",
      " |  NOTE: The 'u' typecode corresponds to Python's unicode character. On\n",
      " |  narrow builds this is 2-bytes on wide builds this is 4-bytes.\n",
      " |  \n",
      " |  NOTE: The 'q' and 'Q' type codes are only available if the platform\n",
      " |  C compiler used to build Python supports 'long long', or, on Windows,\n",
      " |  '__int64'.\n",
      " |  \n",
      " |  Methods:\n",
      " |  \n",
      " |  append() -- append a new item to the end of the array\n",
      " |  buffer_info() -- return information giving the current memory info\n",
      " |  byteswap() -- byteswap all the items of the array\n",
      " |  count() -- return number of occurrences of an object\n",
      " |  extend() -- extend array by appending multiple elements from an iterable\n",
      " |  fromfile() -- read items from a file object\n",
      " |  fromlist() -- append items from the list\n",
      " |  frombytes() -- append items from the string\n",
      " |  index() -- return index of first occurrence of an object\n",
      " |  insert() -- insert a new item into the array at a provided position\n",
      " |  pop() -- remove and return item (default last)\n",
      " |  remove() -- remove first occurrence of an object\n",
      " |  reverse() -- reverse the order of the items in the array\n",
      " |  tofile() -- write all items to a file object\n",
      " |  tolist() -- return the array converted to an ordinary list\n",
      " |  tobytes() -- return the array converted to a string\n",
      " |  \n",
      " |  Attributes:\n",
      " |  \n",
      " |  typecode -- the typecode character used to create the array\n",
      " |  itemsize -- the length in bytes of one array item\n",
      " |  \n",
      " |  Methods defined here:\n",
      " |  \n",
      " |  __add__(self, value, /)\n",
      " |      Return self+value.\n",
      " |  \n",
      " |  __contains__(self, key, /)\n",
      " |      Return key in self.\n",
      " |  \n",
      " |  __copy__(self, /)\n",
      " |      Return a copy of the array.\n",
      " |  \n",
      " |  __deepcopy__(self, unused, /)\n",
      " |      Return a copy of the array.\n",
      " |  \n",
      " |  __delitem__(self, key, /)\n",
      " |      Delete self[key].\n",
      " |  \n",
      " |  __eq__(self, value, /)\n",
      " |      Return self==value.\n",
      " |  \n",
      " |  __ge__(self, value, /)\n",
      " |      Return self>=value.\n",
      " |  \n",
      " |  __getattribute__(self, name, /)\n",
      " |      Return getattr(self, name).\n",
      " |  \n",
      " |  __getitem__(self, key, /)\n",
      " |      Return self[key].\n",
      " |  \n",
      " |  __gt__(self, value, /)\n",
      " |      Return self>value.\n",
      " |  \n",
      " |  __iadd__(self, value, /)\n",
      " |      Implement self+=value.\n",
      " |  \n",
      " |  __imul__(self, value, /)\n",
      " |      Implement self*=value.\n",
      " |  \n",
      " |  __iter__(self, /)\n",
      " |      Implement iter(self).\n",
      " |  \n",
      " |  __le__(self, value, /)\n",
      " |      Return self<=value.\n",
      " |  \n",
      " |  __len__(self, /)\n",
      " |      Return len(self).\n",
      " |  \n",
      " |  __lt__(self, value, /)\n",
      " |      Return self<value.\n",
      " |  \n",
      " |  __mul__(self, value, /)\n",
      " |      Return self*value.\n",
      " |  \n",
      " |  __ne__(self, value, /)\n",
      " |      Return self!=value.\n",
      " |  \n",
      " |  __reduce_ex__(self, value, /)\n",
      " |      Return state information for pickling.\n",
      " |  \n",
      " |  __repr__(self, /)\n",
      " |      Return repr(self).\n",
      " |  \n",
      " |  __rmul__(self, value, /)\n",
      " |      Return value*self.\n",
      " |  \n",
      " |  __setitem__(self, key, value, /)\n",
      " |      Set self[key] to value.\n",
      " |  \n",
      " |  __sizeof__(self, /)\n",
      " |      Size of the array in memory, in bytes.\n",
      " |  \n",
      " |  append(self, v, /)\n",
      " |      Append new value v to the end of the array.\n",
      " |  \n",
      " |  buffer_info(self, /)\n",
      " |      Return a tuple (address, length) giving the current memory address and the length in items of the buffer used to hold array's contents.\n",
      " |      \n",
      " |      The length should be multiplied by the itemsize attribute to calculate\n",
      " |      the buffer length in bytes.\n",
      " |  \n",
      " |  byteswap(self, /)\n",
      " |      Byteswap all items of the array.\n",
      " |      \n",
      " |      If the items in the array are not 1, 2, 4, or 8 bytes in size, RuntimeError is\n",
      " |      raised.\n",
      " |  \n",
      " |  count(self, v, /)\n",
      " |      Return number of occurrences of v in the array.\n",
      " |  \n",
      " |  extend(self, bb, /)\n",
      " |      Append items to the end of the array.\n",
      " |  \n",
      " |  frombytes(self, buffer, /)\n",
      " |      Appends items from the string, interpreting it as an array of machine values, as if it had been read from a file using the fromfile() method.\n",
      " |  \n",
      " |  fromfile(self, f, n, /)\n",
      " |      Read n objects from the file object f and append them to the end of the array.\n",
      " |  \n",
      " |  fromlist(self, list, /)\n",
      " |      Append items to array from list.\n",
      " |  \n",
      " |  fromunicode(self, ustr, /)\n",
      " |      Extends this array with data from the unicode string ustr.\n",
      " |      \n",
      " |      The array must be a unicode type array; otherwise a ValueError is raised.\n",
      " |      Use array.frombytes(ustr.encode(...)) to append Unicode data to an array of\n",
      " |      some other type.\n",
      " |  \n",
      " |  index(self, v, start=0, stop=9223372036854775807, /)\n",
      " |      Return index of first occurrence of v in the array.\n",
      " |      \n",
      " |      Raise ValueError if the value is not present.\n",
      " |  \n",
      " |  insert(self, i, v, /)\n",
      " |      Insert a new item v into the array before position i.\n",
      " |  \n",
      " |  pop(self, i=-1, /)\n",
      " |      Return the i-th element and delete it from the array.\n",
      " |      \n",
      " |      i defaults to -1.\n",
      " |  \n",
      " |  remove(self, v, /)\n",
      " |      Remove the first occurrence of v in the array.\n",
      " |  \n",
      " |  reverse(self, /)\n",
      " |      Reverse the order of the items in the array.\n",
      " |  \n",
      " |  tobytes(self, /)\n",
      " |      Convert the array to an array of machine values and return the bytes representation.\n",
      " |  \n",
      " |  tofile(self, f, /)\n",
      " |      Write all items (as machine values) to the file object f.\n",
      " |  \n",
      " |  tolist(self, /)\n",
      " |      Convert array to an ordinary list with the same items.\n",
      " |  \n",
      " |  tounicode(self, /)\n",
      " |      Extends this array with data from the unicode string ustr.\n",
      " |      \n",
      " |      Convert the array to a unicode string.  The array must be a unicode type array;\n",
      " |      otherwise a ValueError is raised.  Use array.tobytes().decode() to obtain a\n",
      " |      unicode string from an array of some other type.\n",
      " |  \n",
      " |  ----------------------------------------------------------------------\n",
      " |  Static methods defined here:\n",
      " |  \n",
      " |  __new__(*args, **kwargs) from builtins.type\n",
      " |      Create and return a new object.  See help(type) for accurate signature.\n",
      " |  \n",
      " |  ----------------------------------------------------------------------\n",
      " |  Data descriptors defined here:\n",
      " |  \n",
      " |  itemsize\n",
      " |      the size, in bytes, of one array item\n",
      " |  \n",
      " |  typecode\n",
      " |      the typecode character used to create the array\n",
      " |  \n",
      " |  ----------------------------------------------------------------------\n",
      " |  Data and other attributes defined here:\n",
      " |  \n",
      " |  __hash__ = None\n",
      "\n"
     ]
    }
   ],
   "source": [
    "help(array)"
   ]
  },
  {
   "cell_type": "code",
   "execution_count": 42,
   "id": "7b5aa81b",
   "metadata": {},
   "outputs": [],
   "source": [
    "# insert option\n",
    "\n",
    "from array import *\n",
    "\n",
    "arr1 = array('i',[10, 20, 30, 40, 50])\n",
    "arr1.insert(1, 60)\n"
   ]
  },
  {
   "cell_type": "code",
   "execution_count": 43,
   "id": "8b7b0ed1",
   "metadata": {},
   "outputs": [
    {
     "name": "stdout",
     "output_type": "stream",
     "text": [
      "10\n",
      "60\n",
      "20\n",
      "30\n",
      "40\n",
      "50\n"
     ]
    }
   ],
   "source": [
    "for x in arr1:\n",
    "    print(x)"
   ]
  },
  {
   "cell_type": "code",
   "execution_count": 45,
   "id": "8a301ac9",
   "metadata": {},
   "outputs": [],
   "source": [
    "# delete\n",
    "arr1.remove(40)"
   ]
  },
  {
   "cell_type": "code",
   "execution_count": 46,
   "id": "e9604bdb",
   "metadata": {},
   "outputs": [
    {
     "name": "stdout",
     "output_type": "stream",
     "text": [
      "10\n",
      "60\n",
      "20\n",
      "30\n",
      "50\n"
     ]
    }
   ],
   "source": [
    "for x in arr1:\n",
    "    print(x)"
   ]
  },
  {
   "cell_type": "code",
   "execution_count": 47,
   "id": "f27c1871",
   "metadata": {},
   "outputs": [
    {
     "name": "stdout",
     "output_type": "stream",
     "text": [
      "10\n",
      "60\n",
      "80\n",
      "30\n",
      "50\n"
     ]
    }
   ],
   "source": [
    "# update\n",
    "\n",
    "arr1[2] = 80\n",
    "\n",
    "for x in arr1:\n",
    "    print(x)"
   ]
  },
  {
   "cell_type": "markdown",
   "id": "7d7e1817",
   "metadata": {},
   "source": [
    "# 2-D array"
   ]
  },
  {
   "cell_type": "code",
   "execution_count": 49,
   "id": "1f7d1a48",
   "metadata": {},
   "outputs": [
    {
     "name": "stdout",
     "output_type": "stream",
     "text": [
      "[1, 2, 3, 4]\n",
      "8\n"
     ]
    }
   ],
   "source": [
    "# the data elements in two dimensional array can be accessed by using idices\n",
    "# one index refer to main or parent array another data element in inner array\n",
    "# if we mentioned only one index then the entire inner array is printed for the index position\n",
    "\n",
    "T = [[1, 2, 3, 4], [4, 7, 8, 9], [11, 23, 22], [45, 31, 18, 17]]\n",
    "\n",
    "print(T[0])\n",
    "print(T[1][2])"
   ]
  },
  {
   "cell_type": "code",
   "execution_count": 50,
   "id": "64772555",
   "metadata": {},
   "outputs": [
    {
     "data": {
      "text/plain": [
       "[[1, 2, 3, 4], [4, 7, 8, 9], [12, 13, 15, 19], [11, 23, 22], [45, 31, 18, 17]]"
      ]
     },
     "execution_count": 50,
     "metadata": {},
     "output_type": "execute_result"
    }
   ],
   "source": [
    "# inserting values in two dimension array\n",
    "T.insert(2, [12, 13, 15, 19])\n",
    "T"
   ]
  },
  {
   "cell_type": "code",
   "execution_count": 53,
   "id": "1855a764",
   "metadata": {},
   "outputs": [
    {
     "name": "stdout",
     "output_type": "stream",
     "text": [
      "[[1, 2, 3, 4], [4, 7, 8, [90]], [22, 26, 27, 28], [11, 23, 22], [45, 31, 18, 17]]\n",
      "[[1, 2, 3, 4], [4, 7, 8, [90]], [22, 26, 27, 28], [11, 23, 22], [45, 31, 18, 17]]\n"
     ]
    }
   ],
   "source": [
    "# update values in two dimensional array\n",
    "\n",
    "T[2] = [22, 26, 27, 28]\n",
    "print(T)\n",
    "\n",
    "T[1][3] = [90]\n",
    "print(T)"
   ]
  },
  {
   "cell_type": "code",
   "execution_count": 54,
   "id": "879889b9",
   "metadata": {},
   "outputs": [
    {
     "data": {
      "text/plain": [
       "[[1, 2, 3, 4], [4, 7, 8, [90]], [22, 26, 27, 28], [45, 31, 18, 17]]"
      ]
     },
     "execution_count": 54,
     "metadata": {},
     "output_type": "execute_result"
    }
   ],
   "source": [
    "# deleting values in two dimensional array\n",
    "\n",
    "del T[3]\n",
    "T"
   ]
  },
  {
   "cell_type": "markdown",
   "id": "cb188b7b",
   "metadata": {},
   "source": [
    "# matrix"
   ]
  },
  {
   "cell_type": "markdown",
   "id": "764a299c",
   "metadata": {},
   "source": [
    "matrix is a special case of two dimensional array where each data element are strictly same size . so evry matrix is also two dimensional array not vice versa, matrix important in data structure for mathematical and scientific operation"
   ]
  },
  {
   "cell_type": "code",
   "execution_count": 55,
   "id": "73c85404",
   "metadata": {},
   "outputs": [
    {
     "name": "stdout",
     "output_type": "stream",
     "text": [
      "[['mon' '12' '23' '45' '56']\n",
      " ['tues' '89' '78' '56' '43']\n",
      " ['wed' '34' '56' '39' '30']\n",
      " ['thur' '56' '78' '90' '65']\n",
      " ['fri' '65' '78' '90' '87']\n",
      " ['sat' '32' '67' '98' '99']\n",
      " ['sun' '12' '34' '13' '16']]\n"
     ]
    }
   ],
   "source": [
    "# matrix example\n",
    "\n",
    "from numpy import *\n",
    "\n",
    "a = array([[\"mon\", 12, 23, 45, 56], ['tues', 89, 78, 56, 43], ['wed', 34, 56, 39, 30], ['thur', 56, 78, 90, 65], ['fri', 65, 78, 90, 87], ['sat', 32, 67, 98, 99], ['sun', 12, 34, 13, 16 ]])\n",
    "\n",
    "c = reshape(a,(7, 5))\n",
    "print(c)"
   ]
  },
  {
   "cell_type": "code",
   "execution_count": 56,
   "id": "f011ccef",
   "metadata": {},
   "outputs": [
    {
     "name": "stdout",
     "output_type": "stream",
     "text": [
      "['wed' '34' '56' '39' '30']\n"
     ]
    }
   ],
   "source": [
    "print(a[2])"
   ]
  },
  {
   "cell_type": "code",
   "execution_count": 57,
   "id": "20c3c6a8",
   "metadata": {},
   "outputs": [
    {
     "name": "stdout",
     "output_type": "stream",
     "text": [
      "65\n"
     ]
    }
   ],
   "source": [
    "print(a[3][4])"
   ]
  },
  {
   "cell_type": "code",
   "execution_count": 61,
   "id": "58679b9c",
   "metadata": {},
   "outputs": [
    {
     "name": "stdout",
     "output_type": "stream",
     "text": [
      "[['mon' '12' '23' '45' '56']\n",
      " ['tues' '89' '78' '56' '43']\n",
      " ['wed' '34' '56' '39' '30']\n",
      " ['thur' '56' '78' '90' '65']\n",
      " ['fri' '65' '78' '90' '87']\n",
      " ['sat' '32' '67' '98' '99']\n",
      " ['sun' '12' '34' '13' '16']\n",
      " ['avg' '11' '21' '31' '41']]\n",
      "********\n",
      "[['mon' '12' '23' '45' '56' '1']\n",
      " ['tues' '89' '78' '56' '43' '2']\n",
      " ['wed' '34' '56' '39' '30' '3']\n",
      " ['thur' '56' '78' '90' '65' '4']\n",
      " ['fri' '65' '78' '90' '87' '5']\n",
      " ['sat' '32' '67' '98' '99' '6']\n",
      " ['sun' '12' '34' '13' '16' '7']]\n"
     ]
    }
   ],
   "source": [
    "# adding the data\n",
    "\n",
    "m_r = append(a,[['avg', 11, 21, 31, 41]], 0) # add the row at the end (0--- row)\n",
    "\n",
    "print(m_r)\n",
    "print(\"********\")\n",
    "\n",
    "m_c = insert(a, [5], [[1], [2], [3], [4], [5], [6], [7]], 1) # add the insert by the location (1-- column)\n",
    "print(m_c)"
   ]
  },
  {
   "cell_type": "code",
   "execution_count": 64,
   "id": "119098ed",
   "metadata": {},
   "outputs": [
    {
     "name": "stdout",
     "output_type": "stream",
     "text": [
      "[['mon' '12' '23' '45' '56']\n",
      " ['tues' '89' '78' '56' '43']\n",
      " ['wed' '34' '56' '39' '30']\n",
      " ['thur' '56' '78' '90' '65']\n",
      " ['fri' '65' '78' '90' '87']\n",
      " ['sat' '32' '67' '98' '99']\n",
      " ['sun' '12' '34' '13' '16']]\n",
      "$$$$$$\n",
      "[['mon' '12' '23' '45' '56']\n",
      " ['tues' '89' '78' '56' '43']\n",
      " ['thur' '56' '78' '90' '65']\n",
      " ['fri' '65' '78' '90' '87']\n",
      " ['sat' '32' '67' '98' '99']\n",
      " ['sun' '12' '34' '13' '16']]\n",
      "******\n",
      "[['mon' '12' '45' '56']\n",
      " ['tues' '89' '56' '43']\n",
      " ['wed' '34' '39' '30']\n",
      " ['thur' '56' '90' '65']\n",
      " ['fri' '65' '90' '87']\n",
      " ['sat' '32' '98' '99']\n",
      " ['sun' '12' '13' '16']]\n"
     ]
    }
   ],
   "source": [
    "# delete\n",
    "\n",
    "print(a)\n",
    "print('$$$$$$')\n",
    "\n",
    "n1 = delete(a, [2], 0) # row delete\n",
    "print(n1)\n",
    "print('******')\n",
    "\n",
    "n2 = delete(a, [2], 1) # delete column\n",
    "print(n2)"
   ]
  },
  {
   "cell_type": "code",
   "execution_count": 65,
   "id": "16cf3e51",
   "metadata": {},
   "outputs": [
    {
     "data": {
      "text/plain": [
       "array([0, 1, 2, 3])"
      ]
     },
     "execution_count": 65,
     "metadata": {},
     "output_type": "execute_result"
    }
   ],
   "source": [
    "import numpy as np\n",
    "\n",
    "np.arange(4)"
   ]
  },
  {
   "cell_type": "code",
   "execution_count": 66,
   "id": "91edb04c",
   "metadata": {},
   "outputs": [
    {
     "name": "stdout",
     "output_type": "stream",
     "text": [
      "[[1 0 0 0]\n",
      " [0 2 0 0]\n",
      " [0 0 3 0]\n",
      " [0 0 0 4]]\n"
     ]
    },
    {
     "data": {
      "text/plain": [
       "numpy.ndarray"
      ]
     },
     "execution_count": 66,
     "metadata": {},
     "output_type": "execute_result"
    }
   ],
   "source": [
    "z = np.diag(1 + np.arange(4))\n",
    "print(z)\n",
    "type(z)"
   ]
  },
  {
   "cell_type": "code",
   "execution_count": 67,
   "id": "6585df59",
   "metadata": {},
   "outputs": [
    {
     "name": "stdout",
     "output_type": "stream",
     "text": [
      "[0. 0. 0. 0. 2. 0. 0. 0. 0. 0.]\n"
     ]
    }
   ],
   "source": [
    "y = np.zeros(10)\n",
    "y[4] = 2\n",
    "print(y)"
   ]
  },
  {
   "cell_type": "code",
   "execution_count": 69,
   "id": "5575d365",
   "metadata": {},
   "outputs": [
    {
     "name": "stdout",
     "output_type": "stream",
     "text": [
      "[0.99551865 0.68388453 0.3041077  0.63048815 0.36210017 0.22391463\n",
      " 0.93641673 0.42403901 0.54687924 0.50065669 0.69899384 0.43836937\n",
      " 0.23944497 0.03285083 0.35947348 0.65789274 0.92404592 0.30153644\n",
      " 0.55492511 0.63846188 0.49425772 0.67627461 0.06099071 0.69413669\n",
      " 0.08348448 0.82188421 0.99532539 0.76410208 0.60445236 0.39326097]\n",
      "0.5347389768200353\n"
     ]
    }
   ],
   "source": [
    "# create a random  veactor of size 30 and find the mean value\n",
    "\n",
    "x = np.random.random(30)\n",
    "print(x)\n",
    "\n",
    "z = x.mean() # mean - add all the values\n",
    "print(z)"
   ]
  },
  {
   "cell_type": "code",
   "execution_count": 70,
   "id": "7eac6afa",
   "metadata": {},
   "outputs": [
    {
     "name": "stdout",
     "output_type": "stream",
     "text": [
      "[49 48 47 46 45 44 43 42 41 40 39 38 37 36 35 34 33 32 31 30 29 28 27 26\n",
      " 25 24 23 22 21 20 19 18 17 16 15 14 13 12 11 10  9  8  7  6  5  4  3  2\n",
      "  1  0]\n"
     ]
    }
   ],
   "source": [
    "# revcerse a vector ( first became last)\n",
    "\n",
    "v = np.arange(50)\n",
    "\n",
    "v = v[::-1]\n",
    "print(v)"
   ]
  },
  {
   "cell_type": "markdown",
   "id": "7ff0f7fd",
   "metadata": {},
   "source": [
    "# pandas"
   ]
  },
  {
   "cell_type": "code",
   "execution_count": 1,
   "id": "de54ef6c",
   "metadata": {},
   "outputs": [],
   "source": [
    "# importing necessary libraries\n",
    "\n",
    "import pandas as pd # importing pandas as useful for creating data frames\n",
    "import numpy as np  # useful for creating numpy arrays\n",
    "\n",
    " # pandas use of data manipulation crating rows and column, delete , given a name in the row\n",
    "    \n",
    " # numpy use of numerical calculation   "
   ]
  },
  {
   "cell_type": "code",
   "execution_count": 2,
   "id": "be94c131",
   "metadata": {},
   "outputs": [
    {
     "data": {
      "text/plain": [
       "['ArrowDtype',\n",
       " 'BooleanDtype',\n",
       " 'Categorical',\n",
       " 'CategoricalDtype',\n",
       " 'CategoricalIndex',\n",
       " 'DataFrame',\n",
       " 'DateOffset',\n",
       " 'DatetimeIndex',\n",
       " 'DatetimeTZDtype',\n",
       " 'ExcelFile',\n",
       " 'ExcelWriter',\n",
       " 'Flags',\n",
       " 'Float32Dtype',\n",
       " 'Float64Dtype',\n",
       " 'Float64Index',\n",
       " 'Grouper',\n",
       " 'HDFStore',\n",
       " 'Index',\n",
       " 'IndexSlice',\n",
       " 'Int16Dtype',\n",
       " 'Int32Dtype',\n",
       " 'Int64Dtype',\n",
       " 'Int64Index',\n",
       " 'Int8Dtype',\n",
       " 'Interval',\n",
       " 'IntervalDtype',\n",
       " 'IntervalIndex',\n",
       " 'MultiIndex',\n",
       " 'NA',\n",
       " 'NaT',\n",
       " 'NamedAgg',\n",
       " 'Period',\n",
       " 'PeriodDtype',\n",
       " 'PeriodIndex',\n",
       " 'RangeIndex',\n",
       " 'Series',\n",
       " 'SparseDtype',\n",
       " 'StringDtype',\n",
       " 'Timedelta',\n",
       " 'TimedeltaIndex',\n",
       " 'Timestamp',\n",
       " 'UInt16Dtype',\n",
       " 'UInt32Dtype',\n",
       " 'UInt64Dtype',\n",
       " 'UInt64Index',\n",
       " 'UInt8Dtype',\n",
       " '__all__',\n",
       " '__builtins__',\n",
       " '__cached__',\n",
       " '__deprecated_num_index_names',\n",
       " '__dir__',\n",
       " '__doc__',\n",
       " '__docformat__',\n",
       " '__file__',\n",
       " '__getattr__',\n",
       " '__git_version__',\n",
       " '__loader__',\n",
       " '__name__',\n",
       " '__package__',\n",
       " '__path__',\n",
       " '__spec__',\n",
       " '__version__',\n",
       " '_config',\n",
       " '_is_numpy_dev',\n",
       " '_libs',\n",
       " '_testing',\n",
       " '_typing',\n",
       " '_version',\n",
       " 'annotations',\n",
       " 'api',\n",
       " 'array',\n",
       " 'arrays',\n",
       " 'bdate_range',\n",
       " 'compat',\n",
       " 'concat',\n",
       " 'core',\n",
       " 'crosstab',\n",
       " 'cut',\n",
       " 'date_range',\n",
       " 'describe_option',\n",
       " 'errors',\n",
       " 'eval',\n",
       " 'factorize',\n",
       " 'from_dummies',\n",
       " 'get_dummies',\n",
       " 'get_option',\n",
       " 'infer_freq',\n",
       " 'interval_range',\n",
       " 'io',\n",
       " 'isna',\n",
       " 'isnull',\n",
       " 'json_normalize',\n",
       " 'lreshape',\n",
       " 'melt',\n",
       " 'merge',\n",
       " 'merge_asof',\n",
       " 'merge_ordered',\n",
       " 'notna',\n",
       " 'notnull',\n",
       " 'offsets',\n",
       " 'option_context',\n",
       " 'options',\n",
       " 'pandas',\n",
       " 'period_range',\n",
       " 'pivot',\n",
       " 'pivot_table',\n",
       " 'plotting',\n",
       " 'qcut',\n",
       " 'read_clipboard',\n",
       " 'read_csv',\n",
       " 'read_excel',\n",
       " 'read_feather',\n",
       " 'read_fwf',\n",
       " 'read_gbq',\n",
       " 'read_hdf',\n",
       " 'read_html',\n",
       " 'read_json',\n",
       " 'read_orc',\n",
       " 'read_parquet',\n",
       " 'read_pickle',\n",
       " 'read_sas',\n",
       " 'read_spss',\n",
       " 'read_sql',\n",
       " 'read_sql_query',\n",
       " 'read_sql_table',\n",
       " 'read_stata',\n",
       " 'read_table',\n",
       " 'read_xml',\n",
       " 'reset_option',\n",
       " 'set_eng_float_format',\n",
       " 'set_option',\n",
       " 'show_versions',\n",
       " 'test',\n",
       " 'testing',\n",
       " 'timedelta_range',\n",
       " 'to_datetime',\n",
       " 'to_numeric',\n",
       " 'to_pickle',\n",
       " 'to_timedelta',\n",
       " 'tseries',\n",
       " 'unique',\n",
       " 'util',\n",
       " 'value_counts',\n",
       " 'wide_to_long']"
      ]
     },
     "execution_count": 2,
     "metadata": {},
     "output_type": "execute_result"
    }
   ],
   "source": [
    "dir(pd)"
   ]
  },
  {
   "cell_type": "code",
   "execution_count": 3,
   "id": "7656b83e",
   "metadata": {},
   "outputs": [
    {
     "data": {
      "text/plain": [
       "['ALLOW_THREADS',\n",
       " 'AxisError',\n",
       " 'BUFSIZE',\n",
       " 'CLIP',\n",
       " 'ComplexWarning',\n",
       " 'DataSource',\n",
       " 'ERR_CALL',\n",
       " 'ERR_DEFAULT',\n",
       " 'ERR_IGNORE',\n",
       " 'ERR_LOG',\n",
       " 'ERR_PRINT',\n",
       " 'ERR_RAISE',\n",
       " 'ERR_WARN',\n",
       " 'FLOATING_POINT_SUPPORT',\n",
       " 'FPE_DIVIDEBYZERO',\n",
       " 'FPE_INVALID',\n",
       " 'FPE_OVERFLOW',\n",
       " 'FPE_UNDERFLOW',\n",
       " 'False_',\n",
       " 'Inf',\n",
       " 'Infinity',\n",
       " 'MAXDIMS',\n",
       " 'MAY_SHARE_BOUNDS',\n",
       " 'MAY_SHARE_EXACT',\n",
       " 'ModuleDeprecationWarning',\n",
       " 'NAN',\n",
       " 'NINF',\n",
       " 'NZERO',\n",
       " 'NaN',\n",
       " 'PINF',\n",
       " 'PZERO',\n",
       " 'RAISE',\n",
       " 'RankWarning',\n",
       " 'SHIFT_DIVIDEBYZERO',\n",
       " 'SHIFT_INVALID',\n",
       " 'SHIFT_OVERFLOW',\n",
       " 'SHIFT_UNDERFLOW',\n",
       " 'ScalarType',\n",
       " 'Tester',\n",
       " 'TooHardError',\n",
       " 'True_',\n",
       " 'UFUNC_BUFSIZE_DEFAULT',\n",
       " 'UFUNC_PYVALS_NAME',\n",
       " 'VisibleDeprecationWarning',\n",
       " 'WRAP',\n",
       " '_CopyMode',\n",
       " '_NoValue',\n",
       " '_UFUNC_API',\n",
       " '__NUMPY_SETUP__',\n",
       " '__all__',\n",
       " '__builtins__',\n",
       " '__cached__',\n",
       " '__config__',\n",
       " '__deprecated_attrs__',\n",
       " '__dir__',\n",
       " '__doc__',\n",
       " '__expired_functions__',\n",
       " '__file__',\n",
       " '__getattr__',\n",
       " '__git_version__',\n",
       " '__loader__',\n",
       " '__mkl_version__',\n",
       " '__name__',\n",
       " '__package__',\n",
       " '__path__',\n",
       " '__spec__',\n",
       " '__version__',\n",
       " '_add_newdoc_ufunc',\n",
       " '_distributor_init',\n",
       " '_financial_names',\n",
       " '_globals',\n",
       " '_mat',\n",
       " '_pyinstaller_hooks_dir',\n",
       " '_pytesttester',\n",
       " '_version',\n",
       " 'abs',\n",
       " 'absolute',\n",
       " 'add',\n",
       " 'add_docstring',\n",
       " 'add_newdoc',\n",
       " 'add_newdoc_ufunc',\n",
       " 'all',\n",
       " 'allclose',\n",
       " 'alltrue',\n",
       " 'amax',\n",
       " 'amin',\n",
       " 'angle',\n",
       " 'any',\n",
       " 'append',\n",
       " 'apply_along_axis',\n",
       " 'apply_over_axes',\n",
       " 'arange',\n",
       " 'arccos',\n",
       " 'arccosh',\n",
       " 'arcsin',\n",
       " 'arcsinh',\n",
       " 'arctan',\n",
       " 'arctan2',\n",
       " 'arctanh',\n",
       " 'argmax',\n",
       " 'argmin',\n",
       " 'argpartition',\n",
       " 'argsort',\n",
       " 'argwhere',\n",
       " 'around',\n",
       " 'array',\n",
       " 'array2string',\n",
       " 'array_equal',\n",
       " 'array_equiv',\n",
       " 'array_repr',\n",
       " 'array_split',\n",
       " 'array_str',\n",
       " 'asanyarray',\n",
       " 'asarray',\n",
       " 'asarray_chkfinite',\n",
       " 'ascontiguousarray',\n",
       " 'asfarray',\n",
       " 'asfortranarray',\n",
       " 'asmatrix',\n",
       " 'atleast_1d',\n",
       " 'atleast_2d',\n",
       " 'atleast_3d',\n",
       " 'average',\n",
       " 'bartlett',\n",
       " 'base_repr',\n",
       " 'binary_repr',\n",
       " 'bincount',\n",
       " 'bitwise_and',\n",
       " 'bitwise_not',\n",
       " 'bitwise_or',\n",
       " 'bitwise_xor',\n",
       " 'blackman',\n",
       " 'block',\n",
       " 'bmat',\n",
       " 'bool8',\n",
       " 'bool_',\n",
       " 'broadcast',\n",
       " 'broadcast_arrays',\n",
       " 'broadcast_shapes',\n",
       " 'broadcast_to',\n",
       " 'busday_count',\n",
       " 'busday_offset',\n",
       " 'busdaycalendar',\n",
       " 'byte',\n",
       " 'byte_bounds',\n",
       " 'bytes0',\n",
       " 'bytes_',\n",
       " 'c_',\n",
       " 'can_cast',\n",
       " 'cast',\n",
       " 'cbrt',\n",
       " 'cdouble',\n",
       " 'ceil',\n",
       " 'cfloat',\n",
       " 'char',\n",
       " 'character',\n",
       " 'chararray',\n",
       " 'choose',\n",
       " 'clip',\n",
       " 'clongdouble',\n",
       " 'clongfloat',\n",
       " 'column_stack',\n",
       " 'common_type',\n",
       " 'compare_chararrays',\n",
       " 'compat',\n",
       " 'complex128',\n",
       " 'complex64',\n",
       " 'complex_',\n",
       " 'complexfloating',\n",
       " 'compress',\n",
       " 'concatenate',\n",
       " 'conj',\n",
       " 'conjugate',\n",
       " 'convolve',\n",
       " 'copy',\n",
       " 'copysign',\n",
       " 'copyto',\n",
       " 'core',\n",
       " 'corrcoef',\n",
       " 'correlate',\n",
       " 'cos',\n",
       " 'cosh',\n",
       " 'count_nonzero',\n",
       " 'cov',\n",
       " 'cross',\n",
       " 'csingle',\n",
       " 'ctypeslib',\n",
       " 'cumprod',\n",
       " 'cumproduct',\n",
       " 'cumsum',\n",
       " 'datetime64',\n",
       " 'datetime_as_string',\n",
       " 'datetime_data',\n",
       " 'deg2rad',\n",
       " 'degrees',\n",
       " 'delete',\n",
       " 'deprecate',\n",
       " 'deprecate_with_doc',\n",
       " 'diag',\n",
       " 'diag_indices',\n",
       " 'diag_indices_from',\n",
       " 'diagflat',\n",
       " 'diagonal',\n",
       " 'diff',\n",
       " 'digitize',\n",
       " 'disp',\n",
       " 'divide',\n",
       " 'divmod',\n",
       " 'dot',\n",
       " 'double',\n",
       " 'dsplit',\n",
       " 'dstack',\n",
       " 'dtype',\n",
       " 'e',\n",
       " 'ediff1d',\n",
       " 'einsum',\n",
       " 'einsum_path',\n",
       " 'emath',\n",
       " 'empty',\n",
       " 'empty_like',\n",
       " 'equal',\n",
       " 'errstate',\n",
       " 'euler_gamma',\n",
       " 'exp',\n",
       " 'exp2',\n",
       " 'expand_dims',\n",
       " 'expm1',\n",
       " 'expm1x',\n",
       " 'extract',\n",
       " 'eye',\n",
       " 'fabs',\n",
       " 'fastCopyAndTranspose',\n",
       " 'fft',\n",
       " 'fill_diagonal',\n",
       " 'find_common_type',\n",
       " 'finfo',\n",
       " 'fix',\n",
       " 'flatiter',\n",
       " 'flatnonzero',\n",
       " 'flexible',\n",
       " 'flip',\n",
       " 'fliplr',\n",
       " 'flipud',\n",
       " 'float16',\n",
       " 'float32',\n",
       " 'float64',\n",
       " 'float_',\n",
       " 'float_power',\n",
       " 'floating',\n",
       " 'floor',\n",
       " 'floor_divide',\n",
       " 'fmax',\n",
       " 'fmin',\n",
       " 'fmod',\n",
       " 'format_float_positional',\n",
       " 'format_float_scientific',\n",
       " 'format_parser',\n",
       " 'frexp',\n",
       " 'from_dlpack',\n",
       " 'frombuffer',\n",
       " 'fromfile',\n",
       " 'fromfunction',\n",
       " 'fromiter',\n",
       " 'frompyfunc',\n",
       " 'fromregex',\n",
       " 'fromstring',\n",
       " 'full',\n",
       " 'full_like',\n",
       " 'gcd',\n",
       " 'generic',\n",
       " 'genfromtxt',\n",
       " 'geomspace',\n",
       " 'get_array_wrap',\n",
       " 'get_include',\n",
       " 'get_printoptions',\n",
       " 'getbufsize',\n",
       " 'geterr',\n",
       " 'geterrcall',\n",
       " 'geterrobj',\n",
       " 'gradient',\n",
       " 'greater',\n",
       " 'greater_equal',\n",
       " 'half',\n",
       " 'hamming',\n",
       " 'hanning',\n",
       " 'heaviside',\n",
       " 'histogram',\n",
       " 'histogram2d',\n",
       " 'histogram_bin_edges',\n",
       " 'histogramdd',\n",
       " 'hsplit',\n",
       " 'hstack',\n",
       " 'hypot',\n",
       " 'i0',\n",
       " 'identity',\n",
       " 'iinfo',\n",
       " 'imag',\n",
       " 'in1d',\n",
       " 'index_exp',\n",
       " 'indices',\n",
       " 'inexact',\n",
       " 'inf',\n",
       " 'info',\n",
       " 'infty',\n",
       " 'inner',\n",
       " 'insert',\n",
       " 'int0',\n",
       " 'int16',\n",
       " 'int32',\n",
       " 'int64',\n",
       " 'int8',\n",
       " 'int_',\n",
       " 'intc',\n",
       " 'integer',\n",
       " 'interp',\n",
       " 'intersect1d',\n",
       " 'intp',\n",
       " 'invert',\n",
       " 'is_busday',\n",
       " 'isclose',\n",
       " 'iscomplex',\n",
       " 'iscomplexobj',\n",
       " 'isfinite',\n",
       " 'isfortran',\n",
       " 'isin',\n",
       " 'isinf',\n",
       " 'isnan',\n",
       " 'isnat',\n",
       " 'isneginf',\n",
       " 'isposinf',\n",
       " 'isreal',\n",
       " 'isrealobj',\n",
       " 'isscalar',\n",
       " 'issctype',\n",
       " 'issubclass_',\n",
       " 'issubdtype',\n",
       " 'issubsctype',\n",
       " 'iterable',\n",
       " 'ix_',\n",
       " 'kaiser',\n",
       " 'kron',\n",
       " 'lcm',\n",
       " 'ldexp',\n",
       " 'left_shift',\n",
       " 'less',\n",
       " 'less_equal',\n",
       " 'lexsort',\n",
       " 'lib',\n",
       " 'linalg',\n",
       " 'linspace',\n",
       " 'little_endian',\n",
       " 'load',\n",
       " 'loadtxt',\n",
       " 'log',\n",
       " 'log10',\n",
       " 'log1p',\n",
       " 'log2',\n",
       " 'logaddexp',\n",
       " 'logaddexp2',\n",
       " 'logical_and',\n",
       " 'logical_not',\n",
       " 'logical_or',\n",
       " 'logical_xor',\n",
       " 'logspace',\n",
       " 'longcomplex',\n",
       " 'longdouble',\n",
       " 'longfloat',\n",
       " 'longlong',\n",
       " 'lookfor',\n",
       " 'ma',\n",
       " 'mask_indices',\n",
       " 'mat',\n",
       " 'math',\n",
       " 'matmul',\n",
       " 'matrix',\n",
       " 'matrixlib',\n",
       " 'max',\n",
       " 'maximum',\n",
       " 'maximum_sctype',\n",
       " 'may_share_memory',\n",
       " 'mean',\n",
       " 'median',\n",
       " 'memmap',\n",
       " 'meshgrid',\n",
       " 'mgrid',\n",
       " 'min',\n",
       " 'min_scalar_type',\n",
       " 'minimum',\n",
       " 'mintypecode',\n",
       " 'mkl',\n",
       " 'mod',\n",
       " 'modf',\n",
       " 'moveaxis',\n",
       " 'msort',\n",
       " 'multiply',\n",
       " 'nan',\n",
       " 'nan_to_num',\n",
       " 'nanargmax',\n",
       " 'nanargmin',\n",
       " 'nancumprod',\n",
       " 'nancumsum',\n",
       " 'nanmax',\n",
       " 'nanmean',\n",
       " 'nanmedian',\n",
       " 'nanmin',\n",
       " 'nanpercentile',\n",
       " 'nanprod',\n",
       " 'nanquantile',\n",
       " 'nanstd',\n",
       " 'nansum',\n",
       " 'nanvar',\n",
       " 'nbytes',\n",
       " 'ndarray',\n",
       " 'ndenumerate',\n",
       " 'ndim',\n",
       " 'ndindex',\n",
       " 'nditer',\n",
       " 'negative',\n",
       " 'nested_iters',\n",
       " 'newaxis',\n",
       " 'nextafter',\n",
       " 'nonzero',\n",
       " 'not_equal',\n",
       " 'numarray',\n",
       " 'number',\n",
       " 'obj2sctype',\n",
       " 'object0',\n",
       " 'object_',\n",
       " 'ogrid',\n",
       " 'oldnumeric',\n",
       " 'ones',\n",
       " 'ones_like',\n",
       " 'os',\n",
       " 'outer',\n",
       " 'packbits',\n",
       " 'pad',\n",
       " 'partition',\n",
       " 'percentile',\n",
       " 'pi',\n",
       " 'piecewise',\n",
       " 'place',\n",
       " 'poly',\n",
       " 'poly1d',\n",
       " 'polyadd',\n",
       " 'polyder',\n",
       " 'polydiv',\n",
       " 'polyfit',\n",
       " 'polyint',\n",
       " 'polymul',\n",
       " 'polynomial',\n",
       " 'polysub',\n",
       " 'polyval',\n",
       " 'positive',\n",
       " 'power',\n",
       " 'printoptions',\n",
       " 'prod',\n",
       " 'product',\n",
       " 'promote_types',\n",
       " 'ptp',\n",
       " 'put',\n",
       " 'put_along_axis',\n",
       " 'putmask',\n",
       " 'quantile',\n",
       " 'r_',\n",
       " 'rad2deg',\n",
       " 'radians',\n",
       " 'random',\n",
       " 'ravel',\n",
       " 'ravel_multi_index',\n",
       " 'real',\n",
       " 'real_if_close',\n",
       " 'rec',\n",
       " 'recarray',\n",
       " 'recfromcsv',\n",
       " 'recfromtxt',\n",
       " 'reciprocal',\n",
       " 'record',\n",
       " 'remainder',\n",
       " 'repeat',\n",
       " 'require',\n",
       " 'reshape',\n",
       " 'resize',\n",
       " 'result_type',\n",
       " 'right_shift',\n",
       " 'rint',\n",
       " 'roll',\n",
       " 'rollaxis',\n",
       " 'roots',\n",
       " 'rot90',\n",
       " 'round',\n",
       " 'round_',\n",
       " 'row_stack',\n",
       " 's_',\n",
       " 'safe_eval',\n",
       " 'save',\n",
       " 'savetxt',\n",
       " 'savez',\n",
       " 'savez_compressed',\n",
       " 'sctype2char',\n",
       " 'sctypeDict',\n",
       " 'sctypes',\n",
       " 'searchsorted',\n",
       " 'select',\n",
       " 'set_numeric_ops',\n",
       " 'set_printoptions',\n",
       " 'set_string_function',\n",
       " 'setbufsize',\n",
       " 'setdiff1d',\n",
       " 'seterr',\n",
       " 'seterrcall',\n",
       " 'seterrobj',\n",
       " 'setxor1d',\n",
       " 'shape',\n",
       " 'shares_memory',\n",
       " 'short',\n",
       " 'show_config',\n",
       " 'sign',\n",
       " 'signbit',\n",
       " 'signedinteger',\n",
       " 'sin',\n",
       " 'sinc',\n",
       " 'single',\n",
       " 'singlecomplex',\n",
       " 'sinh',\n",
       " 'size',\n",
       " 'sometrue',\n",
       " 'sort',\n",
       " 'sort_complex',\n",
       " 'source',\n",
       " 'spacing',\n",
       " 'split',\n",
       " 'sqrt',\n",
       " 'square',\n",
       " 'squeeze',\n",
       " 'stack',\n",
       " 'std',\n",
       " 'str0',\n",
       " 'str_',\n",
       " 'string_',\n",
       " 'subtract',\n",
       " 'sum',\n",
       " 'swapaxes',\n",
       " 'sys',\n",
       " 'take',\n",
       " 'take_along_axis',\n",
       " 'tan',\n",
       " 'tanh',\n",
       " 'tensordot',\n",
       " 'test',\n",
       " 'testing',\n",
       " 'tile',\n",
       " 'timedelta64',\n",
       " 'trace',\n",
       " 'tracemalloc_domain',\n",
       " 'transpose',\n",
       " 'trapz',\n",
       " 'tri',\n",
       " 'tril',\n",
       " 'tril_indices',\n",
       " 'tril_indices_from',\n",
       " 'trim_zeros',\n",
       " 'triu',\n",
       " 'triu_indices',\n",
       " 'triu_indices_from',\n",
       " 'true_divide',\n",
       " 'trunc',\n",
       " 'typecodes',\n",
       " 'typename',\n",
       " 'ubyte',\n",
       " 'ufunc',\n",
       " 'uint',\n",
       " 'uint0',\n",
       " 'uint16',\n",
       " 'uint32',\n",
       " 'uint64',\n",
       " 'uint8',\n",
       " 'uintc',\n",
       " 'uintp',\n",
       " 'ulonglong',\n",
       " 'unicode_',\n",
       " 'union1d',\n",
       " 'unique',\n",
       " 'unpackbits',\n",
       " 'unravel_index',\n",
       " 'unsignedinteger',\n",
       " 'unwrap',\n",
       " 'use_hugepage',\n",
       " 'ushort',\n",
       " 'vander',\n",
       " 'var',\n",
       " 'vdot',\n",
       " 'vectorize',\n",
       " 'version',\n",
       " 'void',\n",
       " 'void0',\n",
       " 'vsplit',\n",
       " 'vstack',\n",
       " 'warnings',\n",
       " 'where',\n",
       " 'who',\n",
       " 'zeros',\n",
       " 'zeros_like']"
      ]
     },
     "execution_count": 3,
     "metadata": {},
     "output_type": "execute_result"
    }
   ],
   "source": [
    "dir(np)"
   ]
  },
  {
   "cell_type": "code",
   "execution_count": 5,
   "id": "484335e8",
   "metadata": {},
   "outputs": [
    {
     "name": "stdout",
     "output_type": "stream",
     "text": [
      "Empty DataFrame\n",
      "Columns: [X1, X2, X3]\n",
      "Index: []\n"
     ]
    }
   ],
   "source": [
    "x1 = [12, 13, 14, 15, 16]\n",
    "\n",
    "x2 = [21, 22, 23, 24, 25]\n",
    "\n",
    "x3 = list(range(5))\n",
    "\n",
    "X = pd.DataFrame(columns = [\"X1\", \"X2\", \"X3\"]) # creating a dataframe using explicit list\n",
    "\n",
    "print(X)"
   ]
  },
  {
   "cell_type": "code",
   "execution_count": 8,
   "id": "7a206aae",
   "metadata": {},
   "outputs": [
    {
     "data": {
      "text/html": [
       "<div>\n",
       "<style scoped>\n",
       "    .dataframe tbody tr th:only-of-type {\n",
       "        vertical-align: middle;\n",
       "    }\n",
       "\n",
       "    .dataframe tbody tr th {\n",
       "        vertical-align: top;\n",
       "    }\n",
       "\n",
       "    .dataframe thead th {\n",
       "        text-align: right;\n",
       "    }\n",
       "</style>\n",
       "<table border=\"1\" class=\"dataframe\">\n",
       "  <thead>\n",
       "    <tr style=\"text-align: right;\">\n",
       "      <th></th>\n",
       "      <th>X1</th>\n",
       "      <th>X2</th>\n",
       "      <th>X3</th>\n",
       "    </tr>\n",
       "  </thead>\n",
       "  <tbody>\n",
       "    <tr>\n",
       "      <th>0</th>\n",
       "      <td>12</td>\n",
       "      <td>21</td>\n",
       "      <td>0</td>\n",
       "    </tr>\n",
       "    <tr>\n",
       "      <th>1</th>\n",
       "      <td>13</td>\n",
       "      <td>22</td>\n",
       "      <td>1</td>\n",
       "    </tr>\n",
       "    <tr>\n",
       "      <th>2</th>\n",
       "      <td>14</td>\n",
       "      <td>23</td>\n",
       "      <td>2</td>\n",
       "    </tr>\n",
       "    <tr>\n",
       "      <th>3</th>\n",
       "      <td>15</td>\n",
       "      <td>24</td>\n",
       "      <td>3</td>\n",
       "    </tr>\n",
       "    <tr>\n",
       "      <th>4</th>\n",
       "      <td>16</td>\n",
       "      <td>25</td>\n",
       "      <td>4</td>\n",
       "    </tr>\n",
       "  </tbody>\n",
       "</table>\n",
       "</div>"
      ],
      "text/plain": [
       "   X1  X2  X3\n",
       "0  12  21   0\n",
       "1  13  22   1\n",
       "2  14  23   2\n",
       "3  15  24   3\n",
       "4  16  25   4"
      ]
     },
     "execution_count": 8,
     "metadata": {},
     "output_type": "execute_result"
    }
   ],
   "source": [
    "X['X1'] = x1 # converting list format into pandas series format\n",
    "X['X2'] = x2\n",
    "X['X3'] = x3\n",
    "X\n"
   ]
  },
  {
   "cell_type": "code",
   "execution_count": 9,
   "id": "fcc48bc6",
   "metadata": {},
   "outputs": [
    {
     "name": "stdout",
     "output_type": "stream",
     "text": [
      "   X1  X2  X3\n",
      "0  12  21   0\n",
      "1  13  22   1\n",
      "2  14  23   2\n",
      "3  15  24   3\n",
      "4  16  25   4\n",
      "   X1  X2  X3\n",
      "0  12  21   0\n",
      "1  13  22   1\n",
      "2  14  23   2\n",
      "3  15  24   3\n",
      "4  16  25   4\n"
     ]
    }
   ],
   "source": [
    "# copy same data into another variable\n",
    "\n",
    "dff = X.copy(deep = False)# Shallow copy share data and index with orginal dataframe\n",
    "print(dff)\n",
    "dff1 = X.copy(deep = True) # deep copy has own copy of data and index\n",
    "print(dff1)"
   ]
  },
  {
   "cell_type": "code",
   "execution_count": 11,
   "id": "9eb0a8dd",
   "metadata": {},
   "outputs": [
    {
     "name": "stdout",
     "output_type": "stream",
     "text": [
      "   X1  X2  X3\n",
      "0  10  21   0\n",
      "1  13  22   1\n",
      "2  14  23   2\n",
      "3  15  24   3\n",
      "4  16  25   4\n"
     ]
    },
    {
     "data": {
      "text/html": [
       "<div>\n",
       "<style scoped>\n",
       "    .dataframe tbody tr th:only-of-type {\n",
       "        vertical-align: middle;\n",
       "    }\n",
       "\n",
       "    .dataframe tbody tr th {\n",
       "        vertical-align: top;\n",
       "    }\n",
       "\n",
       "    .dataframe thead th {\n",
       "        text-align: right;\n",
       "    }\n",
       "</style>\n",
       "<table border=\"1\" class=\"dataframe\">\n",
       "  <thead>\n",
       "    <tr style=\"text-align: right;\">\n",
       "      <th></th>\n",
       "      <th>X1</th>\n",
       "      <th>X2</th>\n",
       "      <th>X3</th>\n",
       "    </tr>\n",
       "  </thead>\n",
       "  <tbody>\n",
       "    <tr>\n",
       "      <th>0</th>\n",
       "      <td>10</td>\n",
       "      <td>21</td>\n",
       "      <td>0</td>\n",
       "    </tr>\n",
       "    <tr>\n",
       "      <th>1</th>\n",
       "      <td>13</td>\n",
       "      <td>22</td>\n",
       "      <td>1</td>\n",
       "    </tr>\n",
       "    <tr>\n",
       "      <th>2</th>\n",
       "      <td>14</td>\n",
       "      <td>23</td>\n",
       "      <td>2</td>\n",
       "    </tr>\n",
       "    <tr>\n",
       "      <th>3</th>\n",
       "      <td>15</td>\n",
       "      <td>24</td>\n",
       "      <td>3</td>\n",
       "    </tr>\n",
       "    <tr>\n",
       "      <th>4</th>\n",
       "      <td>16</td>\n",
       "      <td>25</td>\n",
       "      <td>4</td>\n",
       "    </tr>\n",
       "  </tbody>\n",
       "</table>\n",
       "</div>"
      ],
      "text/plain": [
       "   X1  X2  X3\n",
       "0  10  21   0\n",
       "1  13  22   1\n",
       "2  14  23   2\n",
       "3  15  24   3\n",
       "4  16  25   4"
      ]
     },
     "execution_count": 11,
     "metadata": {},
     "output_type": "execute_result"
    }
   ],
   "source": [
    "# shallow copy\n",
    "\n",
    "dff['X1'][0] = 10  \n",
    "print(dff) # any cahange in tha shallow copy will make change in orginal data also\n",
    "\n",
    "X"
   ]
  },
  {
   "cell_type": "code",
   "execution_count": 12,
   "id": "25200cc0",
   "metadata": {},
   "outputs": [
    {
     "name": "stdout",
     "output_type": "stream",
     "text": [
      "   X1  X2  X3\n",
      "0  12  21   0\n",
      "1  13  99   1\n",
      "2  14  23   2\n",
      "3  15  24   3\n",
      "4  16  25   4\n"
     ]
    },
    {
     "data": {
      "text/html": [
       "<div>\n",
       "<style scoped>\n",
       "    .dataframe tbody tr th:only-of-type {\n",
       "        vertical-align: middle;\n",
       "    }\n",
       "\n",
       "    .dataframe tbody tr th {\n",
       "        vertical-align: top;\n",
       "    }\n",
       "\n",
       "    .dataframe thead th {\n",
       "        text-align: right;\n",
       "    }\n",
       "</style>\n",
       "<table border=\"1\" class=\"dataframe\">\n",
       "  <thead>\n",
       "    <tr style=\"text-align: right;\">\n",
       "      <th></th>\n",
       "      <th>X1</th>\n",
       "      <th>X2</th>\n",
       "      <th>X3</th>\n",
       "    </tr>\n",
       "  </thead>\n",
       "  <tbody>\n",
       "    <tr>\n",
       "      <th>0</th>\n",
       "      <td>10</td>\n",
       "      <td>21</td>\n",
       "      <td>0</td>\n",
       "    </tr>\n",
       "    <tr>\n",
       "      <th>1</th>\n",
       "      <td>13</td>\n",
       "      <td>22</td>\n",
       "      <td>1</td>\n",
       "    </tr>\n",
       "    <tr>\n",
       "      <th>2</th>\n",
       "      <td>14</td>\n",
       "      <td>23</td>\n",
       "      <td>2</td>\n",
       "    </tr>\n",
       "    <tr>\n",
       "      <th>3</th>\n",
       "      <td>15</td>\n",
       "      <td>24</td>\n",
       "      <td>3</td>\n",
       "    </tr>\n",
       "    <tr>\n",
       "      <th>4</th>\n",
       "      <td>16</td>\n",
       "      <td>25</td>\n",
       "      <td>4</td>\n",
       "    </tr>\n",
       "  </tbody>\n",
       "</table>\n",
       "</div>"
      ],
      "text/plain": [
       "   X1  X2  X3\n",
       "0  10  21   0\n",
       "1  13  22   1\n",
       "2  14  23   2\n",
       "3  15  24   3\n",
       "4  16  25   4"
      ]
     },
     "execution_count": 12,
     "metadata": {},
     "output_type": "execute_result"
    }
   ],
   "source": [
    "# deep copy\n",
    "\n",
    "dff1['X2'][1] = 99\n",
    "print(dff1)  # in deep copy will not make changes in orginal data also\n",
    "\n",
    "X"
   ]
  },
  {
   "cell_type": "code",
   "execution_count": 14,
   "id": "ef5cd854",
   "metadata": {},
   "outputs": [
    {
     "name": "stdout",
     "output_type": "stream",
     "text": [
      "   X1  X2  X3\n",
      "0  12  21   0\n",
      "1  13  22   1\n",
      "2  14  23   2\n",
      "3  15  24   3\n",
      "4  16  25   4\n"
     ]
    },
    {
     "data": {
      "text/plain": [
       "pandas.core.frame.DataFrame"
      ]
     },
     "execution_count": 14,
     "metadata": {},
     "output_type": "execute_result"
    }
   ],
   "source": [
    "# list into pandas data frame\n",
    "\n",
    "X['X1'] = pd.Series(x1) # converting list format into pandas series format\n",
    "X['X2'] = pd.Series(x2)\n",
    "X['X3'] = pd.Series(x3)\n",
    "print(X)\n",
    "type(X)"
   ]
  },
  {
   "cell_type": "code",
   "execution_count": 15,
   "id": "e5b57ee9",
   "metadata": {},
   "outputs": [
    {
     "data": {
      "text/plain": [
       "0    12\n",
       "1    13\n",
       "2    14\n",
       "3    15\n",
       "4    16\n",
       "Name: X1, dtype: int64"
      ]
     },
     "execution_count": 15,
     "metadata": {},
     "output_type": "execute_result"
    }
   ],
   "source": [
    "# accessing column using data operation\n",
    "\n",
    "X.X1"
   ]
  },
  {
   "cell_type": "code",
   "execution_count": 16,
   "id": "0afca450",
   "metadata": {},
   "outputs": [
    {
     "data": {
      "text/plain": [
       "0    12\n",
       "1    13\n",
       "2    14\n",
       "3    15\n",
       "4    16\n",
       "Name: X1, dtype: int64"
      ]
     },
     "execution_count": 16,
     "metadata": {},
     "output_type": "execute_result"
    }
   ],
   "source": [
    "# access column alternative way\n",
    "X['X1']"
   ]
  },
  {
   "cell_type": "code",
   "execution_count": 17,
   "id": "ebf56f44",
   "metadata": {},
   "outputs": [
    {
     "data": {
      "text/html": [
       "<div>\n",
       "<style scoped>\n",
       "    .dataframe tbody tr th:only-of-type {\n",
       "        vertical-align: middle;\n",
       "    }\n",
       "\n",
       "    .dataframe tbody tr th {\n",
       "        vertical-align: top;\n",
       "    }\n",
       "\n",
       "    .dataframe thead th {\n",
       "        text-align: right;\n",
       "    }\n",
       "</style>\n",
       "<table border=\"1\" class=\"dataframe\">\n",
       "  <thead>\n",
       "    <tr style=\"text-align: right;\">\n",
       "      <th></th>\n",
       "      <th>X1</th>\n",
       "      <th>X2</th>\n",
       "    </tr>\n",
       "  </thead>\n",
       "  <tbody>\n",
       "    <tr>\n",
       "      <th>0</th>\n",
       "      <td>12</td>\n",
       "      <td>21</td>\n",
       "    </tr>\n",
       "    <tr>\n",
       "      <th>1</th>\n",
       "      <td>13</td>\n",
       "      <td>22</td>\n",
       "    </tr>\n",
       "    <tr>\n",
       "      <th>2</th>\n",
       "      <td>14</td>\n",
       "      <td>23</td>\n",
       "    </tr>\n",
       "    <tr>\n",
       "      <th>3</th>\n",
       "      <td>15</td>\n",
       "      <td>24</td>\n",
       "    </tr>\n",
       "    <tr>\n",
       "      <th>4</th>\n",
       "      <td>16</td>\n",
       "      <td>25</td>\n",
       "    </tr>\n",
       "  </tbody>\n",
       "</table>\n",
       "</div>"
      ],
      "text/plain": [
       "   X1  X2\n",
       "0  12  21\n",
       "1  13  22\n",
       "2  14  23\n",
       "3  15  24\n",
       "4  16  25"
      ]
     },
     "execution_count": 17,
     "metadata": {},
     "output_type": "execute_result"
    }
   ],
   "source": [
    "# access multiple columns : giving column name as input in list format\n",
    "\n",
    "X[['X1','X2']]"
   ]
  },
  {
   "cell_type": "code",
   "execution_count": 18,
   "id": "8e547479",
   "metadata": {},
   "outputs": [
    {
     "name": "stdout",
     "output_type": "stream",
     "text": [
      "Index(['X1', 'X2', 'X3'], dtype='object')\n",
      "0    21\n",
      "1    22\n",
      "2    23\n",
      "Name: X2, dtype: int64\n"
     ]
    },
    {
     "data": {
      "text/html": [
       "<div>\n",
       "<style scoped>\n",
       "    .dataframe tbody tr th:only-of-type {\n",
       "        vertical-align: middle;\n",
       "    }\n",
       "\n",
       "    .dataframe tbody tr th {\n",
       "        vertical-align: top;\n",
       "    }\n",
       "\n",
       "    .dataframe thead th {\n",
       "        text-align: right;\n",
       "    }\n",
       "</style>\n",
       "<table border=\"1\" class=\"dataframe\">\n",
       "  <thead>\n",
       "    <tr style=\"text-align: right;\">\n",
       "      <th></th>\n",
       "      <th>X1</th>\n",
       "      <th>X2</th>\n",
       "      <th>X3</th>\n",
       "    </tr>\n",
       "  </thead>\n",
       "  <tbody>\n",
       "    <tr>\n",
       "      <th>0</th>\n",
       "      <td>12</td>\n",
       "      <td>21</td>\n",
       "      <td>0</td>\n",
       "    </tr>\n",
       "    <tr>\n",
       "      <th>1</th>\n",
       "      <td>13</td>\n",
       "      <td>22</td>\n",
       "      <td>1</td>\n",
       "    </tr>\n",
       "    <tr>\n",
       "      <th>2</th>\n",
       "      <td>14</td>\n",
       "      <td>23</td>\n",
       "      <td>2</td>\n",
       "    </tr>\n",
       "    <tr>\n",
       "      <th>3</th>\n",
       "      <td>15</td>\n",
       "      <td>24</td>\n",
       "      <td>3</td>\n",
       "    </tr>\n",
       "    <tr>\n",
       "      <th>4</th>\n",
       "      <td>16</td>\n",
       "      <td>25</td>\n",
       "      <td>4</td>\n",
       "    </tr>\n",
       "  </tbody>\n",
       "</table>\n",
       "</div>"
      ],
      "text/plain": [
       "   X1  X2  X3\n",
       "0  12  21   0\n",
       "1  13  22   1\n",
       "2  14  23   2\n",
       "3  15  24   3\n",
       "4  16  25   4"
      ]
     },
     "execution_count": 18,
     "metadata": {},
     "output_type": "execute_result"
    }
   ],
   "source": [
    "# accesing elements using index location \n",
    "\n",
    "print(X.columns)\n",
    "print(X.iloc[0:3, 1]) # iloc- index loc ((0:3- rows, 1-colu))\n",
    "X"
   ]
  },
  {
   "cell_type": "code",
   "execution_count": 19,
   "id": "0eb46baf",
   "metadata": {},
   "outputs": [
    {
     "data": {
      "text/html": [
       "<div>\n",
       "<style scoped>\n",
       "    .dataframe tbody tr th:only-of-type {\n",
       "        vertical-align: middle;\n",
       "    }\n",
       "\n",
       "    .dataframe tbody tr th {\n",
       "        vertical-align: top;\n",
       "    }\n",
       "\n",
       "    .dataframe thead th {\n",
       "        text-align: right;\n",
       "    }\n",
       "</style>\n",
       "<table border=\"1\" class=\"dataframe\">\n",
       "  <thead>\n",
       "    <tr style=\"text-align: right;\">\n",
       "      <th></th>\n",
       "      <th>X2</th>\n",
       "    </tr>\n",
       "  </thead>\n",
       "  <tbody>\n",
       "    <tr>\n",
       "      <th>1</th>\n",
       "      <td>22</td>\n",
       "    </tr>\n",
       "  </tbody>\n",
       "</table>\n",
       "</div>"
      ],
      "text/plain": [
       "   X2\n",
       "1  22"
      ]
     },
     "execution_count": 19,
     "metadata": {},
     "output_type": "execute_result"
    }
   ],
   "source": [
    "X.iloc[1:2, 1:2] # refer to 1st row and 1st column"
   ]
  },
  {
   "cell_type": "code",
   "execution_count": 21,
   "id": "51a93544",
   "metadata": {},
   "outputs": [
    {
     "data": {
      "text/html": [
       "<div>\n",
       "<style scoped>\n",
       "    .dataframe tbody tr th:only-of-type {\n",
       "        vertical-align: middle;\n",
       "    }\n",
       "\n",
       "    .dataframe tbody tr th {\n",
       "        vertical-align: top;\n",
       "    }\n",
       "\n",
       "    .dataframe thead th {\n",
       "        text-align: right;\n",
       "    }\n",
       "</style>\n",
       "<table border=\"1\" class=\"dataframe\">\n",
       "  <thead>\n",
       "    <tr style=\"text-align: right;\">\n",
       "      <th></th>\n",
       "      <th>X1</th>\n",
       "      <th>X2</th>\n",
       "    </tr>\n",
       "  </thead>\n",
       "  <tbody>\n",
       "    <tr>\n",
       "      <th>0</th>\n",
       "      <td>12</td>\n",
       "      <td>21</td>\n",
       "    </tr>\n",
       "    <tr>\n",
       "      <th>1</th>\n",
       "      <td>13</td>\n",
       "      <td>22</td>\n",
       "    </tr>\n",
       "    <tr>\n",
       "      <th>2</th>\n",
       "      <td>14</td>\n",
       "      <td>23</td>\n",
       "    </tr>\n",
       "  </tbody>\n",
       "</table>\n",
       "</div>"
      ],
      "text/plain": [
       "   X1  X2\n",
       "0  12  21\n",
       "1  13  22\n",
       "2  14  23"
      ]
     },
     "execution_count": 21,
     "metadata": {},
     "output_type": "execute_result"
    }
   ],
   "source": [
    "X.loc[0:2, ['X1', 'X2']] # mention specify column names"
   ]
  },
  {
   "cell_type": "code",
   "execution_count": 7,
   "id": "de53d422",
   "metadata": {},
   "outputs": [
    {
     "name": "stdout",
     "output_type": "stream",
     "text": [
      "   X1  X2\n",
      "0   1   4\n",
      "1   2   8\n",
      "2   3  12\n",
      "   X1  X3\n",
      "0   1   4\n",
      "1   2   8\n",
      "2   3  12\n",
      "3   4  15\n",
      "   X1  X2  X3\n",
      "0   1   4   4\n",
      "1   2   8   8\n",
      "2   3  12  12\n"
     ]
    }
   ],
   "source": [
    "# merge operation using pandas data frame\n",
    "\n",
    "import pandas as pd\n",
    "\n",
    "df1 =  pd.DataFrame({'X1':[1, 2, 3,], 'X2':[4, 8, 12]})\n",
    "print(df1)\n",
    "df2 =  pd.DataFrame({'X1':[1, 2, 3, 4], 'X3':[4, 8, 12, 15]})\n",
    "print(df2)\n",
    "\n",
    "dfm= pd.merge(df1, df2, on = 'X1') # in merge we need same one  column name same otherwise error\n",
    "print(dfm)"
   ]
  },
  {
   "cell_type": "code",
   "execution_count": 27,
   "id": "9722e250",
   "metadata": {},
   "outputs": [
    {
     "name": "stdout",
     "output_type": "stream",
     "text": [
      "      X1  X2\n",
      "2000   1   4\n",
      "2001   2   8\n",
      "2002   3  12\n",
      "******\n",
      "      X3  X4\n",
      "2001   1   4\n",
      "2002   2   8\n",
      "2003   3  12\n",
      "******\n",
      "      X3  X4   X1    X2\n",
      "2001   1   4  2.0   8.0\n",
      "2002   2   8  3.0  12.0\n",
      "2003   3  12  NaN   NaN\n"
     ]
    }
   ],
   "source": [
    "# joined operation\n",
    "\n",
    "df1 =  pd.DataFrame({'X1':[1, 2, 3], 'X2':[4, 8, 12],}, index = [2000, 2001, 2002])\n",
    "df2 =  pd.DataFrame({'X3':[1, 2, 3], 'X4':[4, 8, 12],}, index = [2001, 2002, 2003])\n",
    "\n",
    "print(df1)\n",
    "print('******')\n",
    "print(df2)\n",
    "print('******')\n",
    "\n",
    "joined = df2.join(df1) # join function based on index value\n",
    "print(joined)"
   ]
  },
  {
   "cell_type": "code",
   "execution_count": 29,
   "id": "98154237",
   "metadata": {},
   "outputs": [
    {
     "name": "stdout",
     "output_type": "stream",
     "text": [
      "   X1  X2\n",
      "0   1   4\n",
      "1   2   8\n",
      "2   3  12\n",
      "******\n",
      "   X3  X4\n",
      "0   1   4\n",
      "1   2   8\n",
      "2   3  12\n",
      "3   4   5\n",
      "******\n",
      "   X1  X2  X3  X4\n",
      "0   1   4   1   4\n",
      "1   2   8   2   8\n",
      "2   3  12   3  12\n"
     ]
    }
   ],
   "source": [
    "df1 =  pd.DataFrame({'X1':[1, 2, 3], 'X2':[4, 8, 12],})\n",
    "df2 =  pd.DataFrame({'X3':[1, 2, 3, 4], 'X4':[4, 8, 12, 5],})\n",
    "\n",
    "print(df1)\n",
    "print('******')\n",
    "print(df2)\n",
    "print('******')\n",
    "\n",
    "joined = df1.join(df2) # join function based on index value\n",
    "print(joined)"
   ]
  },
  {
   "cell_type": "code",
   "execution_count": 31,
   "id": "b59f4744",
   "metadata": {},
   "outputs": [
    {
     "name": "stdout",
     "output_type": "stream",
     "text": [
      "   X1  X2\n",
      "0   1   4\n",
      "1   2   8\n",
      "2   4  12\n",
      "****\n",
      "    X2\n",
      "X1    \n",
      "1    4\n",
      "2    8\n",
      "4   12\n"
     ]
    }
   ],
   "source": [
    "# replace index name\n",
    "\n",
    "df1 =  pd.DataFrame({'X1':[1, 2, 4], 'X2':[4, 8, 12],})\n",
    "print(df1)\n",
    "print('****')\n",
    "\n",
    "df1.set_index('X1', inplace = True) # in  the place of index we got X1 value\n",
    "print(df1)\n",
    "\n"
   ]
  },
  {
   "cell_type": "code",
   "execution_count": 33,
   "id": "2d619805",
   "metadata": {},
   "outputs": [
    {
     "name": "stdout",
     "output_type": "stream",
     "text": [
      "   X1  X2\n",
      "0   1   4\n",
      "1   2   8\n",
      "2   4  12\n",
      "****\n",
      "   X3  X2\n",
      "0   1   4\n",
      "1   2   8\n",
      "2   4  12\n"
     ]
    }
   ],
   "source": [
    "# change the column names\n",
    "\n",
    "df1 =  pd.DataFrame({'X1':[1, 2, 4], 'X2':[4, 8, 12],})\n",
    "print(df1)\n",
    "print('****')\n",
    "\n",
    "df = df1.rename(columns = {\"X1\": \"X3\"}) # X1 column name change as X3\n",
    "print(df)\n",
    "\n"
   ]
  },
  {
   "cell_type": "code",
   "execution_count": 36,
   "id": "b33cc4b5",
   "metadata": {},
   "outputs": [
    {
     "name": "stdout",
     "output_type": "stream",
     "text": [
      "      X1  X2\n",
      "2000   1   4\n",
      "2001   2   8\n",
      "2002   3  12\n",
      "      X3  X4\n",
      "2003  11  14\n",
      "2004  12  18\n",
      "2005  13  22\n",
      "2006  15  67\n",
      "        X3    X4   X1    X2\n",
      "2003  11.0  14.0  NaN   NaN\n",
      "2004  12.0  18.0  NaN   NaN\n",
      "2005  13.0  22.0  NaN   NaN\n",
      "2006  15.0  67.0  NaN   NaN\n",
      "2000   NaN   NaN  1.0   4.0\n",
      "2001   NaN   NaN  2.0   8.0\n",
      "2002   NaN   NaN  3.0  12.0\n"
     ]
    }
   ],
   "source": [
    "# concatination\n",
    "\n",
    "df1 =  pd.DataFrame({'X1':[1, 2, 3], 'X2':[4, 8, 12],}, index = [2000, 2001, 2002])\n",
    "df2 =  pd.DataFrame({'X3':[11, 12, 13, 15], 'X4':[14, 18, 22, 67],}, index = [2003, 2004, 2005, 2006])\n",
    "\n",
    "print(df1)\n",
    "print(df2)\n",
    "\n",
    "concatinate = pd.concat([df2, df1])\n",
    "print(concatinate)"
   ]
  },
  {
   "cell_type": "code",
   "execution_count": 40,
   "id": "6b90424a",
   "metadata": {},
   "outputs": [
    {
     "name": "stdout",
     "output_type": "stream",
     "text": [
      "    cars  passenger\n",
      "0    BMW          7\n",
      "1  shift          5\n",
      "2  honda          6\n"
     ]
    }
   ],
   "source": [
    "# dictionery to dataframe\n",
    "\n",
    "data_set = {\n",
    "    'cars': ['BMW', 'shift', 'honda'],\n",
    "    'passenger': [7, 5, 6]\n",
    "}\n",
    "\n",
    "myvar = pd.DataFrame(data_set)\n",
    "print(myvar)"
   ]
  },
  {
   "cell_type": "code",
   "execution_count": 6,
   "id": "b599399f",
   "metadata": {},
   "outputs": [
    {
     "name": "stdout",
     "output_type": "stream",
     "text": [
      "<class 'pandas.core.frame.DataFrame'>\n"
     ]
    },
    {
     "data": {
      "text/plain": [
       "(14, 1)"
      ]
     },
     "execution_count": 6,
     "metadata": {},
     "output_type": "execute_result"
    }
   ],
   "source": [
    "# import data (.csv file) using pandas \n",
    "\n",
    "import pandas as pd\n",
    "\n",
    "education = pd.read_csv(\"education.txt\")\n",
    "print(type(education))\n",
    "education.shape"
   ]
  },
  {
   "cell_type": "code",
   "execution_count": 8,
   "id": "f5cb679b",
   "metadata": {},
   "outputs": [
    {
     "data": {
      "text/html": [
       "<div>\n",
       "<style scoped>\n",
       "    .dataframe tbody tr th:only-of-type {\n",
       "        vertical-align: middle;\n",
       "    }\n",
       "\n",
       "    .dataframe tbody tr th {\n",
       "        vertical-align: top;\n",
       "    }\n",
       "\n",
       "    .dataframe thead th {\n",
       "        text-align: right;\n",
       "    }\n",
       "</style>\n",
       "<table border=\"1\" class=\"dataframe\">\n",
       "  <thead>\n",
       "    <tr style=\"text-align: right;\">\n",
       "      <th></th>\n",
       "      <th>Student ID | Student Name   | Gender | Date of Birth | Grade Level | School ID | School Name        | School Address        | City        | State       | Country       | Parent/Guardian Name   | Contact Number    | Email                         | Course Name         | Course Grade | Attendance Percentage | Extracurricular Activities        | Teacher Name  | Teacher ID | Teacher Email</th>\n",
       "    </tr>\n",
       "  </thead>\n",
       "  <tbody>\n",
       "    <tr>\n",
       "      <th>001        | John Smith     | Male   | 2005-08-15    | 9th grade   | 1001      | ABC High School    | 123 Main Street       | Anytown     | California  | United States | Jane Smith              | +1 123-456-7890  | john.smith@example.com        | Mathematics         | A            | 95%                   | Basketball</th>\n",
       "      <td>Debate Club           | Mr. Johnson   | 5001 ...</td>\n",
       "    </tr>\n",
       "    <tr>\n",
       "      <th>002        | Emily Davis    | Female | 2006-03-10    | 8th grade   | 1002      | XYZ Middle School  | 456 Oak Avenue        | Smallville  | New York    | United States | Sarah Davis             | +1 987-654-3210  | emily.davis@example.com       | Science             | B+           | 90%                   | Soccer</th>\n",
       "      <td>Drama Club                | Mrs. Adams    | 5...</td>\n",
       "    </tr>\n",
       "  </tbody>\n",
       "</table>\n",
       "</div>"
      ],
      "text/plain": [
       "                                                   Student ID | Student Name   | Gender | Date of Birth | Grade Level | School ID | School Name        | School Address        | City        | State       | Country       | Parent/Guardian Name   | Contact Number    | Email                         | Course Name         | Course Grade | Attendance Percentage | Extracurricular Activities        | Teacher Name  | Teacher ID | Teacher Email\n",
       "001        | John Smith     | Male   | 2005-08-...   Debate Club           | Mr. Johnson   | 5001 ...                                                                                                                                                                                                                                                                                                                                                \n",
       "002        | Emily Davis    | Female | 2006-03-...   Drama Club                | Mrs. Adams    | 5...                                                                                                                                                                                                                                                                                                                                                "
      ]
     },
     "execution_count": 8,
     "metadata": {},
     "output_type": "execute_result"
    }
   ],
   "source": [
    "education.head(2) # it shows first 5 rows\n"
   ]
  },
  {
   "cell_type": "code",
   "execution_count": 9,
   "id": "639bb024",
   "metadata": {},
   "outputs": [
    {
     "data": {
      "text/html": [
       "<div>\n",
       "<style scoped>\n",
       "    .dataframe tbody tr th:only-of-type {\n",
       "        vertical-align: middle;\n",
       "    }\n",
       "\n",
       "    .dataframe tbody tr th {\n",
       "        vertical-align: top;\n",
       "    }\n",
       "\n",
       "    .dataframe thead th {\n",
       "        text-align: right;\n",
       "    }\n",
       "</style>\n",
       "<table border=\"1\" class=\"dataframe\">\n",
       "  <thead>\n",
       "    <tr style=\"text-align: right;\">\n",
       "      <th></th>\n",
       "      <th>Student ID | Student Name   | Gender | Date of Birth | Grade Level | School ID | School Name        | School Address        | City        | State       | Country       | Parent/Guardian Name   | Contact Number    | Email                         | Course Name         | Course Grade | Attendance Percentage | Extracurricular Activities        | Teacher Name  | Teacher ID | Teacher Email</th>\n",
       "    </tr>\n",
       "  </thead>\n",
       "  <tbody>\n",
       "    <tr>\n",
       "      <th>014        | Amelia Martin  | Female | 2007-09-03    | 8th grade   | 1002      | XYZ Middle School  | 456 Oak Avenue        | Smallville  |</th>\n",
       "      <td>NaN</td>\n",
       "    </tr>\n",
       "  </tbody>\n",
       "</table>\n",
       "</div>"
      ],
      "text/plain": [
       "                                                   Student ID | Student Name   | Gender | Date of Birth | Grade Level | School ID | School Name        | School Address        | City        | State       | Country       | Parent/Guardian Name   | Contact Number    | Email                         | Course Name         | Course Grade | Attendance Percentage | Extracurricular Activities        | Teacher Name  | Teacher ID | Teacher Email\n",
       "014        | Amelia Martin  | Female | 2007-09-...                                                NaN                                                                                                                                                                                                                                                                                                                                                "
      ]
     },
     "execution_count": 9,
     "metadata": {},
     "output_type": "execute_result"
    }
   ],
   "source": [
    "education.tail(1) # it shows bottom 5"
   ]
  },
  {
   "cell_type": "code",
   "execution_count": 10,
   "id": "2ace0bda",
   "metadata": {},
   "outputs": [
    {
     "name": "stdout",
     "output_type": "stream",
     "text": [
      "<class 'pandas.core.frame.DataFrame'>\n",
      "Index: 14 entries, 001        | John Smith     | Male   | 2005-08-15    | 9th grade   | 1001      | ABC High School    | 123 Main Street       | Anytown     | California  | United States | Jane Smith              | +1 123-456-7890  | john.smith@example.com        | Mathematics         | A            | 95%                   | Basketball to 014        | Amelia Martin  | Female | 2007-09-03    | 8th grade   | 1002      | XYZ Middle School  | 456 Oak Avenue        | Smallville  |\n",
      "Data columns (total 1 columns):\n",
      " #   Column                                                                                                                                                                                                                                                                                                                                                                                              Non-Null Count  Dtype \n",
      "---  ------                                                                                                                                                                                                                                                                                                                                                                                              --------------  ----- \n",
      " 0   Student ID | Student Name   | Gender | Date of Birth | Grade Level | School ID | School Name        | School Address        | City        | State       | Country       | Parent/Guardian Name   | Contact Number    | Email                         | Course Name         | Course Grade | Attendance Percentage | Extracurricular Activities        | Teacher Name  | Teacher ID | Teacher Email  13 non-null     object\n",
      "dtypes: object(1)\n",
      "memory usage: 224.0+ bytes\n"
     ]
    }
   ],
   "source": [
    "education.info()"
   ]
  },
  {
   "cell_type": "code",
   "execution_count": 15,
   "id": "6cc1e547",
   "metadata": {},
   "outputs": [
    {
     "data": {
      "text/plain": [
       "<pandas.core.indexing._iLocIndexer at 0x1f6437018f0>"
      ]
     },
     "execution_count": 15,
     "metadata": {},
     "output_type": "execute_result"
    }
   ],
   "source": [
    "education.iloc(1)"
   ]
  },
  {
   "cell_type": "code",
   "execution_count": 16,
   "id": "1bd22d5d",
   "metadata": {},
   "outputs": [
    {
     "data": {
      "text/html": [
       "<div>\n",
       "<style scoped>\n",
       "    .dataframe tbody tr th:only-of-type {\n",
       "        vertical-align: middle;\n",
       "    }\n",
       "\n",
       "    .dataframe tbody tr th {\n",
       "        vertical-align: top;\n",
       "    }\n",
       "\n",
       "    .dataframe thead th {\n",
       "        text-align: right;\n",
       "    }\n",
       "</style>\n",
       "<table border=\"1\" class=\"dataframe\">\n",
       "  <thead>\n",
       "    <tr style=\"text-align: right;\">\n",
       "      <th></th>\n",
       "      <th>Student ID | Student Name   | Gender | Date of Birth | Grade Level | School ID | School Name        | School Address        | City        | State       | Country       | Parent/Guardian Name   | Contact Number    | Email                         | Course Name         | Course Grade | Attendance Percentage | Extracurricular Activities        | Teacher Name  | Teacher ID | Teacher Email</th>\n",
       "    </tr>\n",
       "  </thead>\n",
       "  <tbody>\n",
       "    <tr>\n",
       "      <th>count</th>\n",
       "      <td>13</td>\n",
       "    </tr>\n",
       "    <tr>\n",
       "      <th>unique</th>\n",
       "      <td>13</td>\n",
       "    </tr>\n",
       "    <tr>\n",
       "      <th>top</th>\n",
       "      <td>Debate Club           | Mr. Johnson   | 5001 ...</td>\n",
       "    </tr>\n",
       "    <tr>\n",
       "      <th>freq</th>\n",
       "      <td>1</td>\n",
       "    </tr>\n",
       "  </tbody>\n",
       "</table>\n",
       "</div>"
      ],
      "text/plain": [
       "       Student ID | Student Name   | Gender | Date of Birth | Grade Level | School ID | School Name        | School Address        | City        | State       | Country       | Parent/Guardian Name   | Contact Number    | Email                         | Course Name         | Course Grade | Attendance Percentage | Extracurricular Activities        | Teacher Name  | Teacher ID | Teacher Email\n",
       "count                                                  13                                                                                                                                                                                                                                                                                                                                                \n",
       "unique                                                 13                                                                                                                                                                                                                                                                                                                                                \n",
       "top      Debate Club           | Mr. Johnson   | 5001 ...                                                                                                                                                                                                                                                                                                                                                \n",
       "freq                                                    1                                                                                                                                                                                                                                                                                                                                                "
      ]
     },
     "execution_count": 16,
     "metadata": {},
     "output_type": "execute_result"
    }
   ],
   "source": [
    "education.describe()"
   ]
  },
  {
   "cell_type": "code",
   "execution_count": 17,
   "id": "fd7f8d91",
   "metadata": {},
   "outputs": [
    {
     "name": "stderr",
     "output_type": "stream",
     "text": [
      "C:\\Users\\annam\\AppData\\Local\\anaconda3\\lib\\inspect.py:469: FutureWarning: pandas.Float64Index is deprecated and will be removed from pandas in a future version. Use pandas.Index with the appropriate dtype instead.\n",
      "  value = getattr(object, key)\n",
      "C:\\Users\\annam\\AppData\\Local\\anaconda3\\lib\\inspect.py:469: FutureWarning: pandas.Int64Index is deprecated and will be removed from pandas in a future version. Use pandas.Index with the appropriate dtype instead.\n",
      "  value = getattr(object, key)\n",
      "C:\\Users\\annam\\AppData\\Local\\anaconda3\\lib\\inspect.py:469: FutureWarning: pandas.UInt64Index is deprecated and will be removed from pandas in a future version. Use pandas.Index with the appropriate dtype instead.\n",
      "  value = getattr(object, key)\n",
      "IOPub data rate exceeded.\n",
      "The notebook server will temporarily stop sending output\n",
      "to the client in order to avoid crashing it.\n",
      "To change this limit, set the config variable\n",
      "`--NotebookApp.iopub_data_rate_limit`.\n",
      "\n",
      "Current values:\n",
      "NotebookApp.iopub_data_rate_limit=1000000.0 (bytes/sec)\n",
      "NotebookApp.rate_limit_window=3.0 (secs)\n",
      "\n"
     ]
    }
   ],
   "source": [
    "help(pd)"
   ]
  },
  {
   "cell_type": "code",
   "execution_count": 18,
   "id": "fd776504",
   "metadata": {},
   "outputs": [
    {
     "ename": "NameError",
     "evalue": "name 'dff1' is not defined",
     "output_type": "error",
     "traceback": [
      "\u001b[1;31m---------------------------------------------------------------------------\u001b[0m",
      "\u001b[1;31mNameError\u001b[0m                                 Traceback (most recent call last)",
      "Cell \u001b[1;32mIn[18], line 1\u001b[0m\n\u001b[1;32m----> 1\u001b[0m \u001b[43mdff1\u001b[49m\n",
      "\u001b[1;31mNameError\u001b[0m: name 'dff1' is not defined"
     ]
    }
   ],
   "source": [
    "dff1"
   ]
  },
  {
   "cell_type": "code",
   "execution_count": 40,
   "id": "2cc2e76a",
   "metadata": {},
   "outputs": [
    {
     "name": "stdout",
     "output_type": "stream",
     "text": [
      "   X1  X2  new\n",
      "0   1   4   12\n",
      "1   2   8   34\n",
      "2   4  12   56\n",
      "3   5  16   45\n",
      "4   6  20   31\n"
     ]
    }
   ],
   "source": [
    "df1 =  pd.DataFrame({'X1':[1, 2, 4, 5, 6], 'X2':[4, 8, 12, 16, 20], 'new': [12, 34,56, 45, 31]})\n",
    "print(df1)"
   ]
  },
  {
   "cell_type": "code",
   "execution_count": 41,
   "id": "2698f9d7",
   "metadata": {},
   "outputs": [
    {
     "data": {
      "text/html": [
       "<div>\n",
       "<style scoped>\n",
       "    .dataframe tbody tr th:only-of-type {\n",
       "        vertical-align: middle;\n",
       "    }\n",
       "\n",
       "    .dataframe tbody tr th {\n",
       "        vertical-align: top;\n",
       "    }\n",
       "\n",
       "    .dataframe thead th {\n",
       "        text-align: right;\n",
       "    }\n",
       "</style>\n",
       "<table border=\"1\" class=\"dataframe\">\n",
       "  <thead>\n",
       "    <tr style=\"text-align: right;\">\n",
       "      <th></th>\n",
       "      <th>X1</th>\n",
       "      <th>X2</th>\n",
       "      <th>new</th>\n",
       "    </tr>\n",
       "  </thead>\n",
       "  <tbody>\n",
       "    <tr>\n",
       "      <th>2</th>\n",
       "      <td>4</td>\n",
       "      <td>12</td>\n",
       "      <td>56</td>\n",
       "    </tr>\n",
       "    <tr>\n",
       "      <th>3</th>\n",
       "      <td>5</td>\n",
       "      <td>16</td>\n",
       "      <td>45</td>\n",
       "    </tr>\n",
       "    <tr>\n",
       "      <th>4</th>\n",
       "      <td>6</td>\n",
       "      <td>20</td>\n",
       "      <td>31</td>\n",
       "    </tr>\n",
       "  </tbody>\n",
       "</table>\n",
       "</div>"
      ],
      "text/plain": [
       "   X1  X2  new\n",
       "2   4  12   56\n",
       "3   5  16   45\n",
       "4   6  20   31"
      ]
     },
     "execution_count": 41,
     "metadata": {},
     "output_type": "execute_result"
    }
   ],
   "source": [
    "df1[df1.X1 > 3]"
   ]
  },
  {
   "cell_type": "code",
   "execution_count": 42,
   "id": "5d01e4dc",
   "metadata": {},
   "outputs": [
    {
     "data": {
      "text/html": [
       "<div>\n",
       "<style scoped>\n",
       "    .dataframe tbody tr th:only-of-type {\n",
       "        vertical-align: middle;\n",
       "    }\n",
       "\n",
       "    .dataframe tbody tr th {\n",
       "        vertical-align: top;\n",
       "    }\n",
       "\n",
       "    .dataframe thead th {\n",
       "        text-align: right;\n",
       "    }\n",
       "</style>\n",
       "<table border=\"1\" class=\"dataframe\">\n",
       "  <thead>\n",
       "    <tr style=\"text-align: right;\">\n",
       "      <th></th>\n",
       "      <th>X1</th>\n",
       "      <th>X2</th>\n",
       "      <th>new</th>\n",
       "      <th>A</th>\n",
       "    </tr>\n",
       "  </thead>\n",
       "  <tbody>\n",
       "    <tr>\n",
       "      <th>0</th>\n",
       "      <td>1</td>\n",
       "      <td>4</td>\n",
       "      <td>12</td>\n",
       "      <td>one</td>\n",
       "    </tr>\n",
       "    <tr>\n",
       "      <th>1</th>\n",
       "      <td>2</td>\n",
       "      <td>8</td>\n",
       "      <td>34</td>\n",
       "      <td>one</td>\n",
       "    </tr>\n",
       "    <tr>\n",
       "      <th>2</th>\n",
       "      <td>4</td>\n",
       "      <td>12</td>\n",
       "      <td>56</td>\n",
       "      <td>two</td>\n",
       "    </tr>\n",
       "    <tr>\n",
       "      <th>3</th>\n",
       "      <td>5</td>\n",
       "      <td>16</td>\n",
       "      <td>45</td>\n",
       "      <td>three</td>\n",
       "    </tr>\n",
       "    <tr>\n",
       "      <th>4</th>\n",
       "      <td>6</td>\n",
       "      <td>20</td>\n",
       "      <td>31</td>\n",
       "      <td>four</td>\n",
       "    </tr>\n",
       "  </tbody>\n",
       "</table>\n",
       "</div>"
      ],
      "text/plain": [
       "   X1  X2  new      A\n",
       "0   1   4   12    one\n",
       "1   2   8   34    one\n",
       "2   4  12   56    two\n",
       "3   5  16   45  three\n",
       "4   6  20   31   four"
      ]
     },
     "execution_count": 42,
     "metadata": {},
     "output_type": "execute_result"
    }
   ],
   "source": [
    "df1['A'] = ['one', 'one', 'two', 'three', 'four']\n",
    "df1"
   ]
  },
  {
   "cell_type": "code",
   "execution_count": 43,
   "id": "a223bd0a",
   "metadata": {},
   "outputs": [
    {
     "data": {
      "text/plain": [
       "0     True\n",
       "1     True\n",
       "2    False\n",
       "3    False\n",
       "4    False\n",
       "Name: A, dtype: bool"
      ]
     },
     "execution_count": 43,
     "metadata": {},
     "output_type": "execute_result"
    }
   ],
   "source": [
    "df1.A.isin(['one'])"
   ]
  },
  {
   "cell_type": "code",
   "execution_count": 44,
   "id": "c0987779",
   "metadata": {},
   "outputs": [
    {
     "data": {
      "text/html": [
       "<div>\n",
       "<style scoped>\n",
       "    .dataframe tbody tr th:only-of-type {\n",
       "        vertical-align: middle;\n",
       "    }\n",
       "\n",
       "    .dataframe tbody tr th {\n",
       "        vertical-align: top;\n",
       "    }\n",
       "\n",
       "    .dataframe thead th {\n",
       "        text-align: right;\n",
       "    }\n",
       "</style>\n",
       "<table border=\"1\" class=\"dataframe\">\n",
       "  <thead>\n",
       "    <tr style=\"text-align: right;\">\n",
       "      <th></th>\n",
       "      <th>X1</th>\n",
       "      <th>X2</th>\n",
       "      <th>new</th>\n",
       "      <th>A</th>\n",
       "    </tr>\n",
       "  </thead>\n",
       "  <tbody>\n",
       "    <tr>\n",
       "      <th>0</th>\n",
       "      <td>1</td>\n",
       "      <td>4</td>\n",
       "      <td>12</td>\n",
       "      <td>one</td>\n",
       "    </tr>\n",
       "    <tr>\n",
       "      <th>1</th>\n",
       "      <td>2</td>\n",
       "      <td>8</td>\n",
       "      <td>34</td>\n",
       "      <td>one</td>\n",
       "    </tr>\n",
       "    <tr>\n",
       "      <th>3</th>\n",
       "      <td>5</td>\n",
       "      <td>16</td>\n",
       "      <td>45</td>\n",
       "      <td>three</td>\n",
       "    </tr>\n",
       "  </tbody>\n",
       "</table>\n",
       "</div>"
      ],
      "text/plain": [
       "   X1  X2  new      A\n",
       "0   1   4   12    one\n",
       "1   2   8   34    one\n",
       "3   5  16   45  three"
      ]
     },
     "execution_count": 44,
     "metadata": {},
     "output_type": "execute_result"
    }
   ],
   "source": [
    "df1[df1.A.isin(['one', 'three'])]"
   ]
  },
  {
   "cell_type": "code",
   "execution_count": 30,
   "id": "d0069af1",
   "metadata": {},
   "outputs": [
    {
     "name": "stdout",
     "output_type": "stream",
     "text": [
      "   X1  X2  new      A\n",
      "0   1   4   12    one\n",
      "1   2   8    5    one\n",
      "2   4  12   56    two\n",
      "3   5  16   45  three\n",
      "4   6  20   31   four\n"
     ]
    }
   ],
   "source": [
    "# change the value\n",
    "\n",
    "df1.iat[1, 2] = 5\n",
    "print(df1)"
   ]
  },
  {
   "cell_type": "code",
   "execution_count": 45,
   "id": "590e9685",
   "metadata": {},
   "outputs": [
    {
     "name": "stdout",
     "output_type": "stream",
     "text": [
      "    X1    X2  new      A\n",
      "0  1.0   4.0   12    one\n",
      "1  2.0   8.0   34    one\n",
      "2  4.0   NaN   56    two\n",
      "3  NaN  16.0   45  three\n",
      "4  6.0  20.0   31   four\n"
     ]
    },
    {
     "name": "stderr",
     "output_type": "stream",
     "text": [
      "C:\\Users\\annam\\AppData\\Local\\Temp\\ipykernel_51760\\1296098772.py:3: SettingWithCopyWarning: \n",
      "A value is trying to be set on a copy of a slice from a DataFrame\n",
      "\n",
      "See the caveats in the documentation: https://pandas.pydata.org/pandas-docs/stable/user_guide/indexing.html#returning-a-view-versus-a-copy\n",
      "  df1.X2[2], df1.X1[3] = None, None\n"
     ]
    }
   ],
   "source": [
    "# missing data\n",
    "\n",
    "df1.X2[2], df1.X1[3] = None, None\n",
    "print(df1)"
   ]
  },
  {
   "cell_type": "code",
   "execution_count": 33,
   "id": "8d5e9902",
   "metadata": {},
   "outputs": [
    {
     "name": "stdout",
     "output_type": "stream",
     "text": [
      "<class 'pandas.core.frame.DataFrame'>\n",
      "RangeIndex: 5 entries, 0 to 4\n",
      "Data columns (total 4 columns):\n",
      " #   Column  Non-Null Count  Dtype  \n",
      "---  ------  --------------  -----  \n",
      " 0   X1      4 non-null      float64\n",
      " 1   X2      4 non-null      float64\n",
      " 2   new     5 non-null      int64  \n",
      " 3   A       5 non-null      object \n",
      "dtypes: float64(2), int64(1), object(1)\n",
      "memory usage: 288.0+ bytes\n"
     ]
    }
   ],
   "source": [
    "df1.info()"
   ]
  },
  {
   "cell_type": "code",
   "execution_count": 34,
   "id": "ca481ae6",
   "metadata": {},
   "outputs": [
    {
     "data": {
      "text/html": [
       "<div>\n",
       "<style scoped>\n",
       "    .dataframe tbody tr th:only-of-type {\n",
       "        vertical-align: middle;\n",
       "    }\n",
       "\n",
       "    .dataframe tbody tr th {\n",
       "        vertical-align: top;\n",
       "    }\n",
       "\n",
       "    .dataframe thead th {\n",
       "        text-align: right;\n",
       "    }\n",
       "</style>\n",
       "<table border=\"1\" class=\"dataframe\">\n",
       "  <thead>\n",
       "    <tr style=\"text-align: right;\">\n",
       "      <th></th>\n",
       "      <th>X1</th>\n",
       "      <th>X2</th>\n",
       "      <th>new</th>\n",
       "      <th>A</th>\n",
       "    </tr>\n",
       "  </thead>\n",
       "  <tbody>\n",
       "    <tr>\n",
       "      <th>0</th>\n",
       "      <td>False</td>\n",
       "      <td>False</td>\n",
       "      <td>False</td>\n",
       "      <td>False</td>\n",
       "    </tr>\n",
       "    <tr>\n",
       "      <th>1</th>\n",
       "      <td>False</td>\n",
       "      <td>False</td>\n",
       "      <td>False</td>\n",
       "      <td>False</td>\n",
       "    </tr>\n",
       "    <tr>\n",
       "      <th>2</th>\n",
       "      <td>False</td>\n",
       "      <td>True</td>\n",
       "      <td>False</td>\n",
       "      <td>False</td>\n",
       "    </tr>\n",
       "    <tr>\n",
       "      <th>3</th>\n",
       "      <td>True</td>\n",
       "      <td>False</td>\n",
       "      <td>False</td>\n",
       "      <td>False</td>\n",
       "    </tr>\n",
       "    <tr>\n",
       "      <th>4</th>\n",
       "      <td>False</td>\n",
       "      <td>False</td>\n",
       "      <td>False</td>\n",
       "      <td>False</td>\n",
       "    </tr>\n",
       "  </tbody>\n",
       "</table>\n",
       "</div>"
      ],
      "text/plain": [
       "      X1     X2    new      A\n",
       "0  False  False  False  False\n",
       "1  False  False  False  False\n",
       "2  False   True  False  False\n",
       "3   True  False  False  False\n",
       "4  False  False  False  False"
      ]
     },
     "execution_count": 34,
     "metadata": {},
     "output_type": "execute_result"
    }
   ],
   "source": [
    "df1.isnull() # null - no value"
   ]
  },
  {
   "cell_type": "code",
   "execution_count": 35,
   "id": "6c47bd2f",
   "metadata": {},
   "outputs": [
    {
     "data": {
      "text/html": [
       "<div>\n",
       "<style scoped>\n",
       "    .dataframe tbody tr th:only-of-type {\n",
       "        vertical-align: middle;\n",
       "    }\n",
       "\n",
       "    .dataframe tbody tr th {\n",
       "        vertical-align: top;\n",
       "    }\n",
       "\n",
       "    .dataframe thead th {\n",
       "        text-align: right;\n",
       "    }\n",
       "</style>\n",
       "<table border=\"1\" class=\"dataframe\">\n",
       "  <thead>\n",
       "    <tr style=\"text-align: right;\">\n",
       "      <th></th>\n",
       "      <th>X1</th>\n",
       "      <th>X2</th>\n",
       "      <th>new</th>\n",
       "      <th>A</th>\n",
       "    </tr>\n",
       "  </thead>\n",
       "  <tbody>\n",
       "    <tr>\n",
       "      <th>0</th>\n",
       "      <td>False</td>\n",
       "      <td>False</td>\n",
       "      <td>False</td>\n",
       "      <td>False</td>\n",
       "    </tr>\n",
       "    <tr>\n",
       "      <th>1</th>\n",
       "      <td>False</td>\n",
       "      <td>False</td>\n",
       "      <td>False</td>\n",
       "      <td>False</td>\n",
       "    </tr>\n",
       "    <tr>\n",
       "      <th>2</th>\n",
       "      <td>False</td>\n",
       "      <td>True</td>\n",
       "      <td>False</td>\n",
       "      <td>False</td>\n",
       "    </tr>\n",
       "    <tr>\n",
       "      <th>3</th>\n",
       "      <td>True</td>\n",
       "      <td>False</td>\n",
       "      <td>False</td>\n",
       "      <td>False</td>\n",
       "    </tr>\n",
       "    <tr>\n",
       "      <th>4</th>\n",
       "      <td>False</td>\n",
       "      <td>False</td>\n",
       "      <td>False</td>\n",
       "      <td>False</td>\n",
       "    </tr>\n",
       "  </tbody>\n",
       "</table>\n",
       "</div>"
      ],
      "text/plain": [
       "      X1     X2    new      A\n",
       "0  False  False  False  False\n",
       "1  False  False  False  False\n",
       "2  False   True  False  False\n",
       "3   True  False  False  False\n",
       "4  False  False  False  False"
      ]
     },
     "execution_count": 35,
     "metadata": {},
     "output_type": "execute_result"
    }
   ],
   "source": [
    "df1.isna() # na- not a number"
   ]
  },
  {
   "cell_type": "code",
   "execution_count": 36,
   "id": "7e9f708a",
   "metadata": {},
   "outputs": [
    {
     "data": {
      "text/plain": [
       "X1     1\n",
       "X2     1\n",
       "new    0\n",
       "A      0\n",
       "dtype: int64"
      ]
     },
     "execution_count": 36,
     "metadata": {},
     "output_type": "execute_result"
    }
   ],
   "source": [
    "df1.isna().sum()"
   ]
  },
  {
   "cell_type": "code",
   "execution_count": 38,
   "id": "a5078338",
   "metadata": {},
   "outputs": [
    {
     "name": "stdout",
     "output_type": "stream",
     "text": [
      "    X1    X2  new     A\n",
      "0  1.0   4.0   12   one\n",
      "1  2.0   8.0    5   one\n",
      "4  6.0  20.0   31  four\n",
      "    X1    X2  new      A\n",
      "0  1.0   4.0   12    one\n",
      "1  2.0   8.0    5    one\n",
      "2  4.0   NaN   56    two\n",
      "3  NaN  16.0   45  three\n",
      "4  6.0  20.0   31   four\n"
     ]
    }
   ],
   "source": [
    "# dropping na values\n",
    "\n",
    "print(df1.dropna(inplace = False)) # false it will not make any changes in orginal frame\n",
    "print(df1)"
   ]
  },
  {
   "cell_type": "code",
   "execution_count": 39,
   "id": "71db1b01",
   "metadata": {},
   "outputs": [
    {
     "name": "stdout",
     "output_type": "stream",
     "text": [
      "    X1    X2  new     A\n",
      "0  1.0   4.0   12   one\n",
      "1  2.0   8.0    5   one\n",
      "4  6.0  20.0   31  four\n"
     ]
    }
   ],
   "source": [
    "(df1.dropna(inplace = True)) # True it will  make changes in orginal frame\n",
    "print(df1)"
   ]
  },
  {
   "cell_type": "code",
   "execution_count": 46,
   "id": "5eabc5ce",
   "metadata": {},
   "outputs": [
    {
     "data": {
      "text/html": [
       "<div>\n",
       "<style scoped>\n",
       "    .dataframe tbody tr th:only-of-type {\n",
       "        vertical-align: middle;\n",
       "    }\n",
       "\n",
       "    .dataframe tbody tr th {\n",
       "        vertical-align: top;\n",
       "    }\n",
       "\n",
       "    .dataframe thead th {\n",
       "        text-align: right;\n",
       "    }\n",
       "</style>\n",
       "<table border=\"1\" class=\"dataframe\">\n",
       "  <thead>\n",
       "    <tr style=\"text-align: right;\">\n",
       "      <th></th>\n",
       "      <th>X1</th>\n",
       "      <th>X2</th>\n",
       "      <th>new</th>\n",
       "      <th>A</th>\n",
       "    </tr>\n",
       "  </thead>\n",
       "  <tbody>\n",
       "    <tr>\n",
       "      <th>0</th>\n",
       "      <td>1.0</td>\n",
       "      <td>4.0</td>\n",
       "      <td>12</td>\n",
       "      <td>one</td>\n",
       "    </tr>\n",
       "    <tr>\n",
       "      <th>1</th>\n",
       "      <td>2.0</td>\n",
       "      <td>8.0</td>\n",
       "      <td>34</td>\n",
       "      <td>one</td>\n",
       "    </tr>\n",
       "    <tr>\n",
       "      <th>2</th>\n",
       "      <td>4.0</td>\n",
       "      <td>NaN</td>\n",
       "      <td>56</td>\n",
       "      <td>two</td>\n",
       "    </tr>\n",
       "    <tr>\n",
       "      <th>3</th>\n",
       "      <td>NaN</td>\n",
       "      <td>16.0</td>\n",
       "      <td>45</td>\n",
       "      <td>three</td>\n",
       "    </tr>\n",
       "    <tr>\n",
       "      <th>4</th>\n",
       "      <td>6.0</td>\n",
       "      <td>20.0</td>\n",
       "      <td>31</td>\n",
       "      <td>four</td>\n",
       "    </tr>\n",
       "  </tbody>\n",
       "</table>\n",
       "</div>"
      ],
      "text/plain": [
       "    X1    X2  new      A\n",
       "0  1.0   4.0   12    one\n",
       "1  2.0   8.0   34    one\n",
       "2  4.0   NaN   56    two\n",
       "3  NaN  16.0   45  three\n",
       "4  6.0  20.0   31   four"
      ]
     },
     "execution_count": 46,
     "metadata": {},
     "output_type": "execute_result"
    }
   ],
   "source": [
    "df1 # create new dataframe"
   ]
  },
  {
   "cell_type": "code",
   "execution_count": 47,
   "id": "5f2e7fff",
   "metadata": {},
   "outputs": [
    {
     "data": {
      "text/html": [
       "<div>\n",
       "<style scoped>\n",
       "    .dataframe tbody tr th:only-of-type {\n",
       "        vertical-align: middle;\n",
       "    }\n",
       "\n",
       "    .dataframe tbody tr th {\n",
       "        vertical-align: top;\n",
       "    }\n",
       "\n",
       "    .dataframe thead th {\n",
       "        text-align: right;\n",
       "    }\n",
       "</style>\n",
       "<table border=\"1\" class=\"dataframe\">\n",
       "  <thead>\n",
       "    <tr style=\"text-align: right;\">\n",
       "      <th></th>\n",
       "      <th>X1</th>\n",
       "      <th>X2</th>\n",
       "      <th>new</th>\n",
       "      <th>A</th>\n",
       "    </tr>\n",
       "  </thead>\n",
       "  <tbody>\n",
       "    <tr>\n",
       "      <th>0</th>\n",
       "      <td>1.0</td>\n",
       "      <td>4.0</td>\n",
       "      <td>12</td>\n",
       "      <td>one</td>\n",
       "    </tr>\n",
       "    <tr>\n",
       "      <th>1</th>\n",
       "      <td>2.0</td>\n",
       "      <td>8.0</td>\n",
       "      <td>34</td>\n",
       "      <td>one</td>\n",
       "    </tr>\n",
       "    <tr>\n",
       "      <th>2</th>\n",
       "      <td>4.0</td>\n",
       "      <td>100.0</td>\n",
       "      <td>56</td>\n",
       "      <td>two</td>\n",
       "    </tr>\n",
       "    <tr>\n",
       "      <th>3</th>\n",
       "      <td>100.0</td>\n",
       "      <td>16.0</td>\n",
       "      <td>45</td>\n",
       "      <td>three</td>\n",
       "    </tr>\n",
       "    <tr>\n",
       "      <th>4</th>\n",
       "      <td>6.0</td>\n",
       "      <td>20.0</td>\n",
       "      <td>31</td>\n",
       "      <td>four</td>\n",
       "    </tr>\n",
       "  </tbody>\n",
       "</table>\n",
       "</div>"
      ],
      "text/plain": [
       "      X1     X2  new      A\n",
       "0    1.0    4.0   12    one\n",
       "1    2.0    8.0   34    one\n",
       "2    4.0  100.0   56    two\n",
       "3  100.0   16.0   45  three\n",
       "4    6.0   20.0   31   four"
      ]
     },
     "execution_count": 47,
     "metadata": {},
     "output_type": "execute_result"
    }
   ],
   "source": [
    "# filling all na values\n",
    "\n",
    "df1.fillna(value = 100, inplace = False)"
   ]
  },
  {
   "cell_type": "code",
   "execution_count": 49,
   "id": "9e73c39f",
   "metadata": {},
   "outputs": [
    {
     "data": {
      "text/plain": [
       "0      1.0\n",
       "1      2.0\n",
       "2      4.0\n",
       "3    100.0\n",
       "4      6.0\n",
       "Name: X1, dtype: float64"
      ]
     },
     "execution_count": 49,
     "metadata": {},
     "output_type": "execute_result"
    }
   ],
   "source": [
    "# only one columns\n",
    "df1.X1.fillna(value = 100, inplace = False)\n"
   ]
  },
  {
   "cell_type": "code",
   "execution_count": 51,
   "id": "e07e0c9a",
   "metadata": {},
   "outputs": [
    {
     "data": {
      "text/html": [
       "<div>\n",
       "<style scoped>\n",
       "    .dataframe tbody tr th:only-of-type {\n",
       "        vertical-align: middle;\n",
       "    }\n",
       "\n",
       "    .dataframe tbody tr th {\n",
       "        vertical-align: top;\n",
       "    }\n",
       "\n",
       "    .dataframe thead th {\n",
       "        text-align: right;\n",
       "    }\n",
       "</style>\n",
       "<table border=\"1\" class=\"dataframe\">\n",
       "  <thead>\n",
       "    <tr style=\"text-align: right;\">\n",
       "      <th></th>\n",
       "      <th>X1</th>\n",
       "      <th>X2</th>\n",
       "    </tr>\n",
       "  </thead>\n",
       "  <tbody>\n",
       "    <tr>\n",
       "      <th>0</th>\n",
       "      <td>1.0</td>\n",
       "      <td>4.0</td>\n",
       "    </tr>\n",
       "    <tr>\n",
       "      <th>1</th>\n",
       "      <td>2.0</td>\n",
       "      <td>8.0</td>\n",
       "    </tr>\n",
       "    <tr>\n",
       "      <th>2</th>\n",
       "      <td>4.0</td>\n",
       "      <td>500.0</td>\n",
       "    </tr>\n",
       "    <tr>\n",
       "      <th>3</th>\n",
       "      <td>500.0</td>\n",
       "      <td>16.0</td>\n",
       "    </tr>\n",
       "    <tr>\n",
       "      <th>4</th>\n",
       "      <td>6.0</td>\n",
       "      <td>20.0</td>\n",
       "    </tr>\n",
       "  </tbody>\n",
       "</table>\n",
       "</div>"
      ],
      "text/plain": [
       "      X1     X2\n",
       "0    1.0    4.0\n",
       "1    2.0    8.0\n",
       "2    4.0  500.0\n",
       "3  500.0   16.0\n",
       "4    6.0   20.0"
      ]
     },
     "execution_count": 51,
     "metadata": {},
     "output_type": "execute_result"
    }
   ],
   "source": [
    "# multiple columns\n",
    "df1.loc[:,['X1', 'X2']].fillna(value = 500, inplace = False)"
   ]
  },
  {
   "cell_type": "markdown",
   "id": "f5bf1833",
   "metadata": {},
   "source": [
    "# operation in pandas"
   ]
  },
  {
   "cell_type": "code",
   "execution_count": 2,
   "id": "79800ef8",
   "metadata": {},
   "outputs": [
    {
     "name": "stdout",
     "output_type": "stream",
     "text": [
      "   X1  X2  X3\n",
      "0  11  21   0\n",
      "1  12  22   1\n",
      "2  13  23   2\n",
      "3  14  24   3\n",
      "4  15  25   4\n"
     ]
    }
   ],
   "source": [
    "import pandas as pd\n",
    "x1 = [11, 12, 13, 14, 15]\n",
    "x2 = [21, 22, 23, 24, 25]\n",
    "x3 = list(range(5))\n",
    "\n",
    "dff1 = pd.DataFrame({'X1': x1, 'X2': x2, 'X3': x3})\n",
    "print(dff1)"
   ]
  },
  {
   "cell_type": "code",
   "execution_count": 53,
   "id": "9ac24a2f",
   "metadata": {},
   "outputs": [
    {
     "data": {
      "text/plain": [
       "0    32\n",
       "1    34\n",
       "2    36\n",
       "3    38\n",
       "4    40\n",
       "dtype: int64"
      ]
     },
     "execution_count": 53,
     "metadata": {},
     "output_type": "execute_result"
    }
   ],
   "source": [
    "dff1.X1 + dff1.X2"
   ]
  },
  {
   "cell_type": "code",
   "execution_count": 54,
   "id": "ea58840b",
   "metadata": {},
   "outputs": [
    {
     "data": {
      "text/plain": [
       "0     11\n",
       "1     34\n",
       "2     59\n",
       "3     86\n",
       "4    115\n",
       "dtype: int64"
      ]
     },
     "execution_count": 54,
     "metadata": {},
     "output_type": "execute_result"
    }
   ],
   "source": [
    "dff1.X1 + dff1.X2 * dff1.X3"
   ]
  },
  {
   "cell_type": "code",
   "execution_count": 3,
   "id": "7b9066ad",
   "metadata": {},
   "outputs": [
    {
     "name": "stdout",
     "output_type": "stream",
     "text": [
      "   X1  X2  X3  new\n",
      "0  11  21   0   16\n",
      "1  12  22   1   39\n",
      "2  13  23   2   64\n",
      "3  14  24   3   91\n",
      "4  15  25   4  120\n"
     ]
    }
   ],
   "source": [
    "dff1['new'] = dff1.X1 + dff1.X2 * dff1.X3+5\n",
    "print(dff1)"
   ]
  },
  {
   "cell_type": "code",
   "execution_count": 57,
   "id": "b0dba031",
   "metadata": {},
   "outputs": [
    {
     "data": {
      "text/plain": [
       "13.0"
      ]
     },
     "execution_count": 57,
     "metadata": {},
     "output_type": "execute_result"
    }
   ],
   "source": [
    "dff1.X1.mean()"
   ]
  },
  {
   "cell_type": "code",
   "execution_count": 58,
   "id": "9f7dc5d2",
   "metadata": {},
   "outputs": [
    {
     "data": {
      "text/plain": [
       "X1     13.0\n",
       "X2     23.0\n",
       "X3      2.0\n",
       "new    66.0\n",
       "dtype: float64"
      ]
     },
     "execution_count": 58,
     "metadata": {},
     "output_type": "execute_result"
    }
   ],
   "source": [
    " dff1.mean()"
   ]
  },
  {
   "cell_type": "code",
   "execution_count": 59,
   "id": "a751d7a7",
   "metadata": {},
   "outputs": [
    {
     "data": {
      "text/plain": [
       "X1      65\n",
       "X2     115\n",
       "X3      10\n",
       "new    330\n",
       "dtype: int64"
      ]
     },
     "execution_count": 59,
     "metadata": {},
     "output_type": "execute_result"
    }
   ],
   "source": [
    "dff1.sum()"
   ]
  },
  {
   "cell_type": "code",
   "execution_count": 60,
   "id": "212cbcc0",
   "metadata": {},
   "outputs": [
    {
     "data": {
      "text/plain": [
       "X1      15\n",
       "X2      25\n",
       "X3       4\n",
       "new    120\n",
       "dtype: int64"
      ]
     },
     "execution_count": 60,
     "metadata": {},
     "output_type": "execute_result"
    }
   ],
   "source": [
    "dff1.max()"
   ]
  },
  {
   "cell_type": "code",
   "execution_count": 61,
   "id": "446b4817",
   "metadata": {},
   "outputs": [
    {
     "data": {
      "text/plain": [
       "X1     11\n",
       "X2     21\n",
       "X3      0\n",
       "new    16\n",
       "dtype: int64"
      ]
     },
     "execution_count": 61,
     "metadata": {},
     "output_type": "execute_result"
    }
   ],
   "source": [
    "dff1.min()"
   ]
  },
  {
   "cell_type": "code",
   "execution_count": 62,
   "id": "20a93ade",
   "metadata": {},
   "outputs": [
    {
     "data": {
      "text/plain": [
       "X1     5\n",
       "X2     5\n",
       "X3     5\n",
       "new    5\n",
       "dtype: int64"
      ]
     },
     "execution_count": 62,
     "metadata": {},
     "output_type": "execute_result"
    }
   ],
   "source": [
    "dff1.count()"
   ]
  },
  {
   "cell_type": "code",
   "execution_count": 63,
   "id": "6954dd97",
   "metadata": {},
   "outputs": [
    {
     "name": "stdout",
     "output_type": "stream",
     "text": [
      "<class 'pandas.core.frame.DataFrame'>\n",
      "RangeIndex: 5 entries, 0 to 4\n",
      "Data columns (total 4 columns):\n",
      " #   Column  Non-Null Count  Dtype\n",
      "---  ------  --------------  -----\n",
      " 0   X1      5 non-null      int64\n",
      " 1   X2      5 non-null      int64\n",
      " 2   X3      5 non-null      int64\n",
      " 3   new     5 non-null      int64\n",
      "dtypes: int64(4)\n",
      "memory usage: 288.0 bytes\n"
     ]
    }
   ],
   "source": [
    "dff1.info()"
   ]
  },
  {
   "cell_type": "code",
   "execution_count": 65,
   "id": "1c491611",
   "metadata": {},
   "outputs": [
    {
     "data": {
      "text/plain": [
       "X1     int64\n",
       "X2     int64\n",
       "X3     int64\n",
       "new    int64\n",
       "dtype: object"
      ]
     },
     "execution_count": 65,
     "metadata": {},
     "output_type": "execute_result"
    }
   ],
   "source": [
    "dff1.dtypes"
   ]
  },
  {
   "cell_type": "code",
   "execution_count": 66,
   "id": "ba24208a",
   "metadata": {},
   "outputs": [
    {
     "data": {
      "text/plain": [
       "X1      26\n",
       "X2      46\n",
       "X3       4\n",
       "new    136\n",
       "dtype: int64"
      ]
     },
     "execution_count": 66,
     "metadata": {},
     "output_type": "execute_result"
    }
   ],
   "source": [
    "dff1.apply(lambda x : x.max() + x.min()) # max of x1 + min of X1"
   ]
  },
  {
   "cell_type": "code",
   "execution_count": 67,
   "id": "6ecb2b99",
   "metadata": {},
   "outputs": [
    {
     "data": {
      "text/plain": [
       "0     21\n",
       "1     40\n",
       "2     66\n",
       "3     94\n",
       "4    124\n",
       "dtype: int64"
      ]
     },
     "execution_count": 67,
     "metadata": {},
     "output_type": "execute_result"
    }
   ],
   "source": [
    "dff1.apply(lambda x : x.max() + x.min(), axis = 1) # axis 1 = row , axis 0 = column"
   ]
  },
  {
   "cell_type": "code",
   "execution_count": 70,
   "id": "38f6d448",
   "metadata": {},
   "outputs": [
    {
     "name": "stdout",
     "output_type": "stream",
     "text": [
      "0    11\n",
      "1    12\n",
      "2    13\n",
      "3    14\n",
      "4    15\n",
      "Name: X1, dtype: int64\n"
     ]
    },
    {
     "data": {
      "text/plain": [
       "0    18\n",
       "1    19\n",
       "2    20\n",
       "3    21\n",
       "4    22\n",
       "Name: X1, dtype: int64"
      ]
     },
     "execution_count": 70,
     "metadata": {},
     "output_type": "execute_result"
    }
   ],
   "source": [
    "print(dff1.X1)\n",
    "dff1.X1.apply(lambda x : x + 7)"
   ]
  },
  {
   "cell_type": "code",
   "execution_count": 71,
   "id": "9635c2ee",
   "metadata": {},
   "outputs": [],
   "source": [
    "def manipulate(x):\n",
    "    if x > 2:\n",
    "        return 'yes'\n",
    "    else:\n",
    "        return 'no'"
   ]
  },
  {
   "cell_type": "code",
   "execution_count": 73,
   "id": "b36a5350",
   "metadata": {},
   "outputs": [
    {
     "name": "stdout",
     "output_type": "stream",
     "text": [
      "   X1  X2  X3  new\n",
      "0  11  21   0   16\n",
      "1  12  22   1   39\n",
      "2  13  23   2   64\n",
      "3  14  24   3   91\n",
      "4  15  25   4  120\n"
     ]
    },
    {
     "data": {
      "text/plain": [
       "0    yes\n",
       "1    yes\n",
       "2    yes\n",
       "3    yes\n",
       "4    yes\n",
       "Name: X1, dtype: object"
      ]
     },
     "execution_count": 73,
     "metadata": {},
     "output_type": "execute_result"
    }
   ],
   "source": [
    "print(dff1)\n",
    "dff1.X1.apply(lambda x : manipulate(x)) # using other function"
   ]
  },
  {
   "cell_type": "code",
   "execution_count": 74,
   "id": "ab58bdec",
   "metadata": {},
   "outputs": [
    {
     "data": {
      "text/plain": [
       "0    yes\n",
       "1    yes\n",
       "2    yes\n",
       "3    yes\n",
       "4    yes\n",
       "Name: X1, dtype: object"
      ]
     },
     "execution_count": 74,
     "metadata": {},
     "output_type": "execute_result"
    }
   ],
   "source": [
    "# another way\n",
    "\n",
    "dff1.X1.apply(manipulate)"
   ]
  },
  {
   "cell_type": "code",
   "execution_count": 4,
   "id": "2ac43a2e",
   "metadata": {},
   "outputs": [
    {
     "name": "stdout",
     "output_type": "stream",
     "text": [
      "   X1  X2  X3  new\n",
      "0  11  21   0   16\n",
      "1  12  22   1   39\n",
      "2  13  23   2   64\n",
      "3  14  24   3   91\n",
      "4  15  25   4  120\n"
     ]
    }
   ],
   "source": [
    "print(dff1)"
   ]
  },
  {
   "cell_type": "code",
   "execution_count": 7,
   "id": "abd27a7a",
   "metadata": {},
   "outputs": [
    {
     "data": {
      "text/plain": [
       "0    4.582576\n",
       "1    4.690416\n",
       "2    4.795832\n",
       "3    4.898979\n",
       "4    5.000000\n",
       "Name: X2, dtype: float64"
      ]
     },
     "execution_count": 7,
     "metadata": {},
     "output_type": "execute_result"
    }
   ],
   "source": [
    "import numpy as np\n",
    "\n",
    "dff1.X2.apply(np.sqrt)"
   ]
  },
  {
   "cell_type": "code",
   "execution_count": 12,
   "id": "f59fc972",
   "metadata": {},
   "outputs": [
    {
     "data": {
      "text/html": [
       "<div>\n",
       "<style scoped>\n",
       "    .dataframe tbody tr th:only-of-type {\n",
       "        vertical-align: middle;\n",
       "    }\n",
       "\n",
       "    .dataframe tbody tr th {\n",
       "        vertical-align: top;\n",
       "    }\n",
       "\n",
       "    .dataframe thead th {\n",
       "        text-align: right;\n",
       "    }\n",
       "</style>\n",
       "<table border=\"1\" class=\"dataframe\">\n",
       "  <thead>\n",
       "    <tr style=\"text-align: right;\">\n",
       "      <th></th>\n",
       "      <th>X1</th>\n",
       "      <th>X2</th>\n",
       "    </tr>\n",
       "  </thead>\n",
       "  <tbody>\n",
       "    <tr>\n",
       "      <th>0</th>\n",
       "      <td>13</td>\n",
       "      <td>23</td>\n",
       "    </tr>\n",
       "    <tr>\n",
       "      <th>1</th>\n",
       "      <td>14</td>\n",
       "      <td>24</td>\n",
       "    </tr>\n",
       "    <tr>\n",
       "      <th>2</th>\n",
       "      <td>15</td>\n",
       "      <td>25</td>\n",
       "    </tr>\n",
       "    <tr>\n",
       "      <th>3</th>\n",
       "      <td>16</td>\n",
       "      <td>26</td>\n",
       "    </tr>\n",
       "    <tr>\n",
       "      <th>4</th>\n",
       "      <td>17</td>\n",
       "      <td>27</td>\n",
       "    </tr>\n",
       "  </tbody>\n",
       "</table>\n",
       "</div>"
      ],
      "text/plain": [
       "   X1  X2\n",
       "0  13  23\n",
       "1  14  24\n",
       "2  15  25\n",
       "3  16  26\n",
       "4  17  27"
      ]
     },
     "execution_count": 12,
     "metadata": {},
     "output_type": "execute_result"
    }
   ],
   "source": [
    "#multiple columns\n",
    "\n",
    "dff1.loc[:,['X1','X2']].apply(lambda x : x + 2)"
   ]
  },
  {
   "cell_type": "code",
   "execution_count": 13,
   "id": "83828fea",
   "metadata": {},
   "outputs": [
    {
     "data": {
      "text/plain": [
       "0    32\n",
       "1    34\n",
       "2    36\n",
       "3    38\n",
       "4    40\n",
       "dtype: int64"
      ]
     },
     "execution_count": 13,
     "metadata": {},
     "output_type": "execute_result"
    }
   ],
   "source": [
    "# appling changes according to multiple columns\n",
    "\n",
    "dff1.apply(lambda x : x.X1 + x.X2, axis = 1)"
   ]
  },
  {
   "cell_type": "markdown",
   "id": "fc352c9e",
   "metadata": {},
   "source": [
    "# date and times"
   ]
  },
  {
   "cell_type": "code",
   "execution_count": 3,
   "id": "b0263f26",
   "metadata": {},
   "outputs": [
    {
     "data": {
      "text/plain": [
       "datetime.date(2023, 6, 15)"
      ]
     },
     "execution_count": 3,
     "metadata": {},
     "output_type": "execute_result"
    }
   ],
   "source": [
    "from datetime import date\n",
    "\n",
    "date.fromisoformat('2023-06-15') #yyyy-mm-dd"
   ]
  },
  {
   "cell_type": "code",
   "execution_count": 4,
   "id": "6d3897ce",
   "metadata": {},
   "outputs": [
    {
     "name": "stdout",
     "output_type": "stream",
     "text": [
      "<class 'bytes'>\n",
      "b'\\x00\\x00\\x00'\n"
     ]
    }
   ],
   "source": [
    "byt = bytes(3)\n",
    "print(type(byt))\n",
    "print(byt)"
   ]
  },
  {
   "cell_type": "code",
   "execution_count": 5,
   "id": "0127ca84",
   "metadata": {},
   "outputs": [
    {
     "data": {
      "text/plain": [
       "datetime.date(2023, 6, 15)"
      ]
     },
     "execution_count": 5,
     "metadata": {},
     "output_type": "execute_result"
    }
   ],
   "source": [
    "# we can replace the dates\n",
    "\n",
    "d = date(2023, 6, 11)\n",
    "d.replace(day = 15)"
   ]
  },
  {
   "cell_type": "code",
   "execution_count": 6,
   "id": "909f8641",
   "metadata": {},
   "outputs": [
    {
     "data": {
      "text/plain": [
       "datetime.IsoCalendarDate(year=2004, week=1, weekday=1)"
      ]
     },
     "execution_count": 6,
     "metadata": {},
     "output_type": "execute_result"
    }
   ],
   "source": [
    "# date.isocalendar()\n",
    "\n",
    "# iso always started on monday , it's not shows the decimal point it either 52 or 53 full weeks\n",
    "\n",
    "date(2003, 12, 29).isocalendar()"
   ]
  },
  {
   "cell_type": "code",
   "execution_count": 6,
   "id": "d82f4cbd",
   "metadata": {},
   "outputs": [
    {
     "data": {
      "text/plain": [
       "'2023-06-15'"
      ]
     },
     "execution_count": 6,
     "metadata": {},
     "output_type": "execute_result"
    }
   ],
   "source": [
    "# date.isoformat\n",
    "\n",
    "date(2023,6,15).isoformat()"
   ]
  },
  {
   "cell_type": "code",
   "execution_count": 26,
   "id": "134de318",
   "metadata": {},
   "outputs": [
    {
     "name": "stdout",
     "output_type": "stream",
     "text": [
      "2023-06-15 20:19:28.351886\n"
     ]
    },
    {
     "data": {
      "text/plain": [
       "'2025-06-14 20:19:28.351886'"
      ]
     },
     "execution_count": 26,
     "metadata": {},
     "output_type": "execute_result"
    }
   ],
   "source": [
    "# time delta function\n",
    "\n",
    "from datetime import datetime, timedelta\n",
    "\n",
    "date_time_str = datetime.now()\n",
    "print(str(date_time_str))\n",
    "\n",
    "y = date_time_str + timedelta(days = 730) # after two years\n",
    "str(y)"
   ]
  },
  {
   "cell_type": "code",
   "execution_count": 27,
   "id": "ee0b00e5",
   "metadata": {},
   "outputs": [
    {
     "data": {
      "text/plain": [
       "datetime.date(2023, 6, 15)"
      ]
     },
     "execution_count": 27,
     "metadata": {},
     "output_type": "execute_result"
    }
   ],
   "source": [
    "import time\n",
    "\n",
    "date.fromtimestamp(time.time())\n"
   ]
  },
  {
   "cell_type": "code",
   "execution_count": 36,
   "id": "cf951297",
   "metadata": {},
   "outputs": [
    {
     "name": "stdout",
     "output_type": "stream",
     "text": [
      "date : 2023-06-15\n",
      "time: 19:50:57.403772\n",
      "datetime : 2023-06-15 19:50:57.403772\n"
     ]
    }
   ],
   "source": [
    "import datetime\n",
    "\n",
    "date_time_str = '2023-06-15 19:50:57.403772'\n",
    "\n",
    "date_time_obj = datetime.datetime.strptime(date_time_str, '%Y-%m-%d %H:%M:%S.%f')\n",
    "\n",
    "print('date :', date_time_obj.date())\n",
    "print('time:', date_time_obj.time())\n",
    "print('datetime :', date_time_obj)\n",
    "\n"
   ]
  },
  {
   "cell_type": "code",
   "execution_count": 39,
   "id": "e6a5f03e",
   "metadata": {},
   "outputs": [
    {
     "name": "stdout",
     "output_type": "stream",
     "text": [
      "2019-01-08 09:12:23\n"
     ]
    }
   ],
   "source": [
    "date_time_str = '2019-jan-08 09:12:23'\n",
    "\n",
    "date_time_obj = datetime.datetime.strptime(date_time_str , '%Y-%b-%d %H:%M:%S') # b- abbreviated jan\n",
    "\n",
    "print(date_time_obj) # strp - it convert string to date_time object"
   ]
  },
  {
   "cell_type": "code",
   "execution_count": 40,
   "id": "2fa790dc",
   "metadata": {},
   "outputs": [
    {
     "name": "stdout",
     "output_type": "stream",
     "text": [
      "2019-Jan-08\n",
      "Tue-Jan-19\n",
      "Tue-Jan-19 09:12:23 AM\n",
      "date is 01/08/19, and time is 09:12:23\n",
      "Tuesday-January-2019\n"
     ]
    }
   ],
   "source": [
    "# formatting examples\n",
    "\n",
    "print(date_time_obj.strftime('%Y-%b-%d')) # b = short of month\n",
    "print(date_time_obj.strftime('%a-%b-%y')) # a = short of weekend\n",
    "print(date_time_obj.strftime('%a-%b-%y %I:%M:%S %p')) # I = 12 hr clock\n",
    "print(date_time_obj.strftime('date is %D, and time is %T'))\n",
    "print(date_time_obj.strftime('%A-%B-%Y')) # strf - it convert date_time to string object"
   ]
  },
  {
   "cell_type": "code",
   "execution_count": 2,
   "id": "43114f42",
   "metadata": {},
   "outputs": [
    {
     "name": "stdout",
     "output_type": "stream",
     "text": [
      "2010-08-21 16:10:17\n"
     ]
    }
   ],
   "source": [
    "from random import randrange\n",
    "from datetime import timedelta, datetime\n",
    "\n",
    "def random_date(start, end):\n",
    "    delta = end - start\n",
    "    int_delta = (delta.days * 24 * 60 * 60) + delta.seconds\n",
    "    random_second = randrange(int_delta)\n",
    "    return start + timedelta(seconds=random_second)\n",
    "\n",
    "d1 = datetime.strptime('1/1/1998 1:30 PM', '%m/%d/%Y %I:%M %p')\n",
    "d2 = datetime.strptime('1/1/2020 4:50 AM', '%m/%d/%Y %I:%M %p')\n",
    "print(random_date(d1, d2))"
   ]
  },
  {
   "cell_type": "code",
   "execution_count": 4,
   "id": "dd8619d7",
   "metadata": {},
   "outputs": [
    {
     "name": "stdout",
     "output_type": "stream",
     "text": [
      "2018-06-12 02:07:44\n"
     ]
    }
   ],
   "source": [
    "d2 = datetime.strptime('1/1/1998 1:30 PM', '%m/%d/%Y %I:%M %p')\n",
    "d3 = datetime.strptime('1/1/2020 4:50 AM', '%m/%d/%Y %I:%M %p')\n",
    "print(random_date(d2, d3))"
   ]
  },
  {
   "cell_type": "code",
   "execution_count": 8,
   "id": "d145092a",
   "metadata": {},
   "outputs": [
    {
     "data": {
      "text/plain": [
       "[datetime.datetime(2012, 6, 29, 8, 46, 59),\n",
       " datetime.datetime(2000, 1, 25, 19, 38, 50),\n",
       " datetime.datetime(2015, 3, 15, 10, 7, 15),\n",
       " datetime.datetime(2004, 8, 30, 10, 43, 57),\n",
       " datetime.datetime(2011, 12, 20, 22, 0, 14),\n",
       " datetime.datetime(2005, 7, 31, 14, 41, 13),\n",
       " datetime.datetime(2001, 9, 5, 13, 15, 43),\n",
       " datetime.datetime(2014, 9, 25, 7, 32, 40),\n",
       " datetime.datetime(2018, 2, 11, 2, 1, 11),\n",
       " datetime.datetime(2009, 12, 2, 23, 43, 2),\n",
       " datetime.datetime(2011, 12, 7, 8, 55, 13),\n",
       " datetime.datetime(1998, 1, 13, 7, 37, 46),\n",
       " datetime.datetime(2008, 4, 14, 0, 51, 44),\n",
       " datetime.datetime(2005, 10, 24, 13, 13, 15),\n",
       " datetime.datetime(2001, 10, 23, 5, 15, 56),\n",
       " datetime.datetime(2001, 11, 19, 17, 37, 24),\n",
       " datetime.datetime(2004, 2, 14, 19, 2, 45),\n",
       " datetime.datetime(2019, 7, 20, 13, 52, 27),\n",
       " datetime.datetime(2004, 3, 14, 14, 30, 16),\n",
       " datetime.datetime(2016, 3, 1, 0, 8, 11)]"
      ]
     },
     "execution_count": 8,
     "metadata": {},
     "output_type": "execute_result"
    }
   ],
   "source": [
    "date_time = []\n",
    "\n",
    "for i in range(20):\n",
    "    date_time.append(random_date(d2, d3))\n",
    "    \n",
    "(date_time)    "
   ]
  },
  {
   "cell_type": "code",
   "execution_count": 11,
   "id": "85ad2b0f",
   "metadata": {},
   "outputs": [
    {
     "data": {
      "text/plain": [
       "['1998-9-7',\n",
       " '2019-3-11',\n",
       " '2011-7-15',\n",
       " '2012-6-8',\n",
       " '2012-3-11',\n",
       " '2008-2-22',\n",
       " '2021-4-20',\n",
       " '2008-8-12',\n",
       " '2018-2-28',\n",
       " '2018-11-4',\n",
       " '2011-3-5',\n",
       " '2017-7-30',\n",
       " '2011-2-6',\n",
       " '2014-3-30',\n",
       " '2002-10-18',\n",
       " '2006-4-15',\n",
       " '2001-4-1',\n",
       " '2005-9-16',\n",
       " '2006-8-14',\n",
       " '2010-11-29']"
      ]
     },
     "execution_count": 11,
     "metadata": {},
     "output_type": "execute_result"
    }
   ],
   "source": [
    "# generating random date string format\n",
    "\n",
    "date_formats = []\n",
    "\n",
    "for i in range(20):\n",
    "    year_month_day = str(randrange(1998, 2023)) + '-' + str(randrange(1, 12)) + '-' + str(randrange(1, 31))\n",
    "    date_formats.append(year_month_day)\n",
    "    \n",
    "date_formats    "
   ]
  },
  {
   "cell_type": "code",
   "execution_count": 12,
   "id": "1b61336e",
   "metadata": {},
   "outputs": [
    {
     "data": {
      "text/html": [
       "<div>\n",
       "<style scoped>\n",
       "    .dataframe tbody tr th:only-of-type {\n",
       "        vertical-align: middle;\n",
       "    }\n",
       "\n",
       "    .dataframe tbody tr th {\n",
       "        vertical-align: top;\n",
       "    }\n",
       "\n",
       "    .dataframe thead th {\n",
       "        text-align: right;\n",
       "    }\n",
       "</style>\n",
       "<table border=\"1\" class=\"dataframe\">\n",
       "  <thead>\n",
       "    <tr style=\"text-align: right;\">\n",
       "      <th></th>\n",
       "      <th>first_col</th>\n",
       "      <th>second_col</th>\n",
       "    </tr>\n",
       "  </thead>\n",
       "  <tbody>\n",
       "    <tr>\n",
       "      <th>0</th>\n",
       "      <td>2012-06-29 08:46:59</td>\n",
       "      <td>1998-9-7</td>\n",
       "    </tr>\n",
       "    <tr>\n",
       "      <th>1</th>\n",
       "      <td>2000-01-25 19:38:50</td>\n",
       "      <td>2019-3-11</td>\n",
       "    </tr>\n",
       "    <tr>\n",
       "      <th>2</th>\n",
       "      <td>2015-03-15 10:07:15</td>\n",
       "      <td>2011-7-15</td>\n",
       "    </tr>\n",
       "    <tr>\n",
       "      <th>3</th>\n",
       "      <td>2004-08-30 10:43:57</td>\n",
       "      <td>2012-6-8</td>\n",
       "    </tr>\n",
       "    <tr>\n",
       "      <th>4</th>\n",
       "      <td>2011-12-20 22:00:14</td>\n",
       "      <td>2012-3-11</td>\n",
       "    </tr>\n",
       "  </tbody>\n",
       "</table>\n",
       "</div>"
      ],
      "text/plain": [
       "            first_col second_col\n",
       "0 2012-06-29 08:46:59   1998-9-7\n",
       "1 2000-01-25 19:38:50  2019-3-11\n",
       "2 2015-03-15 10:07:15  2011-7-15\n",
       "3 2004-08-30 10:43:57   2012-6-8\n",
       "4 2011-12-20 22:00:14  2012-3-11"
      ]
     },
     "execution_count": 12,
     "metadata": {},
     "output_type": "execute_result"
    }
   ],
   "source": [
    "import pandas as pd\n",
    "\n",
    "df = pd.DataFrame({'first_col' : date_time , 'second_col' : date_formats})\n",
    "df.head() # it shows first 5"
   ]
  },
  {
   "cell_type": "code",
   "execution_count": 13,
   "id": "02a2d709",
   "metadata": {},
   "outputs": [
    {
     "name": "stdout",
     "output_type": "stream",
     "text": [
      "<class 'pandas.core.frame.DataFrame'>\n",
      "RangeIndex: 20 entries, 0 to 19\n",
      "Data columns (total 2 columns):\n",
      " #   Column      Non-Null Count  Dtype         \n",
      "---  ------      --------------  -----         \n",
      " 0   first_col   20 non-null     datetime64[ns]\n",
      " 1   second_col  20 non-null     object        \n",
      "dtypes: datetime64[ns](1), object(1)\n",
      "memory usage: 448.0+ bytes\n"
     ]
    }
   ],
   "source": [
    "df.info()"
   ]
  },
  {
   "cell_type": "code",
   "execution_count": 14,
   "id": "c16f69a0",
   "metadata": {},
   "outputs": [
    {
     "data": {
      "text/plain": [
       "first_col     datetime64[ns]\n",
       "second_col            object\n",
       "dtype: object"
      ]
     },
     "execution_count": 14,
     "metadata": {},
     "output_type": "execute_result"
    }
   ],
   "source": [
    "df.dtypes"
   ]
  },
  {
   "cell_type": "code",
   "execution_count": 16,
   "id": "6cdfa142",
   "metadata": {},
   "outputs": [
    {
     "data": {
      "text/html": [
       "<div>\n",
       "<style scoped>\n",
       "    .dataframe tbody tr th:only-of-type {\n",
       "        vertical-align: middle;\n",
       "    }\n",
       "\n",
       "    .dataframe tbody tr th {\n",
       "        vertical-align: top;\n",
       "    }\n",
       "\n",
       "    .dataframe thead th {\n",
       "        text-align: right;\n",
       "    }\n",
       "</style>\n",
       "<table border=\"1\" class=\"dataframe\">\n",
       "  <thead>\n",
       "    <tr style=\"text-align: right;\">\n",
       "      <th></th>\n",
       "      <th>first_col</th>\n",
       "      <th>second_col</th>\n",
       "    </tr>\n",
       "  </thead>\n",
       "  <tbody>\n",
       "    <tr>\n",
       "      <th>11</th>\n",
       "      <td>1998-01-13 07:37:46</td>\n",
       "      <td>2017-7-30</td>\n",
       "    </tr>\n",
       "    <tr>\n",
       "      <th>1</th>\n",
       "      <td>2000-01-25 19:38:50</td>\n",
       "      <td>2019-3-11</td>\n",
       "    </tr>\n",
       "    <tr>\n",
       "      <th>6</th>\n",
       "      <td>2001-09-05 13:15:43</td>\n",
       "      <td>2021-4-20</td>\n",
       "    </tr>\n",
       "    <tr>\n",
       "      <th>14</th>\n",
       "      <td>2001-10-23 05:15:56</td>\n",
       "      <td>2002-10-18</td>\n",
       "    </tr>\n",
       "    <tr>\n",
       "      <th>15</th>\n",
       "      <td>2001-11-19 17:37:24</td>\n",
       "      <td>2006-4-15</td>\n",
       "    </tr>\n",
       "    <tr>\n",
       "      <th>16</th>\n",
       "      <td>2004-02-14 19:02:45</td>\n",
       "      <td>2001-4-1</td>\n",
       "    </tr>\n",
       "    <tr>\n",
       "      <th>18</th>\n",
       "      <td>2004-03-14 14:30:16</td>\n",
       "      <td>2006-8-14</td>\n",
       "    </tr>\n",
       "    <tr>\n",
       "      <th>3</th>\n",
       "      <td>2004-08-30 10:43:57</td>\n",
       "      <td>2012-6-8</td>\n",
       "    </tr>\n",
       "    <tr>\n",
       "      <th>5</th>\n",
       "      <td>2005-07-31 14:41:13</td>\n",
       "      <td>2008-2-22</td>\n",
       "    </tr>\n",
       "    <tr>\n",
       "      <th>13</th>\n",
       "      <td>2005-10-24 13:13:15</td>\n",
       "      <td>2014-3-30</td>\n",
       "    </tr>\n",
       "  </tbody>\n",
       "</table>\n",
       "</div>"
      ],
      "text/plain": [
       "             first_col  second_col\n",
       "11 1998-01-13 07:37:46   2017-7-30\n",
       "1  2000-01-25 19:38:50   2019-3-11\n",
       "6  2001-09-05 13:15:43   2021-4-20\n",
       "14 2001-10-23 05:15:56  2002-10-18\n",
       "15 2001-11-19 17:37:24   2006-4-15\n",
       "16 2004-02-14 19:02:45    2001-4-1\n",
       "18 2004-03-14 14:30:16   2006-8-14\n",
       "3  2004-08-30 10:43:57    2012-6-8\n",
       "5  2005-07-31 14:41:13   2008-2-22\n",
       "13 2005-10-24 13:13:15   2014-3-30"
      ]
     },
     "execution_count": 16,
     "metadata": {},
     "output_type": "execute_result"
    }
   ],
   "source": [
    "df.sort_values(by = ['first_col'], inplace = False).head(10)"
   ]
  },
  {
   "cell_type": "code",
   "execution_count": 17,
   "id": "0af91cf6",
   "metadata": {},
   "outputs": [
    {
     "data": {
      "text/html": [
       "<div>\n",
       "<style scoped>\n",
       "    .dataframe tbody tr th:only-of-type {\n",
       "        vertical-align: middle;\n",
       "    }\n",
       "\n",
       "    .dataframe tbody tr th {\n",
       "        vertical-align: top;\n",
       "    }\n",
       "\n",
       "    .dataframe thead th {\n",
       "        text-align: right;\n",
       "    }\n",
       "</style>\n",
       "<table border=\"1\" class=\"dataframe\">\n",
       "  <thead>\n",
       "    <tr style=\"text-align: right;\">\n",
       "      <th></th>\n",
       "      <th>first_col</th>\n",
       "      <th>second_col</th>\n",
       "    </tr>\n",
       "  </thead>\n",
       "  <tbody>\n",
       "    <tr>\n",
       "      <th>17</th>\n",
       "      <td>2019-07-20 13:52:27</td>\n",
       "      <td>2005-9-16</td>\n",
       "    </tr>\n",
       "    <tr>\n",
       "      <th>8</th>\n",
       "      <td>2018-02-11 02:01:11</td>\n",
       "      <td>2018-2-28</td>\n",
       "    </tr>\n",
       "    <tr>\n",
       "      <th>19</th>\n",
       "      <td>2016-03-01 00:08:11</td>\n",
       "      <td>2010-11-29</td>\n",
       "    </tr>\n",
       "    <tr>\n",
       "      <th>2</th>\n",
       "      <td>2015-03-15 10:07:15</td>\n",
       "      <td>2011-7-15</td>\n",
       "    </tr>\n",
       "    <tr>\n",
       "      <th>7</th>\n",
       "      <td>2014-09-25 07:32:40</td>\n",
       "      <td>2008-8-12</td>\n",
       "    </tr>\n",
       "    <tr>\n",
       "      <th>0</th>\n",
       "      <td>2012-06-29 08:46:59</td>\n",
       "      <td>1998-9-7</td>\n",
       "    </tr>\n",
       "    <tr>\n",
       "      <th>4</th>\n",
       "      <td>2011-12-20 22:00:14</td>\n",
       "      <td>2012-3-11</td>\n",
       "    </tr>\n",
       "    <tr>\n",
       "      <th>10</th>\n",
       "      <td>2011-12-07 08:55:13</td>\n",
       "      <td>2011-3-5</td>\n",
       "    </tr>\n",
       "    <tr>\n",
       "      <th>9</th>\n",
       "      <td>2009-12-02 23:43:02</td>\n",
       "      <td>2018-11-4</td>\n",
       "    </tr>\n",
       "    <tr>\n",
       "      <th>12</th>\n",
       "      <td>2008-04-14 00:51:44</td>\n",
       "      <td>2011-2-6</td>\n",
       "    </tr>\n",
       "  </tbody>\n",
       "</table>\n",
       "</div>"
      ],
      "text/plain": [
       "             first_col  second_col\n",
       "17 2019-07-20 13:52:27   2005-9-16\n",
       "8  2018-02-11 02:01:11   2018-2-28\n",
       "19 2016-03-01 00:08:11  2010-11-29\n",
       "2  2015-03-15 10:07:15   2011-7-15\n",
       "7  2014-09-25 07:32:40   2008-8-12\n",
       "0  2012-06-29 08:46:59    1998-9-7\n",
       "4  2011-12-20 22:00:14   2012-3-11\n",
       "10 2011-12-07 08:55:13    2011-3-5\n",
       "9  2009-12-02 23:43:02   2018-11-4\n",
       "12 2008-04-14 00:51:44    2011-2-6"
      ]
     },
     "execution_count": 17,
     "metadata": {},
     "output_type": "execute_result"
    }
   ],
   "source": [
    "df.sort_values(by = ['first_col'], inplace = False , ascending = False).head(10)"
   ]
  },
  {
   "cell_type": "code",
   "execution_count": 19,
   "id": "8ae34fe2",
   "metadata": {},
   "outputs": [
    {
     "data": {
      "text/html": [
       "<div>\n",
       "<style scoped>\n",
       "    .dataframe tbody tr th:only-of-type {\n",
       "        vertical-align: middle;\n",
       "    }\n",
       "\n",
       "    .dataframe tbody tr th {\n",
       "        vertical-align: top;\n",
       "    }\n",
       "\n",
       "    .dataframe thead th {\n",
       "        text-align: right;\n",
       "    }\n",
       "</style>\n",
       "<table border=\"1\" class=\"dataframe\">\n",
       "  <thead>\n",
       "    <tr style=\"text-align: right;\">\n",
       "      <th></th>\n",
       "      <th>first_col</th>\n",
       "      <th>second_col</th>\n",
       "    </tr>\n",
       "  </thead>\n",
       "  <tbody>\n",
       "    <tr>\n",
       "      <th>11</th>\n",
       "      <td>1998-01-13 07:37:46</td>\n",
       "      <td>2017-7-30</td>\n",
       "    </tr>\n",
       "    <tr>\n",
       "      <th>1</th>\n",
       "      <td>2000-01-25 19:38:50</td>\n",
       "      <td>2019-3-11</td>\n",
       "    </tr>\n",
       "    <tr>\n",
       "      <th>6</th>\n",
       "      <td>2001-09-05 13:15:43</td>\n",
       "      <td>2021-4-20</td>\n",
       "    </tr>\n",
       "    <tr>\n",
       "      <th>14</th>\n",
       "      <td>2001-10-23 05:15:56</td>\n",
       "      <td>2002-10-18</td>\n",
       "    </tr>\n",
       "    <tr>\n",
       "      <th>15</th>\n",
       "      <td>2001-11-19 17:37:24</td>\n",
       "      <td>2006-4-15</td>\n",
       "    </tr>\n",
       "    <tr>\n",
       "      <th>16</th>\n",
       "      <td>2004-02-14 19:02:45</td>\n",
       "      <td>2001-4-1</td>\n",
       "    </tr>\n",
       "    <tr>\n",
       "      <th>18</th>\n",
       "      <td>2004-03-14 14:30:16</td>\n",
       "      <td>2006-8-14</td>\n",
       "    </tr>\n",
       "    <tr>\n",
       "      <th>3</th>\n",
       "      <td>2004-08-30 10:43:57</td>\n",
       "      <td>2012-6-8</td>\n",
       "    </tr>\n",
       "    <tr>\n",
       "      <th>5</th>\n",
       "      <td>2005-07-31 14:41:13</td>\n",
       "      <td>2008-2-22</td>\n",
       "    </tr>\n",
       "    <tr>\n",
       "      <th>13</th>\n",
       "      <td>2005-10-24 13:13:15</td>\n",
       "      <td>2014-3-30</td>\n",
       "    </tr>\n",
       "  </tbody>\n",
       "</table>\n",
       "</div>"
      ],
      "text/plain": [
       "             first_col  second_col\n",
       "11 1998-01-13 07:37:46   2017-7-30\n",
       "1  2000-01-25 19:38:50   2019-3-11\n",
       "6  2001-09-05 13:15:43   2021-4-20\n",
       "14 2001-10-23 05:15:56  2002-10-18\n",
       "15 2001-11-19 17:37:24   2006-4-15\n",
       "16 2004-02-14 19:02:45    2001-4-1\n",
       "18 2004-03-14 14:30:16   2006-8-14\n",
       "3  2004-08-30 10:43:57    2012-6-8\n",
       "5  2005-07-31 14:41:13   2008-2-22\n",
       "13 2005-10-24 13:13:15   2014-3-30"
      ]
     },
     "execution_count": 19,
     "metadata": {},
     "output_type": "execute_result"
    }
   ],
   "source": [
    "df.sort_values(by = ['first_col', 'second_col'], inplace = False , ascending = True).head(10)"
   ]
  },
  {
   "cell_type": "markdown",
   "id": "fb1949cd",
   "metadata": {},
   "source": [
    "# data structure in python"
   ]
  },
  {
   "cell_type": "code",
   "execution_count": 30,
   "id": "9cd782f3",
   "metadata": {},
   "outputs": [],
   "source": [
    "# array is defined as storage or container or similar items placed in contiguous memory location\n",
    "\n",
    "# homogenous array will contain the element same data type\n",
    "# hetrogenous array will not contain the same data type\n",
    "\n",
    " # typecode available for array\n",
    "\n",
    "# 'i' = integer, 2 bytes\n",
    "# 'f' = float, 4 bytes\n",
    "# 'd' = double filar type, 8 bytes\n",
    "# 'u' = unicode character, 2 bytes\n",
    "\n"
   ]
  },
  {
   "cell_type": "code",
   "execution_count": 34,
   "id": "0144ba40",
   "metadata": {},
   "outputs": [
    {
     "name": "stdout",
     "output_type": "stream",
     "text": [
      "i\n",
      "f\n",
      "u\n",
      "array('i', [1, 2, 3])\n",
      "array('f', [1.100000023841858, 2.299999952316284, 3.5])\n",
      "array('u', 'abcd')\n"
     ]
    }
   ],
   "source": [
    "# creating an array\n",
    "\n",
    "import array as myarray\n",
    "\n",
    "arr = myarray.array('i',[1, 2, 3])\n",
    "arr1 = myarray.array('f',[1.1, 2.3, 3.5])\n",
    "arr2 = myarray.array('u',['a', 'b', 'c', 'd'])\n",
    "\n",
    "# typecodes\n",
    "print(arr.typecode)\n",
    "print(arr1.typecode)\n",
    "print(arr2.typecode)\n",
    "\n",
    "print(arr)\n",
    "print(arr1)\n",
    "print(arr2)\n"
   ]
  },
  {
   "cell_type": "code",
   "execution_count": 35,
   "id": "d1614582",
   "metadata": {},
   "outputs": [
    {
     "name": "stdout",
     "output_type": "stream",
     "text": [
      "3\n",
      "3\n",
      "4\n"
     ]
    }
   ],
   "source": [
    "# length of an array\n",
    "\n",
    "print(len(arr))\n",
    "print(len(arr1))\n",
    "print(len(arr2))"
   ]
  },
  {
   "cell_type": "code",
   "execution_count": 39,
   "id": "fbc0d94a",
   "metadata": {},
   "outputs": [
    {
     "name": "stdout",
     "output_type": "stream",
     "text": [
      "1 2 3 \n",
      "\n",
      "1.100000023841858 2.299999952316284 3.5 \n",
      "\n",
      "a b c d "
     ]
    }
   ],
   "source": [
    "for i in range(0,len(arr)):\n",
    "    print(arr[i], end = ' ')\n",
    "print('\\n')\n",
    "for i in range(0,len(arr1)):\n",
    "    print(arr1[i], end = ' ')\n",
    "print('\\n')\n",
    "for i in range(0,len(arr2)):\n",
    "    print(arr2[i], end = ' ')"
   ]
  },
  {
   "cell_type": "code",
   "execution_count": 41,
   "id": "80dd87e1",
   "metadata": {},
   "outputs": [
    {
     "name": "stdout",
     "output_type": "stream",
     "text": [
      "1 2 3 4 5 6 7 8 9 10 11 12 13 14 15 16 17 18 19 20 21 22 23 24 25 26 27 28 29 30 31 32 33 34 35 36 37 38 39 40 41 42 43 44 45 46 47 48 49 \n",
      "\n",
      "21\n"
     ]
    }
   ],
   "source": [
    "# accessing the elements in array by index\n",
    "\n",
    "x = list(range(1,50))\n",
    "new_array= myarray.array('i', x)\n",
    "\n",
    "for i in range(0, len(new_array)):\n",
    "    print(new_array[i], end= ' ')\n",
    "    \n",
    "print('\\n')\n",
    "print(new_array[20])"
   ]
  },
  {
   "cell_type": "code",
   "execution_count": 51,
   "id": "9b73ba88",
   "metadata": {},
   "outputs": [
    {
     "name": "stdout",
     "output_type": "stream",
     "text": [
      "array('i', [3, 4, 5, 6, 7, 8, 9])\n",
      "i\n",
      "array('i', [1, 2, 3, 4, 5, 6, 7, 8, 9])\n",
      "array('i', [1, 2, 3, 4, 5, 6, 7, 8, 9, 11])\n",
      "1 2 3 4 5 6 7 8 9 11 "
     ]
    }
   ],
   "source": [
    "# adding the elements in the array\n",
    "\n",
    "new_array = myarray.array('i', [3, 4, 5, 6, 7, 8, 9])\n",
    "print(new_array)\n",
    "print(new_array.typecode)\n",
    "\n",
    "new_array.insert(0, 2)\n",
    "new_array.insert(0, 1)\n",
    "print(new_array)\n",
    "\n",
    "new_array.append(11)\n",
    "print(new_array)\n",
    "\n",
    "for i in range(0,len(new_array)):\n",
    "    print(new_array[i], end = \" \")\n",
    "\n",
    "\n"
   ]
  },
  {
   "cell_type": "code",
   "execution_count": 53,
   "id": "357d38f1",
   "metadata": {},
   "outputs": [
    {
     "name": "stdout",
     "output_type": "stream",
     "text": [
      "array('i', [3, 4, 5, 6, 7, 8, 9])\n"
     ]
    }
   ],
   "source": [
    "# update\n",
    "\n",
    "new_array = myarray.array('i', [3, 4, 5, 7, 7, 8, 9])\n",
    "\n",
    "new_array[3] = 6\n",
    "print(new_array)"
   ]
  },
  {
   "cell_type": "code",
   "execution_count": 55,
   "id": "f0e51dcb",
   "metadata": {},
   "outputs": [
    {
     "name": "stdout",
     "output_type": "stream",
     "text": [
      "array('i', [3, 4, 5, 6, 9])\n",
      "array('i', [3, 4, 6, 9])\n"
     ]
    }
   ],
   "source": [
    "# delete\n",
    "\n",
    "new_array.pop(4)\n",
    "print(new_array)\n",
    "\n",
    "new_array.remove(5)\n",
    "print(new_array)\n"
   ]
  },
  {
   "cell_type": "code",
   "execution_count": 58,
   "id": "8cc6e1b4",
   "metadata": {},
   "outputs": [
    {
     "name": "stdout",
     "output_type": "stream",
     "text": [
      "array('i', [1, 4, 7, 10, 13, 16, 19, 22, 25, 28, 31, 34, 37, 40, 43, 46, 49, 52, 55, 58, 61, 64, 67, 70, 73, 76, 79, 82, 85, 88, 91, 94, 97])\n",
      "array('i', [31, 34, 37, 40, 43, 46, 49, 52, 55, 58])\n",
      "array('i', [31, 34, 37, 40, 43, 46, 49, 52, 55, 58, 61, 64, 67])\n"
     ]
    }
   ],
   "source": [
    "# slicing operation\n",
    "\n",
    "x = list(range(1,100,3))\n",
    "arr = myarray.array('i', x)\n",
    "print(arr)\n",
    "\n",
    "arr0 = arr[10:20]\n",
    "print(arr0)\n",
    "\n",
    "arr1 = arr[10:-10]\n",
    "print(arr1)\n",
    "\n"
   ]
  },
  {
   "cell_type": "code",
   "execution_count": 62,
   "id": "d98afdfe",
   "metadata": {},
   "outputs": [
    {
     "name": "stdout",
     "output_type": "stream",
     "text": [
      "25\n"
     ]
    },
    {
     "data": {
      "text/plain": [
       "76"
      ]
     },
     "execution_count": 62,
     "metadata": {},
     "output_type": "execute_result"
    }
   ],
   "source": [
    "# searcch operation in an array using index\n",
    "\n",
    "x = arr.index(76)\n",
    "print(x)\n",
    "\n",
    "y = arr[x]\n",
    "y"
   ]
  },
  {
   "cell_type": "code",
   "execution_count": 73,
   "id": "7f7b09c3",
   "metadata": {},
   "outputs": [
    {
     "name": "stdout",
     "output_type": "stream",
     "text": [
      "[1, 4, 7, 10, 13, 16, 19, 22, 25, 28, 31, 34, 37, 40, 43, 46, 49, 52, 55, 58, 61, 64, 67, 70, 73, 76, 79, 82, 85, 88, 91, 94, 97]\n"
     ]
    }
   ],
   "source": [
    "# sorting operation\n",
    "\n",
    "x = list(range(1,100,3))\n",
    "arr = myarray.array('i', x)\n",
    "arr1 = arr.tolist()\n",
    "print(arr1)\n",
    "\n"
   ]
  },
  {
   "cell_type": "code",
   "execution_count": 78,
   "id": "9499e053",
   "metadata": {},
   "outputs": [
    {
     "name": "stdout",
     "output_type": "stream",
     "text": [
      "[1, 4, 7, 10, 13, 16, 19, 22, 25, 28, 31, 34, 37, 40, 43, 46, 49, 52, 55, 58, 61, 64, 67, 70, 73, 76, 79, 82, 85, 88, 91, 94, 97] [1, 4, 7, 10, 13, 16, 19, 22, 25, 28, 31, 34, 37, 40, 43, 46, 49, 52, 55, 58, 61, 64, 67, 70, 73, 76, 79, 82, 85, 88, 91, 94, 97]\n",
      "[97, 94, 91, 88, 85, 82, 79, 76, 73, 70, 67, 64, 61, 58, 55, 52, 49, 46, 43, 40, 37, 34, 31, 28, 25, 22, 19, 16, 13, 10, 7, 4, 1] "
     ]
    }
   ],
   "source": [
    "arr1.sort()\n",
    "print(arr1, end= ' ')\n",
    "\n",
    "x = sorted(arr1)\n",
    "print(x)\n",
    "\n",
    "y= arr1.sort(reverse = True)\n",
    "print(arr1, end= ' ')"
   ]
  },
  {
   "cell_type": "code",
   "execution_count": 85,
   "id": "8ebe8628",
   "metadata": {},
   "outputs": [
    {
     "name": "stdout",
     "output_type": "stream",
     "text": [
      "[1 2 3 4 5]\n",
      "\n",
      "\n",
      "[[0. 0.]\n",
      " [0. 0.]]\n",
      "\n",
      "\n",
      "[[1. 1.]\n",
      " [1. 1.]]\n",
      "\n",
      "\n",
      "[[1 0 0]\n",
      " [0 2 0]\n",
      " [0 0 3]]\n"
     ]
    }
   ],
   "source": [
    "import numpy as np\n",
    "\n",
    "arr = np.array([1, 2, 3, 4, 5])\n",
    "print(arr)\n",
    "print('\\n')\n",
    "\n",
    "# creating an array with zeros\n",
    "\n",
    "zeros = np.zeros((2,2))\n",
    "print(zeros)\n",
    "print('\\n')\n",
    "\n",
    "ones = np.ones((2,2))\n",
    "print(ones)\n",
    "print('\\n')\n",
    "\n",
    "x = [1, 2, 3]\n",
    "\n",
    "dia = np.diag(x)\n",
    "print(dia)\n",
    "\n",
    "\n"
   ]
  },
  {
   "cell_type": "code",
   "execution_count": 93,
   "id": "210addd6",
   "metadata": {},
   "outputs": [
    {
     "name": "stdout",
     "output_type": "stream",
     "text": [
      "[[7 7 7]\n",
      " [7 7 7]\n",
      " [7 7 7]]\n",
      "\n",
      "\n",
      "[[1. 0. 0.]\n",
      " [0. 1. 0.]\n",
      " [0. 0. 1.]]\n",
      "\n",
      "\n",
      "[[0.33985802 0.94409703]\n",
      " [0.80240137 0.99608466]]\n"
     ]
    }
   ],
   "source": [
    "# creating an array with constant values\n",
    "\n",
    "const = np.full((3,3), 7)\n",
    "print(const)\n",
    "print('\\n')\n",
    "\n",
    "# create an idendity matrix\n",
    "\n",
    "iden = np.eye(3)\n",
    "print(iden)\n",
    "\n",
    "print('\\n')\n",
    "\n",
    "# random values\n",
    "\n",
    "rand = np.random.random((2,2))\n",
    "print(rand)"
   ]
  },
  {
   "cell_type": "code",
   "execution_count": 102,
   "id": "2a278964",
   "metadata": {},
   "outputs": [
    {
     "name": "stdout",
     "output_type": "stream",
     "text": [
      "1\n",
      "\n",
      "\n",
      "[1 1]\n",
      "\n",
      "\n",
      "[[1 2 3 4 5]\n",
      " [1 2 3 4 5]]\n",
      "\n",
      "\n",
      "[[[1 2 3]\n",
      "  [3 4 5]]\n",
      "\n",
      " [[5 6 7]\n",
      "  [7 8 9]]]\n",
      "\n",
      "\n",
      "[[[[[1 2 3 4 5]]]]]\n",
      "\n",
      "\n"
     ]
    }
   ],
   "source": [
    "# 1-D, 2-D, 3-D, multi-dim\n",
    "\n",
    "zerod = np.array(1)\n",
    "print(zerod)\n",
    "print('\\n')\n",
    "oned= np.array((1,1))\n",
    "print(oned)\n",
    "print('\\n')\n",
    "\n",
    "twod = np.array([[1, 2, 3, 4, 5],[1, 2, 3, 4, 5]])\n",
    "print(twod)\n",
    "print('\\n')\n",
    "\n",
    "threed = np.array([[[1, 2, 3],[3, 4, 5]],[[5, 6, 7], [7, 8, 9]]])\n",
    "print(threed)\n",
    "\n",
    "print('\\n')\n",
    "\n",
    "multid = np.array([1, 2, 3, 4, 5], ndmin= 5)\n",
    "print(multid)\n",
    "\n",
    "print('\\n')\n",
    "\n"
   ]
  },
  {
   "cell_type": "code",
   "execution_count": 99,
   "id": "6814a5fb",
   "metadata": {},
   "outputs": [
    {
     "name": "stdout",
     "output_type": "stream",
     "text": [
      "1\n",
      "2\n",
      "3\n",
      "5\n"
     ]
    }
   ],
   "source": [
    "print(oned.ndim)\n",
    "print(twod.ndim)\n",
    "print(threed.ndim)\n",
    "print(multid.ndim)\n"
   ]
  },
  {
   "cell_type": "code",
   "execution_count": 105,
   "id": "8264c4f4",
   "metadata": {},
   "outputs": [
    {
     "name": "stdout",
     "output_type": "stream",
     "text": [
      "[ 1  2  3  4  5  6  7  8  9 10]\n",
      "[ 1  2  3  4  5  6  7 99  9 10]\n"
     ]
    },
    {
     "data": {
      "text/plain": [
       "array([ 1,  2,  3,  4,  5,  6, 99,  9, 10])"
      ]
     },
     "execution_count": 105,
     "metadata": {},
     "output_type": "execute_result"
    }
   ],
   "source": [
    "# curd operation\n",
    "\n",
    "arr = np.array([1, 2, 3, 4, 5, 6, 7, 8, 9, 10])\n",
    "print(arr)\n",
    "\n",
    "# update\n",
    "arr[7] = 99\n",
    "print(arr)\n",
    "\n",
    "# delete\n",
    "\n",
    "x = np.delete(arr, 6)\n",
    "x"
   ]
  },
  {
   "cell_type": "code",
   "execution_count": 107,
   "id": "913e76fa",
   "metadata": {},
   "outputs": [
    {
     "name": "stdout",
     "output_type": "stream",
     "text": [
      "(array([6], dtype=int64),)\n"
     ]
    },
    {
     "data": {
      "text/plain": [
       "7"
      ]
     },
     "execution_count": 107,
     "metadata": {},
     "output_type": "execute_result"
    }
   ],
   "source": [
    "# searching the elements\n",
    "\n",
    "x = np.where(arr == 7)\n",
    "print(x)\n",
    "\n",
    "y = arr[6]\n",
    "y"
   ]
  },
  {
   "cell_type": "code",
   "execution_count": 108,
   "id": "65f8a102",
   "metadata": {},
   "outputs": [
    {
     "data": {
      "text/plain": [
       "array([ 1,  2,  3,  4,  5,  6,  7,  9, 10, 99])"
      ]
     },
     "execution_count": 108,
     "metadata": {},
     "output_type": "execute_result"
    }
   ],
   "source": [
    "# sort\n",
    "\n",
    "x = np.sort(arr)\n",
    "x"
   ]
  },
  {
   "cell_type": "code",
   "execution_count": 116,
   "id": "f2bf7ad5",
   "metadata": {},
   "outputs": [
    {
     "name": "stdout",
     "output_type": "stream",
     "text": [
      "[[5 7 9]]\n",
      "\n",
      "\n",
      "[[-3 -3 -3]]\n",
      "\n",
      "\n",
      "[[ 4 10 18]]\n",
      "\n",
      "\n",
      "[[0.25 0.4  0.5 ]]\n",
      "\n",
      "\n",
      "[[1.         1.41421356 1.73205081]]\n",
      "[[2.         2.23606798 2.44948974]]\n",
      "\n",
      "\n",
      "[[1 1 1]\n",
      " [2 2 2]\n",
      " [3 3 3]]\n"
     ]
    }
   ],
   "source": [
    "# mathematical operation\n",
    "\n",
    "a = np.array([[1, 2, 3]])\n",
    "b = np.array([[4, 5, 6]])\n",
    "\n",
    "# add\n",
    "add = np.add(a,b)\n",
    "print(add)\n",
    "print('\\n')\n",
    "\n",
    "# sub\n",
    "sub = np.subtract(a,b)\n",
    "print(sub)\n",
    "print('\\n')\n",
    "\n",
    "# multiply\n",
    "mult = np.multiply(a,b)\n",
    "print(mult)\n",
    "print('\\n')\n",
    "\n",
    "# division\n",
    "\n",
    "div = np.divide(a,b)\n",
    "print(div)\n",
    "print('\\n')\n",
    "\n",
    "# square root\n",
    "\n",
    "sqrt1 = np.sqrt(a)\n",
    "print(sqrt1)\n",
    "sqrt2 = np.sqrt(b)\n",
    "print(sqrt2)\n",
    "print('\\n')\n",
    "\n",
    "# transpose\n",
    "\n",
    "x = np.array([[1, 2, 3], [1, 2, 3], [1, 2, 3]])\n",
    "\n",
    "tran = np.transpose(x)\n",
    "print(tran)\n"
   ]
  },
  {
   "cell_type": "code",
   "execution_count": 3,
   "id": "e0beaa75",
   "metadata": {},
   "outputs": [
    {
     "data": {
      "text/plain": [
       "12"
      ]
     },
     "execution_count": 3,
     "metadata": {},
     "output_type": "execute_result"
    }
   ],
   "source": [
    "lis = [12, 34, 56, 34, 67, 98, 100]\n",
    "lis[0]"
   ]
  },
  {
   "cell_type": "code",
   "execution_count": 6,
   "id": "ae96b0fc",
   "metadata": {},
   "outputs": [
    {
     "name": "stdout",
     "output_type": "stream",
     "text": [
      "12\n",
      "34\n",
      "56\n",
      "34\n",
      "67\n",
      "98\n",
      "100\n"
     ]
    }
   ],
   "source": [
    "for i in lis:\n",
    "    print(i)"
   ]
  },
  {
   "cell_type": "code",
   "execution_count": 7,
   "id": "ff6d1de6",
   "metadata": {},
   "outputs": [
    {
     "data": {
      "text/plain": [
       "['__abs__',\n",
       " '__add__',\n",
       " '__and__',\n",
       " '__bool__',\n",
       " '__ceil__',\n",
       " '__class__',\n",
       " '__delattr__',\n",
       " '__dir__',\n",
       " '__divmod__',\n",
       " '__doc__',\n",
       " '__eq__',\n",
       " '__float__',\n",
       " '__floor__',\n",
       " '__floordiv__',\n",
       " '__format__',\n",
       " '__ge__',\n",
       " '__getattribute__',\n",
       " '__getnewargs__',\n",
       " '__gt__',\n",
       " '__hash__',\n",
       " '__index__',\n",
       " '__init__',\n",
       " '__init_subclass__',\n",
       " '__int__',\n",
       " '__invert__',\n",
       " '__le__',\n",
       " '__lshift__',\n",
       " '__lt__',\n",
       " '__mod__',\n",
       " '__mul__',\n",
       " '__ne__',\n",
       " '__neg__',\n",
       " '__new__',\n",
       " '__or__',\n",
       " '__pos__',\n",
       " '__pow__',\n",
       " '__radd__',\n",
       " '__rand__',\n",
       " '__rdivmod__',\n",
       " '__reduce__',\n",
       " '__reduce_ex__',\n",
       " '__repr__',\n",
       " '__rfloordiv__',\n",
       " '__rlshift__',\n",
       " '__rmod__',\n",
       " '__rmul__',\n",
       " '__ror__',\n",
       " '__round__',\n",
       " '__rpow__',\n",
       " '__rrshift__',\n",
       " '__rshift__',\n",
       " '__rsub__',\n",
       " '__rtruediv__',\n",
       " '__rxor__',\n",
       " '__setattr__',\n",
       " '__sizeof__',\n",
       " '__str__',\n",
       " '__sub__',\n",
       " '__subclasshook__',\n",
       " '__truediv__',\n",
       " '__trunc__',\n",
       " '__xor__',\n",
       " 'as_integer_ratio',\n",
       " 'bit_count',\n",
       " 'bit_length',\n",
       " 'conjugate',\n",
       " 'denominator',\n",
       " 'from_bytes',\n",
       " 'imag',\n",
       " 'numerator',\n",
       " 'real',\n",
       " 'to_bytes']"
      ]
     },
     "execution_count": 7,
     "metadata": {},
     "output_type": "execute_result"
    }
   ],
   "source": [
    "dir(i)"
   ]
  },
  {
   "cell_type": "code",
   "execution_count": 3,
   "id": "06acb6f8",
   "metadata": {},
   "outputs": [
    {
     "name": "stdout",
     "output_type": "stream",
     "text": [
      "first name is annamalai and last name is subramani.\n"
     ]
    }
   ],
   "source": [
    "class student:\n",
    "    def __init__(self,f_name,l_name):\n",
    "        self.f_name = f_name\n",
    "        self.l_name = l_name\n",
    "    \n",
    "    def __str__(self):\n",
    "        return(f'first name is {self.f_name} and last name is {self.l_name}.')\n",
    "\n",
    "a = student('annamalai', 'subramani')\n",
    "\n",
    "print(a)"
   ]
  },
  {
   "cell_type": "code",
   "execution_count": null,
   "id": "857d25f5",
   "metadata": {},
   "outputs": [],
   "source": []
  }
 ],
 "metadata": {
  "kernelspec": {
   "display_name": "Python 3 (ipykernel)",
   "language": "python",
   "name": "python3"
  },
  "language_info": {
   "codemirror_mode": {
    "name": "ipython",
    "version": 3
   },
   "file_extension": ".py",
   "mimetype": "text/x-python",
   "name": "python",
   "nbconvert_exporter": "python",
   "pygments_lexer": "ipython3",
   "version": "3.10.9"
  }
 },
 "nbformat": 4,
 "nbformat_minor": 5
}
