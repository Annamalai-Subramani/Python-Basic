{
 "cells": [
  {
   "cell_type": "code",
   "execution_count": 1,
   "id": "a88d2208",
   "metadata": {},
   "outputs": [
    {
     "data": {
      "text/plain": [
       "'\"fhdf\\njhdbhf\\nhghg\\nfghfdbd\\nbfhd\\njfgghd\\nhfbed'"
      ]
     },
     "execution_count": 1,
     "metadata": {},
     "output_type": "execute_result"
    }
   ],
   "source": [
    "#print is define as a function is already available in python iteself\n",
    "#this is a comment line it will not executed\n",
    "\"\"\"\"fhdf\n",
    "jhdbhf\n",
    "hghg\n",
    "fghfdbd\n",
    "bfhd\n",
    "jfgghd\n",
    "hfbed\"\"\"\n",
    "#triple code for multiple line commend\n"
   ]
  },
  {
   "cell_type": "code",
   "execution_count": 2,
   "id": "0b0b9843",
   "metadata": {},
   "outputs": [
    {
     "name": "stdout",
     "output_type": "stream",
     "text": [
      "this is my first program\n"
     ]
    }
   ],
   "source": [
    "print(\"this is my first program\")"
   ]
  },
  {
   "cell_type": "code",
   "execution_count": 3,
   "id": "b90444d8",
   "metadata": {},
   "outputs": [
    {
     "ename": "SyntaxError",
     "evalue": "invalid decimal literal (708672702.py, line 3)",
     "output_type": "error",
     "traceback": [
      "\u001b[1;36m  Cell \u001b[1;32mIn[3], line 3\u001b[1;36m\u001b[0m\n\u001b[1;33m    in 2.x is it working but 3.x is not working\u001b[0m\n\u001b[1;37m        ^\u001b[0m\n\u001b[1;31mSyntaxError\u001b[0m\u001b[1;31m:\u001b[0m invalid decimal literal\n"
     ]
    }
   ],
   "source": [
    "print 'this is my first program'\n",
    "\n",
    "in 2.x is it working but 3.x is not working"
   ]
  },
  {
   "cell_type": "code",
   "execution_count": null,
   "id": "8db7b7db",
   "metadata": {},
   "outputs": [],
   "source": [
    "a=10\n",
    "b=('annamalai')\n",
    "c=10.9\n",
    "#a is a variable and 10 is a data, variables is called as stored a data in a ram or any space for execution\n",
    "#it's is a temporary storage (shutdown)"
   ]
  },
  {
   "cell_type": "code",
   "execution_count": null,
   "id": "b4caf98a",
   "metadata": {},
   "outputs": [],
   "source": [
    "v=11"
   ]
  },
  {
   "cell_type": "code",
   "execution_count": null,
   "id": "296261d4",
   "metadata": {},
   "outputs": [],
   "source": [
    "b=(\"annamalai\")"
   ]
  },
  {
   "cell_type": "code",
   "execution_count": null,
   "id": "a4fb2e56",
   "metadata": {},
   "outputs": [],
   "source": [
    "b"
   ]
  },
  {
   "cell_type": "code",
   "execution_count": null,
   "id": "be3ba2d4",
   "metadata": {},
   "outputs": [],
   "source": [
    "type(b)\n",
    "#dynamic variable"
   ]
  },
  {
   "cell_type": "code",
   "execution_count": null,
   "id": "0b1cf30e",
   "metadata": {},
   "outputs": [],
   "source": []
  },
  {
   "cell_type": "code",
   "execution_count": null,
   "id": "7a12c5ee",
   "metadata": {},
   "outputs": [],
   "source": [
    "a='gdgsjk475t4mdjhflsjkfbka'\n",
    "#in single or double codes u can write any variables number it stored as a string\n",
    "e=(\"annamalai\")\n",
    "print(e)"
   ]
  },
  {
   "cell_type": "code",
   "execution_count": null,
   "id": "70f63aae",
   "metadata": {},
   "outputs": [],
   "source": [
    "a"
   ]
  },
  {
   "cell_type": "code",
   "execution_count": null,
   "id": "aa6f1938",
   "metadata": {},
   "outputs": [],
   "source": [
    "print(a,e)"
   ]
  },
  {
   "cell_type": "code",
   "execution_count": null,
   "id": "565fa784",
   "metadata": {},
   "outputs": [],
   "source": [
    "print(a,b)"
   ]
  },
  {
   "cell_type": "code",
   "execution_count": null,
   "id": "d0b2bb4b",
   "metadata": {},
   "outputs": [],
   "source": [
    "x=20\n",
    "y=(\"sri\")"
   ]
  },
  {
   "cell_type": "code",
   "execution_count": null,
   "id": "6f022e93",
   "metadata": {},
   "outputs": [],
   "source": [
    "print(x,y)"
   ]
  },
  {
   "cell_type": "code",
   "execution_count": null,
   "id": "c6a0d650",
   "metadata": {},
   "outputs": [],
   "source": [
    "g=(\"hari sri\")\n",
    "#annamalai\n",
    "v=13"
   ]
  },
  {
   "cell_type": "code",
   "execution_count": null,
   "id": "b6955609",
   "metadata": {},
   "outputs": [],
   "source": [
    "print(g,v)"
   ]
  },
  {
   "cell_type": "code",
   "execution_count": null,
   "id": "0dc4f137",
   "metadata": {},
   "outputs": [],
   "source": [
    "d,e,f= 12,\"dhoni\",\"buttler\"\n",
    "#in single line you can stored more variables\n"
   ]
  },
  {
   "cell_type": "code",
   "execution_count": null,
   "id": "71f0d737",
   "metadata": {},
   "outputs": [],
   "source": [
    "print(d,e,f)\n"
   ]
  },
  {
   "cell_type": "code",
   "execution_count": null,
   "id": "0841f969",
   "metadata": {},
   "outputs": [],
   "source": [
    "d,e,f"
   ]
  },
  {
   "cell_type": "code",
   "execution_count": null,
   "id": "f0e0db23",
   "metadata": {},
   "outputs": [],
   "source": [
    "e"
   ]
  },
  {
   "cell_type": "code",
   "execution_count": null,
   "id": "35317b62",
   "metadata": {},
   "outputs": [],
   "source": [
    "v='\"arnold\"'"
   ]
  },
  {
   "cell_type": "code",
   "execution_count": null,
   "id": "40b1f200",
   "metadata": {},
   "outputs": [],
   "source": [
    "v"
   ]
  },
  {
   "cell_type": "code",
   "execution_count": null,
   "id": "bf17c892",
   "metadata": {},
   "outputs": [],
   "source": [
    "3c=\"bhfjhsj\"\\\n",
    "#vafiable name is not start with integer "
   ]
  },
  {
   "cell_type": "code",
   "execution_count": null,
   "id": "568e3ed1",
   "metadata": {},
   "outputs": [],
   "source": [
    "%=\"bejdfvg\""
   ]
  },
  {
   "cell_type": "code",
   "execution_count": null,
   "id": "922e1cc7",
   "metadata": {},
   "outputs": [],
   "source": [
    "-=\"bcfjdj\""
   ]
  },
  {
   "cell_type": "code",
   "execution_count": null,
   "id": "cdede26d",
   "metadata": {},
   "outputs": [],
   "source": [
    "_=\"bfdjfvb\"\n",
    "#under score is valid "
   ]
  },
  {
   "cell_type": "code",
   "execution_count": null,
   "id": "e1a78ac0",
   "metadata": {},
   "outputs": [],
   "source": [
    "m=9.4"
   ]
  },
  {
   "cell_type": "code",
   "execution_count": null,
   "id": "83d8c92e",
   "metadata": {},
   "outputs": [],
   "source": [
    "m"
   ]
  },
  {
   "cell_type": "code",
   "execution_count": null,
   "id": "1dddb63f",
   "metadata": {},
   "outputs": [],
   "source": [
    "type(m)"
   ]
  },
  {
   "cell_type": "code",
   "execution_count": null,
   "id": "137b7171",
   "metadata": {},
   "outputs": [],
   "source": [
    "g= True\n",
    "#true and false are boolean"
   ]
  },
  {
   "cell_type": "code",
   "execution_count": null,
   "id": "3fd237e7",
   "metadata": {},
   "outputs": [],
   "source": [
    "type(g)"
   ]
  },
  {
   "cell_type": "code",
   "execution_count": null,
   "id": "937c467d",
   "metadata": {},
   "outputs": [],
   "source": [
    "print(True+False+True+True+True)\n",
    "print(False-True+True)"
   ]
  },
  {
   "cell_type": "code",
   "execution_count": null,
   "id": "9f9fd762",
   "metadata": {},
   "outputs": [],
   "source": [
    "print(True+False)"
   ]
  },
  {
   "cell_type": "code",
   "execution_count": null,
   "id": "10c8b0ce",
   "metadata": {},
   "outputs": [],
   "source": [
    "print(False+False)\n",
    "#true=1 False=0"
   ]
  },
  {
   "cell_type": "code",
   "execution_count": null,
   "id": "ec4c835f",
   "metadata": {},
   "outputs": [],
   "source": [
    "print(True/False)\n",
    "#we can use this in numpy"
   ]
  },
  {
   "cell_type": "code",
   "execution_count": null,
   "id": "d7bc7233",
   "metadata": {},
   "outputs": [],
   "source": [
    "Numpy(True/False)"
   ]
  },
  {
   "cell_type": "code",
   "execution_count": null,
   "id": "88910668",
   "metadata": {},
   "outputs": [],
   "source": [
    "n= 56 + 4j"
   ]
  },
  {
   "cell_type": "code",
   "execution_count": null,
   "id": "c0731d82",
   "metadata": {},
   "outputs": [],
   "source": [
    "type(n)\n",
    "complex=real+imaginary"
   ]
  },
  {
   "cell_type": "code",
   "execution_count": null,
   "id": "39b1df83",
   "metadata": {},
   "outputs": [],
   "source": [
    "n.real"
   ]
  },
  {
   "cell_type": "code",
   "execution_count": null,
   "id": "ee0ce1f4",
   "metadata": {},
   "outputs": [],
   "source": [
    "n.imag"
   ]
  },
  {
   "cell_type": "code",
   "execution_count": null,
   "id": "2e7e353f",
   "metadata": {},
   "outputs": [],
   "source": [
    "b+c\n"
   ]
  },
  {
   "cell_type": "code",
   "execution_count": null,
   "id": "efd9500d",
   "metadata": {},
   "outputs": [],
   "source": [
    "b=56+4j\n",
    "c=67+3j"
   ]
  },
  {
   "cell_type": "code",
   "execution_count": null,
   "id": "3ab0d58f",
   "metadata": {},
   "outputs": [],
   "source": [
    "b*c"
   ]
  },
  {
   "cell_type": "code",
   "execution_count": null,
   "id": "42619983",
   "metadata": {},
   "outputs": [],
   "source": [
    "1+\"dhoni\"\n",
    "#same variables only supported "
   ]
  },
  {
   "cell_type": "code",
   "execution_count": null,
   "id": "ff7c469e",
   "metadata": {},
   "outputs": [],
   "source": [
    "\"Annamalai\"+\"dhoni\""
   ]
  },
  {
   "cell_type": "code",
   "execution_count": null,
   "id": "d8bc4bbe",
   "metadata": {},
   "outputs": [],
   "source": [
    "str(8)+('Annamalai')\n",
    "\"8\"+'jaddu'\n",
    "#concatination operation (string+string)"
   ]
  },
  {
   "cell_type": "code",
   "execution_count": null,
   "id": "d66c5d4d",
   "metadata": {},
   "outputs": [],
   "source": [
    "int('Annamalai')\n",
    "# int we cannot store string"
   ]
  },
  {
   "cell_type": "code",
   "execution_count": null,
   "id": "de78e8ac",
   "metadata": {},
   "outputs": [],
   "source": [
    "(\"dhoni\") +  (\"Annamalai\")\n",
    "\"Annamalai\"*6"
   ]
  },
  {
   "cell_type": "code",
   "execution_count": null,
   "id": "50be5f5f",
   "metadata": {},
   "outputs": [],
   "source": [
    "int(54)+54"
   ]
  },
  {
   "cell_type": "code",
   "execution_count": null,
   "id": "28f9d341",
   "metadata": {},
   "outputs": [],
   "source": [
    "76.9+76\n",
    "#(upcasting) (int+float)"
   ]
  },
  {
   "cell_type": "code",
   "execution_count": null,
   "id": "a5dfb7c6",
   "metadata": {},
   "outputs": [],
   "source": [
    "\"Annamalai\" * 4"
   ]
  },
  {
   "cell_type": "code",
   "execution_count": null,
   "id": "d3334669",
   "metadata": {},
   "outputs": [],
   "source": [
    "a=input()"
   ]
  },
  {
   "cell_type": "code",
   "execution_count": null,
   "id": "6da11ff9",
   "metadata": {},
   "outputs": [],
   "source": [
    "a"
   ]
  },
  {
   "cell_type": "code",
   "execution_count": null,
   "id": "2de45ea8",
   "metadata": {},
   "outputs": [],
   "source": [
    "type(a)"
   ]
  },
  {
   "cell_type": "code",
   "execution_count": null,
   "id": "4923e5dc",
   "metadata": {},
   "outputs": [],
   "source": [
    "a=int(input())\n",
    "b=int(input())\n",
    "c=int(input())"
   ]
  },
  {
   "cell_type": "code",
   "execution_count": null,
   "id": "fb23451a",
   "metadata": {},
   "outputs": [],
   "source": [
    "n=a+b/c\n",
    "n\n",
    "type(n)"
   ]
  },
  {
   "cell_type": "code",
   "execution_count": null,
   "id": "fe7627b4",
   "metadata": {},
   "outputs": [],
   "source": [
    "type(v)"
   ]
  },
  {
   "cell_type": "code",
   "execution_count": null,
   "id": "a158c713",
   "metadata": {},
   "outputs": [],
   "source": [
    "a=int(input())\n",
    "b=int(input())\n",
    "c=int(input())"
   ]
  },
  {
   "cell_type": "code",
   "execution_count": null,
   "id": "a0e20924",
   "metadata": {},
   "outputs": [],
   "source": [
    "a"
   ]
  },
  {
   "cell_type": "code",
   "execution_count": null,
   "id": "7e7c9eae",
   "metadata": {},
   "outputs": [],
   "source": [
    "d=a+c/b\n",
    "d"
   ]
  },
  {
   "cell_type": "code",
   "execution_count": null,
   "id": "16af3c92",
   "metadata": {},
   "outputs": [],
   "source": [
    "e=d+76+6j\n",
    "e"
   ]
  },
  {
   "cell_type": "code",
   "execution_count": 4,
   "id": "88426426",
   "metadata": {},
   "outputs": [
    {
     "ename": "NameError",
     "evalue": "name 'e' is not defined",
     "output_type": "error",
     "traceback": [
      "\u001b[1;31m---------------------------------------------------------------------------\u001b[0m",
      "\u001b[1;31mNameError\u001b[0m                                 Traceback (most recent call last)",
      "Cell \u001b[1;32mIn[4], line 1\u001b[0m\n\u001b[1;32m----> 1\u001b[0m \u001b[38;5;28mtype\u001b[39m(\u001b[43me\u001b[49m)\n",
      "\u001b[1;31mNameError\u001b[0m: name 'e' is not defined"
     ]
    }
   ],
   "source": [
    "type(e)"
   ]
  },
  {
   "cell_type": "code",
   "execution_count": null,
   "id": "650c00cd",
   "metadata": {},
   "outputs": [],
   "source": [
    "e"
   ]
  },
  {
   "cell_type": "code",
   "execution_count": null,
   "id": "da0b250a",
   "metadata": {},
   "outputs": [],
   "source": [
    "str(e)+\"dhoni\""
   ]
  },
  {
   "cell_type": "code",
   "execution_count": null,
   "id": "a6f1d822",
   "metadata": {},
   "outputs": [],
   "source": [
    "a=int(input(\"enter the value  \"))\n",
    "if a<23 :\n",
    "    pass\n",
    "# in pass we cannot give any kind of the error ot it not expecting the statemnt from our side"
   ]
  },
  {
   "cell_type": "code",
   "execution_count": null,
   "id": "76eca8d1",
   "metadata": {},
   "outputs": [],
   "source": [
    "a=int(input(\"enter the value  \"))\n",
    "if a<23 :\n",
    "    print('the input value is true')"
   ]
  },
  {
   "cell_type": "code",
   "execution_count": null,
   "id": "62efa383",
   "metadata": {},
   "outputs": [],
   "source": [
    "a=int(input(\"enter the value  \"))\n",
    "if a<23 : # (: it not consider the body of the statement other program lang {}denotes body in python\n",
    "    # we don't need body or curleybasis after every statement we must give :column  )\n",
    "    # group of statements or group of line or body are written in the same line,  is called identation\n",
    "print('the input value is true') # we get identation error because of print is consider a seperate statement"
   ]
  },
  {
   "cell_type": "code",
   "execution_count": null,
   "id": "2507d564",
   "metadata": {},
   "outputs": [],
   "source": [
    "a=int(input(\"enter the value  \"))\n",
    "if a<23 :\n",
    "    pass\n",
    "print('the input value is true') #we get output because of print is consider as seperate statemnt, pass consider any kind of expecting\n"
   ]
  },
  {
   "cell_type": "code",
   "execution_count": null,
   "id": "3042200e",
   "metadata": {},
   "outputs": [],
   "source": [
    "a=int(input(\"enter the value  \"))\n",
    "if a<23 :\n",
    "    print('the input value is true')\n",
    "else:\n",
    "    print('the input valie is false')"
   ]
  },
  {
   "cell_type": "code",
   "execution_count": null,
   "id": "75ca1b5b",
   "metadata": {},
   "outputs": [],
   "source": [
    "a=int(input(\"enter the value  \"))\n",
    "if a<23 :\n",
    "    print('the input value is true')\n",
    "elif a<99:\n",
    "    print('the value is lesser than 99')\n",
    "else:\n",
    "    print('the input valie is false')"
   ]
  },
  {
   "cell_type": "code",
   "execution_count": null,
   "id": "262bacc4",
   "metadata": {},
   "outputs": [],
   "source": [
    "salary=int(input(\"enter the value  \"))\n",
    "if salary>1000 :\n",
    "    print('i will buy a car')\n",
    "elif salary>500:\n",
    "    print('i will buy a bike')\n",
    "elif salary>100:\n",
    "    print('i will buy a cycle')\n",
    "else :\n",
    "    print('i will saving')"
   ]
  },
  {
   "cell_type": "code",
   "execution_count": null,
   "id": "6522517f",
   "metadata": {},
   "outputs": [],
   "source": [
    "# nested loops in if condition created line hy line(in 1 loop inserted another loops)"
   ]
  },
  {
   "cell_type": "code",
   "execution_count": null,
   "id": "c9087c54",
   "metadata": {},
   "outputs": [],
   "source": [
    "salary=int(input(\"enter the value  \"))\n",
    "if salary>1000 :\n",
    "    print('i will buy a car')\n",
    "    if salary>5000:\n",
    "        print(\"i will buy a nano\")\n",
    "        if True:\n",
    "            print('false code')\n",
    "            if salary>5000:\n",
    "                print(\"i will buy anything\")\n",
    "    elif salary>10000:\n",
    "            print(\"i will buy maruthi\")\n",
    "    else:\n",
    "        print(\"i will rent a car\")\n",
    "elif salary>500:\n",
    "    print('i will buy a bike')\n",
    "elif salary>100:\n",
    "    print('i will buy a cycle')\n",
    "else :\n",
    "    print('i will saving')\n"
   ]
  },
  {
   "cell_type": "code",
   "execution_count": null,
   "id": "c4c1052e",
   "metadata": {},
   "outputs": [],
   "source": [
    "target=int(input('my score is'))\n",
    "pass\n",
    "if target>120:\n",
    "    print(\"csk will be win\")\n",
    "    if target>130: \n",
    "        print('csk will be win')\n",
    "        if True:\n",
    "            print('csk will be win')\n",
    "            if target<130:\n",
    "                print('match will be close')\n",
    "                print('annamalai will be happy')\n",
    "    elif target>160:\n",
    "        print(\"csk will be close the target\")\n",
    "elif target>200:\n",
    "    print(\"csk will be lose\")\n",
    "else:\n",
    "    print(\"csk try to get he target\")"
   ]
  },
  {
   "cell_type": "code",
   "execution_count": null,
   "id": "24f33125",
   "metadata": {},
   "outputs": [],
   "source": [
    "a=input(\"enter the integer=\")\n",
    "b=int (a)\n",
    "type(b)\n"
   ]
  },
  {
   "cell_type": "code",
   "execution_count": null,
   "id": "0c96ebd3",
   "metadata": {},
   "outputs": [],
   "source": [
    "salary=int(input(\"enter the value  \"))\n",
    "if salary>10000 :\n",
    "    print('i will buy a car')\n",
    "elif salary>7500:\n",
    "    print('i will buy a bike')\n",
    "elif salary>100:\n",
    "    print('i will buy a cycle')\n",
    "else :\n",
    "    print('i will saving')"
   ]
  },
  {
   "cell_type": "code",
   "execution_count": null,
   "id": "c4568ed1",
   "metadata": {},
   "outputs": [],
   "source": [
    "2+3\n",
    "print(\"asd\")"
   ]
  },
  {
   "cell_type": "code",
   "execution_count": null,
   "id": "84c9333f",
   "metadata": {},
   "outputs": [],
   "source": [
    "a=33\n",
    "b=78\n",
    "print(id(a))\n",
    "print(id(b))"
   ]
  },
  {
   "cell_type": "code",
   "execution_count": null,
   "id": "c04c562a",
   "metadata": {},
   "outputs": [],
   "source": [
    "a=10\n",
    "b=20\n",
    "\n",
    "if a==10 and b==20:\n",
    "    print(\"true\")"
   ]
  },
  {
   "cell_type": "code",
   "execution_count": null,
   "id": "56929d85",
   "metadata": {},
   "outputs": [],
   "source": [
    "# == checking, and operator is both statement is true then it will be executed"
   ]
  },
  {
   "cell_type": "code",
   "execution_count": null,
   "id": "7c5d0417",
   "metadata": {},
   "outputs": [],
   "source": [
    "a==10 and b==20"
   ]
  },
  {
   "cell_type": "code",
   "execution_count": null,
   "id": "52ed1981",
   "metadata": {},
   "outputs": [],
   "source": [
    "a==1 and b==20"
   ]
  },
  {
   "cell_type": "code",
   "execution_count": null,
   "id": "2dbcc619",
   "metadata": {},
   "outputs": [],
   "source": [
    "a=10\n",
    "b=20\n",
    "\n",
    "if a==10 and b>20:\n",
    "    print(\"true\")\n",
    "else:\n",
    "    print(\"false\")"
   ]
  },
  {
   "cell_type": "code",
   "execution_count": null,
   "id": "2a5594fb",
   "metadata": {},
   "outputs": [],
   "source": [
    "a=10\n",
    "b=20\n",
    "\n",
    "if a==10 and b>20:\n",
    "    print(\"true\")\n",
    "elif a==10 and b<=20:\n",
    "    print(\"true\")\n",
    "else:\n",
    "    print(\"false\")\n",
    "    "
   ]
  },
  {
   "cell_type": "code",
   "execution_count": null,
   "id": "093779af",
   "metadata": {},
   "outputs": [],
   "source": [
    "#or statement\n",
    "a=10\n",
    "b=20\n",
    "\n",
    "if a==10 or b>20:\n",
    "    print(\"the ststemnt is true\")\n",
    "elif a==10 and b<=20:\n",
    "    print(\"true\")\n",
    "else:\n",
    "    print(\"false\")"
   ]
  },
  {
   "cell_type": "code",
   "execution_count": null,
   "id": "a681859f",
   "metadata": {},
   "outputs": [],
   "source": [
    "i= input(\"enter the first name: \")\n",
    "j= input(\"enter the last name: \")\n",
    "\n",
    "if i=='annamalai' or j== 'subramani' :\n",
    "    print(\"this is first name\")\n",
    "    if i=='annamalai' or j==\"gopi\":\n",
    "        print('this is dhoni')\n",
    "else:\n",
    "    print(\"sachin\")\n"
   ]
  },
  {
   "cell_type": "code",
   "execution_count": null,
   "id": "c18643ce",
   "metadata": {},
   "outputs": [],
   "source": [
    "#while loop\n",
    "initial_speed = 0\n",
    "final_speed = 100\n",
    "count = 1\n",
    "while initial_speed < final_speed:\n",
    "    print(\"this is my speed\")\n",
    "    count= count+1\n",
    "    if count==10:\n",
    "        break\n"
   ]
  },
  {
   "cell_type": "code",
   "execution_count": null,
   "id": "97dcd687",
   "metadata": {},
   "outputs": [],
   "source": [
    "initial_speed= 1\n",
    "final_speed = 10\n",
    "while initial_speed<=final_speed:\n",
    "    print(\"speed\")\n",
    "    initial_speed=initial_speed+1\n"
   ]
  },
  {
   "cell_type": "markdown",
   "id": "0721b864",
   "metadata": {},
   "source": [
    "##### \n",
    "\n"
   ]
  },
  {
   "cell_type": "code",
   "execution_count": null,
   "id": "60623ffc",
   "metadata": {},
   "outputs": [],
   "source": [
    "i=1\n",
    "j=5\n",
    "while i<5:\n",
    "    print(i)\n",
    "    i=i+1"
   ]
  },
  {
   "cell_type": "code",
   "execution_count": null,
   "id": "e2375e84",
   "metadata": {},
   "outputs": [],
   "source": [
    "a=10\n",
    "b=34"
   ]
  },
  {
   "cell_type": "code",
   "execution_count": null,
   "id": "ccdce6b6",
   "metadata": {},
   "outputs": [],
   "source": [
    "print(a,b)"
   ]
  },
  {
   "cell_type": "code",
   "execution_count": null,
   "id": "49d8a58b",
   "metadata": {},
   "outputs": [],
   "source": [
    "a=1\n",
    "b=20\n",
    "\n",
    "while a<=b:\n",
    "    print(a)\n",
    "    a=a+1\n",
    "    "
   ]
  },
  {
   "cell_type": "code",
   "execution_count": null,
   "id": "e92201af",
   "metadata": {},
   "outputs": [],
   "source": [
    "row = 5\n",
    "space = 1\n",
    "\n",
    "while row >= 1:\n",
    "    print(' ' * space + '|' * (2 * row - 1))\n",
    "    row -= 1\n",
    "    space += 1"
   ]
  },
  {
   "cell_type": "code",
   "execution_count": null,
   "id": "cf531fd0",
   "metadata": {},
   "outputs": [],
   "source": [
    "notes = 5 # there is an any programming lang don't have while else\n",
    "i = 1\n",
    "j = 1\n",
    "\n",
    "while notes > i:\n",
    "    print(i)\n",
    "    i += 1\n",
    "    \n",
    "else:\n",
    "    while j < 3:\n",
    "        print(j)\n",
    "        j += 1\n",
    "    print('there is an no notes')"
   ]
  },
  {
   "cell_type": "code",
   "execution_count": null,
   "id": "b2c7f93a",
   "metadata": {},
   "outputs": [],
   "source": [
    "s = 'annamalai'\n",
    "\n",
    "try:\n",
    "    x = s[20]\n",
    "    print(x)\n",
    "    \n",
    "except IndexError:\n",
    "    print('no error')"
   ]
  },
  {
   "cell_type": "code",
   "execution_count": null,
   "id": "19edba20",
   "metadata": {},
   "outputs": [],
   "source": [
    "s = 'annamalai'\n",
    "\n",
    "for i in s:\n",
    "    print(i)\n",
    "    if i == 'l':\n",
    "        print('there is a love')\n",
    "    else:\n",
    "        if i == 'i':\n",
    "            print('string is over')\n",
    "        \n",
    "    "
   ]
  },
  {
   "cell_type": "code",
   "execution_count": null,
   "id": "7440e55b",
   "metadata": {},
   "outputs": [],
   "source": [
    "for i in s:\n",
    "    print(i)\n",
    "    \n",
    "else:\n",
    "    if i == 'i':\n",
    "        print('last char is i')\n",
    "    print('this is else condition')    "
   ]
  },
  {
   "cell_type": "code",
   "execution_count": null,
   "id": "6d39142a",
   "metadata": {},
   "outputs": [],
   "source": [
    "for i in s:\n",
    "    if i == 'm':\n",
    "        break\n",
    "    print(i)\n",
    "    \n",
    "else:                # for-else, when the for loop completed itself then only it goes else statement, here break not completed\n",
    "    if i == 'i':\n",
    "        print('last char is i')\n",
    "    print('this is else condition')        "
   ]
  },
  {
   "cell_type": "code",
   "execution_count": null,
   "id": "a2436b5b",
   "metadata": {},
   "outputs": [],
   "source": [
    "for i in s:\n",
    "    if i == 'm':\n",
    "        continue\n",
    "    print(i)\n",
    "    \n",
    "else:                # after continue it straight away goes to for loop, not go to print statement\n",
    "    if i == 'i':\n",
    "        print('last char is i')\n",
    "    print('this is else condition')  "
   ]
  },
  {
   "cell_type": "code",
   "execution_count": null,
   "id": "1c98ae93",
   "metadata": {},
   "outputs": [],
   "source": [
    "s = 'ineuron'\n",
    "ss = ''\n",
    "\n",
    "for i in range(len(s)):\n",
    "    if s[i] == 'n':\n",
    "        continue\n",
    "    print(s[i])\n",
    "\n",
    "s = ss + s[i]\n",
    "print(ss)"
   ]
  },
  {
   "cell_type": "code",
   "execution_count": null,
   "id": "76f988df",
   "metadata": {},
   "outputs": [],
   "source": [
    "# nested loop\n",
    "\n",
    "n = 7\n",
    "\n",
    "for i in range(0, n):\n",
    "    for j in range(0, i+1):\n",
    "        print('+ ', end = '')\n",
    "    print()"
   ]
  },
  {
   "cell_type": "code",
   "execution_count": null,
   "id": "ac95bf66",
   "metadata": {},
   "outputs": [],
   "source": [
    "\n",
    "r = 4\n",
    "\n",
    "for i in range(0, r):\n",
    "    n = 16\n",
    "    for j in range(0, i+1):\n",
    "        print(n , end =\" \" )\n",
    "        n //= 2\n",
    "    print()"
   ]
  },
  {
   "cell_type": "code",
   "execution_count": null,
   "id": "be924684",
   "metadata": {},
   "outputs": [],
   "source": [
    "print('string' + '' +  \"flow\", end = ' ')\n",
    "print('goal')\n"
   ]
  },
  {
   "cell_type": "code",
   "execution_count": null,
   "id": "9c384c16",
   "metadata": {},
   "outputs": [],
   "source": [
    "n = 7\n",
    "o = 7\n",
    "\n",
    "for i in range(0, n):\n",
    "    for j in range(0, o):\n",
    "        print('*', end = ' ')\n",
    "    print() \n",
    "    \n",
    "    o -= 1\n",
    "    "
   ]
  },
  {
   "cell_type": "code",
   "execution_count": null,
   "id": "bf7c2a14",
   "metadata": {},
   "outputs": [],
   "source": [
    "n = 7\n",
    "for i in range(n, 0, -1):\n",
    "    for j in range(n-i):\n",
    "        print(' ', end = '')\n",
    "        \n",
    "    for j in range(2*i-1):\n",
    "        print('*', end = '')\n",
    "    print()    "
   ]
  },
  {
   "cell_type": "code",
   "execution_count": null,
   "id": "54aa9485",
   "metadata": {},
   "outputs": [],
   "source": [
    "n = 7\n",
    "m = 2 * n -4\n",
    "for i in range(n, 0, -1):\n",
    "    for j in range(m, 0, -1):\n",
    "        print(' ', end = '')\n",
    "    \n",
    "    for j in range(0, i+1):\n",
    "        print('*', end = ' ')\n",
    "    print()  \n",
    "    m += 1"
   ]
  },
  {
   "cell_type": "code",
   "execution_count": null,
   "id": "ae4daded",
   "metadata": {},
   "outputs": [],
   "source": [
    "n =9\n",
    "i=0\n",
    "while i < n :\n",
    "    print(' '*(n-i-1) + '* '*(i+1))\n",
    "    i +=1"
   ]
  },
  {
   "cell_type": "code",
   "execution_count": null,
   "id": "c8c12f32",
   "metadata": {},
   "outputs": [],
   "source": [
    "l = [\"sudh\" , 34535,\"sfsfsafa\", True, 45+8j , [3,5,6,\"dfg\"],6.787]\n",
    "\n",
    "len(l)"
   ]
  },
  {
   "cell_type": "code",
   "execution_count": null,
   "id": "e6c69b2b",
   "metadata": {},
   "outputs": [],
   "source": [
    "for i in l:\n",
    "    print(type(i))"
   ]
  },
  {
   "cell_type": "code",
   "execution_count": null,
   "id": "becd111d",
   "metadata": {},
   "outputs": [],
   "source": [
    "for i in l:\n",
    "    if type(i) == list:\n",
    "        n = 0\n",
    "        for j in i:\n",
    "            if type(j) == int:\n",
    "                n = n + j\n",
    "        print(n)\n",
    "        print(type(j))"
   ]
  },
  {
   "cell_type": "code",
   "execution_count": null,
   "id": "0c8872f2",
   "metadata": {},
   "outputs": [],
   "source": [
    "class Todolist:\n",
    "    def __init__(self, owner):\n",
    "        self.owner = owner\n",
    "        self.tasks = []\n",
    "        \n",
    "    def add_tasks(self,task):\n",
    "        self.tasks.append(task)\n",
    "        print(f'the task is {task}.' )\n",
    "        \n",
    "    def complete_tasks(self, task):\n",
    "        if task in self.tasks:\n",
    "            self.tasks.remove(task)\n",
    "            print(f'the completed task is {task}.')\n",
    "        else:\n",
    "            print('there is an no task')\n",
    "            \n",
    "    def display_tasks(self):\n",
    "        print(f'the todo task of {self.owner}:')\n",
    "        for task in self.tasks:\n",
    "            print(task)"
   ]
  },
  {
   "cell_type": "code",
   "execution_count": null,
   "id": "006a8103",
   "metadata": {},
   "outputs": [],
   "source": [
    "x = Todolist('annamalai')"
   ]
  },
  {
   "cell_type": "code",
   "execution_count": null,
   "id": "e92b7b48",
   "metadata": {},
   "outputs": [],
   "source": [
    "x.tasks"
   ]
  },
  {
   "cell_type": "code",
   "execution_count": null,
   "id": "2e480f86",
   "metadata": {},
   "outputs": [],
   "source": [
    "x.add_tasks(' i have a metting at 2 p.m')"
   ]
  },
  {
   "cell_type": "code",
   "execution_count": null,
   "id": "f1620f2d",
   "metadata": {},
   "outputs": [],
   "source": [
    "x.display_tasks()"
   ]
  },
  {
   "cell_type": "code",
   "execution_count": null,
   "id": "7135c46e",
   "metadata": {},
   "outputs": [],
   "source": [
    "x.add_tasks(' i have a match at 4 p.m')"
   ]
  },
  {
   "cell_type": "code",
   "execution_count": null,
   "id": "47a3c048",
   "metadata": {},
   "outputs": [],
   "source": [
    "x.display_tasks()"
   ]
  },
  {
   "cell_type": "code",
   "execution_count": null,
   "id": "d4aa137b",
   "metadata": {},
   "outputs": [],
   "source": [
    "x.complete_tasks(' i have a metting at 2 p.m')"
   ]
  },
  {
   "cell_type": "code",
   "execution_count": null,
   "id": "1212c6a2",
   "metadata": {},
   "outputs": [],
   "source": [
    "x.display_tasks()"
   ]
  },
  {
   "cell_type": "code",
   "execution_count": null,
   "id": "59af44ec",
   "metadata": {},
   "outputs": [],
   "source": [
    "class mobilephone:\n",
    "    def __init__(self,mobile_number,model,brand,price):\n",
    "        self.mobile_number = mobile_number\n",
    "        self.model = model\n",
    "        self.brand = brand\n",
    "        self.price = price\n",
    "        \n",
    "    def calling(self,number):\n",
    "        print(f'call from this {number} and model is {self.model}.')\n",
    "        \n",
    "    def message(self,number):\n",
    "        print(f'message from this {number} and brand is {self.brand}.')"
   ]
  },
  {
   "cell_type": "code",
   "execution_count": null,
   "id": "8d5a5469",
   "metadata": {},
   "outputs": [],
   "source": [
    "sam = mobilephone(9080247383,\"vivo\",\"v20\",15000)"
   ]
  },
  {
   "cell_type": "code",
   "execution_count": null,
   "id": "11b4a7d3",
   "metadata": {},
   "outputs": [],
   "source": [
    "sam.model"
   ]
  },
  {
   "cell_type": "code",
   "execution_count": null,
   "id": "2256f73b",
   "metadata": {},
   "outputs": [],
   "source": [
    "sam.calling(9092449658)"
   ]
  },
  {
   "cell_type": "code",
   "execution_count": null,
   "id": "fb58fab6",
   "metadata": {},
   "outputs": [],
   "source": [
    "sam.message(67854376)"
   ]
  },
  {
   "cell_type": "code",
   "execution_count": null,
   "id": "426e1fee",
   "metadata": {},
   "outputs": [],
   "source": [
    "sam.price"
   ]
  },
  {
   "cell_type": "code",
   "execution_count": null,
   "id": "faedb78c",
   "metadata": {},
   "outputs": [],
   "source": [
    "\n",
    "class student:\n",
    "    def __init__(self, name, roll):\n",
    "        self.name = name\n",
    "        self.roll = roll\n",
    "        \n",
    "    def display_info(self):\n",
    "        print(f'my name is {self.name} and my roll number is {self.roll}.')\n",
    "        \n",
    "class book(student):\n",
    "    def __init__(self,name,roll,grade):\n",
    "        super().__init__(name,roll)\n",
    "        self.grade = grade\n",
    "        \n",
    "    def display_info(self):\n",
    "        super().display_info()\n",
    "        print(f'my grade is {self.grade}')"
   ]
  },
  {
   "cell_type": "code",
   "execution_count": null,
   "id": "362393f6",
   "metadata": {},
   "outputs": [],
   "source": [
    "x = book('annamalai', 4020, 'B')"
   ]
  },
  {
   "cell_type": "code",
   "execution_count": null,
   "id": "2cc4b69b",
   "metadata": {},
   "outputs": [],
   "source": [
    "x.display_info()"
   ]
  },
  {
   "cell_type": "code",
   "execution_count": null,
   "id": "c6ba66ff",
   "metadata": {},
   "outputs": [],
   "source": [
    "import logging\n",
    "try:\n",
    "    a = 10\n",
    "    b = 0\n",
    "    \n",
    "    c = a/b\n",
    "    print(c)\n",
    "    \n",
    "except Exception as e:\n",
    "    logging.exception(e)\n",
    "    \n",
    "    "
   ]
  },
  {
   "cell_type": "code",
   "execution_count": null,
   "id": "5664ae4c",
   "metadata": {},
   "outputs": [],
   "source": [
    "values =  [12, 10, 5, 0, 9, 67, 79, 'hello']\n",
    "for value in values:\n",
    "    try:\n",
    "        print(10/int(value))\n",
    "        \n",
    "    except ZeroDivisionError:\n",
    "        print('zero division error')\n",
    "        \n",
    "    except ValueError:\n",
    "        print(\"value error\")\n",
    "        \n",
    "    except Exception as e:\n",
    "        logging.exception(e)"
   ]
  },
  {
   "cell_type": "code",
   "execution_count": null,
   "id": "bba6d0be",
   "metadata": {},
   "outputs": [],
   "source": [
    "try:\n",
    "    a = 10\n",
    "    b = 0\n",
    "    \n",
    "    c = a/b\n",
    "    print(c)\n",
    "    \n",
    "    \n",
    "except:\n",
    "    print('hello')\n",
    "    raise\n",
    "    \n",
    "else:\n",
    "    print('no exception')\n",
    "    \n",
    "finally:\n",
    "    print('over')"
   ]
  },
  {
   "cell_type": "code",
   "execution_count": null,
   "id": "0466f2d8",
   "metadata": {},
   "outputs": [],
   "source": [
    "import logging\n",
    "\n",
    "\n",
    "logging.basicConfig(filename = 'annamalais.txt', \n",
    "                    filemode = 'w', \n",
    "                    format = '%(asctime)s: %(levelname)s-%(message)s', \n",
    "                    datefmt = '%Y-%m-%d %H:%M:%S')\n",
    "\n",
    "for i in range(0, 15):\n",
    "    if (i % 2 == 0):\n",
    "        logging.warning('log warning message')\n",
    "    elif (i % 3 == 0):\n",
    "        logging.critical('log critical message')\n",
    "    else:\n",
    "        logging.error('log error message')"
   ]
  },
  {
   "cell_type": "code",
   "execution_count": null,
   "id": "4be8458f",
   "metadata": {},
   "outputs": [],
   "source": [
    "import logging\n",
    "\n",
    "\n",
    "logging.basicConfig(filename = 'annamalais.txt', \n",
    "                    filemode = 'w', \n",
    "                    format = '%(asctime)s %(levelname)s-%(message)s', \n",
    "                    datefmt = '%Y-%m-%d %H:%M:%S')\n",
    "try:\n",
    "    i = i/0\n",
    "    \n",
    "except:\n",
    "    logging.error('division by 0 error')"
   ]
  },
  {
   "cell_type": "code",
   "execution_count": null,
   "id": "c4a51c6e",
   "metadata": {},
   "outputs": [],
   "source": [
    "import logging\n",
    "\n",
    "\n",
    "logging.basicConfig(filename = 'c:\\\\users\\\\annamalai.log', \n",
    "                    filemode = 'w', )\n",
    "\n",
    "log = logging.getLogger()\n",
    "\n",
    "log.setLevel(logging.INFO)\n",
    "log.debug('this is dubug message')\n",
    "log.info('this is info log')\n",
    "log.error('this is error log')\n",
    "log.warning('this is warning log')\n",
    "log.critical('this is critical log')"
   ]
  },
  {
   "cell_type": "code",
   "execution_count": null,
   "id": "bf1f6eef",
   "metadata": {},
   "outputs": [],
   "source": [
    "# in logging we can easily find the solutiion of the codes\n",
    "\n",
    "import logging\n",
    "\n",
    "logging.basicConfig(level = logging.INFO)\n",
    "\n",
    "logging.debug('Hello')\n",
    "logging.info('Hello')\n",
    "logging.warning('Hello')\n",
    "logging.error('Hello')\n",
    "logging.critical('Hello')"
   ]
  },
  {
   "cell_type": "code",
   "execution_count": null,
   "id": "036a3d3b",
   "metadata": {},
   "outputs": [],
   "source": [
    "import logging\n",
    "\n",
    "logging.basicConfig(level = logging.INFO)\n",
    "\n",
    "logger = logging.getLogger(\"Logger\") # name or root\n",
    "\n",
    "logger.info('this is some information')"
   ]
  },
  {
   "cell_type": "code",
   "execution_count": null,
   "id": "972d149e",
   "metadata": {},
   "outputs": [],
   "source": [
    "# remove the handler\n",
    "\n",
    "logging.debug('Hello')\n",
    "logging.info('Hello')\n",
    "logging.warning('Hello')\n",
    "logging.error('Hello')\n",
    "logging.critical('Hello')\n",
    "\n",
    "for handler in logging.root.handlers:\n",
    "    logging.root.removeHandler(handler)"
   ]
  },
  {
   "cell_type": "code",
   "execution_count": null,
   "id": "5d99036a",
   "metadata": {},
   "outputs": [],
   "source": [
    "import datetime as dt\n",
    "\n",
    "today = dt.datetime.today()\n",
    "\n",
    "filename = f'{today.month:02d}-{today.day:02d}-{today.year}.log'\n",
    "\n",
    "\n",
    "\n",
    "\n",
    "\n",
    "file_handler = logging.FileHandler(filename)\n",
    "file_handler.setLevel(logging.WARNING)\n",
    "\n",
    "formatter = logging.Formatter('%(asctime)s: %(levelname)s-%(message)s')\n",
    "file_handler.setFormatter(formatter)\n",
    "\n",
    "logger.addHandler(file_handler)\n",
    "\n",
    "logging.debug('hey i am debug')\n",
    "logging.info('hey i am info')\n",
    "logging.warning('hey i am warning')\n",
    "logging.error('hey i am error')"
   ]
  },
  {
   "cell_type": "code",
   "execution_count": null,
   "id": "35c983d3",
   "metadata": {},
   "outputs": [],
   "source": [
    "class vehicle:\n",
    "    def __init__(self,name):\n",
    "        self.__name = name\n",
    "        \n",
    "    def display(self):\n",
    "        print(f'{self.__name} is a four wheeler vehicle.')\n",
    "        \n",
    "    "
   ]
  },
  {
   "cell_type": "code",
   "execution_count": null,
   "id": "c762df29",
   "metadata": {},
   "outputs": [],
   "source": [
    "dir(vehicle)"
   ]
  },
  {
   "cell_type": "code",
   "execution_count": null,
   "id": "d812b340",
   "metadata": {},
   "outputs": [],
   "source": [
    "class car(vehicle):\n",
    "    def __init__(self,name,mileage,model):\n",
    "        super().__init__(name)\n",
    "        self.__mileage = mileage\n",
    "        self.__model = model\n",
    "        \n",
    "    def display(self):\n",
    "        super().display()\n",
    "        print(f'and its mileage{self.__mileage} and the model {self.__model}.')"
   ]
  },
  {
   "cell_type": "code",
   "execution_count": null,
   "id": "3211e71c",
   "metadata": {},
   "outputs": [],
   "source": [
    "x = car('nano', 20, 2018)"
   ]
  },
  {
   "cell_type": "code",
   "execution_count": null,
   "id": "4b39fc0f",
   "metadata": {},
   "outputs": [],
   "source": [
    "x.display()"
   ]
  },
  {
   "cell_type": "code",
   "execution_count": null,
   "id": "6179afab",
   "metadata": {},
   "outputs": [],
   "source": [
    "# parent class\n",
    "class Student:\n",
    "  # protected attributes\n",
    "    def __init__(self,name,roll):\n",
    "        self._name=name\n",
    "        self._roll=roll\n",
    "    def _display(self):\n",
    "        print(f\" Name is {self._name} and roll number is {self._roll}\")"
   ]
  },
  {
   "cell_type": "code",
   "execution_count": null,
   "id": "306e1300",
   "metadata": {},
   "outputs": [],
   "source": [
    "class Genius(Student):\n",
    "    def __init__(self,name,roll):\n",
    "        super().__init__(name,roll)\n",
    "\n",
    "    def displaydetails(self):\n",
    "        print(f\"Name is :{self._name}\")\n",
    "        self._display()\n",
    "\n"
   ]
  },
  {
   "cell_type": "code",
   "execution_count": null,
   "id": "f4c42a2b",
   "metadata": {},
   "outputs": [],
   "source": [
    "g = Genius('annamalai', 4020)\n",
    "g.displaydetails()"
   ]
  },
  {
   "cell_type": "code",
   "execution_count": null,
   "id": "d90e13d4",
   "metadata": {},
   "outputs": [],
   "source": [
    "#__str__ method, its for end user\n",
    "\n",
    "from datetime import date\n",
    "\n",
    "d = date(year = 2023, month = 7, day = 7)\n",
    "print(type(d))\n",
    "print(d)\n",
    "# this is inbuild library they create the own class but to create our own class print function always call __str_(background)"
   ]
  },
  {
   "cell_type": "code",
   "execution_count": null,
   "id": "df5caddd",
   "metadata": {},
   "outputs": [],
   "source": [
    "class student:\n",
    "    def __init__(self,name):\n",
    "        self.name = name\n",
    "        self.age = 18\n",
    "        \n",
    "stu = student('john')\n",
    "print(stu)# it create a space we didn't create __str__ thats why it shows the space"
   ]
  },
  {
   "cell_type": "code",
   "execution_count": null,
   "id": "78141e10",
   "metadata": {},
   "outputs": [],
   "source": [
    "class student:\n",
    "    def __init__(self,name):\n",
    "        self.name = name\n",
    "        self.age = 18\n",
    "    def __str__(self):\n",
    "        return self.name\n",
    "        \n",
    "stu = student('john')\n",
    "print(stu)\n",
    "# we didn't call the str function, print always call background(__str__)\n",
    "\n",
    "x = 10\n",
    "print(x)\n",
    "print(int.__str__(x)) # in background\n",
    "print(x.__str__())"
   ]
  },
  {
   "cell_type": "code",
   "execution_count": null,
   "id": "55f02fe0",
   "metadata": {},
   "outputs": [],
   "source": [
    "# __repr__ its for developer for debug\n",
    "# it shows clear output explanation\n",
    "\n",
    "from datetime import date\n",
    "\n",
    "d = date(year = 2023, month = 7, day = 7)\n",
    "print([d]) # __repr__ for developer\n",
    "print(d) # __str__ for end user\n",
    "\n"
   ]
  },
  {
   "cell_type": "code",
   "execution_count": null,
   "id": "17448cbf",
   "metadata": {},
   "outputs": [],
   "source": [
    "class student:\n",
    "    def __init__(self,name):\n",
    "        self.name = name\n",
    "        self.age = 18\n",
    "    def __str__(self):\n",
    "        return self.name\n",
    "        \n",
    "stu = student('john')\n",
    "print([stu])\n",
    "stu.name"
   ]
  },
  {
   "cell_type": "code",
   "execution_count": null,
   "id": "7aad3a5c",
   "metadata": {},
   "outputs": [],
   "source": [
    "class student:\n",
    "    def __init__(self,name):\n",
    "        self.name = name\n",
    "        self.age = 18\n",
    "    def __str__(self):\n",
    "        return self.name\n",
    "    def __repr__(self):\n",
    "        return f'student({self.name})'\n",
    "        \n",
    "stu = student('john')\n",
    "print([stu], stu)\n"
   ]
  },
  {
   "cell_type": "code",
   "execution_count": null,
   "id": "f0053dbb",
   "metadata": {},
   "outputs": [],
   "source": [
    "name = 'annamalai' # in python all are class\n",
    "type(name)\n",
    "dir(name) # these all are inbuilt function\n"
   ]
  },
  {
   "cell_type": "code",
   "execution_count": null,
   "id": "245f427a",
   "metadata": {},
   "outputs": [],
   "source": [
    "# attributes - variable, method- function\n",
    "from datetime import date\n",
    "class student:\n",
    "    def __init__(self, name, rollno, dob, city): # __init__ object create, automatically ,initial this functionis call\n",
    "        self.name = name # instance variable\n",
    "        self.rollno = rollno\n",
    "        self.dob = dob\n",
    "        self.city = city\n",
    "    \n",
    "    def address(self): # method\n",
    "        addr = f'Name = {self.name} \\n DOB:{self.dob} \\n Rollno:{self.rollno} \\n City:{self.city}' # local variable\n",
    "        return addr\n",
    "\n",
    "    def age(self):\n",
    "        current_year= date.today().year\n",
    "        return current_year - self.dob"
   ]
  },
  {
   "cell_type": "code",
   "execution_count": null,
   "id": "0ef3e14c",
   "metadata": {},
   "outputs": [],
   "source": [
    "stu1 = student('annamalai', 4020, 1998, 'chennai')"
   ]
  },
  {
   "cell_type": "code",
   "execution_count": null,
   "id": "d5633ca3",
   "metadata": {},
   "outputs": [],
   "source": [
    "print(stu1.name)"
   ]
  },
  {
   "cell_type": "code",
   "execution_count": null,
   "id": "c21104a9",
   "metadata": {},
   "outputs": [],
   "source": [
    "stu1.address()"
   ]
  },
  {
   "cell_type": "code",
   "execution_count": null,
   "id": "5141a41d",
   "metadata": {},
   "outputs": [],
   "source": [
    "stu1.age()"
   ]
  },
  {
   "cell_type": "code",
   "execution_count": null,
   "id": "437fc705",
   "metadata": {},
   "outputs": [],
   "source": [
    "stu2 = student('amma', 4023, 1975, 'kundrathur')"
   ]
  },
  {
   "cell_type": "code",
   "execution_count": null,
   "id": "0b45a1f5",
   "metadata": {},
   "outputs": [],
   "source": [
    "stu1.fees = 10000 # instance variable - to create a variable with object\n",
    "print(stu1.fees)\n",
    "print(stu2.fees) # we didn't create"
   ]
  },
  {
   "cell_type": "code",
   "execution_count": null,
   "id": "45dee5b8",
   "metadata": {},
   "outputs": [],
   "source": [
    "student.fees = 10000 # class variable - it access all the objects\n",
    "print(stu1.fees)\n",
    "print(stu2.fees)\n",
    "print(student.fees)"
   ]
  },
  {
   "cell_type": "code",
   "execution_count": null,
   "id": "d2e73617",
   "metadata": {},
   "outputs": [],
   "source": [
    "from datetime import date\n",
    "class student:\n",
    "    fees = 20000\n",
    "    def __init__(self, name, rollno, dob, city): # __init__ object create, automatically ,initial this functionis call\n",
    "        self.name = name # instance variable\n",
    "        self.rollno = rollno\n",
    "        self.dob = dob\n",
    "        self.city = city\n",
    "    \n",
    "    def address(self): # method\n",
    "        addr = f'Name = {self.name} \\n DOB:{self.dob} \\n Rollno:{self.rollno} \\n City:{self.city}' # local variable\n",
    "        return address\n",
    "\n",
    "    def age(self):\n",
    "        current_year= date.today().year\n",
    "        return current_year - self.dob"
   ]
  },
  {
   "cell_type": "code",
   "execution_count": null,
   "id": "782f86bd",
   "metadata": {},
   "outputs": [],
   "source": [
    "student.fees = 20000\n",
    "stu1.fees = 30000"
   ]
  },
  {
   "cell_type": "code",
   "execution_count": null,
   "id": "882d5423",
   "metadata": {},
   "outputs": [],
   "source": [
    "stu3 = student('appa', 4020, 1998, 'chennai')"
   ]
  },
  {
   "cell_type": "code",
   "execution_count": null,
   "id": "f87d37e0",
   "metadata": {},
   "outputs": [],
   "source": [
    "print(stu3.fees)\n",
    "print(stu1.fees)\n",
    "print(student.fees)"
   ]
  },
  {
   "cell_type": "code",
   "execution_count": null,
   "id": "a3447238",
   "metadata": {},
   "outputs": [],
   "source": [
    "stu3.__dict__ # first it chech the fees in the instance variable next it goes to the class variable"
   ]
  },
  {
   "cell_type": "code",
   "execution_count": null,
   "id": "abbda7b4",
   "metadata": {},
   "outputs": [],
   "source": [
    "student.__dict__ # these all are user defined class"
   ]
  },
  {
   "cell_type": "code",
   "execution_count": null,
   "id": "d69eebde",
   "metadata": {},
   "outputs": [],
   "source": [
    "from datetime import date\n",
    "class student:\n",
    "    fees = 20000\n",
    "    def __init__(self, name, rollno, dob, city): # __init__ object create, automatically ,initial this functionis call\n",
    "        self.name = name # instance variable\n",
    "        self.rollno = rollno\n",
    "        self.dob = dob\n",
    "        self.city = city\n",
    "    \n",
    "    def address(self): # method\n",
    "        addr = f'Name = {self.name} \\n DOB:{self.dob} \\n Rollno:{self.rollno} \\n City:{self.city}' # local variable\n",
    "        return addr\n",
    "\n",
    "    def age(self):\n",
    "        current_year= date.today().year\n",
    "        return current_year - self.dob\n",
    "    \n",
    "    def pay_fees(self,amount):\n",
    "        return self.fees - amount"
   ]
  },
  {
   "cell_type": "code",
   "execution_count": null,
   "id": "1edb8a3b",
   "metadata": {},
   "outputs": [],
   "source": [
    "stu4 = student('dhoni', 7, 1981, 'ranchi')"
   ]
  },
  {
   "cell_type": "code",
   "execution_count": null,
   "id": "ffce2968",
   "metadata": {},
   "outputs": [],
   "source": [
    "stu4.pay_fees(8000) # it takes from class variable"
   ]
  },
  {
   "cell_type": "code",
   "execution_count": null,
   "id": "67627a0c",
   "metadata": {},
   "outputs": [],
   "source": [
    "from datetime import date\n",
    "class student:\n",
    "    fees = 20000\n",
    "    def __init__(self, name, rollno, dob, city): # __init__ object create, automatically ,initial this functionis call\n",
    "        self.name = name # instance variable\n",
    "        self.rollno = rollno\n",
    "        self.dob = dob\n",
    "        self.city = city\n",
    "    \n",
    "    def address(self): # instance method - obj passes through the method\n",
    "        addr = f'Name = {self.name} \\n DOB:{self.dob} \\n Rollno:{self.rollno} \\n City:{self.city}' # local variable\n",
    "        return addr\n",
    "\n",
    "    def age(self):\n",
    "        current_year= date.today().year\n",
    "        return current_year - self.dob\n",
    "    \n",
    "    def pay_fees(self,amount):\n",
    "        return student.fees - amount"
   ]
  },
  {
   "cell_type": "code",
   "execution_count": null,
   "id": "0f559ea3",
   "metadata": {},
   "outputs": [],
   "source": [
    "stu5 = student('kholi', 18, 1987, 'delhi')\n",
    "stu6 = student('rohit', 45, 1988, 'mumbai')"
   ]
  },
  {
   "cell_type": "code",
   "execution_count": null,
   "id": "068949af",
   "metadata": {},
   "outputs": [],
   "source": [
    "print(student.fees)\n",
    "print(stu6.fees)\n",
    "stu5.fees"
   ]
  },
  {
   "cell_type": "code",
   "execution_count": null,
   "id": "8be1a4af",
   "metadata": {},
   "outputs": [],
   "source": [
    "stu5.pay_fees(9000)"
   ]
  },
  {
   "cell_type": "code",
   "execution_count": null,
   "id": "70b63abc",
   "metadata": {},
   "outputs": [],
   "source": [
    "# class method\n",
    "\n",
    "class student:\n",
    "    fees = 20000\n",
    "    def __init__(self, name, rollno, dob, city): # __init__ object create, automatically ,initial this functionis call\n",
    "        self.name = name # instance variable\n",
    "        self.rollno = rollno\n",
    "        self.dob = dob\n",
    "        self.city = city\n",
    "    \n",
    "    def pay_fees(self,amount):\n",
    "        return student.fees - amount\n",
    "    \n",
    "    @classmethod\n",
    "    def change_fees(cls, amount):\n",
    "        cls.fees = amount"
   ]
  },
  {
   "cell_type": "code",
   "execution_count": null,
   "id": "54535f42",
   "metadata": {},
   "outputs": [],
   "source": [
    "student.change_fees(12000)"
   ]
  },
  {
   "cell_type": "code",
   "execution_count": null,
   "id": "0bd254c6",
   "metadata": {},
   "outputs": [],
   "source": [
    "stu1 = student('anfcf',1234,1998,'dubai')"
   ]
  },
  {
   "cell_type": "code",
   "execution_count": null,
   "id": "2ad72db6",
   "metadata": {},
   "outputs": [],
   "source": [
    "stu1.fees"
   ]
  },
  {
   "cell_type": "code",
   "execution_count": null,
   "id": "ff267f49",
   "metadata": {},
   "outputs": [],
   "source": [
    "stu1.change_fees(13000)"
   ]
  },
  {
   "cell_type": "code",
   "execution_count": null,
   "id": "0bcc48e1",
   "metadata": {},
   "outputs": [],
   "source": [
    "student.fees"
   ]
  },
  {
   "cell_type": "code",
   "execution_count": null,
   "id": "f4f05c3c",
   "metadata": {},
   "outputs": [],
   "source": [
    "stu1.fees"
   ]
  },
  {
   "cell_type": "code",
   "execution_count": null,
   "id": "9309c06a",
   "metadata": {},
   "outputs": [],
   "source": [
    "name, rollno, dob, city = 'ram,300,1999,pammal'.split(',')"
   ]
  },
  {
   "cell_type": "code",
   "execution_count": null,
   "id": "31943d45",
   "metadata": {},
   "outputs": [],
   "source": [
    "stu7 = student(name, rollno, dob, city)"
   ]
  },
  {
   "cell_type": "code",
   "execution_count": null,
   "id": "9f48aaf8",
   "metadata": {},
   "outputs": [],
   "source": [
    "stu7.name"
   ]
  },
  {
   "cell_type": "code",
   "execution_count": null,
   "id": "033ea267",
   "metadata": {},
   "outputs": [],
   "source": [
    "data = 'raghu,300,1999,pammal'"
   ]
  },
  {
   "cell_type": "code",
   "execution_count": null,
   "id": "d7fba476",
   "metadata": {},
   "outputs": [],
   "source": [
    "class student:\n",
    "    fees = 20000\n",
    "    def __init__(self, name, rollno, dob, city): # __init__ object create, automatically ,initial this functionis call\n",
    "        self.name = name # instance variable\n",
    "        self.rollno = rollno\n",
    "        self.dob = dob\n",
    "        self.city = city\n",
    "    \n",
    "    def pay_fees(self,amount):\n",
    "        return student.fees - amount\n",
    "    \n",
    "    @classmethod\n",
    "    def change_fees(cls, amount):\n",
    "        cls.fees = amount\n",
    "        \n",
    "    @classmethod\n",
    "    def stu_data(cls, data):\n",
    "        name, rollno, dob, city = data.split(',')\n",
    "        return cls(name, rollno, dob, city) # cls - return object\n",
    "        "
   ]
  },
  {
   "cell_type": "code",
   "execution_count": null,
   "id": "814fcf96",
   "metadata": {},
   "outputs": [],
   "source": [
    "stu = student.stu_data(data)"
   ]
  },
  {
   "cell_type": "code",
   "execution_count": null,
   "id": "ce9df9ae",
   "metadata": {},
   "outputs": [],
   "source": [
    "stu.name"
   ]
  },
  {
   "cell_type": "code",
   "execution_count": null,
   "id": "e8f3f2f8",
   "metadata": {},
   "outputs": [],
   "source": [
    "# static method\n",
    "\n",
    "class student:\n",
    "    fees = 20000\n",
    "    def __init__(self, name, rollno, dob, city): # __init__ object create, automatically ,initial this functionis call\n",
    "        self.name = name # instance variable\n",
    "        self.rollno = rollno\n",
    "        self.dob = dob\n",
    "        self.city = city\n",
    "    \n",
    "    def pay_fees(self,amount):\n",
    "        return student.fees - amount\n",
    "    \n",
    "    @classmethod\n",
    "    def change_fees(cls, amount):\n",
    "        cls.fees = amount\n",
    "        \n",
    "    @classmethod\n",
    "    def stu_data(cls, data):\n",
    "        name, rollno, dob, city = data.split(',')\n",
    "        return cls(name, rollno, dob, city) # cls - return object\n",
    "    \n",
    "    @staticmethod\n",
    "    def department(dept):\n",
    "        available_dept = ['mechanical', 'csc','it']\n",
    "        if dept in  available_dept:\n",
    "            return True\n",
    "        return False"
   ]
  },
  {
   "cell_type": "code",
   "execution_count": null,
   "id": "19915141",
   "metadata": {},
   "outputs": [],
   "source": [
    "stu8 = student('gopi', 34, 1995, 'natham')"
   ]
  },
  {
   "cell_type": "code",
   "execution_count": null,
   "id": "705ca82f",
   "metadata": {},
   "outputs": [],
   "source": [
    "stu8.department('mechanical')"
   ]
  },
  {
   "cell_type": "code",
   "execution_count": null,
   "id": "415a432d",
   "metadata": {},
   "outputs": [],
   "source": [
    "from datetime import date\n",
    "class student:\n",
    "    fees = 6000\n",
    "    def __init__(self, name, rollno, dob, city): # __init__ object create, automatically ,initial this functionis call\n",
    "        self.name = name # instance variable\n",
    "        self.rollno = rollno\n",
    "        self.dob = dob\n",
    "        self.city = city\n",
    "    \n",
    "    def address(self): # method\n",
    "        addr = f'Name = {self.name} \\n DOB:{self.dob} \\n Rollno:{self.rollno} \\n City:{self.city}' # local variable\n",
    "        return addr\n",
    "\n",
    "    def age(self):\n",
    "        current_year= date.today().year\n",
    "        return current_year - self.dob\n",
    "    \n",
    "class mechanical(student):\n",
    "    fees = 12000"
   ]
  },
  {
   "cell_type": "code",
   "execution_count": null,
   "id": "83c8da35",
   "metadata": {},
   "outputs": [],
   "source": [
    "a = mechanical('annamalai', 4020, 1998, 'home')"
   ]
  },
  {
   "cell_type": "code",
   "execution_count": null,
   "id": "dd3aa625",
   "metadata": {},
   "outputs": [],
   "source": [
    "a.city"
   ]
  },
  {
   "cell_type": "code",
   "execution_count": null,
   "id": "15f5b8a5",
   "metadata": {},
   "outputs": [],
   "source": [
    "dir(a)"
   ]
  },
  {
   "cell_type": "code",
   "execution_count": null,
   "id": "2a0be64d",
   "metadata": {},
   "outputs": [],
   "source": [
    "mechanical.__mro__ # in this order it search(method resolution order)"
   ]
  },
  {
   "cell_type": "code",
   "execution_count": null,
   "id": "59f01d2a",
   "metadata": {},
   "outputs": [],
   "source": [
    "a.fees"
   ]
  },
  {
   "cell_type": "code",
   "execution_count": null,
   "id": "467c8010",
   "metadata": {},
   "outputs": [],
   "source": [
    "a.fees"
   ]
  },
  {
   "cell_type": "code",
   "execution_count": null,
   "id": "0f4b5f25",
   "metadata": {},
   "outputs": [],
   "source": [
    "from datetime import date\n",
    "class student:\n",
    "    fees = 6000\n",
    "    def __init__(self, name, rollno, dob, city): # __init__ object create, automatically ,initial this functionis call\n",
    "        self.name = name # instance variable\n",
    "        self.rollno = rollno\n",
    "        self.dob = dob\n",
    "        self.city = city\n",
    "    \n",
    "    def address(self): # method\n",
    "        addr = f'Name = {self.name} \\n DOB:{self.dob} \\n Rollno:{self.rollno} \\n City:{self.city}' # local variable\n",
    "        return address\n",
    "\n",
    "    def age(self):\n",
    "        current_year= date.today().year\n",
    "        return current_year - self.dob\n",
    "    \n",
    "class mechanical(student):\n",
    "    fees = 12000"
   ]
  },
  {
   "cell_type": "code",
   "execution_count": null,
   "id": "2d8459d6",
   "metadata": {},
   "outputs": [],
   "source": [
    "b = mechanical('annamalai', 4020, 1998, 'home')"
   ]
  },
  {
   "cell_type": "code",
   "execution_count": null,
   "id": "7746315c",
   "metadata": {},
   "outputs": [],
   "source": [
    "b.fees"
   ]
  },
  {
   "cell_type": "code",
   "execution_count": null,
   "id": "9f92bed8",
   "metadata": {},
   "outputs": [],
   "source": [
    "a = mechanical('gopi', 23, 1995, 'mill')"
   ]
  },
  {
   "cell_type": "code",
   "execution_count": null,
   "id": "8e66b15d",
   "metadata": {},
   "outputs": [],
   "source": [
    "from datetime import date\n",
    "class student:\n",
    "    fees = 6000\n",
    "    def __init__(self, name, rollno, dob, city): # __init__ object create, automatically ,initial this functionis call\n",
    "        self.name = name # instance variable\n",
    "        self.rollno = rollno\n",
    "        self.dob = dob\n",
    "        self.city = city\n",
    "    \n",
    "    def address(self): # method\n",
    "        addr = f'Name = {self.name} \\n DOB:{self.dob} \\n Rollno:{self.rollno} \\n City:{self.city}' # local variable\n",
    "        return addr\n",
    "\n",
    "    def age(self):\n",
    "        current_year= date.today().year\n",
    "        return current_year - self.dob\n",
    "    \n",
    "class mechanical(student):\n",
    "    def __init__(self,name, rollno, dob, city,students=[]):\n",
    "        super().__init__(name, rollno, dob, city)\n",
    "        self.students = students\n",
    "        \n",
    "    def show_students(self):\n",
    "        for student in self.students:\n",
    "            print(student.name)\n",
    "    "
   ]
  },
  {
   "cell_type": "code",
   "execution_count": null,
   "id": "bddf3fde",
   "metadata": {},
   "outputs": [],
   "source": [
    "t = mechanical('amma', 1, 1975, 'kundrathur',[a, b])"
   ]
  },
  {
   "cell_type": "code",
   "execution_count": null,
   "id": "8b2e4618",
   "metadata": {},
   "outputs": [],
   "source": [
    "t.show_students()"
   ]
  },
  {
   "cell_type": "code",
   "execution_count": null,
   "id": "c623121a",
   "metadata": {},
   "outputs": [],
   "source": [
    "# special methods - __to__(start and finish double underscore)\n",
    "\n",
    "d = date(year=2023, month = 7, day = 13)\n",
    "print(type(d)) #these all are inbuilt class they already created, print function always called(__str__)\n"
   ]
  },
  {
   "cell_type": "code",
   "execution_count": null,
   "id": "1f470287",
   "metadata": {},
   "outputs": [],
   "source": [
    "class student:\n",
    "    def __init__(self,name):\n",
    "        self.name = name\n",
    "        self.age = 18"
   ]
  },
  {
   "cell_type": "code",
   "execution_count": null,
   "id": "ea89fa48",
   "metadata": {},
   "outputs": [],
   "source": [
    "a= student('john') # we didn't create __str__ method so it shows the object"
   ]
  },
  {
   "cell_type": "code",
   "execution_count": null,
   "id": "9b959b1f",
   "metadata": {},
   "outputs": [],
   "source": [
    "print(a)\n",
    "type(a)"
   ]
  },
  {
   "cell_type": "code",
   "execution_count": null,
   "id": "40cf5385",
   "metadata": {},
   "outputs": [],
   "source": [
    "class student:\n",
    "    def __init__(self,name):\n",
    "        self.name = name\n",
    "        self.age = 18\n",
    "        \n",
    "    def __str__(self):\n",
    "        return self.name"
   ]
  },
  {
   "cell_type": "code",
   "execution_count": null,
   "id": "9c5e13b3",
   "metadata": {},
   "outputs": [],
   "source": [
    "a= student('john') "
   ]
  },
  {
   "cell_type": "code",
   "execution_count": null,
   "id": "39155f72",
   "metadata": {},
   "outputs": [],
   "source": [
    "print(a)"
   ]
  },
  {
   "cell_type": "code",
   "execution_count": null,
   "id": "794d47a2",
   "metadata": {},
   "outputs": [],
   "source": [
    "#add function\n",
    "\n",
    "x = 2\n",
    "y = 3\n",
    "\n",
    "print(x + y)\n",
    "print(int.__add__(x, y)) # in backend operation "
   ]
  },
  {
   "cell_type": "code",
   "execution_count": null,
   "id": "1f525a80",
   "metadata": {},
   "outputs": [],
   "source": [
    "x = '2'\n",
    "y = '3'\n",
    "\n",
    "print(x + y)\n",
    "print(str.__add__(x, y)) # in backend operation "
   ]
  },
  {
   "cell_type": "code",
   "execution_count": null,
   "id": "036cc2f9",
   "metadata": {},
   "outputs": [],
   "source": [
    "class student:\n",
    "    def __init__(self,name,fees):\n",
    "        self.name = name\n",
    "        self.fees = fees\n",
    "        \n",
    "    def __str__(self):\n",
    "        return self.name"
   ]
  },
  {
   "cell_type": "code",
   "execution_count": null,
   "id": "1f9a4665",
   "metadata": {},
   "outputs": [],
   "source": [
    "x = student('john',1000)\n",
    "y = student('michael', 1500)"
   ]
  },
  {
   "cell_type": "code",
   "execution_count": null,
   "id": "ffdfdbf3",
   "metadata": {},
   "outputs": [],
   "source": [
    "print(x + y)"
   ]
  },
  {
   "cell_type": "code",
   "execution_count": null,
   "id": "de601599",
   "metadata": {},
   "outputs": [],
   "source": [
    "class student:\n",
    "    def __init__(self,name,fees):\n",
    "        self.name = name\n",
    "        self.fees = fees\n",
    "        \n",
    "    def __str__(self):\n",
    "        return self.name\n",
    "    \n",
    "    def __add__(self, other):\n",
    "        return self.fees + other.fees"
   ]
  },
  {
   "cell_type": "code",
   "execution_count": null,
   "id": "06c5a0f2",
   "metadata": {},
   "outputs": [],
   "source": [
    "x = student('john',1000) # this obj = self\n",
    "y = student('john', 1000)# this obj = other"
   ]
  },
  {
   "cell_type": "code",
   "execution_count": null,
   "id": "a9d3f3f3",
   "metadata": {},
   "outputs": [],
   "source": [
    "print(x + y )"
   ]
  },
  {
   "cell_type": "code",
   "execution_count": null,
   "id": "abdcfe27",
   "metadata": {},
   "outputs": [],
   "source": [
    "print(x == y)"
   ]
  },
  {
   "cell_type": "code",
   "execution_count": null,
   "id": "057e7210",
   "metadata": {},
   "outputs": [],
   "source": [
    "class student:\n",
    "    def __init__(self,name,fees):\n",
    "        self.name = name\n",
    "        self.fees = fees\n",
    "        \n",
    "    def __str__(self):\n",
    "        return self.name\n",
    "    \n",
    "    def __add__(self, other):\n",
    "        return self.fees + other.fees\n",
    "    \n",
    "    def __eq__(self,other):\n",
    "        return self.name == other.name"
   ]
  },
  {
   "cell_type": "code",
   "execution_count": null,
   "id": "f05a5830",
   "metadata": {},
   "outputs": [],
   "source": [
    "x = student('john',1000) # this obj = self\n",
    "y = student('john', 1000)# this obj = other"
   ]
  },
  {
   "cell_type": "code",
   "execution_count": null,
   "id": "902f19df",
   "metadata": {},
   "outputs": [],
   "source": [
    "print(x == y)"
   ]
  },
  {
   "cell_type": "code",
   "execution_count": null,
   "id": "99743429",
   "metadata": {},
   "outputs": [],
   "source": [
    "class student:\n",
    "    def __init__(self,name,fees):\n",
    "        self.name = name\n",
    "        self.fees = fees\n",
    "        \n",
    "    def __str__(self):\n",
    "        return self.name\n",
    "    \n",
    "    def __add__(self, other):\n",
    "        return self.fees + other.fees\n",
    "    \n",
    "    def __eq__(self,other):\n",
    "        return self.name == other.name\n",
    "    \n",
    "    def __len__(self):\n",
    "        return len(self.name)"
   ]
  },
  {
   "cell_type": "code",
   "execution_count": null,
   "id": "e96926f0",
   "metadata": {},
   "outputs": [],
   "source": [
    "x = student('jack',1000)"
   ]
  },
  {
   "cell_type": "code",
   "execution_count": null,
   "id": "fdd64338",
   "metadata": {},
   "outputs": [],
   "source": [
    "len(x)"
   ]
  },
  {
   "cell_type": "code",
   "execution_count": null,
   "id": "b73aec32",
   "metadata": {},
   "outputs": [],
   "source": [
    "print(x, type(x)) # user defined function\n",
    "z = 'johnson'\n",
    "print(z, type(z)) # builtin function"
   ]
  },
  {
   "cell_type": "code",
   "execution_count": null,
   "id": "75ea30cc",
   "metadata": {},
   "outputs": [],
   "source": [
    "z[0]"
   ]
  },
  {
   "cell_type": "code",
   "execution_count": null,
   "id": "4719ab86",
   "metadata": {},
   "outputs": [],
   "source": [
    "x[0] # we didn't create in class"
   ]
  },
  {
   "cell_type": "code",
   "execution_count": null,
   "id": "d09ac38d",
   "metadata": {},
   "outputs": [],
   "source": [
    "class student:\n",
    "    def __init__(self,name,fees):\n",
    "        self.name = name\n",
    "        self.fees = fees\n",
    "        \n",
    "    def __str__(self):\n",
    "        return self.name\n",
    "    \n",
    "    def __add__(self, other):\n",
    "        return self.fees + other.fees\n",
    "    \n",
    "    def __eq__(self,other):\n",
    "        return self.name == other.name\n",
    "    \n",
    "    def __len__(self):\n",
    "        return len(self.name)\n",
    "    \n",
    "    def __getitem__(self, key):\n",
    "        return self.name[key]"
   ]
  },
  {
   "cell_type": "code",
   "execution_count": null,
   "id": "3082f1f4",
   "metadata": {},
   "outputs": [],
   "source": [
    "b = student('annamalai', 20)"
   ]
  },
  {
   "cell_type": "code",
   "execution_count": null,
   "id": "3ecdf64a",
   "metadata": {},
   "outputs": [],
   "source": [
    "b[0:4]"
   ]
  },
  {
   "cell_type": "code",
   "execution_count": null,
   "id": "2f01edfa",
   "metadata": {},
   "outputs": [],
   "source": [
    "class student:\n",
    "    def __init__(self,name,fees):\n",
    "        self.name = name\n",
    "        self.fees = fees\n",
    "        \n",
    "    def __str__(self):\n",
    "        return self.name\n",
    "    \n",
    "    def __add__(self, other):\n",
    "        return self.fees + other.fees\n",
    "    \n",
    "    def __eq__(self,other):\n",
    "        return self.name == other.name\n",
    "    \n",
    "    def __len__(self):\n",
    "        return len(self.name)\n",
    "    \n",
    "    def __getitem__(self, key):\n",
    "        return self.name[key]\n",
    "    \n",
    "    def __contains__(self, value): # in\n",
    "        if value in self.name:\n",
    "            return True\n",
    "        return False"
   ]
  },
  {
   "cell_type": "code",
   "execution_count": null,
   "id": "18e6b4a5",
   "metadata": {},
   "outputs": [],
   "source": [
    "g = student('annamalai', 20)"
   ]
  },
  {
   "cell_type": "code",
   "execution_count": null,
   "id": "74128149",
   "metadata": {},
   "outputs": [],
   "source": [
    "'a' in g"
   ]
  },
  {
   "cell_type": "code",
   "execution_count": null,
   "id": "840f44b3",
   "metadata": {},
   "outputs": [],
   "source": [
    "'p' in g"
   ]
  },
  {
   "cell_type": "code",
   "execution_count": null,
   "id": "620f7ac0",
   "metadata": {},
   "outputs": [],
   "source": [
    "a = [1, 1, 3, 4, 5, 3, 5]\n",
    "\n",
    "rem = list(set(a))\n",
    "print(rem)"
   ]
  },
  {
   "cell_type": "code",
   "execution_count": null,
   "id": "e4967066",
   "metadata": {},
   "outputs": [],
   "source": [
    "set(a)"
   ]
  },
  {
   "cell_type": "code",
   "execution_count": null,
   "id": "bcc92669",
   "metadata": {},
   "outputs": [],
   "source": [
    "\n",
    "list(a)"
   ]
  },
  {
   "cell_type": "code",
   "execution_count": null,
   "id": "d440c705",
   "metadata": {},
   "outputs": [],
   "source": [
    "t = ( 1, 7, 6)\n",
    "t = t + (8, 5)\n",
    "t"
   ]
  },
  {
   "cell_type": "code",
   "execution_count": null,
   "id": "73eb5cf6",
   "metadata": {},
   "outputs": [],
   "source": [
    "# is check the id(memory address)\n",
    "\n",
    "l1 = [1, 3, 4]\n",
    "l2 = [1, 3, 4]"
   ]
  },
  {
   "cell_type": "code",
   "execution_count": null,
   "id": "6ef024e2",
   "metadata": {},
   "outputs": [],
   "source": [
    "l1 == l2"
   ]
  },
  {
   "cell_type": "code",
   "execution_count": null,
   "id": "39b5df76",
   "metadata": {},
   "outputs": [],
   "source": [
    "l1 is l2"
   ]
  },
  {
   "cell_type": "code",
   "execution_count": null,
   "id": "d8269d0c",
   "metadata": {},
   "outputs": [],
   "source": [
    "l1 = [1, 3, 4]\n",
    "l2 = l1"
   ]
  },
  {
   "cell_type": "code",
   "execution_count": null,
   "id": "353281fb",
   "metadata": {},
   "outputs": [],
   "source": [
    "l1 is l2"
   ]
  },
  {
   "cell_type": "code",
   "execution_count": null,
   "id": "dcbedd90",
   "metadata": {},
   "outputs": [],
   "source": [
    "chr(66)"
   ]
  },
  {
   "cell_type": "code",
   "execution_count": null,
   "id": "8e7d5089",
   "metadata": {},
   "outputs": [],
   "source": [
    "for i in range(65, 91):\n",
    "    print(chr(i))"
   ]
  },
  {
   "cell_type": "code",
   "execution_count": null,
   "id": "3b95512c",
   "metadata": {},
   "outputs": [],
   "source": [
    "chr(1)"
   ]
  },
  {
   "cell_type": "code",
   "execution_count": null,
   "id": "1da3d798",
   "metadata": {},
   "outputs": [],
   "source": [
    "ord('a')"
   ]
  },
  {
   "cell_type": "code",
   "execution_count": null,
   "id": "080cfd05",
   "metadata": {},
   "outputs": [],
   "source": [
    "ord('A')"
   ]
  },
  {
   "cell_type": "code",
   "execution_count": null,
   "id": "fdb15953",
   "metadata": {},
   "outputs": [],
   "source": [
    "for i in range(ord('A'),ord('a')):\n",
    "    print(i)"
   ]
  },
  {
   "cell_type": "code",
   "execution_count": null,
   "id": "dd7bcba7",
   "metadata": {},
   "outputs": [],
   "source": [
    "def main_fun(fun):\n",
    "    def sub_fun():\n",
    "        print('this is a sub function')\n",
    "        fun()\n",
    "        print('this is end statement')\n",
    "    return sub_fun"
   ]
  },
  {
   "cell_type": "code",
   "execution_count": null,
   "id": "e3a96b32",
   "metadata": {},
   "outputs": [],
   "source": [
    "@main_fun\n",
    "def deco():\n",
    "    print('this is a decorator function')"
   ]
  },
  {
   "cell_type": "code",
   "execution_count": null,
   "id": "d4a91155",
   "metadata": {},
   "outputs": [],
   "source": [
    "y = main_fun(deco) # i call 2 times\n",
    "y()"
   ]
  },
  {
   "cell_type": "code",
   "execution_count": null,
   "id": "467e9390",
   "metadata": {},
   "outputs": [],
   "source": [
    "deco()"
   ]
  },
  {
   "cell_type": "code",
   "execution_count": null,
   "id": "99245fac",
   "metadata": {},
   "outputs": [],
   "source": [
    "def sub():\n",
    "    print(' this is function')\n",
    "        "
   ]
  },
  {
   "cell_type": "code",
   "execution_count": null,
   "id": "6fad5ed2",
   "metadata": {},
   "outputs": [],
   "source": [
    "sub()"
   ]
  },
  {
   "cell_type": "code",
   "execution_count": null,
   "id": "5c7bedfc",
   "metadata": {},
   "outputs": [],
   "source": []
  },
  {
   "cell_type": "code",
   "execution_count": null,
   "id": "c4f1d447",
   "metadata": {},
   "outputs": [],
   "source": [
    "class students:\n",
    "    def car(self):\n",
    "        print( 'i hate car' )\n",
    "        \n",
    "class employee(students):\n",
    "    def car(self):\n",
    "        print( 'i love car' )\n",
    "    "
   ]
  },
  {
   "cell_type": "code",
   "execution_count": null,
   "id": "5c016bc6",
   "metadata": {},
   "outputs": [],
   "source": [
    "a = employee()"
   ]
  },
  {
   "cell_type": "code",
   "execution_count": null,
   "id": "2aa74b1b",
   "metadata": {},
   "outputs": [],
   "source": [
    "a.car()"
   ]
  },
  {
   "cell_type": "code",
   "execution_count": null,
   "id": "83f9dacc",
   "metadata": {},
   "outputs": [],
   "source": [
    "class students:\n",
    "    def car(self):\n",
    "        print( 'i hate car' )\n",
    "        \n",
    "    def bike(self):\n",
    "        print('i love bike')\n",
    "        \n",
    "class employee(students):\n",
    "    def car(self):\n",
    "        print( 'i love car' )\n",
    "    "
   ]
  },
  {
   "cell_type": "code",
   "execution_count": null,
   "id": "42da3ee2",
   "metadata": {},
   "outputs": [],
   "source": [
    "s = employee()"
   ]
  },
  {
   "cell_type": "code",
   "execution_count": null,
   "id": "1b7c5dad",
   "metadata": {},
   "outputs": [],
   "source": [
    "s.bike()"
   ]
  },
  {
   "cell_type": "code",
   "execution_count": null,
   "id": "44ea7b0b",
   "metadata": {},
   "outputs": [],
   "source": [
    "from flask import Flask,request,render_template\n",
    "\n",
    "\n",
    "obj=Flask(__name__)\n",
    "\n",
    "\n",
    "@obj.route('/')\n",
    "def welcome():\n",
    "    return \"Welcome to Flask\"\n",
    "\n",
    "\n",
    "        \n",
    "    \n",
    "\n",
    "\n",
    "print(__name__)\n",
    "\n",
    "if __name__ == '__main__':\n",
    "    obj.run()\n"
   ]
  },
  {
   "cell_type": "code",
   "execution_count": null,
   "id": "9a8fe75c",
   "metadata": {},
   "outputs": [],
   "source": []
  },
  {
   "cell_type": "code",
   "execution_count": 5,
   "id": "d7e05a30",
   "metadata": {},
   "outputs": [
    {
     "data": {
      "text/plain": [
       "16"
      ]
     },
     "execution_count": 5,
     "metadata": {},
     "output_type": "execute_result"
    }
   ],
   "source": [
    "2 * 8\n"
   ]
  },
  {
   "cell_type": "code",
   "execution_count": 6,
   "id": "f1bf673e",
   "metadata": {},
   "outputs": [
    {
     "data": {
      "text/plain": [
       "'__main__'"
      ]
     },
     "execution_count": 6,
     "metadata": {},
     "output_type": "execute_result"
    }
   ],
   "source": [
    "__name__"
   ]
  },
  {
   "cell_type": "code",
   "execution_count": 7,
   "id": "184136e3",
   "metadata": {},
   "outputs": [
    {
     "ename": "NameError",
     "evalue": "name '__init__' is not defined",
     "output_type": "error",
     "traceback": [
      "\u001b[1;31m---------------------------------------------------------------------------\u001b[0m",
      "\u001b[1;31mNameError\u001b[0m                                 Traceback (most recent call last)",
      "Cell \u001b[1;32mIn[7], line 1\u001b[0m\n\u001b[1;32m----> 1\u001b[0m \u001b[38;5;21;43m__init__\u001b[39;49m\n",
      "\u001b[1;31mNameError\u001b[0m: name '__init__' is not defined"
     ]
    }
   ],
   "source": []
  },
  {
   "cell_type": "code",
   "execution_count": 1,
   "id": "693339d3",
   "metadata": {},
   "outputs": [
    {
     "ename": "ModuleNotFoundError",
     "evalue": "No module named 'phonenumbers'",
     "output_type": "error",
     "traceback": [
      "\u001b[1;31m---------------------------------------------------------------------------\u001b[0m",
      "\u001b[1;31mModuleNotFoundError\u001b[0m                       Traceback (most recent call last)",
      "Cell \u001b[1;32mIn[1], line 1\u001b[0m\n\u001b[1;32m----> 1\u001b[0m \u001b[38;5;28;01mimport\u001b[39;00m \u001b[38;5;21;01mphonenumbers\u001b[39;00m\n\u001b[0;32m      2\u001b[0m \u001b[38;5;28;01mfrom\u001b[39;00m \u001b[38;5;21;01mphonenumbers\u001b[39;00m \u001b[38;5;28;01mimport\u001b[39;00m carrier\n\u001b[0;32m      3\u001b[0m \u001b[38;5;28;01mfrom\u001b[39;00m \u001b[38;5;21;01mphonenumbers\u001b[39;00m \u001b[38;5;28;01mimport\u001b[39;00m geocoder\n",
      "\u001b[1;31mModuleNotFoundError\u001b[0m: No module named 'phonenumbers'"
     ]
    }
   ],
   "source": [
    "import phonenumbers\n",
    "from phonenumbers import carrier\n",
    "from phonenumbers import geocoder"
   ]
  },
  {
   "cell_type": "code",
   "execution_count": 2,
   "id": "84b236b3",
   "metadata": {},
   "outputs": [
    {
     "name": "stdout",
     "output_type": "stream",
     "text": [
      "Collecting phonenumbers\n",
      "  Downloading phonenumbers-8.13.19-py2.py3-none-any.whl (2.6 MB)\n",
      "     ---------------------------------------- 2.6/2.6 MB 2.3 MB/s eta 0:00:00\n",
      "Installing collected packages: phonenumbers\n",
      "Successfully installed phonenumbers-8.13.19\n",
      "Note: you may need to restart the kernel to use updated packages.\n"
     ]
    }
   ],
   "source": [
    "pip install phonenumbers"
   ]
  },
  {
   "cell_type": "code",
   "execution_count": 3,
   "id": "8c0746fa",
   "metadata": {},
   "outputs": [],
   "source": [
    "import phonenumbers\n",
    "from phonenumbers import carrier\n",
    "from phonenumbers import geocoder"
   ]
  },
  {
   "cell_type": "code",
   "execution_count": 7,
   "id": "674ee3fe",
   "metadata": {},
   "outputs": [
    {
     "name": "stdout",
     "output_type": "stream",
     "text": [
      "Indien\n",
      "Vodafone\n"
     ]
    }
   ],
   "source": [
    "ch_number = phonenumbers.parse('+919962353651', 'CH')\n",
    "print(geocoder.description_for_number(ch_number, 'de'))\n",
    "ro_number = phonenumbers.parse('+919962353651', 'RO')\n",
    "print(carrier.name_for_number(ro_number, 'en'))"
   ]
  },
  {
   "cell_type": "code",
   "execution_count": 23,
   "id": "07997380",
   "metadata": {},
   "outputs": [
    {
     "name": "stdout",
     "output_type": "stream",
     "text": [
      "[[ 6]\n",
      " [12]\n",
      " [24]\n",
      " [48]\n",
      " [72]\n",
      " [96]]\n"
     ]
    }
   ],
   "source": [
    "x = np.array([6,12,24,48,72,96])\n",
    "y=np.array([15,30,60,120,180,240])\n",
    "x=x.reshape(-1,1)\n",
    "y=y.reshape(-1,1)\n",
    "print(x)"
   ]
  },
  {
   "cell_type": "code",
   "execution_count": 24,
   "id": "6c8e6716",
   "metadata": {},
   "outputs": [
    {
     "data": {
      "text/plain": [
       "<matplotlib.collections.PathCollection at 0x1fafc5f7e50>"
      ]
     },
     "execution_count": 24,
     "metadata": {},
     "output_type": "execute_result"
    },
    {
     "data": {
      "image/png": "[encoded data removed]",
      "text/plain": [
       "<Figure size 640x480 with 1 Axes>"
      ]
     },
     "metadata": {},
     "output_type": "display_data"
    }
   ],
   "source": [
    "import numpy as np \n",
    "import matplotlib.pyplot as plt\n",
    "\n",
    "plt.scatter(x,y)"
   ]
  },
  {
   "cell_type": "code",
   "execution_count": 25,
   "id": "222ef762",
   "metadata": {},
   "outputs": [],
   "source": [
    "from sklearn.linear_model import LogisticRegression"
   ]
  },
  {
   "cell_type": "code",
   "execution_count": 26,
   "id": "4a74e50b",
   "metadata": {},
   "outputs": [],
   "source": [
    "logisticRegr = LogisticRegression()"
   ]
  },
  {
   "cell_type": "code",
   "execution_count": 27,
   "id": "1932c726",
   "metadata": {},
   "outputs": [],
   "source": [
    "from sklearn.model_selection import train_test_split\n",
    "x_train, x_test, y_train, y_test = train_test_split(x,y, test_size=0.25, random_state=0)"
   ]
  },
  {
   "cell_type": "code",
   "execution_count": 28,
   "id": "3efb9902",
   "metadata": {},
   "outputs": [
    {
     "name": "stderr",
     "output_type": "stream",
     "text": [
      "C:\\Users\\annam\\AppData\\Local\\anaconda3\\lib\\site-packages\\sklearn\\utils\\validation.py:1143: DataConversionWarning: A column-vector y was passed when a 1d array was expected. Please change the shape of y to (n_samples, ), for example using ravel().\n",
      "  y = column_or_1d(y, warn=True)\n"
     ]
    },
    {
     "data": {
      "text/html": [
       "<style>#sk-container-id-1 {color: black;background-color: white;}#sk-container-id-1 pre{padding: 0;}#sk-container-id-1 div.sk-toggleable {background-color: white;}#sk-container-id-1 label.sk-toggleable__label {cursor: pointer;display: block;width: 100%;margin-bottom: 0;padding: 0.3em;box-sizing: border-box;text-align: center;}#sk-container-id-1 label.sk-toggleable__label-arrow:before {content: \"▸\";float: left;margin-right: 0.25em;color: #696969;}#sk-container-id-1 label.sk-toggleable__label-arrow:hover:before {color: black;}#sk-container-id-1 div.sk-estimator:hover label.sk-toggleable__label-arrow:before {color: black;}#sk-container-id-1 div.sk-toggleable__content {max-height: 0;max-width: 0;overflow: hidden;text-align: left;background-color: #f0f8ff;}#sk-container-id-1 div.sk-toggleable__content pre {margin: 0.2em;color: black;border-radius: 0.25em;background-color: #f0f8ff;}#sk-container-id-1 input.sk-toggleable__control:checked~div.sk-toggleable__content {max-height: 200px;max-width: 100%;overflow: auto;}#sk-container-id-1 input.sk-toggleable__control:checked~label.sk-toggleable__label-arrow:before {content: \"▾\";}#sk-container-id-1 div.sk-estimator input.sk-toggleable__control:checked~label.sk-toggleable__label {background-color: #d4ebff;}#sk-container-id-1 div.sk-label input.sk-toggleable__control:checked~label.sk-toggleable__label {background-color: #d4ebff;}#sk-container-id-1 input.sk-hidden--visually {border: 0;clip: rect(1px 1px 1px 1px);clip: rect(1px, 1px, 1px, 1px);height: 1px;margin: -1px;overflow: hidden;padding: 0;position: absolute;width: 1px;}#sk-container-id-1 div.sk-estimator {font-family: monospace;background-color: #f0f8ff;border: 1px dotted black;border-radius: 0.25em;box-sizing: border-box;margin-bottom: 0.5em;}#sk-container-id-1 div.sk-estimator:hover {background-color: #d4ebff;}#sk-container-id-1 div.sk-parallel-item::after {content: \"\";width: 100%;border-bottom: 1px solid gray;flex-grow: 1;}#sk-container-id-1 div.sk-label:hover label.sk-toggleable__label {background-color: #d4ebff;}#sk-container-id-1 div.sk-serial::before {content: \"\";position: absolute;border-left: 1px solid gray;box-sizing: border-box;top: 0;bottom: 0;left: 50%;z-index: 0;}#sk-container-id-1 div.sk-serial {display: flex;flex-direction: column;align-items: center;background-color: white;padding-right: 0.2em;padding-left: 0.2em;position: relative;}#sk-container-id-1 div.sk-item {position: relative;z-index: 1;}#sk-container-id-1 div.sk-parallel {display: flex;align-items: stretch;justify-content: center;background-color: white;position: relative;}#sk-container-id-1 div.sk-item::before, #sk-container-id-1 div.sk-parallel-item::before {content: \"\";position: absolute;border-left: 1px solid gray;box-sizing: border-box;top: 0;bottom: 0;left: 50%;z-index: -1;}#sk-container-id-1 div.sk-parallel-item {display: flex;flex-direction: column;z-index: 1;position: relative;background-color: white;}#sk-container-id-1 div.sk-parallel-item:first-child::after {align-self: flex-end;width: 50%;}#sk-container-id-1 div.sk-parallel-item:last-child::after {align-self: flex-start;width: 50%;}#sk-container-id-1 div.sk-parallel-item:only-child::after {width: 0;}#sk-container-id-1 div.sk-dashed-wrapped {border: 1px dashed gray;margin: 0 0.4em 0.5em 0.4em;box-sizing: border-box;padding-bottom: 0.4em;background-color: white;}#sk-container-id-1 div.sk-label label {font-family: monospace;font-weight: bold;display: inline-block;line-height: 1.2em;}#sk-container-id-1 div.sk-label-container {text-align: center;}#sk-container-id-1 div.sk-container {/* jupyter's `normalize.less` sets `[hidden] { display: none; }` but bootstrap.min.css set `[hidden] { display: none !important; }` so we also need the `!important` here to be able to override the default hidden behavior on the sphinx rendered scikit-learn.org. See: https://github.com/scikit-learn/scikit-learn/issues/21755 */display: inline-block !important;position: relative;}#sk-container-id-1 div.sk-text-repr-fallback {display: none;}</style><div id=\"sk-container-id-1\" class=\"sk-top-container\"><div class=\"sk-text-repr-fallback\"><pre>LogisticRegression()</pre><b>In a Jupyter environment, please rerun this cell to show the HTML representation or trust the notebook. <br />On GitHub, the HTML representation is unable to render, please try loading this page with nbviewer.org.</b></div><div class=\"sk-container\" hidden><div class=\"sk-item\"><div class=\"sk-estimator sk-toggleable\"><input class=\"sk-toggleable__control sk-hidden--visually\" id=\"sk-estimator-id-1\" type=\"checkbox\" checked><label for=\"sk-estimator-id-1\" class=\"sk-toggleable__label sk-toggleable__label-arrow\">LogisticRegression</label><div class=\"sk-toggleable__content\"><pre>LogisticRegression()</pre></div></div></div></div></div>"
      ],
      "text/plain": [
       "LogisticRegression()"
      ]
     },
     "execution_count": 28,
     "metadata": {},
     "output_type": "execute_result"
    }
   ],
   "source": [
    "logisticRegr.fit(x_train, y_train)"
   ]
  },
  {
   "cell_type": "code",
   "execution_count": 31,
   "id": "d06839a6",
   "metadata": {},
   "outputs": [
    {
     "data": {
      "text/plain": [
       "array([180,  30])"
      ]
     },
     "execution_count": 31,
     "metadata": {},
     "output_type": "execute_result"
    }
   ],
   "source": [
    "logisticRegr.predict(x_test)"
   ]
  },
  {
   "cell_type": "code",
   "execution_count": 32,
   "id": "5127c78a",
   "metadata": {},
   "outputs": [
    {
     "data": {
      "text/plain": [
       "array([180, 180])"
      ]
     },
     "execution_count": 32,
     "metadata": {},
     "output_type": "execute_result"
    }
   ],
   "source": [
    "logisticRegr.predict(y_test)"
   ]
  },
  {
   "cell_type": "code",
   "execution_count": 38,
   "id": "da4e647f",
   "metadata": {},
   "outputs": [
    {
     "name": "stdout",
     "output_type": "stream",
     "text": [
      "[0 0]\n",
      "[[9.81779572e-01 1.82204140e-02 1.43198296e-08]\n",
      " [9.71687031e-01 2.83129393e-02 2.99589532e-08]]\n",
      "0.9733333333333334\n"
     ]
    },
    {
     "name": "stderr",
     "output_type": "stream",
     "text": [
      "C:\\Users\\annam\\AppData\\Local\\anaconda3\\lib\\site-packages\\sklearn\\linear_model\\_logistic.py:458: ConvergenceWarning: lbfgs failed to converge (status=1):\n",
      "STOP: TOTAL NO. of ITERATIONS REACHED LIMIT.\n",
      "\n",
      "Increase the number of iterations (max_iter) or scale the data as shown in:\n",
      "    https://scikit-learn.org/stable/modules/preprocessing.html\n",
      "Please also refer to the documentation for alternative solver options:\n",
      "    https://scikit-learn.org/stable/modules/linear_model.html#logistic-regression\n",
      "  n_iter_i = _check_optimize_result(\n"
     ]
    }
   ],
   "source": [
    "# Importing the required libraries  \n",
    "from sklearn.datasets import load_iris  \n",
    "from sklearn.linear_model import LogisticRegression  \n",
    "  \n",
    "# Loading the dataset  \n",
    "X, Y = load_iris(return_X_y = True)  \n",
    "  \n",
    "# Creating an instance of the class Logistic Regression model  \n",
    "logreg = LogisticRegression(random_state = 0)  \n",
    "  \n",
    "# Fitting the dataset to the logistic regression model  \n",
    "logreg.fit(X, Y)  \n",
    "  \n",
    "# Predicting the values  \n",
    "Y_pred = logreg.predict(X[:2, :])  \n",
    "print(Y_pred)  \n",
    "Y_predict = logreg.predict_proba(X[:2, :])  \n",
    "print(Y_predict)  \n",
    "  \n",
    "# Calculating the accuracy score of the model  \n",
    "score = logreg.score(X, Y)  \n",
    "print(score)  "
   ]
  },
  {
   "cell_type": "code",
   "execution_count": 39,
   "id": "15cb149d",
   "metadata": {},
   "outputs": [
    {
     "data": {
      "text/plain": [
       "array([[5.1, 3.5, 1.4, 0.2],\n",
       "       [4.9, 3. , 1.4, 0.2],\n",
       "       [4.7, 3.2, 1.3, 0.2],\n",
       "       [4.6, 3.1, 1.5, 0.2],\n",
       "       [5. , 3.6, 1.4, 0.2],\n",
       "       [5.4, 3.9, 1.7, 0.4],\n",
       "       [4.6, 3.4, 1.4, 0.3],\n",
       "       [5. , 3.4, 1.5, 0.2],\n",
       "       [4.4, 2.9, 1.4, 0.2],\n",
       "       [4.9, 3.1, 1.5, 0.1],\n",
       "       [5.4, 3.7, 1.5, 0.2],\n",
       "       [4.8, 3.4, 1.6, 0.2],\n",
       "       [4.8, 3. , 1.4, 0.1],\n",
       "       [4.3, 3. , 1.1, 0.1],\n",
       "       [5.8, 4. , 1.2, 0.2],\n",
       "       [5.7, 4.4, 1.5, 0.4],\n",
       "       [5.4, 3.9, 1.3, 0.4],\n",
       "       [5.1, 3.5, 1.4, 0.3],\n",
       "       [5.7, 3.8, 1.7, 0.3],\n",
       "       [5.1, 3.8, 1.5, 0.3],\n",
       "       [5.4, 3.4, 1.7, 0.2],\n",
       "       [5.1, 3.7, 1.5, 0.4],\n",
       "       [4.6, 3.6, 1. , 0.2],\n",
       "       [5.1, 3.3, 1.7, 0.5],\n",
       "       [4.8, 3.4, 1.9, 0.2],\n",
       "       [5. , 3. , 1.6, 0.2],\n",
       "       [5. , 3.4, 1.6, 0.4],\n",
       "       [5.2, 3.5, 1.5, 0.2],\n",
       "       [5.2, 3.4, 1.4, 0.2],\n",
       "       [4.7, 3.2, 1.6, 0.2],\n",
       "       [4.8, 3.1, 1.6, 0.2],\n",
       "       [5.4, 3.4, 1.5, 0.4],\n",
       "       [5.2, 4.1, 1.5, 0.1],\n",
       "       [5.5, 4.2, 1.4, 0.2],\n",
       "       [4.9, 3.1, 1.5, 0.2],\n",
       "       [5. , 3.2, 1.2, 0.2],\n",
       "       [5.5, 3.5, 1.3, 0.2],\n",
       "       [4.9, 3.6, 1.4, 0.1],\n",
       "       [4.4, 3. , 1.3, 0.2],\n",
       "       [5.1, 3.4, 1.5, 0.2],\n",
       "       [5. , 3.5, 1.3, 0.3],\n",
       "       [4.5, 2.3, 1.3, 0.3],\n",
       "       [4.4, 3.2, 1.3, 0.2],\n",
       "       [5. , 3.5, 1.6, 0.6],\n",
       "       [5.1, 3.8, 1.9, 0.4],\n",
       "       [4.8, 3. , 1.4, 0.3],\n",
       "       [5.1, 3.8, 1.6, 0.2],\n",
       "       [4.6, 3.2, 1.4, 0.2],\n",
       "       [5.3, 3.7, 1.5, 0.2],\n",
       "       [5. , 3.3, 1.4, 0.2],\n",
       "       [7. , 3.2, 4.7, 1.4],\n",
       "       [6.4, 3.2, 4.5, 1.5],\n",
       "       [6.9, 3.1, 4.9, 1.5],\n",
       "       [5.5, 2.3, 4. , 1.3],\n",
       "       [6.5, 2.8, 4.6, 1.5],\n",
       "       [5.7, 2.8, 4.5, 1.3],\n",
       "       [6.3, 3.3, 4.7, 1.6],\n",
       "       [4.9, 2.4, 3.3, 1. ],\n",
       "       [6.6, 2.9, 4.6, 1.3],\n",
       "       [5.2, 2.7, 3.9, 1.4],\n",
       "       [5. , 2. , 3.5, 1. ],\n",
       "       [5.9, 3. , 4.2, 1.5],\n",
       "       [6. , 2.2, 4. , 1. ],\n",
       "       [6.1, 2.9, 4.7, 1.4],\n",
       "       [5.6, 2.9, 3.6, 1.3],\n",
       "       [6.7, 3.1, 4.4, 1.4],\n",
       "       [5.6, 3. , 4.5, 1.5],\n",
       "       [5.8, 2.7, 4.1, 1. ],\n",
       "       [6.2, 2.2, 4.5, 1.5],\n",
       "       [5.6, 2.5, 3.9, 1.1],\n",
       "       [5.9, 3.2, 4.8, 1.8],\n",
       "       [6.1, 2.8, 4. , 1.3],\n",
       "       [6.3, 2.5, 4.9, 1.5],\n",
       "       [6.1, 2.8, 4.7, 1.2],\n",
       "       [6.4, 2.9, 4.3, 1.3],\n",
       "       [6.6, 3. , 4.4, 1.4],\n",
       "       [6.8, 2.8, 4.8, 1.4],\n",
       "       [6.7, 3. , 5. , 1.7],\n",
       "       [6. , 2.9, 4.5, 1.5],\n",
       "       [5.7, 2.6, 3.5, 1. ],\n",
       "       [5.5, 2.4, 3.8, 1.1],\n",
       "       [5.5, 2.4, 3.7, 1. ],\n",
       "       [5.8, 2.7, 3.9, 1.2],\n",
       "       [6. , 2.7, 5.1, 1.6],\n",
       "       [5.4, 3. , 4.5, 1.5],\n",
       "       [6. , 3.4, 4.5, 1.6],\n",
       "       [6.7, 3.1, 4.7, 1.5],\n",
       "       [6.3, 2.3, 4.4, 1.3],\n",
       "       [5.6, 3. , 4.1, 1.3],\n",
       "       [5.5, 2.5, 4. , 1.3],\n",
       "       [5.5, 2.6, 4.4, 1.2],\n",
       "       [6.1, 3. , 4.6, 1.4],\n",
       "       [5.8, 2.6, 4. , 1.2],\n",
       "       [5. , 2.3, 3.3, 1. ],\n",
       "       [5.6, 2.7, 4.2, 1.3],\n",
       "       [5.7, 3. , 4.2, 1.2],\n",
       "       [5.7, 2.9, 4.2, 1.3],\n",
       "       [6.2, 2.9, 4.3, 1.3],\n",
       "       [5.1, 2.5, 3. , 1.1],\n",
       "       [5.7, 2.8, 4.1, 1.3],\n",
       "       [6.3, 3.3, 6. , 2.5],\n",
       "       [5.8, 2.7, 5.1, 1.9],\n",
       "       [7.1, 3. , 5.9, 2.1],\n",
       "       [6.3, 2.9, 5.6, 1.8],\n",
       "       [6.5, 3. , 5.8, 2.2],\n",
       "       [7.6, 3. , 6.6, 2.1],\n",
       "       [4.9, 2.5, 4.5, 1.7],\n",
       "       [7.3, 2.9, 6.3, 1.8],\n",
       "       [6.7, 2.5, 5.8, 1.8],\n",
       "       [7.2, 3.6, 6.1, 2.5],\n",
       "       [6.5, 3.2, 5.1, 2. ],\n",
       "       [6.4, 2.7, 5.3, 1.9],\n",
       "       [6.8, 3. , 5.5, 2.1],\n",
       "       [5.7, 2.5, 5. , 2. ],\n",
       "       [5.8, 2.8, 5.1, 2.4],\n",
       "       [6.4, 3.2, 5.3, 2.3],\n",
       "       [6.5, 3. , 5.5, 1.8],\n",
       "       [7.7, 3.8, 6.7, 2.2],\n",
       "       [7.7, 2.6, 6.9, 2.3],\n",
       "       [6. , 2.2, 5. , 1.5],\n",
       "       [6.9, 3.2, 5.7, 2.3],\n",
       "       [5.6, 2.8, 4.9, 2. ],\n",
       "       [7.7, 2.8, 6.7, 2. ],\n",
       "       [6.3, 2.7, 4.9, 1.8],\n",
       "       [6.7, 3.3, 5.7, 2.1],\n",
       "       [7.2, 3.2, 6. , 1.8],\n",
       "       [6.2, 2.8, 4.8, 1.8],\n",
       "       [6.1, 3. , 4.9, 1.8],\n",
       "       [6.4, 2.8, 5.6, 2.1],\n",
       "       [7.2, 3. , 5.8, 1.6],\n",
       "       [7.4, 2.8, 6.1, 1.9],\n",
       "       [7.9, 3.8, 6.4, 2. ],\n",
       "       [6.4, 2.8, 5.6, 2.2],\n",
       "       [6.3, 2.8, 5.1, 1.5],\n",
       "       [6.1, 2.6, 5.6, 1.4],\n",
       "       [7.7, 3. , 6.1, 2.3],\n",
       "       [6.3, 3.4, 5.6, 2.4],\n",
       "       [6.4, 3.1, 5.5, 1.8],\n",
       "       [6. , 3. , 4.8, 1.8],\n",
       "       [6.9, 3.1, 5.4, 2.1],\n",
       "       [6.7, 3.1, 5.6, 2.4],\n",
       "       [6.9, 3.1, 5.1, 2.3],\n",
       "       [5.8, 2.7, 5.1, 1.9],\n",
       "       [6.8, 3.2, 5.9, 2.3],\n",
       "       [6.7, 3.3, 5.7, 2.5],\n",
       "       [6.7, 3. , 5.2, 2.3],\n",
       "       [6.3, 2.5, 5. , 1.9],\n",
       "       [6.5, 3. , 5.2, 2. ],\n",
       "       [6.2, 3.4, 5.4, 2.3],\n",
       "       [5.9, 3. , 5.1, 1.8]])"
      ]
     },
     "execution_count": 39,
     "metadata": {},
     "output_type": "execute_result"
    }
   ],
   "source": [
    "X"
   ]
  },
  {
   "cell_type": "code",
   "execution_count": 40,
   "id": "5d2a15dc",
   "metadata": {},
   "outputs": [
    {
     "data": {
      "text/plain": [
       "array([0, 0, 0, 0, 0, 0, 0, 0, 0, 0, 0, 0, 0, 0, 0, 0, 0, 0, 0, 0, 0, 0,\n",
       "       0, 0, 0, 0, 0, 0, 0, 0, 0, 0, 0, 0, 0, 0, 0, 0, 0, 0, 0, 0, 0, 0,\n",
       "       0, 0, 0, 0, 0, 0, 1, 1, 1, 1, 1, 1, 1, 1, 1, 1, 1, 1, 1, 1, 1, 1,\n",
       "       1, 1, 1, 1, 1, 1, 1, 1, 1, 1, 1, 1, 1, 1, 1, 1, 1, 1, 1, 1, 1, 1,\n",
       "       1, 1, 1, 1, 1, 1, 1, 1, 1, 1, 1, 1, 2, 2, 2, 2, 2, 2, 2, 2, 2, 2,\n",
       "       2, 2, 2, 2, 2, 2, 2, 2, 2, 2, 2, 2, 2, 2, 2, 2, 2, 2, 2, 2, 2, 2,\n",
       "       2, 2, 2, 2, 2, 2, 2, 2, 2, 2, 2, 2, 2, 2, 2, 2, 2, 2])"
      ]
     },
     "execution_count": 40,
     "metadata": {},
     "output_type": "execute_result"
    }
   ],
   "source": [
    "Y"
   ]
  },
  {
   "cell_type": "code",
   "execution_count": null,
   "id": "f4cd6485",
   "metadata": {},
   "outputs": [],
   "source": []
  }
 ],
 "metadata": {
  "kernelspec": {
   "display_name": "Python 3 (ipykernel)",
   "language": "python",
   "name": "python3"
  },
  "language_info": {
   "codemirror_mode": {
    "name": "ipython",
    "version": 3
   },
   "file_extension": ".py",
   "mimetype": "text/x-python",
   "name": "python",
   "nbconvert_exporter": "python",
   "pygments_lexer": "ipython3",
   "version": "3.10.9"
  }
 },
 "nbformat": 4,
 "nbformat_minor": 5
}
